{
 "cells": [
  {
   "cell_type": "markdown",
   "metadata": {
    "id": "VO9nhz_thBkX"
   },
   "source": [
    "## Reto 1: Variables\n",
    "\n",
    "### 1. Objetivos:\n",
    "    - Practicar convención de nombramiento y asignación de variables\n",
    " \n",
    "---\n",
    "    \n",
    "### 2. Desarrollo:"
   ]
  },
  {
   "cell_type": "markdown",
   "metadata": {
    "id": "7tZ2tbeChBkg"
   },
   "source": [
    "Indica cuáles nombres de variables son válidos y cuáles con inválidos. Puedes hacerlo colocando un comentario al lado de cada asignación (`# esto es un comentario`). Los comentarios son texto que Python ignora a la hora de correr una celda. Nos sirven para hacer anotaciones."
   ]
  },
  {
   "cell_type": "code",
   "execution_count": 2,
   "metadata": {
    "id": "al5xrkOZhBki"
   },
   "outputs": [],
   "source": [
    "#valido\n",
    "var_1 = 5\n",
    "#valido\n",
    "variable_nueva_2 = 10\n",
    "#no puede llevar mayusculas\n",
    "Variable_nueva_3 = 11\n",
    "#valida\n",
    "var_3_1 = 14\n",
    "#no usa nomenclatura snake\n",
    "varNueva4 = 44\n",
    "#no usa nomenclatura snake correctamente\n",
    "var_nuevaNumero = 98\n",
    "#valido\n",
    "var_num = 22\n",
    "#no usa nomenclatura snake\n",
    "VarNum = 11\n",
    "#no usa nomenclatura snake\n",
    "soyUnaVariable = 14"
   ]
  },
  {
   "cell_type": "markdown",
   "metadata": {
    "id": "OmihDPZbhBkj"
   },
   "source": [
    "Ahora practica realizar algunas asignaciones en la celda de abajo. ¡Puedes asignarle a tus variables números enteros y también decimales!"
   ]
  },
  {
   "cell_type": "code",
   "execution_count": 3,
   "metadata": {
    "id": "XPFJPeckhBkj"
   },
   "outputs": [],
   "source": [
    "# Asigna el número 12345 a una variable llamada variable_locochona\n",
    "\n",
    "variable_locochona = 12345\n",
    "\n",
    "# Asigna el número 14.567 a una variable llamada var_decimal\n",
    "\n",
    "var_decimal = 14.567\n",
    "\n",
    "# Asigna cualquier número a una varible que tenga 5 palabras en su nombre (recuerda las convenciones)\n",
    "\n",
    "este_es_el_numero_elegido = 1\n",
    "\n",
    "# Asigna cualquier número a una variable que incluya palabras y números en su nombre\n",
    "\n",
    "variable1 = 1\n",
    "\n",
    "# Asigna variables a discreción\n",
    "\n"
   ]
  }
 ],
 "metadata": {
  "colab": {
   "name": "variables.ipynb",
   "provenance": []
  },
  "kernelspec": {
   "display_name": "Python 3",
   "language": "python",
   "name": "python3"
  },
  "language_info": {
   "codemirror_mode": {
    "name": "ipython",
    "version": 3
   },
   "file_extension": ".py",
   "mimetype": "text/x-python",
   "name": "python",
   "nbconvert_exporter": "python",
   "pygments_lexer": "ipython3",
   "version": "3.8.3"
  }
 },
 "nbformat": 4,
 "nbformat_minor": 1
}
