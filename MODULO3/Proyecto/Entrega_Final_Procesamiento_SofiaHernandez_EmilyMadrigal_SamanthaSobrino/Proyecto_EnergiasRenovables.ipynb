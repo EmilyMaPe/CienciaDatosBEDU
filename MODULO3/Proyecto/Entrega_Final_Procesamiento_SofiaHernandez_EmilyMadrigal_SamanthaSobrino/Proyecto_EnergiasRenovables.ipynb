{
  "nbformat": 4,
  "nbformat_minor": 0,
  "metadata": {
    "colab": {
      "name": "Proyecto - EnergiasRenovables.ipynb",
      "provenance": [],
      "collapsed_sections": [
        "Z501j9RAAUKR",
        "3QzsFKnzgVgb",
        "5GYGgDcwgVgr",
        "W37mc8DlaDVN",
        "tCd2kaUtLfz-",
        "aHzvSBcSLrPd",
        "PWYjOrxVLvN4",
        "sp-mEfi0L_5O",
        "AnDJW4mdHbuU",
        "ToAYg1nVJE0L",
        "qDKJ0IqfBTb3",
        "n_mtFATGN-qS",
        "v2KEcl_vklZA",
        "22PYwJ9yUy3e"
      ]
    },
    "kernelspec": {
      "name": "python3",
      "display_name": "Python 3"
    }
  },
  "cells": [
    {
      "cell_type": "markdown",
      "metadata": {
        "id": "Qv-EWKolonf8"
      },
      "source": [
        "# **Energías renovables, ¿Una opción viable en México?**"
      ]
    },
    {
      "cell_type": "markdown",
      "metadata": {
        "id": "g0yG6d9m-Bi0"
      },
      "source": [
        "**Por: Sofía Alejandra Hernández Torres, Emily Montserrat Madrigal Peña y Samantha Yulia Sobrino Bermejo** "
      ]
    },
    {
      "cell_type": "markdown",
      "metadata": {
        "id": "dR-oMe4Y_o7_"
      },
      "source": [
        "## **Objetivo**\r\n",
        "Con este proyecto se pretende entender cómo es el consumo de energías renovables en México.\r\n"
      ]
    },
    {
      "cell_type": "markdown",
      "metadata": {
        "id": "7Eq1kk5kGXww"
      },
      "source": [
        "### **Background**\r\n",
        "Uno de los Objetivos para el Desarrollo Sostenible de la Agenda 2030 de la ONU, a saber, el número 7, nos habla de la Energía Asequible y No contaminante. Desde hace algunos años, México se ha fijado metas de corto y mediano plazo para la generación eléctrica a partir de fuentes de Energías Limpias.\r\n",
        "\r\n",
        "Un sistema de energía bien establecido brinda soporte a todos los sectores: empresas, salud y educación, infraestructura, comunicaciones y alta tecnología.\r\n",
        "Por el contrario, la falta de acceso al suministro de energía y los sistemas de transformación es una restricción para los humanos y el desarrollo economico.\r\n",
        "\r\n",
        "El fomento de las energías renovables conlleva múltiples beneficios:\r\n",
        "\r\n",
        "**Ventajas ambientales:**\r\n",
        "\r\n",
        "* La principal ventaja es la prácticamente nula emisión de gases de efecto invernadero (GEI) y otros contaminantes que contribuyen al cambio climático.\r\n",
        "\r\n",
        "* Ayudan a disminuir enfermedades relacionadas con la contaminación.\r\n",
        "\r\n",
        "* No necesitan grandes cantidades de agua para su funcionamiento.\r\n",
        "\r\n",
        "* Reducen la necesidad de industrias extractivas en la medida que se evita el uso de combustibles fósiles.\r\n",
        "\r\n",
        "* No crean problemas de basura difíciles de resolver, como la eliminación de residuos nucleares o escorias.\r\n",
        "\r\n",
        "* Pueden reducir la necesidad de proyectos hidroeléctricos de gran escala con los consecuentes efectos de inundación y erosión.\r\n",
        "\r\n",
        "**Ventajas económicas:**\r\n",
        "\r\n",
        "* Reducción de las tarifas en los servicios de luz, agua y gas.\r\n",
        "\r\n",
        "* Generación de empleos directos (trabajadores de la construcción, desarrolladores, fabricantes de equipo, diseñadores, instaladores, financieros).\r\n",
        "\r\n",
        "* Generación de empleos indirectos (en la agricultura, al expandir los sistemas de riego, en la ganadería y avicultura, con la instalación de establos electrificados, en el comercio y los servicios).\r\n",
        "\r\n",
        "* Para los ayuntamientos, la reducción del costo de los servicios municipales de energía eléctrica (alumbrado público, bombeo de agua y edificios públicos).\r\n",
        "\r\n",
        "**Ventajas sociales:**\r\n",
        "\r\n",
        "* La posibilidad de llevar energía eléctrica a comunidades remotas, y en la promoción del desarrollo de dichas comunidades.\r\n",
        "\r\n"
      ]
    },
    {
      "cell_type": "markdown",
      "metadata": {
        "id": "OjzDtNRJGZ2G"
      },
      "source": [
        "## **Problema:**\r\n",
        " ¿Es viable invertir en energías renovables en México?"
      ]
    },
    {
      "cell_type": "markdown",
      "metadata": {
        "id": "bf9bqaiB_-Kj"
      },
      "source": [
        "## **Preguntas guía**\r\n",
        "\r\n",
        "* ¿Qué energías renovables existen en nuestro país?\r\n",
        "* ¿Cómo se comporta la producción y el consumo de energías renovables en México y el mundo?\r\n",
        "* ¿Cuál es el tipo de energía más usada en México?\r\n",
        "* ¿Cuál es el porcentaje de uso de energias renovables en México y el mundo?\r\n",
        "* ¿Cuál es el porcetanje de crecimiento anual del uso de energías renovables?\r\n",
        "* ¿Qué tipo de energía renovable cuenta con mayor inversión?\r\n",
        "* ¿Cuál es el costo-beneficio de las energías renovables?\r\n",
        "* ¿Qué sector tarifario paga más por la energía?\r\n",
        "\r\n"
      ]
    },
    {
      "cell_type": "markdown",
      "metadata": {
        "id": "O4HjIh1s_1gA"
      },
      "source": [
        "## **Estado del arte**\r\n",
        "\r\n",
        "Existen diversos articulos que hablan sobre el tema...\r\n",
        "\r\n",
        "https://www.gob.mx/sener/articulos/el-fondo-para-la-transicion-energetica-y-el-aprovechamiento-sustentable-de-la-energia-es-un-instrumento-de-politica-publica-de-la-secretaria\r\n",
        "\r\n",
        "https://sdg-tracker.org/energy#targets"
      ]
    },
    {
      "cell_type": "markdown",
      "metadata": {
        "id": "TYyV3KbE_6fk"
      },
      "source": [
        "## **Soluciones anteriores**\r\n",
        "Existen algunos trabajos donde se ataca este tema:\r\n",
        "\r\n",
        "https://towardsdatascience.com/tagged/renewable-energy\r\n",
        "\r\n",
        "https://towardsdatascience.com/create-value-with-your-energy-data-26feaa723c07"
      ]
    },
    {
      "cell_type": "markdown",
      "metadata": {
        "id": "qv3BDE1_AMQm"
      },
      "source": [
        "## **Desarrollo del Proyecto**"
      ]
    },
    {
      "cell_type": "markdown",
      "metadata": {
        "id": "6Q3408xuBG-r"
      },
      "source": [
        "### Importación de librerías"
      ]
    },
    {
      "cell_type": "code",
      "metadata": {
        "id": "qadPVOjuBNxa"
      },
      "source": [
        "import pandas as pd\r\n",
        "import numpy as np"
      ],
      "execution_count": null,
      "outputs": []
    },
    {
      "cell_type": "markdown",
      "metadata": {
        "id": "6PmjzHN88J_G"
      },
      "source": [
        "### Funciones"
      ]
    },
    {
      "cell_type": "markdown",
      "metadata": {
        "id": "bld60PR1AYwQ"
      },
      "source": [
        "**Dar formato a los nombres de las variables**"
      ]
    },
    {
      "cell_type": "code",
      "metadata": {
        "id": "oYeE2AGsAYwu"
      },
      "source": [
        "def limpiar_variables(lista):\r\n",
        "    regreso = []\r\n",
        "    for c in lista:\r\n",
        "        c = str(c)\r\n",
        "        ret = \"\"\r\n",
        "        c = c.strip()\r\n",
        "        for i in c:\r\n",
        "            if i.isupper():\r\n",
        "                ret = ret + i.lower()\r\n",
        "            elif i == '/' or i == ' ':\r\n",
        "                ret = ret + '_'\r\n",
        "            else:\r\n",
        "                ret = ret + i\r\n",
        "        regreso.append(ret)\r\n",
        "    return regreso"
      ],
      "execution_count": null,
      "outputs": []
    },
    {
      "cell_type": "markdown",
      "metadata": {
        "id": "RNykebU5-piv"
      },
      "source": [
        "**Obtener los tipos de datos contenidos en un dataframe**"
      ]
    },
    {
      "cell_type": "code",
      "metadata": {
        "id": "3sK5adjl-t9b"
      },
      "source": [
        "def tipos_datos(df):\r\n",
        "    print(f'{(\"Columna\"):50} | {(\"Tipos de datos\")}')\r\n",
        "    print('------------------------------------------------------------------------------------------')\r\n",
        "    for c in df.columns:\r\n",
        "        x = df[c].map(type).unique().tolist()\r\n",
        "        print(f'{c:50} | {x}')"
      ],
      "execution_count": null,
      "outputs": []
    },
    {
      "cell_type": "markdown",
      "metadata": {
        "id": "KiBit97N_ui2"
      },
      "source": [
        "**Pasar datos a tipo de dato float**"
      ]
    },
    {
      "cell_type": "code",
      "metadata": {
        "id": "gy7emg7A_yDh"
      },
      "source": [
        "def as_float(df):\r\n",
        "    for c in df.columns:\r\n",
        "        x = df[c].map(type).unique().tolist()\r\n",
        "        for i in x:\r\n",
        "            if(i().__class__.__name__ == 'int' or i().__class__.__name__ == 'str'):\r\n",
        "                df[c] = pd.to_numeric(df[c], downcast=\"float\", errors='coerce')\r\n",
        "                #df[c] = df[c].astype(float)\r\n",
        "    return df"
      ],
      "execution_count": null,
      "outputs": []
    },
    {
      "cell_type": "markdown",
      "metadata": {
        "id": "Z501j9RAAUKR"
      },
      "source": [
        "### Recolección de los datos\r\n",
        "Clonaremos un repositorio de github que sera donde estaremos consultando los datasets que se usaran en el proyecto."
      ]
    },
    {
      "cell_type": "code",
      "metadata": {
        "colab": {
          "base_uri": "https://localhost:8080/"
        },
        "id": "k03C8tA9AoNm",
        "outputId": "ee59f405-08ac-42f1-84c2-bde3048b4cce"
      },
      "source": [
        "!git clone https://github.com/EmilyMaPe/CienciaDatosBEDU.git"
      ],
      "execution_count": null,
      "outputs": [
        {
          "output_type": "stream",
          "text": [
            "Cloning into 'CienciaDatosBEDU'...\n",
            "remote: Enumerating objects: 617, done.\u001b[K\n",
            "remote: Counting objects: 100% (617/617), done.\u001b[K\n",
            "remote: Compressing objects: 100% (509/509), done.\u001b[K\n",
            "remote: Total 617 (delta 115), reused 562 (delta 68), pack-reused 0\u001b[K\n",
            "Receiving objects: 100% (617/617), 11.21 MiB | 20.28 MiB/s, done.\n",
            "Resolving deltas: 100% (115/115), done.\n"
          ],
          "name": "stdout"
        }
      ]
    },
    {
      "cell_type": "markdown",
      "metadata": {
        "id": "NBmwtIq8BEmI"
      },
      "source": [
        "Guardaremos los datos en dataframes con la ayuda de la libreria pandas"
      ]
    },
    {
      "cell_type": "code",
      "metadata": {
        "id": "wmb_VqAsBdyH"
      },
      "source": [
        "### importar archivos"
      ],
      "execution_count": null,
      "outputs": []
    },
    {
      "cell_type": "markdown",
      "metadata": {
        "id": "Zll-unMh_KEs"
      },
      "source": [
        "#### *Consumo de energía Per Cápita*\r\n",
        "\r\n",
        "---\r\n",
        "\r\n",
        "\r\n"
      ]
    },
    {
      "cell_type": "markdown",
      "metadata": {
        "id": "q5bcTYvS_eSj"
      },
      "source": [
        "##### *Energías Renovables (general)*\r\n",
        "\r\n",
        "\r\n",
        "\r\n",
        "\r\n",
        "\r\n"
      ]
    },
    {
      "cell_type": "code",
      "metadata": {
        "id": "WqRVJ6P2_ZQe"
      },
      "source": [
        "url_todas = 'https://raw.githubusercontent.com/EmilyMaPe/CienciaDatosBEDU/master/MODULO3/Proyecto/Datasets/per-capita-renewables.csv'\r\n",
        "df_PC_renovables = pd.read_csv(url_todas, index_col=0, error_bad_lines=False)"
      ],
      "execution_count": null,
      "outputs": []
    },
    {
      "cell_type": "markdown",
      "metadata": {
        "id": "fC7eVcbJ_za5"
      },
      "source": [
        "##### *Energía Hidráhulica*"
      ]
    },
    {
      "cell_type": "code",
      "metadata": {
        "id": "kiGZoeEm_za8"
      },
      "source": [
        "url_hydro = 'https://raw.githubusercontent.com/EmilyMaPe/CienciaDatosBEDU/master/MODULO3/Proyecto/Datasets/per-capita-hydro.csv'\r\n",
        "df_PC_hydro = pd.read_csv(url_hydro, index_col=0, error_bad_lines=False)"
      ],
      "execution_count": null,
      "outputs": []
    },
    {
      "cell_type": "markdown",
      "metadata": {
        "id": "3sEVQXGW_34d"
      },
      "source": [
        "##### *Energía Solar*"
      ]
    },
    {
      "cell_type": "code",
      "metadata": {
        "id": "uM-qYoDs_34e"
      },
      "source": [
        "url_solar = 'https://raw.githubusercontent.com/EmilyMaPe/CienciaDatosBEDU/master/MODULO3/Proyecto/Datasets/per-capita-solar.csv'\r\n",
        "df_PC_solar = pd.read_csv(url_solar, index_col=0, error_bad_lines=False)"
      ],
      "execution_count": null,
      "outputs": []
    },
    {
      "cell_type": "markdown",
      "metadata": {
        "id": "NpJS7GwwAAji"
      },
      "source": [
        "##### *Energía Eólica*"
      ]
    },
    {
      "cell_type": "code",
      "metadata": {
        "id": "l2qDHR7sAAjk"
      },
      "source": [
        "url_wind = 'https://raw.githubusercontent.com/EmilyMaPe/CienciaDatosBEDU/master/MODULO3/Proyecto/Datasets/per-capita-wind.csv'\r\n",
        "df_PC_wind = pd.read_csv(url_wind, index_col=0, error_bad_lines=False)"
      ],
      "execution_count": null,
      "outputs": []
    },
    {
      "cell_type": "markdown",
      "metadata": {
        "id": "3QzsFKnzgVgb"
      },
      "source": [
        "#### *Energías Renovables en el mundo*\r\n",
        "\r\n",
        "---\r\n",
        "\r\n",
        "\r\n"
      ]
    },
    {
      "cell_type": "markdown",
      "metadata": {
        "id": "kaVXJTfJgVgl"
      },
      "source": [
        "##### *Cambio en el porcentaje anual de renovables*\r\n",
        "\r\n",
        "\r\n",
        "\r\n",
        "\r\n",
        "\r\n"
      ]
    },
    {
      "cell_type": "code",
      "metadata": {
        "id": "a_trRIQAgVgn"
      },
      "source": [
        "url = '/content/CienciaDatosBEDU/MODULO3/Proyecto/Datasets/annual-percentage-change-renewables.csv'\r\n",
        "df_annual_change = pd.read_csv(url)"
      ],
      "execution_count": null,
      "outputs": []
    },
    {
      "cell_type": "markdown",
      "metadata": {
        "id": "Pv44v66ogVgo"
      },
      "source": [
        "##### *Capacidad de renovables por tipo de tecnología*"
      ]
    },
    {
      "cell_type": "code",
      "metadata": {
        "id": "KdvKQNIjgVgp"
      },
      "source": [
        "url1 = '/content/CienciaDatosBEDU/MODULO3/Proyecto/Datasets/installed-global-renewable-energy-capacity-by-technology.csv'\r\n",
        "df_renew_energy_capacity = pd.read_csv(url1)"
      ],
      "execution_count": null,
      "outputs": []
    },
    {
      "cell_type": "markdown",
      "metadata": {
        "id": "lnbstc8ogVgq"
      },
      "source": [
        "##### *Inversión en energías renovables por tipo de tecnología*"
      ]
    },
    {
      "cell_type": "code",
      "metadata": {
        "id": "mm8tICtzgVgr"
      },
      "source": [
        "url2 = '/content/CienciaDatosBEDU/MODULO3/Proyecto/Datasets/investment-in-renewable-energy-by-technology.csv'\r\n",
        "df_investment_by_tech = pd.read_csv(url2)"
      ],
      "execution_count": null,
      "outputs": []
    },
    {
      "cell_type": "markdown",
      "metadata": {
        "id": "5GYGgDcwgVgr"
      },
      "source": [
        "##### *Inversión del GDP en renovables*"
      ]
    },
    {
      "cell_type": "code",
      "metadata": {
        "id": "BSE45SItgVgs"
      },
      "source": [
        "url3 = '/content/CienciaDatosBEDU/MODULO3/Proyecto/Datasets/renewable-energy-investment-of-gdp.csv'\r\n",
        "df_investment_of_gdp = pd.read_csv(url3)"
      ],
      "execution_count": null,
      "outputs": []
    },
    {
      "cell_type": "markdown",
      "metadata": {
        "id": "blbz4Ex0h-GP"
      },
      "source": [
        "##### *Porcentaje de renovables del total de energía*"
      ]
    },
    {
      "cell_type": "code",
      "metadata": {
        "id": "UW3FnGDTh-GW"
      },
      "source": [
        "url4 = '/content/CienciaDatosBEDU/MODULO3/Proyecto/Datasets/renewables-share-final-energy.csv'\r\n",
        "df_renew_energy_of_total = pd.read_csv(url4)"
      ],
      "execution_count": null,
      "outputs": []
    },
    {
      "cell_type": "markdown",
      "metadata": {
        "id": "W37mc8DlaDVN"
      },
      "source": [
        "#### Energías renovables en México"
      ]
    },
    {
      "cell_type": "markdown",
      "metadata": {
        "id": "-LaahpxBaOob"
      },
      "source": [
        "##### Precios medios de energía por sector tarifario"
      ]
    },
    {
      "cell_type": "code",
      "metadata": {
        "id": "6FFshNoIaYcm"
      },
      "source": [
        "url_precios = 'CienciaDatosBEDU/MODULO3/Proyecto/Datasets/Precios_medios_de_energía_eléctrica_por_sector_tarifario.xls'\r\n",
        "precios_sector_mexico = pd.read_excel(url_precios, sheet_name='IIIBC01')"
      ],
      "execution_count": null,
      "outputs": []
    },
    {
      "cell_type": "markdown",
      "metadata": {
        "id": "swnJpdNEaYmT"
      },
      "source": [
        "##### Capacidad efectiva"
      ]
    },
    {
      "cell_type": "code",
      "metadata": {
        "id": "kX3g_fGsadjJ"
      },
      "source": [
        "url_capacidad = 'CienciaDatosBEDU/MODULO3/Proyecto/Datasets/Capacidad Efectiva.xls'\r\n",
        "capacidad_efectiva_mexico = pd.read_excel(url_capacidad , sheet_name='VA1C01')"
      ],
      "execution_count": null,
      "outputs": []
    },
    {
      "cell_type": "markdown",
      "metadata": {
        "id": "s0FuDzKYadwy"
      },
      "source": [
        "##### Generación Bruta"
      ]
    },
    {
      "cell_type": "code",
      "metadata": {
        "id": "-03X2r0nakaY"
      },
      "source": [
        "url_generacion_mexico = 'CienciaDatosBEDU/MODULO3/Proyecto/Datasets/Generación Bruta.xls'\r\n",
        "generacion_bruta_mexico = pd.read_excel(url_generacion_mexico, sheet_name='VA2C01')"
      ],
      "execution_count": null,
      "outputs": []
    },
    {
      "cell_type": "markdown",
      "metadata": {
        "id": "bwkG-rc-aklL"
      },
      "source": [
        "##### Energía Eolica"
      ]
    },
    {
      "cell_type": "code",
      "metadata": {
        "id": "0Cko9UaParAu"
      },
      "source": [
        "url_eolica_mexico = 'CienciaDatosBEDU/MODULO3/Proyecto/Datasets/Eolica.xls'\r\n",
        "energia_eolica_mexico = pd.read_excel(url_eolica_mexico, sheet_name='VAE309')"
      ],
      "execution_count": null,
      "outputs": []
    },
    {
      "cell_type": "markdown",
      "metadata": {
        "id": "s8zvnlwiarJ7"
      },
      "source": [
        "##### Geoenergía"
      ]
    },
    {
      "cell_type": "code",
      "metadata": {
        "id": "WycYYBFUau74"
      },
      "source": [
        "url_geoenergia_mexico = 'CienciaDatosBEDU/MODULO3/Proyecto/Datasets/Geoenergia.xls'\r\n",
        "geoenergia_mexico = pd.read_excel(url_geoenergia_mexico , sheet_name='VAE308')"
      ],
      "execution_count": null,
      "outputs": []
    },
    {
      "cell_type": "markdown",
      "metadata": {
        "id": "UOgvR80OavEe"
      },
      "source": [
        "##### Hidroenergía"
      ]
    },
    {
      "cell_type": "code",
      "metadata": {
        "id": "GcuOtI1KayZZ"
      },
      "source": [
        "url_hidroenergia_mexico = 'CienciaDatosBEDU/MODULO3/Proyecto/Datasets/Hidroenergia.xls'\r\n",
        "hidroenergia_mexico= pd.read_excel(url_hidroenergia_mexico , sheet_name='VAE307')"
      ],
      "execution_count": null,
      "outputs": []
    },
    {
      "cell_type": "markdown",
      "metadata": {
        "id": "t9jj7_6RDNHr"
      },
      "source": [
        "### Muestra y manejo de los datos\r\n",
        "En esta sección relizaremos limpieza y transformación de nuestros datos."
      ]
    },
    {
      "cell_type": "markdown",
      "metadata": {
        "id": "NOyoIBTkiWyV"
      },
      "source": [
        "#### **Consumo de energía Per Cápita**\r\n",
        "\r\n",
        "---"
      ]
    },
    {
      "cell_type": "markdown",
      "metadata": {
        "id": "81URjoS9iWyW"
      },
      "source": [
        "##### *Limpieza y restructuración de los datos*\r\n",
        "\r\n",
        "Esta limpieza abarcara nas, datos no utiles, convenciones de nomenclatura de python y nombres de variables descriptivos."
      ]
    },
    {
      "cell_type": "markdown",
      "metadata": {
        "id": "xF3cFc0-iWyX"
      },
      "source": [
        "Observamos los dataframes originales, notando que todos poseen la misma estructura y tamaño, cuenta con 4 variables: País o región, Código, Año y consumo en kWh, así como 4290 registros."
      ]
    },
    {
      "cell_type": "code",
      "metadata": {
        "colab": {
          "base_uri": "https://localhost:8080/"
        },
        "id": "livRhBFtiWyY",
        "outputId": "711f1a62-c05e-44af-d95f-c4fc1c9ee756"
      },
      "source": [
        "print('\\nConsumo PC de Energías Renovables')\r\n",
        "print(df_PC_renovables.head(2))\r\n",
        "print(df_PC_renovables.shape)\r\n",
        "print('\\nConsumo PC de Energía Hidráulica')\r\n",
        "print(df_PC_hydro.head(2))\r\n",
        "print(df_PC_hydro.shape)\r\n",
        "print('\\nConsumo PC de Energía Solar')\r\n",
        "print(df_PC_solar.head(2))\r\n",
        "print(df_PC_solar.shape)\r\n",
        "print('\\nConsumo PC de Energía Eólica')\r\n",
        "print(df_PC_wind.head(2))\r\n",
        "print(df_PC_wind.shape)"
      ],
      "execution_count": null,
      "outputs": [
        {
          "output_type": "stream",
          "text": [
            "\n",
            "Consumo PC de Energías Renovables\n",
            "       Code  Year  Renewables per capita (kWh)\n",
            "Entity                                        \n",
            "Africa  NaN  1965                      120.653\n",
            "Africa  NaN  1966                      131.249\n",
            "(4290, 3)\n",
            "\n",
            "Consumo PC de Energía Hidráulica\n",
            "       Code  Year  Hydro per capita (kWh)\n",
            "Entity                                   \n",
            "Africa  NaN  1965                 120.653\n",
            "Africa  NaN  1966                 131.249\n",
            "(4290, 3)\n",
            "\n",
            "Consumo PC de Energía Solar\n",
            "       Code  Year  Solar per capita (kWh)\n",
            "Entity                                   \n",
            "Africa  NaN  1965                     0.0\n",
            "Africa  NaN  1966                     0.0\n",
            "(4290, 3)\n",
            "\n",
            "Consumo PC de Energía Eólica\n",
            "       Code  Year  Wind per capita (kWh)\n",
            "Entity                                  \n",
            "Africa  NaN  1965                    0.0\n",
            "Africa  NaN  1966                    0.0\n",
            "(4290, 3)\n"
          ],
          "name": "stdout"
        }
      ]
    },
    {
      "cell_type": "markdown",
      "metadata": {
        "id": "WFNOcV5WiWya"
      },
      "source": [
        "Ya que la columna correspondiente a los códigos por región es irelevante para el análisis, se eliminará."
      ]
    },
    {
      "cell_type": "code",
      "metadata": {
        "colab": {
          "base_uri": "https://localhost:8080/",
          "height": 167
        },
        "id": "xXeZfFSGiWyb",
        "outputId": "ecee5b23-6af6-49a4-c8d4-f0c6cdb06783"
      },
      "source": [
        "df_PC_renovables, df_PC_hydro, df_PC_solar, df_PC_wind = (df.drop(columns= 'Code') for df in [df_PC_renovables, df_PC_hydro, df_PC_solar, df_PC_wind])\r\n",
        "df_PC_wind.head(3)"
      ],
      "execution_count": null,
      "outputs": [
        {
          "output_type": "execute_result",
          "data": {
            "text/html": [
              "<div>\n",
              "<style scoped>\n",
              "    .dataframe tbody tr th:only-of-type {\n",
              "        vertical-align: middle;\n",
              "    }\n",
              "\n",
              "    .dataframe tbody tr th {\n",
              "        vertical-align: top;\n",
              "    }\n",
              "\n",
              "    .dataframe thead th {\n",
              "        text-align: right;\n",
              "    }\n",
              "</style>\n",
              "<table border=\"1\" class=\"dataframe\">\n",
              "  <thead>\n",
              "    <tr style=\"text-align: right;\">\n",
              "      <th></th>\n",
              "      <th>Year</th>\n",
              "      <th>Wind per capita (kWh)</th>\n",
              "    </tr>\n",
              "    <tr>\n",
              "      <th>Entity</th>\n",
              "      <th></th>\n",
              "      <th></th>\n",
              "    </tr>\n",
              "  </thead>\n",
              "  <tbody>\n",
              "    <tr>\n",
              "      <th>Africa</th>\n",
              "      <td>1965</td>\n",
              "      <td>0.0</td>\n",
              "    </tr>\n",
              "    <tr>\n",
              "      <th>Africa</th>\n",
              "      <td>1966</td>\n",
              "      <td>0.0</td>\n",
              "    </tr>\n",
              "    <tr>\n",
              "      <th>Africa</th>\n",
              "      <td>1967</td>\n",
              "      <td>0.0</td>\n",
              "    </tr>\n",
              "  </tbody>\n",
              "</table>\n",
              "</div>"
            ],
            "text/plain": [
              "        Year  Wind per capita (kWh)\n",
              "Entity                             \n",
              "Africa  1965                    0.0\n",
              "Africa  1966                    0.0\n",
              "Africa  1967                    0.0"
            ]
          },
          "metadata": {
            "tags": []
          },
          "execution_count": 23
        }
      ]
    },
    {
      "cell_type": "markdown",
      "metadata": {
        "id": "mzz_t0pFiWyc"
      },
      "source": [
        "Para mejor manejo de los datos y debido a la similitud entre las bases de datos, creamos un nuevo DataFrame que contenga la información de las cuatro bases de datos, manteniendo la de Región(Index) y el año de registro."
      ]
    },
    {
      "cell_type": "code",
      "metadata": {
        "colab": {
          "base_uri": "https://localhost:8080/",
          "height": 274
        },
        "id": "MVmuVnP3iWyd",
        "outputId": "3cf8a4c1-7835-4c26-e23e-4f298248862d"
      },
      "source": [
        "df = pd.concat([df_PC_renovables, df_PC_hydro, df_PC_solar, df_PC_wind],axis=1,sort=False)\r\n",
        "df = df.T.drop_duplicates().T\r\n",
        "print(df.dtypes)\r\n",
        "df.head(3)"
      ],
      "execution_count": null,
      "outputs": [
        {
          "output_type": "stream",
          "text": [
            "Year                           float64\n",
            "Renewables per capita (kWh)    float64\n",
            "Hydro per capita (kWh)         float64\n",
            "Solar per capita (kWh)         float64\n",
            "Wind per capita (kWh)          float64\n",
            "dtype: object\n"
          ],
          "name": "stdout"
        },
        {
          "output_type": "execute_result",
          "data": {
            "text/html": [
              "<div>\n",
              "<style scoped>\n",
              "    .dataframe tbody tr th:only-of-type {\n",
              "        vertical-align: middle;\n",
              "    }\n",
              "\n",
              "    .dataframe tbody tr th {\n",
              "        vertical-align: top;\n",
              "    }\n",
              "\n",
              "    .dataframe thead th {\n",
              "        text-align: right;\n",
              "    }\n",
              "</style>\n",
              "<table border=\"1\" class=\"dataframe\">\n",
              "  <thead>\n",
              "    <tr style=\"text-align: right;\">\n",
              "      <th></th>\n",
              "      <th>Year</th>\n",
              "      <th>Renewables per capita (kWh)</th>\n",
              "      <th>Hydro per capita (kWh)</th>\n",
              "      <th>Solar per capita (kWh)</th>\n",
              "      <th>Wind per capita (kWh)</th>\n",
              "    </tr>\n",
              "    <tr>\n",
              "      <th>Entity</th>\n",
              "      <th></th>\n",
              "      <th></th>\n",
              "      <th></th>\n",
              "      <th></th>\n",
              "      <th></th>\n",
              "    </tr>\n",
              "  </thead>\n",
              "  <tbody>\n",
              "    <tr>\n",
              "      <th>Africa</th>\n",
              "      <td>1965.0</td>\n",
              "      <td>120.653</td>\n",
              "      <td>120.653</td>\n",
              "      <td>0.0</td>\n",
              "      <td>0.0</td>\n",
              "    </tr>\n",
              "    <tr>\n",
              "      <th>Africa</th>\n",
              "      <td>1966.0</td>\n",
              "      <td>131.249</td>\n",
              "      <td>131.249</td>\n",
              "      <td>0.0</td>\n",
              "      <td>0.0</td>\n",
              "    </tr>\n",
              "    <tr>\n",
              "      <th>Africa</th>\n",
              "      <td>1967.0</td>\n",
              "      <td>133.600</td>\n",
              "      <td>133.600</td>\n",
              "      <td>0.0</td>\n",
              "      <td>0.0</td>\n",
              "    </tr>\n",
              "  </tbody>\n",
              "</table>\n",
              "</div>"
            ],
            "text/plain": [
              "          Year  ...  Wind per capita (kWh)\n",
              "Entity          ...                       \n",
              "Africa  1965.0  ...                    0.0\n",
              "Africa  1966.0  ...                    0.0\n",
              "Africa  1967.0  ...                    0.0\n",
              "\n",
              "[3 rows x 5 columns]"
            ]
          },
          "metadata": {
            "tags": []
          },
          "execution_count": 24
        }
      ]
    },
    {
      "cell_type": "markdown",
      "metadata": {
        "id": "WXnRn8xUiWye"
      },
      "source": [
        "Por la naturaleza de los datos, la columna correspondiente al año debe ser del tipo entero:"
      ]
    },
    {
      "cell_type": "code",
      "metadata": {
        "colab": {
          "base_uri": "https://localhost:8080/"
        },
        "id": "VU31nKrUiWye",
        "outputId": "0930f07d-3119-4626-dd4c-4a830167cf19"
      },
      "source": [
        "df['Year'] = df['Year'].astype(int)\r\n",
        "df['Year'].dtype"
      ],
      "execution_count": null,
      "outputs": [
        {
          "output_type": "execute_result",
          "data": {
            "text/plain": [
              "dtype('int64')"
            ]
          },
          "metadata": {
            "tags": []
          },
          "execution_count": 25
        }
      ]
    },
    {
      "cell_type": "markdown",
      "metadata": {
        "id": "CHBip6AEiWyf"
      },
      "source": [
        "Modificamos los nombres de las variables para ajustarlos a la convención de DS con Python utilizando la función limpiar_variables."
      ]
    },
    {
      "cell_type": "code",
      "metadata": {
        "colab": {
          "base_uri": "https://localhost:8080/",
          "height": 137
        },
        "id": "MUd43OYmiWyf",
        "outputId": "a2f8e9e8-117e-45f5-9110-f2856d54be9f"
      },
      "source": [
        "df.columns = limpiar_variables(df.columns)\r\n",
        "df.index = limpiar_variables(df.index)\r\n",
        "df.head(3)"
      ],
      "execution_count": null,
      "outputs": [
        {
          "output_type": "execute_result",
          "data": {
            "text/html": [
              "<div>\n",
              "<style scoped>\n",
              "    .dataframe tbody tr th:only-of-type {\n",
              "        vertical-align: middle;\n",
              "    }\n",
              "\n",
              "    .dataframe tbody tr th {\n",
              "        vertical-align: top;\n",
              "    }\n",
              "\n",
              "    .dataframe thead th {\n",
              "        text-align: right;\n",
              "    }\n",
              "</style>\n",
              "<table border=\"1\" class=\"dataframe\">\n",
              "  <thead>\n",
              "    <tr style=\"text-align: right;\">\n",
              "      <th></th>\n",
              "      <th>year</th>\n",
              "      <th>renewables_per_capita_(kwh)</th>\n",
              "      <th>hydro_per_capita_(kwh)</th>\n",
              "      <th>solar_per_capita_(kwh)</th>\n",
              "      <th>wind_per_capita_(kwh)</th>\n",
              "    </tr>\n",
              "  </thead>\n",
              "  <tbody>\n",
              "    <tr>\n",
              "      <th>africa</th>\n",
              "      <td>1965</td>\n",
              "      <td>120.653</td>\n",
              "      <td>120.653</td>\n",
              "      <td>0.0</td>\n",
              "      <td>0.0</td>\n",
              "    </tr>\n",
              "    <tr>\n",
              "      <th>africa</th>\n",
              "      <td>1966</td>\n",
              "      <td>131.249</td>\n",
              "      <td>131.249</td>\n",
              "      <td>0.0</td>\n",
              "      <td>0.0</td>\n",
              "    </tr>\n",
              "    <tr>\n",
              "      <th>africa</th>\n",
              "      <td>1967</td>\n",
              "      <td>133.600</td>\n",
              "      <td>133.600</td>\n",
              "      <td>0.0</td>\n",
              "      <td>0.0</td>\n",
              "    </tr>\n",
              "  </tbody>\n",
              "</table>\n",
              "</div>"
            ],
            "text/plain": [
              "        year  ...  wind_per_capita_(kwh)\n",
              "africa  1965  ...                    0.0\n",
              "africa  1966  ...                    0.0\n",
              "africa  1967  ...                    0.0\n",
              "\n",
              "[3 rows x 5 columns]"
            ]
          },
          "metadata": {
            "tags": []
          },
          "execution_count": 26
        }
      ]
    },
    {
      "cell_type": "markdown",
      "metadata": {
        "id": "Rj97nG_HiWyg"
      },
      "source": [
        "Filtramos únicamente los datos correspondientes a la ventana temporal del estudio: 2000-2019."
      ]
    },
    {
      "cell_type": "code",
      "metadata": {
        "colab": {
          "base_uri": "https://localhost:8080/",
          "height": 137
        },
        "id": "9jOE1axAiWyg",
        "outputId": "a560731c-e789-4eec-c914-1eb3a87b4428"
      },
      "source": [
        "df_00_19 = df[df['year'] >= 2000]\r\n",
        "df_00_19.head(3)"
      ],
      "execution_count": null,
      "outputs": [
        {
          "output_type": "execute_result",
          "data": {
            "text/html": [
              "<div>\n",
              "<style scoped>\n",
              "    .dataframe tbody tr th:only-of-type {\n",
              "        vertical-align: middle;\n",
              "    }\n",
              "\n",
              "    .dataframe tbody tr th {\n",
              "        vertical-align: top;\n",
              "    }\n",
              "\n",
              "    .dataframe thead th {\n",
              "        text-align: right;\n",
              "    }\n",
              "</style>\n",
              "<table border=\"1\" class=\"dataframe\">\n",
              "  <thead>\n",
              "    <tr style=\"text-align: right;\">\n",
              "      <th></th>\n",
              "      <th>year</th>\n",
              "      <th>renewables_per_capita_(kwh)</th>\n",
              "      <th>hydro_per_capita_(kwh)</th>\n",
              "      <th>solar_per_capita_(kwh)</th>\n",
              "      <th>wind_per_capita_(kwh)</th>\n",
              "    </tr>\n",
              "  </thead>\n",
              "  <tbody>\n",
              "    <tr>\n",
              "      <th>africa</th>\n",
              "      <td>2000</td>\n",
              "      <td>266.152</td>\n",
              "      <td>257.732</td>\n",
              "      <td>0.045</td>\n",
              "      <td>0.603</td>\n",
              "    </tr>\n",
              "    <tr>\n",
              "      <th>africa</th>\n",
              "      <td>2001</td>\n",
              "      <td>277.773</td>\n",
              "      <td>268.580</td>\n",
              "      <td>0.054</td>\n",
              "      <td>1.382</td>\n",
              "    </tr>\n",
              "    <tr>\n",
              "      <th>africa</th>\n",
              "      <td>2002</td>\n",
              "      <td>283.219</td>\n",
              "      <td>274.360</td>\n",
              "      <td>0.063</td>\n",
              "      <td>1.432</td>\n",
              "    </tr>\n",
              "  </tbody>\n",
              "</table>\n",
              "</div>"
            ],
            "text/plain": [
              "        year  ...  wind_per_capita_(kwh)\n",
              "africa  2000  ...                  0.603\n",
              "africa  2001  ...                  1.382\n",
              "africa  2002  ...                  1.432\n",
              "\n",
              "[3 rows x 5 columns]"
            ]
          },
          "metadata": {
            "tags": []
          },
          "execution_count": 27
        }
      ]
    },
    {
      "cell_type": "markdown",
      "metadata": {
        "id": "wEcEORgViWyh"
      },
      "source": [
        "De todas las regiones que se encuentran en nuestro dataframe, podemos filtrar únicamente las que nos interesan, es decir, México y el Mundo, para una breve comparación al momento de realizar el análisis."
      ]
    },
    {
      "cell_type": "markdown",
      "metadata": {
        "id": "3RjN-Y7XiWyi"
      },
      "source": [
        "Verificamos que no existen NA's:"
      ]
    },
    {
      "cell_type": "code",
      "metadata": {
        "colab": {
          "base_uri": "https://localhost:8080/"
        },
        "id": "C11a4MzPiWyi",
        "outputId": "93784e60-b7d4-4f32-9340-8dd3bd0b2b5f"
      },
      "source": [
        "print(df_00_19.isna().sum())"
      ],
      "execution_count": null,
      "outputs": [
        {
          "output_type": "stream",
          "text": [
            "year                           0\n",
            "renewables_per_capita_(kwh)    0\n",
            "hydro_per_capita_(kwh)         0\n",
            "solar_per_capita_(kwh)         0\n",
            "wind_per_capita_(kwh)          0\n",
            "dtype: int64\n"
          ],
          "name": "stdout"
        }
      ]
    },
    {
      "cell_type": "markdown",
      "metadata": {
        "id": "q4jCNZJHBTb1"
      },
      "source": [
        "#### **Energías renovables en el mundo**\r\n",
        "\r\n",
        "---"
      ]
    },
    {
      "cell_type": "code",
      "metadata": {
        "colab": {
          "base_uri": "https://localhost:8080/",
          "height": 197
        },
        "id": "6CUucuH4wZli",
        "outputId": "8fd81ef3-df62-4486-d249-45a2587f316d"
      },
      "source": [
        "df_annual_change.dtypes\r\n",
        "df_renew_energy_capacity.dtypes\r\n",
        "df_investment_by_tech.dtypes\r\n",
        "df_investment_of_gdp.dtypes\r\n",
        "df_renew_energy_of_total.dtypes\r\n",
        "\r\n",
        "### uso de shape\r\n",
        "\r\n",
        "df_annual_change.shape\r\n",
        "#(3828 rows, 4 columns)\r\n",
        "\r\n",
        "df_renew_energy_capacity.shape\r\n",
        "#(102, 3)\r\n",
        "\r\n",
        "df_investment_by_tech.shape\r\n",
        "#(13, 8)\r\n",
        "\r\n",
        "df_investment_of_gdp.shape\r\n",
        "#(10, 3)\r\n",
        "\r\n",
        "df_renew_energy_of_total.shape\r\n",
        "#(6588, 4)\r\n",
        "\r\n",
        "df_annual_change.columns\r\n",
        "df_renew_energy_capacity.columns\r\n",
        "df_investment_by_tech.columns\r\n",
        "df_investment_of_gdp.columns\r\n",
        "df_renew_energy_of_total.columns\r\n",
        "\r\n",
        "\r\n",
        "df_annual_change.head(5)\r\n",
        "df_annual_change.tail(5)\r\n",
        "#podemos eliminar columna 'Code', renombrar columnas ('Entity' hace referencia a país), redondear a dos decimales\r\n",
        "\r\n",
        "df_renew_energy_capacity.head(5)\r\n",
        "df_renew_energy_capacity.tail(100)\r\n",
        "#podemos renombrar columnas ('Entity' hace referencia a tipo de energía)\r\n",
        "\r\n",
        "df_investment_by_tech.head(5)\r\n",
        "df_investment_by_tech.tail(5)\r\n",
        "#podemos renombrar columnas, transponer columnas a renglones\r\n",
        "\r\n",
        "df_investment_of_gdp.head(5)\r\n",
        "df_investment_of_gdp.tail(5)\r\n",
        "#podemos eliminar columna 'Code', renombrar columnas ('Entity' hace referencia a país)\r\n",
        "\r\n",
        "df_renew_energy_of_total.head(5)\r\n",
        "df_renew_energy_of_total.tail(5)\r\n",
        "#podemos eliminar columna 'Code', renombrar columnas ('Entity' hace referencia a país), redondear a dos decimales\r\n"
      ],
      "execution_count": null,
      "outputs": [
        {
          "output_type": "execute_result",
          "data": {
            "text/html": [
              "<div>\n",
              "<style scoped>\n",
              "    .dataframe tbody tr th:only-of-type {\n",
              "        vertical-align: middle;\n",
              "    }\n",
              "\n",
              "    .dataframe tbody tr th {\n",
              "        vertical-align: top;\n",
              "    }\n",
              "\n",
              "    .dataframe thead th {\n",
              "        text-align: right;\n",
              "    }\n",
              "</style>\n",
              "<table border=\"1\" class=\"dataframe\">\n",
              "  <thead>\n",
              "    <tr style=\"text-align: right;\">\n",
              "      <th></th>\n",
              "      <th>Entity</th>\n",
              "      <th>Code</th>\n",
              "      <th>Year</th>\n",
              "      <th>Renewable energy consumption (% of total final energy consumption)</th>\n",
              "    </tr>\n",
              "  </thead>\n",
              "  <tbody>\n",
              "    <tr>\n",
              "      <th>6583</th>\n",
              "      <td>Zimbabwe</td>\n",
              "      <td>ZWE</td>\n",
              "      <td>2011</td>\n",
              "      <td>79.574227</td>\n",
              "    </tr>\n",
              "    <tr>\n",
              "      <th>6584</th>\n",
              "      <td>Zimbabwe</td>\n",
              "      <td>ZWE</td>\n",
              "      <td>2012</td>\n",
              "      <td>78.019702</td>\n",
              "    </tr>\n",
              "    <tr>\n",
              "      <th>6585</th>\n",
              "      <td>Zimbabwe</td>\n",
              "      <td>ZWE</td>\n",
              "      <td>2013</td>\n",
              "      <td>79.561094</td>\n",
              "    </tr>\n",
              "    <tr>\n",
              "      <th>6586</th>\n",
              "      <td>Zimbabwe</td>\n",
              "      <td>ZWE</td>\n",
              "      <td>2014</td>\n",
              "      <td>81.049292</td>\n",
              "    </tr>\n",
              "    <tr>\n",
              "      <th>6587</th>\n",
              "      <td>Zimbabwe</td>\n",
              "      <td>ZWE</td>\n",
              "      <td>2015</td>\n",
              "      <td>81.797809</td>\n",
              "    </tr>\n",
              "  </tbody>\n",
              "</table>\n",
              "</div>"
            ],
            "text/plain": [
              "        Entity  ... Renewable energy consumption (% of total final energy consumption)\n",
              "6583  Zimbabwe  ...                                          79.574227                \n",
              "6584  Zimbabwe  ...                                          78.019702                \n",
              "6585  Zimbabwe  ...                                          79.561094                \n",
              "6586  Zimbabwe  ...                                          81.049292                \n",
              "6587  Zimbabwe  ...                                          81.797809                \n",
              "\n",
              "[5 rows x 4 columns]"
            ]
          },
          "metadata": {
            "tags": []
          },
          "execution_count": 29
        }
      ]
    },
    {
      "cell_type": "code",
      "metadata": {
        "colab": {
          "base_uri": "https://localhost:8080/"
        },
        "id": "5MwbqFyRwxJn",
        "outputId": "497d756c-b52c-4276-dbf0-98fdbde2981b"
      },
      "source": [
        "###limpiar datos\r\n",
        "df_annual_change.isna().sum() \r\n",
        "#'Code' = 162\r\n",
        "\r\n",
        "df_annual_change_dropped = df_annual_change.drop(columns= 'Code')\r\n",
        "\r\n",
        "df_annual_change_dropped.isna().sum()\r\n",
        "\r\n",
        "df_annual_change.isna().sum()\r\n",
        "\r\n",
        "column_name = {'Entity': 'country',\r\n",
        "               'Year': 'year',\r\n",
        "               'Renewables (% growth)': 'percent_growth'}\r\n",
        "\r\n",
        "df_annual_change_dropped = df_annual_change_dropped.rename(columns= column_name)\r\n",
        "\r\n",
        "df_annual_change_dropped.columns\r\n",
        "\r\n",
        "decimals = 2 \r\n",
        "\r\n",
        "df_annual_change_dropped['percent_growth'] = df_annual_change_dropped['percent_growth'].apply(lambda x: round(x, decimals))\r\n",
        "\r\n",
        "df_annual_change_dropped['percent_growth']"
      ],
      "execution_count": null,
      "outputs": [
        {
          "output_type": "execute_result",
          "data": {
            "text/plain": [
              "0       11.54\n",
              "1        4.39\n",
              "2       16.97\n",
              "3       16.70\n",
              "4       25.02\n",
              "        ...  \n",
              "3823     3.39\n",
              "3824     5.48\n",
              "3825     5.75\n",
              "3826     5.90\n",
              "3827     5.49\n",
              "Name: percent_growth, Length: 3828, dtype: float64"
            ]
          },
          "metadata": {
            "tags": []
          },
          "execution_count": 30
        }
      ]
    },
    {
      "cell_type": "code",
      "metadata": {
        "colab": {
          "base_uri": "https://localhost:8080/"
        },
        "id": "b9L4MBZDwzqu",
        "outputId": "1790d4ad-f10f-4372-a27b-742911654f5e"
      },
      "source": [
        "df_renew_energy_capacity.isna().sum() \r\n",
        "#no Nas\r\n",
        "\r\n",
        "column_name = {'Entity': 'energy_type',\r\n",
        "               'Year': 'year',\r\n",
        "               'Renewable Energy Capacity by Technology (IRENA (2017))': 'renewable_energy_capacity'}\r\n",
        "\r\n",
        "df_renew_energy_capacity = df_renew_energy_capacity.rename(columns= column_name)\r\n",
        "\r\n",
        "df_renew_energy_capacity.columns"
      ],
      "execution_count": null,
      "outputs": [
        {
          "output_type": "execute_result",
          "data": {
            "text/plain": [
              "Index(['energy_type', 'year', 'renewable_energy_capacity'], dtype='object')"
            ]
          },
          "metadata": {
            "tags": []
          },
          "execution_count": 31
        }
      ]
    },
    {
      "cell_type": "code",
      "metadata": {
        "colab": {
          "base_uri": "https://localhost:8080/"
        },
        "id": "SCTSPhxcw1S-",
        "outputId": "12c371d4-0ba4-4d3e-f09d-572c2c15fb55"
      },
      "source": [
        "df_investment_by_tech.isna().sum() \r\n",
        "#no Nas\r\n",
        "\r\n",
        "column_name = {'Year': 'year',\r\n",
        "               'Solar Energy': 'solar_energy',\r\n",
        "               'Wind Energy': 'wind_energy',\r\n",
        "               'Biomass & Waste-to-Energy': 'biomass_energy',\r\n",
        "               'Liquid Biofuels': 'liquid_biofuels',\r\n",
        "               'Small Hydropower': 'small_hydropower',\r\n",
        "               'Geothermal Energy': 'geothermal_energy',\r\n",
        "               'Marine Energy': 'marine_energy'\r\n",
        "               }\r\n",
        "\r\n",
        "df_investment_by_tech = df_investment_by_tech.rename(columns= column_name)\r\n",
        "\r\n",
        "df_investment_by_tech.columns"
      ],
      "execution_count": null,
      "outputs": [
        {
          "output_type": "execute_result",
          "data": {
            "text/plain": [
              "Index(['year', 'solar_energy', 'wind_energy', 'biomass_energy',\n",
              "       'liquid_biofuels', 'small_hydropower', 'geothermal_energy',\n",
              "       'marine_energy'],\n",
              "      dtype='object')"
            ]
          },
          "metadata": {
            "tags": []
          },
          "execution_count": 32
        }
      ]
    },
    {
      "cell_type": "code",
      "metadata": {
        "colab": {
          "base_uri": "https://localhost:8080/"
        },
        "id": "n8vFiryZw3Dq",
        "outputId": "31eefb18-a6f1-40c6-cdb1-f55d24f2109b"
      },
      "source": [
        "df_investment_of_gdp.isna().sum() \r\n",
        "#'Code' has Nas\r\n",
        "\r\n",
        "df_investment_of_gdp_dropped = df_investment_of_gdp.drop(columns= 'Code')\r\n",
        "\r\n",
        "column_name = {'Entity': 'country',\r\n",
        "               'Renewable Investment (% of GDP) (BNEP and World Bank)': 'invest_percent_of_gdp'\r\n",
        "               }\r\n",
        "\r\n",
        "df_investment_of_gdp_dropped = df_investment_of_gdp_dropped.rename(columns= column_name)\r\n",
        "\r\n",
        "df_investment_of_gdp_dropped.columns"
      ],
      "execution_count": null,
      "outputs": [
        {
          "output_type": "execute_result",
          "data": {
            "text/plain": [
              "Index(['country', 'invest_percent_of_gdp'], dtype='object')"
            ]
          },
          "metadata": {
            "tags": []
          },
          "execution_count": 33
        }
      ]
    },
    {
      "cell_type": "code",
      "metadata": {
        "colab": {
          "base_uri": "https://localhost:8080/"
        },
        "id": "xwQZCCwAw4tv",
        "outputId": "62c556eb-2546-4deb-b2d4-11f908ad0278"
      },
      "source": [
        "df_renew_energy_of_total.isna().sum() \r\n",
        "#Code has 1196 Nas\r\n",
        "\r\n",
        "df_renew_energy_of_total_dropped = df_renew_energy_of_total.drop(columns= 'Code')\r\n",
        "\r\n",
        "column_name = {'Entity': 'country',\r\n",
        "               'Year': 'year',\r\n",
        "               'Renewable energy consumption (% of total final energy consumption)': 'consumption_of_total'\r\n",
        "               }\r\n",
        "\r\n",
        "df_renew_energy_of_total_dropped = df_renew_energy_of_total_dropped.rename(columns= column_name)\r\n",
        "\r\n",
        "df_renew_energy_of_total_dropped.columns\r\n",
        "df_renew_energy_of_total_dropped.head()\r\n",
        "\r\n",
        "# tenemos 6 decimales en 'consumption_of_total'\r\n",
        "\r\n",
        "decimals = 2 \r\n",
        "\r\n",
        "df_renew_energy_of_total_dropped['consumption_of_total'] = df_renew_energy_of_total_dropped['consumption_of_total'].apply(lambda x: round(x, decimals))\r\n",
        "\r\n",
        "df_renew_energy_of_total_dropped['consumption_of_total']"
      ],
      "execution_count": null,
      "outputs": [
        {
          "output_type": "execute_result",
          "data": {
            "text/plain": [
              "0       15.92\n",
              "1       17.04\n",
              "2       26.52\n",
              "3       30.59\n",
              "4       32.80\n",
              "        ...  \n",
              "6583    79.57\n",
              "6584    78.02\n",
              "6585    79.56\n",
              "6586    81.05\n",
              "6587    81.80\n",
              "Name: consumption_of_total, Length: 6588, dtype: float64"
            ]
          },
          "metadata": {
            "tags": []
          },
          "execution_count": 34
        }
      ]
    },
    {
      "cell_type": "code",
      "metadata": {
        "colab": {
          "base_uri": "https://localhost:8080/",
          "height": 197
        },
        "id": "nmE9AUZhw662",
        "outputId": "8123ea19-2ccc-42a5-8410-8d76b080423d"
      },
      "source": [
        "df_investment_by_tech = pd.melt(df_investment_by_tech, id_vars= 'year', var_name= 'type_of_energy', value_name= '$')\r\n",
        "\r\n",
        "df_investment_by_tech.head()"
      ],
      "execution_count": null,
      "outputs": [
        {
          "output_type": "execute_result",
          "data": {
            "text/html": [
              "<div>\n",
              "<style scoped>\n",
              "    .dataframe tbody tr th:only-of-type {\n",
              "        vertical-align: middle;\n",
              "    }\n",
              "\n",
              "    .dataframe tbody tr th {\n",
              "        vertical-align: top;\n",
              "    }\n",
              "\n",
              "    .dataframe thead th {\n",
              "        text-align: right;\n",
              "    }\n",
              "</style>\n",
              "<table border=\"1\" class=\"dataframe\">\n",
              "  <thead>\n",
              "    <tr style=\"text-align: right;\">\n",
              "      <th></th>\n",
              "      <th>year</th>\n",
              "      <th>type_of_energy</th>\n",
              "      <th>$</th>\n",
              "    </tr>\n",
              "  </thead>\n",
              "  <tbody>\n",
              "    <tr>\n",
              "      <th>0</th>\n",
              "      <td>2004</td>\n",
              "      <td>solar_energy</td>\n",
              "      <td>11.2</td>\n",
              "    </tr>\n",
              "    <tr>\n",
              "      <th>1</th>\n",
              "      <td>2005</td>\n",
              "      <td>solar_energy</td>\n",
              "      <td>15.9</td>\n",
              "    </tr>\n",
              "    <tr>\n",
              "      <th>2</th>\n",
              "      <td>2006</td>\n",
              "      <td>solar_energy</td>\n",
              "      <td>21.9</td>\n",
              "    </tr>\n",
              "    <tr>\n",
              "      <th>3</th>\n",
              "      <td>2007</td>\n",
              "      <td>solar_energy</td>\n",
              "      <td>38.9</td>\n",
              "    </tr>\n",
              "    <tr>\n",
              "      <th>4</th>\n",
              "      <td>2008</td>\n",
              "      <td>solar_energy</td>\n",
              "      <td>61.3</td>\n",
              "    </tr>\n",
              "  </tbody>\n",
              "</table>\n",
              "</div>"
            ],
            "text/plain": [
              "   year type_of_energy     $\n",
              "0  2004   solar_energy  11.2\n",
              "1  2005   solar_energy  15.9\n",
              "2  2006   solar_energy  21.9\n",
              "3  2007   solar_energy  38.9\n",
              "4  2008   solar_energy  61.3"
            ]
          },
          "metadata": {
            "tags": []
          },
          "execution_count": 35
        }
      ]
    },
    {
      "cell_type": "code",
      "metadata": {
        "colab": {
          "base_uri": "https://localhost:8080/",
          "height": 436
        },
        "id": "gp9MPbEAw8iI",
        "outputId": "9e72b75f-954f-459a-ce3e-fd68bddd5c32"
      },
      "source": [
        "df_annual_change_dropped.set_index('year')\r\n",
        "df_renew_energy_capacity.set_index('year')\r\n",
        "df_investment_by_tech.set_index('year')\r\n",
        "df_investment_of_gdp_dropped.set_index('country')\r\n",
        "df_renew_energy_of_total_dropped.set_index('year')"
      ],
      "execution_count": null,
      "outputs": [
        {
          "output_type": "execute_result",
          "data": {
            "text/html": [
              "<div>\n",
              "<style scoped>\n",
              "    .dataframe tbody tr th:only-of-type {\n",
              "        vertical-align: middle;\n",
              "    }\n",
              "\n",
              "    .dataframe tbody tr th {\n",
              "        vertical-align: top;\n",
              "    }\n",
              "\n",
              "    .dataframe thead th {\n",
              "        text-align: right;\n",
              "    }\n",
              "</style>\n",
              "<table border=\"1\" class=\"dataframe\">\n",
              "  <thead>\n",
              "    <tr style=\"text-align: right;\">\n",
              "      <th></th>\n",
              "      <th>country</th>\n",
              "      <th>consumption_of_total</th>\n",
              "    </tr>\n",
              "    <tr>\n",
              "      <th>year</th>\n",
              "      <th></th>\n",
              "      <th></th>\n",
              "    </tr>\n",
              "  </thead>\n",
              "  <tbody>\n",
              "    <tr>\n",
              "      <th>1990</th>\n",
              "      <td>Afghanistan</td>\n",
              "      <td>15.92</td>\n",
              "    </tr>\n",
              "    <tr>\n",
              "      <th>1991</th>\n",
              "      <td>Afghanistan</td>\n",
              "      <td>17.04</td>\n",
              "    </tr>\n",
              "    <tr>\n",
              "      <th>1992</th>\n",
              "      <td>Afghanistan</td>\n",
              "      <td>26.52</td>\n",
              "    </tr>\n",
              "    <tr>\n",
              "      <th>1993</th>\n",
              "      <td>Afghanistan</td>\n",
              "      <td>30.59</td>\n",
              "    </tr>\n",
              "    <tr>\n",
              "      <th>1994</th>\n",
              "      <td>Afghanistan</td>\n",
              "      <td>32.80</td>\n",
              "    </tr>\n",
              "    <tr>\n",
              "      <th>...</th>\n",
              "      <td>...</td>\n",
              "      <td>...</td>\n",
              "    </tr>\n",
              "    <tr>\n",
              "      <th>2011</th>\n",
              "      <td>Zimbabwe</td>\n",
              "      <td>79.57</td>\n",
              "    </tr>\n",
              "    <tr>\n",
              "      <th>2012</th>\n",
              "      <td>Zimbabwe</td>\n",
              "      <td>78.02</td>\n",
              "    </tr>\n",
              "    <tr>\n",
              "      <th>2013</th>\n",
              "      <td>Zimbabwe</td>\n",
              "      <td>79.56</td>\n",
              "    </tr>\n",
              "    <tr>\n",
              "      <th>2014</th>\n",
              "      <td>Zimbabwe</td>\n",
              "      <td>81.05</td>\n",
              "    </tr>\n",
              "    <tr>\n",
              "      <th>2015</th>\n",
              "      <td>Zimbabwe</td>\n",
              "      <td>81.80</td>\n",
              "    </tr>\n",
              "  </tbody>\n",
              "</table>\n",
              "<p>6588 rows × 2 columns</p>\n",
              "</div>"
            ],
            "text/plain": [
              "          country  consumption_of_total\n",
              "year                                   \n",
              "1990  Afghanistan                 15.92\n",
              "1991  Afghanistan                 17.04\n",
              "1992  Afghanistan                 26.52\n",
              "1993  Afghanistan                 30.59\n",
              "1994  Afghanistan                 32.80\n",
              "...           ...                   ...\n",
              "2011     Zimbabwe                 79.57\n",
              "2012     Zimbabwe                 78.02\n",
              "2013     Zimbabwe                 79.56\n",
              "2014     Zimbabwe                 81.05\n",
              "2015     Zimbabwe                 81.80\n",
              "\n",
              "[6588 rows x 2 columns]"
            ]
          },
          "metadata": {
            "tags": []
          },
          "execution_count": 36
        }
      ]
    },
    {
      "cell_type": "code",
      "metadata": {
        "id": "Gw2WmPntw-Vq"
      },
      "source": [
        "df_investment_of_gdp_dropped['year']= 2015\r\n",
        "df_investment_of_gdp_dropped.tail()\r\n",
        "\r\n",
        "df_investment_by_tech['country'] = 'World'\r\n",
        "df_renew_energy_capacity['country'] = 'World'"
      ],
      "execution_count": null,
      "outputs": []
    },
    {
      "cell_type": "code",
      "metadata": {
        "id": "uVuZ4Zn4w_vf"
      },
      "source": [
        "multindex = ['year', 'country']\r\n",
        "#dfs = [df_annual_change_dropped, df_investment_by_tech, df_investment_of_gdp_dropped, df_renew_energy_capacity, df_renew_energy_of_total_dropped]\r\n",
        "\r\n",
        "new_df = df_annual_change_dropped.merge(df_investment_by_tech, how= 'outer', on= multindex)"
      ],
      "execution_count": null,
      "outputs": []
    },
    {
      "cell_type": "code",
      "metadata": {
        "colab": {
          "base_uri": "https://localhost:8080/",
          "height": 406
        },
        "id": "1mgSWPiOxB3V",
        "outputId": "d0ab600b-ac14-4fbf-f65e-d2c62e59a5e7"
      },
      "source": [
        "new_df2 = new_df.merge(df_investment_of_gdp_dropped, how= 'outer', on= multindex)\r\n",
        "new_df2"
      ],
      "execution_count": null,
      "outputs": [
        {
          "output_type": "execute_result",
          "data": {
            "text/html": [
              "<div>\n",
              "<style scoped>\n",
              "    .dataframe tbody tr th:only-of-type {\n",
              "        vertical-align: middle;\n",
              "    }\n",
              "\n",
              "    .dataframe tbody tr th {\n",
              "        vertical-align: top;\n",
              "    }\n",
              "\n",
              "    .dataframe thead th {\n",
              "        text-align: right;\n",
              "    }\n",
              "</style>\n",
              "<table border=\"1\" class=\"dataframe\">\n",
              "  <thead>\n",
              "    <tr style=\"text-align: right;\">\n",
              "      <th></th>\n",
              "      <th>country</th>\n",
              "      <th>year</th>\n",
              "      <th>percent_growth</th>\n",
              "      <th>type_of_energy</th>\n",
              "      <th>$</th>\n",
              "      <th>invest_percent_of_gdp</th>\n",
              "    </tr>\n",
              "  </thead>\n",
              "  <tbody>\n",
              "    <tr>\n",
              "      <th>0</th>\n",
              "      <td>Africa</td>\n",
              "      <td>1966</td>\n",
              "      <td>11.54</td>\n",
              "      <td>NaN</td>\n",
              "      <td>NaN</td>\n",
              "      <td>NaN</td>\n",
              "    </tr>\n",
              "    <tr>\n",
              "      <th>1</th>\n",
              "      <td>Africa</td>\n",
              "      <td>1967</td>\n",
              "      <td>4.39</td>\n",
              "      <td>NaN</td>\n",
              "      <td>NaN</td>\n",
              "      <td>NaN</td>\n",
              "    </tr>\n",
              "    <tr>\n",
              "      <th>2</th>\n",
              "      <td>Africa</td>\n",
              "      <td>1968</td>\n",
              "      <td>16.97</td>\n",
              "      <td>NaN</td>\n",
              "      <td>NaN</td>\n",
              "      <td>NaN</td>\n",
              "    </tr>\n",
              "    <tr>\n",
              "      <th>3</th>\n",
              "      <td>Africa</td>\n",
              "      <td>1969</td>\n",
              "      <td>16.70</td>\n",
              "      <td>NaN</td>\n",
              "      <td>NaN</td>\n",
              "      <td>NaN</td>\n",
              "    </tr>\n",
              "    <tr>\n",
              "      <th>4</th>\n",
              "      <td>Africa</td>\n",
              "      <td>1970</td>\n",
              "      <td>25.02</td>\n",
              "      <td>NaN</td>\n",
              "      <td>NaN</td>\n",
              "      <td>NaN</td>\n",
              "    </tr>\n",
              "    <tr>\n",
              "      <th>...</th>\n",
              "      <td>...</td>\n",
              "      <td>...</td>\n",
              "      <td>...</td>\n",
              "      <td>...</td>\n",
              "      <td>...</td>\n",
              "      <td>...</td>\n",
              "    </tr>\n",
              "    <tr>\n",
              "      <th>3902</th>\n",
              "      <td>World</td>\n",
              "      <td>2016</td>\n",
              "      <td>5.48</td>\n",
              "      <td>marine_energy</td>\n",
              "      <td>0.2</td>\n",
              "      <td>NaN</td>\n",
              "    </tr>\n",
              "    <tr>\n",
              "      <th>3903</th>\n",
              "      <td>World</td>\n",
              "      <td>2017</td>\n",
              "      <td>5.75</td>\n",
              "      <td>NaN</td>\n",
              "      <td>NaN</td>\n",
              "      <td>NaN</td>\n",
              "    </tr>\n",
              "    <tr>\n",
              "      <th>3904</th>\n",
              "      <td>World</td>\n",
              "      <td>2018</td>\n",
              "      <td>5.90</td>\n",
              "      <td>NaN</td>\n",
              "      <td>NaN</td>\n",
              "      <td>NaN</td>\n",
              "    </tr>\n",
              "    <tr>\n",
              "      <th>3905</th>\n",
              "      <td>World</td>\n",
              "      <td>2019</td>\n",
              "      <td>5.49</td>\n",
              "      <td>NaN</td>\n",
              "      <td>NaN</td>\n",
              "      <td>NaN</td>\n",
              "    </tr>\n",
              "    <tr>\n",
              "      <th>3906</th>\n",
              "      <td>UK</td>\n",
              "      <td>2015</td>\n",
              "      <td>NaN</td>\n",
              "      <td>NaN</td>\n",
              "      <td>NaN</td>\n",
              "      <td>0.8</td>\n",
              "    </tr>\n",
              "  </tbody>\n",
              "</table>\n",
              "<p>3907 rows × 6 columns</p>\n",
              "</div>"
            ],
            "text/plain": [
              "     country  year  percent_growth type_of_energy    $  invest_percent_of_gdp\n",
              "0     Africa  1966           11.54            NaN  NaN                    NaN\n",
              "1     Africa  1967            4.39            NaN  NaN                    NaN\n",
              "2     Africa  1968           16.97            NaN  NaN                    NaN\n",
              "3     Africa  1969           16.70            NaN  NaN                    NaN\n",
              "4     Africa  1970           25.02            NaN  NaN                    NaN\n",
              "...      ...   ...             ...            ...  ...                    ...\n",
              "3902   World  2016            5.48  marine_energy  0.2                    NaN\n",
              "3903   World  2017            5.75            NaN  NaN                    NaN\n",
              "3904   World  2018            5.90            NaN  NaN                    NaN\n",
              "3905   World  2019            5.49            NaN  NaN                    NaN\n",
              "3906      UK  2015             NaN            NaN  NaN                    0.8\n",
              "\n",
              "[3907 rows x 6 columns]"
            ]
          },
          "metadata": {
            "tags": []
          },
          "execution_count": 39
        }
      ]
    },
    {
      "cell_type": "code",
      "metadata": {
        "colab": {
          "base_uri": "https://localhost:8080/",
          "height": 406
        },
        "id": "Tod37Ej4xDsy",
        "outputId": "e8b108f9-f6bb-4b69-b680-baa0249cda07"
      },
      "source": [
        "new_df3= new_df2.merge(df_renew_energy_capacity, how= 'outer', on= multindex)\r\n",
        "new_df3"
      ],
      "execution_count": null,
      "outputs": [
        {
          "output_type": "execute_result",
          "data": {
            "text/html": [
              "<div>\n",
              "<style scoped>\n",
              "    .dataframe tbody tr th:only-of-type {\n",
              "        vertical-align: middle;\n",
              "    }\n",
              "\n",
              "    .dataframe tbody tr th {\n",
              "        vertical-align: top;\n",
              "    }\n",
              "\n",
              "    .dataframe thead th {\n",
              "        text-align: right;\n",
              "    }\n",
              "</style>\n",
              "<table border=\"1\" class=\"dataframe\">\n",
              "  <thead>\n",
              "    <tr style=\"text-align: right;\">\n",
              "      <th></th>\n",
              "      <th>country</th>\n",
              "      <th>year</th>\n",
              "      <th>percent_growth</th>\n",
              "      <th>type_of_energy</th>\n",
              "      <th>$</th>\n",
              "      <th>invest_percent_of_gdp</th>\n",
              "      <th>energy_type</th>\n",
              "      <th>renewable_energy_capacity</th>\n",
              "    </tr>\n",
              "  </thead>\n",
              "  <tbody>\n",
              "    <tr>\n",
              "      <th>0</th>\n",
              "      <td>Africa</td>\n",
              "      <td>1966</td>\n",
              "      <td>11.54</td>\n",
              "      <td>NaN</td>\n",
              "      <td>NaN</td>\n",
              "      <td>NaN</td>\n",
              "      <td>NaN</td>\n",
              "      <td>NaN</td>\n",
              "    </tr>\n",
              "    <tr>\n",
              "      <th>1</th>\n",
              "      <td>Africa</td>\n",
              "      <td>1967</td>\n",
              "      <td>4.39</td>\n",
              "      <td>NaN</td>\n",
              "      <td>NaN</td>\n",
              "      <td>NaN</td>\n",
              "      <td>NaN</td>\n",
              "      <td>NaN</td>\n",
              "    </tr>\n",
              "    <tr>\n",
              "      <th>2</th>\n",
              "      <td>Africa</td>\n",
              "      <td>1968</td>\n",
              "      <td>16.97</td>\n",
              "      <td>NaN</td>\n",
              "      <td>NaN</td>\n",
              "      <td>NaN</td>\n",
              "      <td>NaN</td>\n",
              "      <td>NaN</td>\n",
              "    </tr>\n",
              "    <tr>\n",
              "      <th>3</th>\n",
              "      <td>Africa</td>\n",
              "      <td>1969</td>\n",
              "      <td>16.70</td>\n",
              "      <td>NaN</td>\n",
              "      <td>NaN</td>\n",
              "      <td>NaN</td>\n",
              "      <td>NaN</td>\n",
              "      <td>NaN</td>\n",
              "    </tr>\n",
              "    <tr>\n",
              "      <th>4</th>\n",
              "      <td>Africa</td>\n",
              "      <td>1970</td>\n",
              "      <td>25.02</td>\n",
              "      <td>NaN</td>\n",
              "      <td>NaN</td>\n",
              "      <td>NaN</td>\n",
              "      <td>NaN</td>\n",
              "      <td>NaN</td>\n",
              "    </tr>\n",
              "    <tr>\n",
              "      <th>...</th>\n",
              "      <td>...</td>\n",
              "      <td>...</td>\n",
              "      <td>...</td>\n",
              "      <td>...</td>\n",
              "      <td>...</td>\n",
              "      <td>...</td>\n",
              "      <td>...</td>\n",
              "      <td>...</td>\n",
              "    </tr>\n",
              "    <tr>\n",
              "      <th>4377</th>\n",
              "      <td>World</td>\n",
              "      <td>2016</td>\n",
              "      <td>5.48</td>\n",
              "      <td>marine_energy</td>\n",
              "      <td>0.2</td>\n",
              "      <td>NaN</td>\n",
              "      <td>Wind</td>\n",
              "      <td>466504.7</td>\n",
              "    </tr>\n",
              "    <tr>\n",
              "      <th>4378</th>\n",
              "      <td>World</td>\n",
              "      <td>2017</td>\n",
              "      <td>5.75</td>\n",
              "      <td>NaN</td>\n",
              "      <td>NaN</td>\n",
              "      <td>NaN</td>\n",
              "      <td>NaN</td>\n",
              "      <td>NaN</td>\n",
              "    </tr>\n",
              "    <tr>\n",
              "      <th>4379</th>\n",
              "      <td>World</td>\n",
              "      <td>2018</td>\n",
              "      <td>5.90</td>\n",
              "      <td>NaN</td>\n",
              "      <td>NaN</td>\n",
              "      <td>NaN</td>\n",
              "      <td>NaN</td>\n",
              "      <td>NaN</td>\n",
              "    </tr>\n",
              "    <tr>\n",
              "      <th>4380</th>\n",
              "      <td>World</td>\n",
              "      <td>2019</td>\n",
              "      <td>5.49</td>\n",
              "      <td>NaN</td>\n",
              "      <td>NaN</td>\n",
              "      <td>NaN</td>\n",
              "      <td>NaN</td>\n",
              "      <td>NaN</td>\n",
              "    </tr>\n",
              "    <tr>\n",
              "      <th>4381</th>\n",
              "      <td>UK</td>\n",
              "      <td>2015</td>\n",
              "      <td>NaN</td>\n",
              "      <td>NaN</td>\n",
              "      <td>NaN</td>\n",
              "      <td>0.8</td>\n",
              "      <td>NaN</td>\n",
              "      <td>NaN</td>\n",
              "    </tr>\n",
              "  </tbody>\n",
              "</table>\n",
              "<p>4382 rows × 8 columns</p>\n",
              "</div>"
            ],
            "text/plain": [
              "     country  year  ...  energy_type renewable_energy_capacity\n",
              "0     Africa  1966  ...          NaN                       NaN\n",
              "1     Africa  1967  ...          NaN                       NaN\n",
              "2     Africa  1968  ...          NaN                       NaN\n",
              "3     Africa  1969  ...          NaN                       NaN\n",
              "4     Africa  1970  ...          NaN                       NaN\n",
              "...      ...   ...  ...          ...                       ...\n",
              "4377   World  2016  ...         Wind                  466504.7\n",
              "4378   World  2017  ...          NaN                       NaN\n",
              "4379   World  2018  ...          NaN                       NaN\n",
              "4380   World  2019  ...          NaN                       NaN\n",
              "4381      UK  2015  ...          NaN                       NaN\n",
              "\n",
              "[4382 rows x 8 columns]"
            ]
          },
          "metadata": {
            "tags": []
          },
          "execution_count": 40
        }
      ]
    },
    {
      "cell_type": "code",
      "metadata": {
        "colab": {
          "base_uri": "https://localhost:8080/",
          "height": 426
        },
        "id": "RpbmDNzmxFMz",
        "outputId": "63bf2f6a-8dfa-4294-e124-34e90e969166"
      },
      "source": [
        "new_df4 = new_df3.merge(df_renew_energy_of_total_dropped,  how= 'outer', on= multindex)\r\n",
        "new_df4"
      ],
      "execution_count": null,
      "outputs": [
        {
          "output_type": "execute_result",
          "data": {
            "text/html": [
              "<div>\n",
              "<style scoped>\n",
              "    .dataframe tbody tr th:only-of-type {\n",
              "        vertical-align: middle;\n",
              "    }\n",
              "\n",
              "    .dataframe tbody tr th {\n",
              "        vertical-align: top;\n",
              "    }\n",
              "\n",
              "    .dataframe thead th {\n",
              "        text-align: right;\n",
              "    }\n",
              "</style>\n",
              "<table border=\"1\" class=\"dataframe\">\n",
              "  <thead>\n",
              "    <tr style=\"text-align: right;\">\n",
              "      <th></th>\n",
              "      <th>country</th>\n",
              "      <th>year</th>\n",
              "      <th>percent_growth</th>\n",
              "      <th>type_of_energy</th>\n",
              "      <th>$</th>\n",
              "      <th>invest_percent_of_gdp</th>\n",
              "      <th>energy_type</th>\n",
              "      <th>renewable_energy_capacity</th>\n",
              "      <th>consumption_of_total</th>\n",
              "    </tr>\n",
              "  </thead>\n",
              "  <tbody>\n",
              "    <tr>\n",
              "      <th>0</th>\n",
              "      <td>Africa</td>\n",
              "      <td>1966</td>\n",
              "      <td>11.54</td>\n",
              "      <td>NaN</td>\n",
              "      <td>NaN</td>\n",
              "      <td>NaN</td>\n",
              "      <td>NaN</td>\n",
              "      <td>NaN</td>\n",
              "      <td>NaN</td>\n",
              "    </tr>\n",
              "    <tr>\n",
              "      <th>1</th>\n",
              "      <td>Africa</td>\n",
              "      <td>1967</td>\n",
              "      <td>4.39</td>\n",
              "      <td>NaN</td>\n",
              "      <td>NaN</td>\n",
              "      <td>NaN</td>\n",
              "      <td>NaN</td>\n",
              "      <td>NaN</td>\n",
              "      <td>NaN</td>\n",
              "    </tr>\n",
              "    <tr>\n",
              "      <th>2</th>\n",
              "      <td>Africa</td>\n",
              "      <td>1968</td>\n",
              "      <td>16.97</td>\n",
              "      <td>NaN</td>\n",
              "      <td>NaN</td>\n",
              "      <td>NaN</td>\n",
              "      <td>NaN</td>\n",
              "      <td>NaN</td>\n",
              "      <td>NaN</td>\n",
              "    </tr>\n",
              "    <tr>\n",
              "      <th>3</th>\n",
              "      <td>Africa</td>\n",
              "      <td>1969</td>\n",
              "      <td>16.70</td>\n",
              "      <td>NaN</td>\n",
              "      <td>NaN</td>\n",
              "      <td>NaN</td>\n",
              "      <td>NaN</td>\n",
              "      <td>NaN</td>\n",
              "      <td>NaN</td>\n",
              "    </tr>\n",
              "    <tr>\n",
              "      <th>4</th>\n",
              "      <td>Africa</td>\n",
              "      <td>1970</td>\n",
              "      <td>25.02</td>\n",
              "      <td>NaN</td>\n",
              "      <td>NaN</td>\n",
              "      <td>NaN</td>\n",
              "      <td>NaN</td>\n",
              "      <td>NaN</td>\n",
              "      <td>NaN</td>\n",
              "    </tr>\n",
              "    <tr>\n",
              "      <th>...</th>\n",
              "      <td>...</td>\n",
              "      <td>...</td>\n",
              "      <td>...</td>\n",
              "      <td>...</td>\n",
              "      <td>...</td>\n",
              "      <td>...</td>\n",
              "      <td>...</td>\n",
              "      <td>...</td>\n",
              "      <td>...</td>\n",
              "    </tr>\n",
              "    <tr>\n",
              "      <th>9035</th>\n",
              "      <td>Zimbabwe</td>\n",
              "      <td>2011</td>\n",
              "      <td>NaN</td>\n",
              "      <td>NaN</td>\n",
              "      <td>NaN</td>\n",
              "      <td>NaN</td>\n",
              "      <td>NaN</td>\n",
              "      <td>NaN</td>\n",
              "      <td>79.57</td>\n",
              "    </tr>\n",
              "    <tr>\n",
              "      <th>9036</th>\n",
              "      <td>Zimbabwe</td>\n",
              "      <td>2012</td>\n",
              "      <td>NaN</td>\n",
              "      <td>NaN</td>\n",
              "      <td>NaN</td>\n",
              "      <td>NaN</td>\n",
              "      <td>NaN</td>\n",
              "      <td>NaN</td>\n",
              "      <td>78.02</td>\n",
              "    </tr>\n",
              "    <tr>\n",
              "      <th>9037</th>\n",
              "      <td>Zimbabwe</td>\n",
              "      <td>2013</td>\n",
              "      <td>NaN</td>\n",
              "      <td>NaN</td>\n",
              "      <td>NaN</td>\n",
              "      <td>NaN</td>\n",
              "      <td>NaN</td>\n",
              "      <td>NaN</td>\n",
              "      <td>79.56</td>\n",
              "    </tr>\n",
              "    <tr>\n",
              "      <th>9038</th>\n",
              "      <td>Zimbabwe</td>\n",
              "      <td>2014</td>\n",
              "      <td>NaN</td>\n",
              "      <td>NaN</td>\n",
              "      <td>NaN</td>\n",
              "      <td>NaN</td>\n",
              "      <td>NaN</td>\n",
              "      <td>NaN</td>\n",
              "      <td>81.05</td>\n",
              "    </tr>\n",
              "    <tr>\n",
              "      <th>9039</th>\n",
              "      <td>Zimbabwe</td>\n",
              "      <td>2015</td>\n",
              "      <td>NaN</td>\n",
              "      <td>NaN</td>\n",
              "      <td>NaN</td>\n",
              "      <td>NaN</td>\n",
              "      <td>NaN</td>\n",
              "      <td>NaN</td>\n",
              "      <td>81.80</td>\n",
              "    </tr>\n",
              "  </tbody>\n",
              "</table>\n",
              "<p>9040 rows × 9 columns</p>\n",
              "</div>"
            ],
            "text/plain": [
              "       country  year  ...  renewable_energy_capacity consumption_of_total\n",
              "0       Africa  1966  ...                        NaN                  NaN\n",
              "1       Africa  1967  ...                        NaN                  NaN\n",
              "2       Africa  1968  ...                        NaN                  NaN\n",
              "3       Africa  1969  ...                        NaN                  NaN\n",
              "4       Africa  1970  ...                        NaN                  NaN\n",
              "...        ...   ...  ...                        ...                  ...\n",
              "9035  Zimbabwe  2011  ...                        NaN                79.57\n",
              "9036  Zimbabwe  2012  ...                        NaN                78.02\n",
              "9037  Zimbabwe  2013  ...                        NaN                79.56\n",
              "9038  Zimbabwe  2014  ...                        NaN                81.05\n",
              "9039  Zimbabwe  2015  ...                        NaN                81.80\n",
              "\n",
              "[9040 rows x 9 columns]"
            ]
          },
          "metadata": {
            "tags": []
          },
          "execution_count": 41
        }
      ]
    },
    {
      "cell_type": "code",
      "metadata": {
        "colab": {
          "base_uri": "https://localhost:8080/",
          "height": 406
        },
        "id": "EhwDBHK-xHoC",
        "outputId": "b696dbad-8677-4adb-985a-a8508d530509"
      },
      "source": [
        "df = new_df4.fillna('')\r\n",
        "df\r\n",
        "\r\n",
        "df = df[df['year'] >= 2000]\r\n",
        "df\r\n",
        "\r\n",
        "df = df.drop(columns= 'type_of_energy')\r\n",
        "df"
      ],
      "execution_count": null,
      "outputs": [
        {
          "output_type": "execute_result",
          "data": {
            "text/html": [
              "<div>\n",
              "<style scoped>\n",
              "    .dataframe tbody tr th:only-of-type {\n",
              "        vertical-align: middle;\n",
              "    }\n",
              "\n",
              "    .dataframe tbody tr th {\n",
              "        vertical-align: top;\n",
              "    }\n",
              "\n",
              "    .dataframe thead th {\n",
              "        text-align: right;\n",
              "    }\n",
              "</style>\n",
              "<table border=\"1\" class=\"dataframe\">\n",
              "  <thead>\n",
              "    <tr style=\"text-align: right;\">\n",
              "      <th></th>\n",
              "      <th>country</th>\n",
              "      <th>year</th>\n",
              "      <th>percent_growth</th>\n",
              "      <th>$</th>\n",
              "      <th>invest_percent_of_gdp</th>\n",
              "      <th>energy_type</th>\n",
              "      <th>renewable_energy_capacity</th>\n",
              "      <th>consumption_of_total</th>\n",
              "    </tr>\n",
              "  </thead>\n",
              "  <tbody>\n",
              "    <tr>\n",
              "      <th>34</th>\n",
              "      <td>Africa</td>\n",
              "      <td>2000</td>\n",
              "      <td>7.33</td>\n",
              "      <td></td>\n",
              "      <td></td>\n",
              "      <td></td>\n",
              "      <td></td>\n",
              "      <td></td>\n",
              "    </tr>\n",
              "    <tr>\n",
              "      <th>35</th>\n",
              "      <td>Africa</td>\n",
              "      <td>2001</td>\n",
              "      <td>6.93</td>\n",
              "      <td></td>\n",
              "      <td></td>\n",
              "      <td></td>\n",
              "      <td></td>\n",
              "      <td></td>\n",
              "    </tr>\n",
              "    <tr>\n",
              "      <th>36</th>\n",
              "      <td>Africa</td>\n",
              "      <td>2002</td>\n",
              "      <td>4.46</td>\n",
              "      <td></td>\n",
              "      <td></td>\n",
              "      <td></td>\n",
              "      <td></td>\n",
              "      <td></td>\n",
              "    </tr>\n",
              "    <tr>\n",
              "      <th>37</th>\n",
              "      <td>Africa</td>\n",
              "      <td>2003</td>\n",
              "      <td>-2.76</td>\n",
              "      <td></td>\n",
              "      <td></td>\n",
              "      <td></td>\n",
              "      <td></td>\n",
              "      <td></td>\n",
              "    </tr>\n",
              "    <tr>\n",
              "      <th>38</th>\n",
              "      <td>Africa</td>\n",
              "      <td>2004</td>\n",
              "      <td>5.28</td>\n",
              "      <td></td>\n",
              "      <td></td>\n",
              "      <td></td>\n",
              "      <td></td>\n",
              "      <td></td>\n",
              "    </tr>\n",
              "    <tr>\n",
              "      <th>...</th>\n",
              "      <td>...</td>\n",
              "      <td>...</td>\n",
              "      <td>...</td>\n",
              "      <td>...</td>\n",
              "      <td>...</td>\n",
              "      <td>...</td>\n",
              "      <td>...</td>\n",
              "      <td>...</td>\n",
              "    </tr>\n",
              "    <tr>\n",
              "      <th>9035</th>\n",
              "      <td>Zimbabwe</td>\n",
              "      <td>2011</td>\n",
              "      <td></td>\n",
              "      <td></td>\n",
              "      <td></td>\n",
              "      <td></td>\n",
              "      <td></td>\n",
              "      <td>79.57</td>\n",
              "    </tr>\n",
              "    <tr>\n",
              "      <th>9036</th>\n",
              "      <td>Zimbabwe</td>\n",
              "      <td>2012</td>\n",
              "      <td></td>\n",
              "      <td></td>\n",
              "      <td></td>\n",
              "      <td></td>\n",
              "      <td></td>\n",
              "      <td>78.02</td>\n",
              "    </tr>\n",
              "    <tr>\n",
              "      <th>9037</th>\n",
              "      <td>Zimbabwe</td>\n",
              "      <td>2013</td>\n",
              "      <td></td>\n",
              "      <td></td>\n",
              "      <td></td>\n",
              "      <td></td>\n",
              "      <td></td>\n",
              "      <td>79.56</td>\n",
              "    </tr>\n",
              "    <tr>\n",
              "      <th>9038</th>\n",
              "      <td>Zimbabwe</td>\n",
              "      <td>2014</td>\n",
              "      <td></td>\n",
              "      <td></td>\n",
              "      <td></td>\n",
              "      <td></td>\n",
              "      <td></td>\n",
              "      <td>81.05</td>\n",
              "    </tr>\n",
              "    <tr>\n",
              "      <th>9039</th>\n",
              "      <td>Zimbabwe</td>\n",
              "      <td>2015</td>\n",
              "      <td></td>\n",
              "      <td></td>\n",
              "      <td></td>\n",
              "      <td></td>\n",
              "      <td></td>\n",
              "      <td>81.8</td>\n",
              "    </tr>\n",
              "  </tbody>\n",
              "</table>\n",
              "<p>5038 rows × 8 columns</p>\n",
              "</div>"
            ],
            "text/plain": [
              "       country  year  ... renewable_energy_capacity consumption_of_total\n",
              "34      Africa  2000  ...                                               \n",
              "35      Africa  2001  ...                                               \n",
              "36      Africa  2002  ...                                               \n",
              "37      Africa  2003  ...                                               \n",
              "38      Africa  2004  ...                                               \n",
              "...        ...   ...  ...                       ...                  ...\n",
              "9035  Zimbabwe  2011  ...                                          79.57\n",
              "9036  Zimbabwe  2012  ...                                          78.02\n",
              "9037  Zimbabwe  2013  ...                                          79.56\n",
              "9038  Zimbabwe  2014  ...                                          81.05\n",
              "9039  Zimbabwe  2015  ...                                           81.8\n",
              "\n",
              "[5038 rows x 8 columns]"
            ]
          },
          "metadata": {
            "tags": []
          },
          "execution_count": 42
        }
      ]
    },
    {
      "cell_type": "markdown",
      "metadata": {
        "id": "tWQkA8ytHbuU"
      },
      "source": [
        "#### **Energías renovables en Mexico**\r\n",
        "\r\n",
        "---\r\n",
        "\r\n"
      ]
    },
    {
      "cell_type": "markdown",
      "metadata": {
        "id": "FN6rTLttHbuU"
      },
      "source": [
        "##### Limpieza y restructuración de los datos\r\n",
        "En esta sección se limpiaran las dataframes, de manera que los podamos utilizar posteriormente. \r\n",
        "Ya que la limpieza fue muy parecida en este conjunto de datasets,se explicara el proceso realizado para el primero de los datasets y posteriormente se explicara solo pasos no contemplados en este dataset."
      ]
    },
    {
      "cell_type": "markdown",
      "metadata": {
        "id": "tCd2kaUtLfz-"
      },
      "source": [
        "###### Precios medios de energía por sector tarifario"
      ]
    },
    {
      "cell_type": "markdown",
      "metadata": {
        "id": "LnAifMW4Jo3O"
      },
      "source": [
        "Lo primero que realize fuee eliminar filas que no contienen informacion de relevancia para nosotros"
      ]
    },
    {
      "cell_type": "code",
      "metadata": {
        "id": "JDtHTSXNHbuU"
      },
      "source": [
        "precios_sector_mexico.drop([0,1,2,3,4], inplace = True)"
      ],
      "execution_count": null,
      "outputs": []
    },
    {
      "cell_type": "markdown",
      "metadata": {
        "id": "Qfz2xDFXJx8a"
      },
      "source": [
        "Ya que se eliminaron elementos, reseteamos el index\r\n"
      ]
    },
    {
      "cell_type": "code",
      "metadata": {
        "id": "LbGGdmkhKMJS"
      },
      "source": [
        "precios_sector_mexico.reset_index(drop=True, inplace=True)"
      ],
      "execution_count": null,
      "outputs": []
    },
    {
      "cell_type": "markdown",
      "metadata": {
        "id": "vHlg-L6NKSN0"
      },
      "source": [
        "Una vez reseteado el index, obtenemos la primer fila, ya que nos servira para asignarle nombre a las columnas de nuestro dataframe, despues se elimina el primer elemento que no nos sirve."
      ]
    },
    {
      "cell_type": "code",
      "metadata": {
        "id": "sbZCsrDPKgip"
      },
      "source": [
        "names_precios_sector_mexico = precios_sector_mexico.iloc[0]\r\n",
        "names_precios_sector_mexico = names_precios_sector_mexico[1:]"
      ],
      "execution_count": null,
      "outputs": []
    },
    {
      "cell_type": "markdown",
      "metadata": {
        "id": "SW4nzV_fKijL"
      },
      "source": [
        "Haremos algo parecido para la primer columna, que se usara para asignarle un index a nuestro dataframe."
      ]
    },
    {
      "cell_type": "code",
      "metadata": {
        "id": "MaOWUiGYKsDK"
      },
      "source": [
        "values_precios_sector_mexico = precios_sector_mexico.iloc[:, 0]\r\n",
        "values_precios_sector_mexico = values_precios_sector_mexico[2:]\r\n",
        "values_precios_sector_mexico = values_precios_sector_mexico.array"
      ],
      "execution_count": null,
      "outputs": []
    },
    {
      "cell_type": "markdown",
      "metadata": {
        "id": "6t-5g5kCKqJd"
      },
      "source": [
        "Nuevamente se eliminan algunas filas que ya no nos son utilies y reseteamos el index."
      ]
    },
    {
      "cell_type": "code",
      "metadata": {
        "id": "YZOAHWZeK34w"
      },
      "source": [
        "precios_sector_mexico.drop([0,1], inplace = True)\r\n",
        "precios_sector_mexico.reset_index(drop=True, inplace=True)"
      ],
      "execution_count": null,
      "outputs": []
    },
    {
      "cell_type": "markdown",
      "metadata": {
        "id": "LmtI5tBsK4YV"
      },
      "source": [
        "Eliminamos la columna de la que tomamos el index"
      ]
    },
    {
      "cell_type": "code",
      "metadata": {
        "id": "gJ7oDVWIK8MP"
      },
      "source": [
        "precios_sector_mexico.drop(['Sistema de Información Energética'], axis=1, inplace = True)"
      ],
      "execution_count": null,
      "outputs": []
    },
    {
      "cell_type": "markdown",
      "metadata": {
        "id": "jQAVMzAkK-hR"
      },
      "source": [
        "Y ahora si, asignamos los valores que hemos recuperado y lo asignamos a nuestras columnas y nuestro index."
      ]
    },
    {
      "cell_type": "code",
      "metadata": {
        "id": "tiJDKnOtLFQa"
      },
      "source": [
        "precios_sector_mexico.columns = names_precios_sector_mexico\r\n",
        "precios_sector_mexico.index = values_precios_sector_mexico"
      ],
      "execution_count": null,
      "outputs": []
    },
    {
      "cell_type": "markdown",
      "metadata": {
        "id": "4761NSvNLICC"
      },
      "source": [
        "Se hizo una exploracion de los datos y notamos que algunos años no cuentan con información, por lo que eliminaremos las columnas de dichos años."
      ]
    },
    {
      "cell_type": "code",
      "metadata": {
        "id": "6LBVv2QQLMG4"
      },
      "source": [
        "for i in ['2000', '2001', '2018', '2019', '2020']:\r\n",
        "    for j in names_precios_sector_mexico:\r\n",
        "        if i in j:\r\n",
        "            precios_sector_mexico.drop(columns=[j], inplace = True)"
      ],
      "execution_count": null,
      "outputs": []
    },
    {
      "cell_type": "markdown",
      "metadata": {
        "id": "MCMIyECwLOFd"
      },
      "source": [
        "Finalmente volvemos a eliminar filas irrelevantes para nuestro análisis."
      ]
    },
    {
      "cell_type": "code",
      "metadata": {
        "id": "bt8H4iwaKQ7I"
      },
      "source": [
        "precios_sector_mexico.drop(['Fuente: Sistema de Información Energética con información de CFE, incluye información de la extinta LyFC.'], axis = 0,inplace = True)\r\n",
        "precios_sector_mexico.dropna(inplace=True)"
      ],
      "execution_count": null,
      "outputs": []
    },
    {
      "cell_type": "markdown",
      "metadata": {
        "id": "B0iTvU_tKKfe"
      },
      "source": [
        "\r\n",
        "Y de esta manera ya obtuvimos un dataframe con el que podremos empezar a trabajar,"
      ]
    },
    {
      "cell_type": "markdown",
      "metadata": {
        "id": "aHzvSBcSLrPd"
      },
      "source": [
        "###### Capacidad Efectiva"
      ]
    },
    {
      "cell_type": "code",
      "metadata": {
        "id": "XwijhlH7Lu-W"
      },
      "source": [
        "capacidad_efectiva_mexico .drop([0,1,2,3,4,5], inplace = True)\r\n",
        "names_capacidad_efectiva_mexico  = capacidad_efectiva_mexico .iloc[0]\r\n",
        "names_capacidad_efectiva_mexico  = names_capacidad_efectiva_mexico [1:]\r\n",
        "capacidad_efectiva_mexico .reset_index(drop=True, inplace=True)\r\n",
        "values_capacidad_efectiva_mexico  = capacidad_efectiva_mexico .iloc[:, 0]\r\n",
        "values_capacidad_efectiva_mexico  = values_capacidad_efectiva_mexico [2:]\r\n",
        "values_capacidad_efectiva_mexico  = values_capacidad_efectiva_mexico .array\r\n",
        "capacidad_efectiva_mexico.drop([0,1], inplace = True)\r\n",
        "capacidad_efectiva_mexico.reset_index(drop=True, inplace=True)\r\n",
        "capacidad_efectiva_mexico.drop([7,8,9,10], inplace = True)\r\n",
        "values_capacidad_efectiva_mexico  = values_capacidad_efectiva_mexico [:len(capacidad_efectiva_mexico .index)]\r\n",
        "capacidad_efectiva_mexico.index = values_capacidad_efectiva_mexico \r\n",
        "capacidad_efectiva_mexico.drop(capacidad_efectiva_mexico .columns[[0]], axis = 1, inplace = True) \r\n",
        "capacidad_efectiva_mexico.columns = names_capacidad_efectiva_mexico \r\n",
        "for i in ['2018', '2019']:\r\n",
        "    for j in names_capacidad_efectiva_mexico :\r\n",
        "        if i in j:\r\n",
        "            capacidad_efectiva_mexico.drop(columns=[j], inplace = True)"
      ],
      "execution_count": null,
      "outputs": []
    },
    {
      "cell_type": "markdown",
      "metadata": {
        "id": "PWYjOrxVLvN4"
      },
      "source": [
        "###### Generación bruta"
      ]
    },
    {
      "cell_type": "code",
      "metadata": {
        "id": "uQoLLYGhLzJh"
      },
      "source": [
        "generacion_bruta_mexico.drop([0,1,2,3,4], inplace = True)\r\n",
        "generacion_bruta_mexico.reset_index(drop=True, inplace=True)\r\n",
        "names_generacion_bruta_mexico = generacion_bruta_mexico.iloc[0]\r\n",
        "names_generacion_bruta_mexico = names_generacion_bruta_mexico[1:]\r\n",
        "values_generacion_bruta_mexico = generacion_bruta_mexico.iloc[:, 0]\r\n",
        "values_generacion_bruta_mexico = values_generacion_bruta_mexico[2:]\r\n",
        "values_generacion_bruta_mexico = values_generacion_bruta_mexico.array\r\n",
        "generacion_bruta_mexico.drop([0,1], inplace = True)\r\n",
        "generacion_bruta_mexico.reset_index(drop=True, inplace=True)\r\n",
        "generacion_bruta_mexico.drop([7,8,9,10,11,12], inplace = True)\r\n",
        "values_generacion_bruta_mexico = values_generacion_bruta_mexico[:len(generacion_bruta_mexico.index)]\r\n",
        "generacion_bruta_mexico.index = values_generacion_bruta_mexico\r\n",
        "generacion_bruta_mexico.drop(generacion_bruta_mexico.columns[[0]], axis = 1, inplace = True) \r\n",
        "generacion_bruta_mexico.columns = names_generacion_bruta_mexico\r\n",
        "for i in ['2000', '2001', '2018', '2019', '2020']:\r\n",
        "    for j in names_generacion_bruta_mexico:\r\n",
        "        if i in j:\r\n",
        "            generacion_bruta_mexico.drop(columns=[j], inplace = True)"
      ],
      "execution_count": null,
      "outputs": []
    },
    {
      "cell_type": "markdown",
      "metadata": {
        "id": "3IqxiGCBLzXf"
      },
      "source": [
        "###### Energía eolica"
      ]
    },
    {
      "cell_type": "code",
      "metadata": {
        "id": "fRfmQwoRL4Zf"
      },
      "source": [
        "energia_eolica_mexico.drop([0,1,2,3,4,5], inplace = True)\r\n",
        "names_energia_eolica_mexico = energia_eolica_mexico.iloc[0]\r\n",
        "names_energia_eolica_mexico = names_energia_eolica_mexico[1:]\r\n",
        "energia_eolica_mexico.reset_index(drop=True, inplace=True)\r\n",
        "values_energia_eolica_mexico = energia_eolica_mexico.iloc[:, 0]\r\n",
        "values_energia_eolica_mexico = values_energia_eolica_mexico[2:]\r\n",
        "values_energia_eolica_mexico = values_energia_eolica_mexico.array\r\n",
        "energia_eolica_mexico.drop([0,1], inplace = True)\r\n",
        "energia_eolica_mexico.reset_index(drop=True, inplace=True)\r\n",
        "energia_eolica_mexico.drop([53, 54,55,56,57,58], inplace = True)\r\n",
        "values_energia_eolica_mexico = values_energia_eolica_mexico[:len(energia_eolica_mexico.index)]\r\n",
        "energia_eolica_mexico.index = values_energia_eolica_mexico\r\n",
        "energia_eolica_mexico.drop(energia_eolica_mexico.columns[[0]], axis = 1, inplace = True) \r\n",
        "names_energia_eolica_mexico = names_energia_eolica_mexico.astype(int)\r\n",
        "energia_eolica_mexico.columns = names_energia_eolica_mexico"
      ],
      "execution_count": null,
      "outputs": []
    },
    {
      "cell_type": "markdown",
      "metadata": {
        "id": "jSDWOyqKMRLD"
      },
      "source": [
        "En este dataset y en los dos siguientes notamos que habia muchas variables sin información util, es decir todo estaba en ceros, por que se opto por agregar una nueva columna en la que se sumaran todos los valores de dicha fila, para poder filtrar nuestro dataframe y quedarnos solo con las filas que contienen información util para el análisis."
      ]
    },
    {
      "cell_type": "code",
      "metadata": {
        "id": "vUbHx7-hMqoS"
      },
      "source": [
        "energia_eolica_mexico['total'] = energia_eolica_mexico.sum(axis=1)\r\n",
        "energia_eolica_mexico = energia_eolica_mexico.drop(energia_eolica_mexico[energia_eolica_mexico.total == 0].index)\r\n",
        "energia_eolica_mexico = energia_eolica_mexico.drop('total', 1)"
      ],
      "execution_count": null,
      "outputs": []
    },
    {
      "cell_type": "markdown",
      "metadata": {
        "id": "cI4CiPgcL4pf"
      },
      "source": [
        "###### Geoenergía"
      ]
    },
    {
      "cell_type": "code",
      "metadata": {
        "id": "FG0ms1QnL_l1"
      },
      "source": [
        "geoenergia_mexico.drop([0,1,2,3,4,5], inplace = True)\r\n",
        "names_geoenergia_mexico = geoenergia_mexico.iloc[0]\r\n",
        "names_geoenergia_mexico = names_geoenergia_mexico[1:]\r\n",
        "geoenergia_mexico.reset_index(drop=True, inplace=True)\r\n",
        "values_geoenergia_mexico = geoenergia_mexico.iloc[:, 0]\r\n",
        "values_geoenergia_mexico = values_geoenergia_mexico[2:]\r\n",
        "values_geoenergia_mexico = values_geoenergia_mexico.array\r\n",
        "geoenergia_mexico.drop([0,1], inplace = True)\r\n",
        "geoenergia_mexico.reset_index(drop=True, inplace=True)\r\n",
        "geoenergia_mexico.drop([53, 54,55,56,57,58], inplace = True)\r\n",
        "values_geoenergia_mexico = values_geoenergia_mexico[:len(geoenergia_mexico.index)]\r\n",
        "geoenergia_mexico.index = values_geoenergia_mexico\r\n",
        "geoenergia_mexico.drop(geoenergia_mexico.columns[[0]], axis = 1, inplace = True) \r\n",
        "names_geoenergia_mexico = names_geoenergia_mexico.astype(int)\r\n",
        "geoenergia_mexico.columns = names_geoenergia_mexico\r\n",
        "geoenergia_mexico['total'] = geoenergia_mexico.sum(axis=1)\r\n",
        "geoenergia_mexico = geoenergia_mexico.drop(geoenergia_mexico[geoenergia_mexico.total == 0].index)\r\n",
        "geoenergia_mexico = geoenergia_mexico.drop('total', 1)"
      ],
      "execution_count": null,
      "outputs": []
    },
    {
      "cell_type": "markdown",
      "metadata": {
        "id": "sp-mEfi0L_5O"
      },
      "source": [
        "###### Hidroenergía"
      ]
    },
    {
      "cell_type": "code",
      "metadata": {
        "id": "rSTx29gjMCfn"
      },
      "source": [
        "hidroenergia_mexico.drop([0,1,2,3,4,5], inplace = True)\r\n",
        "names_hidroenergia_mexico = hidroenergia_mexico.iloc[0]\r\n",
        "names_hidroenergia_mexico = names_hidroenergia_mexico[1:]\r\n",
        "hidroenergia_mexico.reset_index(drop=True, inplace=True)\r\n",
        "values_hidroenergia_mexico = hidroenergia_mexico.iloc[:, 0]\r\n",
        "values_hidroenergia_mexico = values_hidroenergia_mexico[2:]\r\n",
        "values_hidroenergia_mexico = values_hidroenergia_mexico.array\r\n",
        "hidroenergia_mexico.drop([0,1], inplace = True)\r\n",
        "hidroenergia_mexico.reset_index(drop=True, inplace=True)\r\n",
        "hidroenergia_mexico.drop([53, 54,55,56,57,58], inplace = True)\r\n",
        "values_hidroenergia_mexico = values_hidroenergia_mexico[:len(hidroenergia_mexico.index)]\r\n",
        "hidroenergia_mexico.index = values_hidroenergia_mexico\r\n",
        "hidroenergia_mexico.drop(hidroenergia_mexico.columns[[0]], axis = 1, inplace = True) \r\n",
        "names_hidroenergia_mexico = names_hidroenergia_mexico.astype(int)\r\n",
        "hidroenergia_mexico.columns = names_hidroenergia_mexico\r\n",
        "hidroenergia_mexico['total'] = hidroenergia_mexico.sum(axis=1)\r\n",
        "hidroenergia_mexico = hidroenergia_mexico.drop(hidroenergia_mexico[hidroenergia_mexico.total == 0].index)\r\n",
        "hidroenergia_mexico = hidroenergia_mexico.drop('total', 1)"
      ],
      "execution_count": null,
      "outputs": []
    },
    {
      "cell_type": "markdown",
      "metadata": {
        "id": "AnDJW4mdHbuU"
      },
      "source": [
        "##### Transformación de los datos\r\n",
        "Una vez que ya tenemos unas dataframes listos para trabajar, lo primero que haremos es corregir los nombres de nuestras columnas y nuestro index para que compla con la convención de python.\r\n",
        "\r\n",
        "Para esto se usara una función definida anteriormente."
      ]
    },
    {
      "cell_type": "code",
      "metadata": {
        "id": "tsWBccBZN5_n"
      },
      "source": [
        "precios_sector_mexico.columns = limpiar_variables(precios_sector_mexico.columns)\r\n",
        "precios_sector_mexico.index = limpiar_variables(precios_sector_mexico.index)\r\n",
        "capacidad_efectiva_mexico.columns = limpiar_variables(capacidad_efectiva_mexico.columns)\r\n",
        "capacidad_efectiva_mexico.index = limpiar_variables(capacidad_efectiva_mexico.index)\r\n",
        "generacion_bruta_mexico.columns = limpiar_variables(generacion_bruta_mexico.columns)\r\n",
        "generacion_bruta_mexico.index = limpiar_variables(generacion_bruta_mexico.index)\r\n",
        "energia_eolica_mexico.columns = limpiar_variables(energia_eolica_mexico.columns)\r\n",
        "energia_eolica_mexico.index = limpiar_variables(energia_eolica_mexico.index)\r\n",
        "hidroenergia_mexico.columns = limpiar_variables(hidroenergia_mexico.columns)\r\n",
        "hidroenergia_mexico.index = limpiar_variables(hidroenergia_mexico.index)\r\n",
        "geoenergia_mexico.columns = limpiar_variables(geoenergia_mexico.columns)\r\n",
        "geoenergia_mexico.index = limpiar_variables(geoenergia_mexico.index)"
      ],
      "execution_count": null,
      "outputs": []
    },
    {
      "cell_type": "markdown",
      "metadata": {
        "id": "BPBxiTXFNywT"
      },
      "source": [
        "Ahora renombraremos los index de nuestros dataframes para poder juntarlos en uno solo y poder identificar de que dataframe provienen dichos datos."
      ]
    },
    {
      "cell_type": "code",
      "metadata": {
        "id": "JI1yqjZbOG9s"
      },
      "source": [
        "rename_precios = []\r\n",
        "for i in precios_sector_mexico.index:\r\n",
        "    rename_precios.append(\"precios_sector_mexico_\" + i)\r\n",
        "precios_sector_mexico.index = rename_precios\r\n",
        "rename_generacion = []\r\n",
        "for i in generacion_bruta_mexico.index:\r\n",
        "    rename_generacion.append(\"generacion_bruta_mexico_\" + i)\r\n",
        "generacion_bruta_mexico.index = rename_generacion\r\n",
        "rename_eolica = []\r\n",
        "for i in energia_eolica_mexico.index:\r\n",
        "    rename_eolica.append(i + \"_energia_eolica\")\r\n",
        "energia_eolica_mexico .index = rename_eolica\r\n",
        "rename_capacidad = []\r\n",
        "for i in capacidad_efectiva_mexico.index:\r\n",
        "    rename_capacidad.append(\"capacidad_efectiva_mexico_\" + i)\r\n",
        "capacidad_efectiva_mexico.index = rename_capacidad\r\n",
        "rename_hidro = []\r\n",
        "for i in hidroenergia_mexico.index:\r\n",
        "    rename_hidro.append(i + \"_hidroenerigia\")\r\n",
        "hidroenergia_mexico.index = rename_hidro\r\n",
        "rename_geo = []\r\n",
        "for i in geoenergia_mexico.index:\r\n",
        "    rename_geo.append(i + \"_geoenerigia\")\r\n",
        "geoenergia_mexico.index = rename_geo"
      ],
      "execution_count": null,
      "outputs": []
    },
    {
      "cell_type": "markdown",
      "metadata": {
        "id": "zoUuMliMOJdX"
      },
      "source": [
        "Una vez hecho esto agruparemos nuestros dataframes en dos conjuntos, el primero para la información estadistica de los precios y capacidades, y el segundo para las energías renovables como tal.\r\n",
        "\r\n",
        "Se transpondran los datos para un mejor manejo de datos posteriormente."
      ]
    },
    {
      "cell_type": "code",
      "metadata": {
        "id": "dDK_h2BFOYn6"
      },
      "source": [
        "energias_renovables_estadisticas_mexico =pd.concat([precios_sector_mexico,capacidad_efectiva_mexico,generacion_bruta_mexico]).T\r\n",
        "energias_renovables_mexico = pd.concat([energia_eolica_mexico,hidroenergia_mexico,geoenergia_mexico]).T"
      ],
      "execution_count": null,
      "outputs": []
    },
    {
      "cell_type": "code",
      "metadata": {
        "id": "XJIxC4EVPTUN",
        "colab": {
          "base_uri": "https://localhost:8080/",
          "height": 217
        },
        "outputId": "524e5a4a-db0d-4a7a-dd15-7c472623f6d1"
      },
      "source": [
        "energias_renovables_estadisticas_mexico.head()"
      ],
      "execution_count": null,
      "outputs": [
        {
          "output_type": "execute_result",
          "data": {
            "text/html": [
              "<div>\n",
              "<style scoped>\n",
              "    .dataframe tbody tr th:only-of-type {\n",
              "        vertical-align: middle;\n",
              "    }\n",
              "\n",
              "    .dataframe tbody tr th {\n",
              "        vertical-align: top;\n",
              "    }\n",
              "\n",
              "    .dataframe thead th {\n",
              "        text-align: right;\n",
              "    }\n",
              "</style>\n",
              "<table border=\"1\" class=\"dataframe\">\n",
              "  <thead>\n",
              "    <tr style=\"text-align: right;\">\n",
              "      <th></th>\n",
              "      <th>precios_sector_mexico_total</th>\n",
              "      <th>precios_sector_mexico_residencial</th>\n",
              "      <th>precios_sector_mexico_servicios</th>\n",
              "      <th>precios_sector_mexico_comercial</th>\n",
              "      <th>precios_sector_mexico_agrícola</th>\n",
              "      <th>precios_sector_mexico_industrial</th>\n",
              "      <th>precios_sector_mexico_empresa_mediana</th>\n",
              "      <th>precios_sector_mexico_gran_industria</th>\n",
              "      <th>capacidad_efectiva_mexico_total</th>\n",
              "      <th>capacidad_efectiva_mexico_geotérmica</th>\n",
              "      <th>capacidad_efectiva_mexico_eólica</th>\n",
              "      <th>capacidad_efectiva_mexico_cfe</th>\n",
              "      <th>capacidad_efectiva_mexico_pie</th>\n",
              "      <th>capacidad_efectiva_mexico_hidroeléctrica</th>\n",
              "      <th>capacidad_efectiva_mexico_fotovoltaica</th>\n",
              "      <th>generacion_bruta_mexico_total</th>\n",
              "      <th>generacion_bruta_mexico_geotermoléctrica</th>\n",
              "      <th>generacion_bruta_mexico_eólica</th>\n",
              "      <th>generacion_bruta_mexico_cfe</th>\n",
              "      <th>generacion_bruta_mexico_pie_(1)</th>\n",
              "      <th>generacion_bruta_mexico_hidroeléctrica</th>\n",
              "      <th>generacion_bruta_mexico_fotovoltaica</th>\n",
              "    </tr>\n",
              "  </thead>\n",
              "  <tbody>\n",
              "    <tr>\n",
              "      <th>ene_2002</th>\n",
              "      <td>66.51</td>\n",
              "      <td>72.16</td>\n",
              "      <td>114.06</td>\n",
              "      <td>130.52</td>\n",
              "      <td>32.81</td>\n",
              "      <td>54.73</td>\n",
              "      <td>62.53</td>\n",
              "      <td>44.05</td>\n",
              "      <td>10448.2</td>\n",
              "      <td>837.9</td>\n",
              "      <td>2.175</td>\n",
              "      <td>2.175</td>\n",
              "      <td>0</td>\n",
              "      <td>9608.16</td>\n",
              "      <td>0</td>\n",
              "      <td>2.61059e+06</td>\n",
              "      <td>469343</td>\n",
              "      <td>582.635</td>\n",
              "      <td>582.635</td>\n",
              "      <td>0</td>\n",
              "      <td>2.14067e+06</td>\n",
              "      <td>0</td>\n",
              "    </tr>\n",
              "    <tr>\n",
              "      <th>feb_2002</th>\n",
              "      <td>67.05</td>\n",
              "      <td>70.49</td>\n",
              "      <td>127.18</td>\n",
              "      <td>127.83</td>\n",
              "      <td>32.42</td>\n",
              "      <td>55.64</td>\n",
              "      <td>65.73</td>\n",
              "      <td>42.48</td>\n",
              "      <td>10448.2</td>\n",
              "      <td>837.9</td>\n",
              "      <td>2.175</td>\n",
              "      <td>2.175</td>\n",
              "      <td>0</td>\n",
              "      <td>9608.16</td>\n",
              "      <td>0</td>\n",
              "      <td>2.26829e+06</td>\n",
              "      <td>395703</td>\n",
              "      <td>601.496</td>\n",
              "      <td>601.496</td>\n",
              "      <td>0</td>\n",
              "      <td>1.87198e+06</td>\n",
              "      <td>0</td>\n",
              "    </tr>\n",
              "    <tr>\n",
              "      <th>mar_2002</th>\n",
              "      <td>65.79</td>\n",
              "      <td>74.62</td>\n",
              "      <td>120.03</td>\n",
              "      <td>129.05</td>\n",
              "      <td>33.06</td>\n",
              "      <td>53.64</td>\n",
              "      <td>63.72</td>\n",
              "      <td>40.52</td>\n",
              "      <td>10448.2</td>\n",
              "      <td>837.9</td>\n",
              "      <td>2.175</td>\n",
              "      <td>2.175</td>\n",
              "      <td>0</td>\n",
              "      <td>9608.16</td>\n",
              "      <td>0</td>\n",
              "      <td>2.30769e+06</td>\n",
              "      <td>442149</td>\n",
              "      <td>448.123</td>\n",
              "      <td>448.123</td>\n",
              "      <td>0</td>\n",
              "      <td>1.86509e+06</td>\n",
              "      <td>0</td>\n",
              "    </tr>\n",
              "    <tr>\n",
              "      <th>abr_2002</th>\n",
              "      <td>66.29</td>\n",
              "      <td>81.58</td>\n",
              "      <td>119.37</td>\n",
              "      <td>128.92</td>\n",
              "      <td>33.73</td>\n",
              "      <td>53.1</td>\n",
              "      <td>61.78</td>\n",
              "      <td>40.95</td>\n",
              "      <td>10448.2</td>\n",
              "      <td>837.9</td>\n",
              "      <td>2.175</td>\n",
              "      <td>2.175</td>\n",
              "      <td>0</td>\n",
              "      <td>9608.16</td>\n",
              "      <td>0</td>\n",
              "      <td>2.57391e+06</td>\n",
              "      <td>462047</td>\n",
              "      <td>587.957</td>\n",
              "      <td>587.957</td>\n",
              "      <td>0</td>\n",
              "      <td>2.11128e+06</td>\n",
              "      <td>0</td>\n",
              "    </tr>\n",
              "    <tr>\n",
              "      <th>may_2002</th>\n",
              "      <td>68.26</td>\n",
              "      <td>79.66</td>\n",
              "      <td>124.18</td>\n",
              "      <td>130.34</td>\n",
              "      <td>35.98</td>\n",
              "      <td>56.5</td>\n",
              "      <td>65.29</td>\n",
              "      <td>43.98</td>\n",
              "      <td>10448.2</td>\n",
              "      <td>837.9</td>\n",
              "      <td>2.175</td>\n",
              "      <td>2.175</td>\n",
              "      <td>0</td>\n",
              "      <td>9608.16</td>\n",
              "      <td>0</td>\n",
              "      <td>2.54375e+06</td>\n",
              "      <td>485793</td>\n",
              "      <td>606.737</td>\n",
              "      <td>606.737</td>\n",
              "      <td>0</td>\n",
              "      <td>2.05735e+06</td>\n",
              "      <td>0</td>\n",
              "    </tr>\n",
              "  </tbody>\n",
              "</table>\n",
              "</div>"
            ],
            "text/plain": [
              "         precios_sector_mexico_total  ... generacion_bruta_mexico_fotovoltaica\n",
              "ene_2002                       66.51  ...                                    0\n",
              "feb_2002                       67.05  ...                                    0\n",
              "mar_2002                       65.79  ...                                    0\n",
              "abr_2002                       66.29  ...                                    0\n",
              "may_2002                       68.26  ...                                    0\n",
              "\n",
              "[5 rows x 22 columns]"
            ]
          },
          "metadata": {
            "tags": []
          },
          "execution_count": 61
        }
      ]
    },
    {
      "cell_type": "code",
      "metadata": {
        "id": "7-AEVPHKPWs1",
        "colab": {
          "base_uri": "https://localhost:8080/",
          "height": 667
        },
        "outputId": "98c03700-4ecd-42ec-b975-ebe59e0caad1"
      },
      "source": [
        "energias_renovables_mexico"
      ],
      "execution_count": null,
      "outputs": [
        {
          "output_type": "execute_result",
          "data": {
            "text/html": [
              "<div>\n",
              "<style scoped>\n",
              "    .dataframe tbody tr th:only-of-type {\n",
              "        vertical-align: middle;\n",
              "    }\n",
              "\n",
              "    .dataframe tbody tr th {\n",
              "        vertical-align: top;\n",
              "    }\n",
              "\n",
              "    .dataframe thead th {\n",
              "        text-align: right;\n",
              "    }\n",
              "</style>\n",
              "<table border=\"1\" class=\"dataframe\">\n",
              "  <thead>\n",
              "    <tr style=\"text-align: right;\">\n",
              "      <th></th>\n",
              "      <th>producción_energia_eolica</th>\n",
              "      <th>oferta_total_energia_eolica</th>\n",
              "      <th>oferta_interna_bruta_energia_eolica</th>\n",
              "      <th>total_transformación_energia_eolica</th>\n",
              "      <th>centrales_eléctricas_públicas_energia_eolica</th>\n",
              "      <th>diferencia_estadística_energia_eolica</th>\n",
              "      <th>producción_hidroenerigia</th>\n",
              "      <th>oferta_total_hidroenerigia</th>\n",
              "      <th>oferta_interna_bruta_hidroenerigia</th>\n",
              "      <th>total_transformación_hidroenerigia</th>\n",
              "      <th>centrales_eléctricas_públicas_hidroenerigia</th>\n",
              "      <th>diferencia_estadística_hidroenerigia</th>\n",
              "      <th>producción_geoenerigia</th>\n",
              "      <th>oferta_total_geoenerigia</th>\n",
              "      <th>oferta_interna_bruta_geoenerigia</th>\n",
              "      <th>total_transformación_geoenerigia</th>\n",
              "      <th>centrales_eléctricas_públicas_geoenerigia</th>\n",
              "      <th>diferencia_estadística_geoenerigia</th>\n",
              "    </tr>\n",
              "  </thead>\n",
              "  <tbody>\n",
              "    <tr>\n",
              "      <th>2000</th>\n",
              "      <td>0.001705</td>\n",
              "      <td>0.001705</td>\n",
              "      <td>0.001705</td>\n",
              "      <td>N/D</td>\n",
              "      <td>N/D</td>\n",
              "      <td>-0.001705</td>\n",
              "      <td>119.07</td>\n",
              "      <td>119.07</td>\n",
              "      <td>119.07</td>\n",
              "      <td>-119.07</td>\n",
              "      <td>-119.07</td>\n",
              "      <td>0</td>\n",
              "      <td>112.448</td>\n",
              "      <td>112.448</td>\n",
              "      <td>112.448</td>\n",
              "      <td>-133.692</td>\n",
              "      <td>-133.692</td>\n",
              "      <td>21.2436</td>\n",
              "    </tr>\n",
              "    <tr>\n",
              "      <th>2001</th>\n",
              "      <td>0.001705</td>\n",
              "      <td>0.001705</td>\n",
              "      <td>0.001705</td>\n",
              "      <td>N/D</td>\n",
              "      <td>N/D</td>\n",
              "      <td>-0.001705</td>\n",
              "      <td>102.367</td>\n",
              "      <td>102.367</td>\n",
              "      <td>102.367</td>\n",
              "      <td>-102.367</td>\n",
              "      <td>-102.367</td>\n",
              "      <td>0</td>\n",
              "      <td>106.083</td>\n",
              "      <td>106.083</td>\n",
              "      <td>106.083</td>\n",
              "      <td>-126.125</td>\n",
              "      <td>-126.125</td>\n",
              "      <td>20.0412</td>\n",
              "    </tr>\n",
              "    <tr>\n",
              "      <th>2002</th>\n",
              "      <td>0.000464</td>\n",
              "      <td>0.000464</td>\n",
              "      <td>0.000464</td>\n",
              "      <td>0</td>\n",
              "      <td>0</td>\n",
              "      <td>-0.000464</td>\n",
              "      <td>89.5017</td>\n",
              "      <td>89.5017</td>\n",
              "      <td>89.5017</td>\n",
              "      <td>-89.5017</td>\n",
              "      <td>-89.5017</td>\n",
              "      <td>0</td>\n",
              "      <td>102.863</td>\n",
              "      <td>102.863</td>\n",
              "      <td>102.863</td>\n",
              "      <td>-122.296</td>\n",
              "      <td>-122.296</td>\n",
              "      <td>19.4328</td>\n",
              "    </tr>\n",
              "    <tr>\n",
              "      <th>2003</th>\n",
              "      <td>0.018</td>\n",
              "      <td>0.018</td>\n",
              "      <td>0.018</td>\n",
              "      <td>-0.018</td>\n",
              "      <td>-0.018</td>\n",
              "      <td>0</td>\n",
              "      <td>71.4679</td>\n",
              "      <td>71.4679</td>\n",
              "      <td>71.4679</td>\n",
              "      <td>-71.1108</td>\n",
              "      <td>-71.1108</td>\n",
              "      <td>-0.357138</td>\n",
              "      <td>142.323</td>\n",
              "      <td>142.323</td>\n",
              "      <td>142.323</td>\n",
              "      <td>-142.323</td>\n",
              "      <td>-142.323</td>\n",
              "      <td>0</td>\n",
              "    </tr>\n",
              "    <tr>\n",
              "      <th>2004</th>\n",
              "      <td>0.0216</td>\n",
              "      <td>0.0216</td>\n",
              "      <td>0.0216</td>\n",
              "      <td>-0.0216</td>\n",
              "      <td>-0.0216</td>\n",
              "      <td>0</td>\n",
              "      <td>90.635</td>\n",
              "      <td>90.635</td>\n",
              "      <td>90.635</td>\n",
              "      <td>-90.2736</td>\n",
              "      <td>-90.2736</td>\n",
              "      <td>-0.361417</td>\n",
              "      <td>149.007</td>\n",
              "      <td>149.007</td>\n",
              "      <td>149.007</td>\n",
              "      <td>-149.007</td>\n",
              "      <td>-149.007</td>\n",
              "      <td>0</td>\n",
              "    </tr>\n",
              "    <tr>\n",
              "      <th>2005</th>\n",
              "      <td>0.018</td>\n",
              "      <td>0.018</td>\n",
              "      <td>0.018</td>\n",
              "      <td>-0.018</td>\n",
              "      <td>-0.018</td>\n",
              "      <td>0</td>\n",
              "      <td>99.754</td>\n",
              "      <td>99.754</td>\n",
              "      <td>99.754</td>\n",
              "      <td>-99.3996</td>\n",
              "      <td>-99.3996</td>\n",
              "      <td>-0.354404</td>\n",
              "      <td>165.364</td>\n",
              "      <td>165.364</td>\n",
              "      <td>165.364</td>\n",
              "      <td>-165.364</td>\n",
              "      <td>-165.364</td>\n",
              "      <td>0</td>\n",
              "    </tr>\n",
              "    <tr>\n",
              "      <th>2006</th>\n",
              "      <td>0.162</td>\n",
              "      <td>0.162</td>\n",
              "      <td>0.162</td>\n",
              "      <td>-0.162</td>\n",
              "      <td>-0.162</td>\n",
              "      <td>0</td>\n",
              "      <td>109.607</td>\n",
              "      <td>109.607</td>\n",
              "      <td>109.607</td>\n",
              "      <td>-109.098</td>\n",
              "      <td>-109.098</td>\n",
              "      <td>-0.509309</td>\n",
              "      <td>151.454</td>\n",
              "      <td>151.454</td>\n",
              "      <td>151.454</td>\n",
              "      <td>-151.454</td>\n",
              "      <td>-151.454</td>\n",
              "      <td>0</td>\n",
              "    </tr>\n",
              "    <tr>\n",
              "      <th>2007</th>\n",
              "      <td>0.8928</td>\n",
              "      <td>0.8928</td>\n",
              "      <td>0.8928</td>\n",
              "      <td>-0.8928</td>\n",
              "      <td>-0.8928</td>\n",
              "      <td>0</td>\n",
              "      <td>98.4228</td>\n",
              "      <td>98.4228</td>\n",
              "      <td>98.4228</td>\n",
              "      <td>-97.3512</td>\n",
              "      <td>-97.3512</td>\n",
              "      <td>-1.07163</td>\n",
              "      <td>167.743</td>\n",
              "      <td>167.743</td>\n",
              "      <td>167.743</td>\n",
              "      <td>-167.743</td>\n",
              "      <td>-167.743</td>\n",
              "      <td>0</td>\n",
              "    </tr>\n",
              "    <tr>\n",
              "      <th>2008</th>\n",
              "      <td>0.918</td>\n",
              "      <td>0.918</td>\n",
              "      <td>0.918</td>\n",
              "      <td>-0.918</td>\n",
              "      <td>-0.918</td>\n",
              "      <td>0</td>\n",
              "      <td>141.206</td>\n",
              "      <td>141.206</td>\n",
              "      <td>141.206</td>\n",
              "      <td>-140.011</td>\n",
              "      <td>-140.011</td>\n",
              "      <td>-1.19487</td>\n",
              "      <td>159.859</td>\n",
              "      <td>159.859</td>\n",
              "      <td>159.859</td>\n",
              "      <td>-159.859</td>\n",
              "      <td>-159.859</td>\n",
              "      <td>0</td>\n",
              "    </tr>\n",
              "    <tr>\n",
              "      <th>2009</th>\n",
              "      <td>2.14687</td>\n",
              "      <td>2.14687</td>\n",
              "      <td>2.14687</td>\n",
              "      <td>-0.897288</td>\n",
              "      <td>-0.897288</td>\n",
              "      <td>-1.24958</td>\n",
              "      <td>96.1992</td>\n",
              "      <td>96.1992</td>\n",
              "      <td>96.1992</td>\n",
              "      <td>-95.2019</td>\n",
              "      <td>-95.2019</td>\n",
              "      <td>-0.997352</td>\n",
              "      <td>152.692</td>\n",
              "      <td>152.692</td>\n",
              "      <td>152.692</td>\n",
              "      <td>-152.692</td>\n",
              "      <td>-152.692</td>\n",
              "      <td>0</td>\n",
              "    </tr>\n",
              "    <tr>\n",
              "      <th>2010</th>\n",
              "      <td>4.4608</td>\n",
              "      <td>4.4608</td>\n",
              "      <td>4.4608</td>\n",
              "      <td>-0.599011</td>\n",
              "      <td>-0.599011</td>\n",
              "      <td>-3.86179</td>\n",
              "      <td>133.769</td>\n",
              "      <td>133.769</td>\n",
              "      <td>133.769</td>\n",
              "      <td>-132.257</td>\n",
              "      <td>-132.257</td>\n",
              "      <td>-1.51197</td>\n",
              "      <td>149.936</td>\n",
              "      <td>149.936</td>\n",
              "      <td>149.936</td>\n",
              "      <td>-149.936</td>\n",
              "      <td>-149.936</td>\n",
              "      <td>0</td>\n",
              "    </tr>\n",
              "    <tr>\n",
              "      <th>2011</th>\n",
              "      <td>5.93396</td>\n",
              "      <td>5.93396</td>\n",
              "      <td>5.93396</td>\n",
              "      <td>-0.380451</td>\n",
              "      <td>-0.380451</td>\n",
              "      <td>-5.55351</td>\n",
              "      <td>130.574</td>\n",
              "      <td>130.574</td>\n",
              "      <td>130.574</td>\n",
              "      <td>-128.866</td>\n",
              "      <td>-128.866</td>\n",
              "      <td>-1.70791</td>\n",
              "      <td>149.3</td>\n",
              "      <td>149.3</td>\n",
              "      <td>149.3</td>\n",
              "      <td>-149.3</td>\n",
              "      <td>-149.3</td>\n",
              "      <td>0</td>\n",
              "    </tr>\n",
              "    <tr>\n",
              "      <th>2012</th>\n",
              "      <td>13.2779</td>\n",
              "      <td>13.2779</td>\n",
              "      <td>13.2779</td>\n",
              "      <td>-0.676642</td>\n",
              "      <td>-0.676642</td>\n",
              "      <td>-12.6013</td>\n",
              "      <td>114.878</td>\n",
              "      <td>114.878</td>\n",
              "      <td>114.878</td>\n",
              "      <td>-112.741</td>\n",
              "      <td>-112.741</td>\n",
              "      <td>-2.13728</td>\n",
              "      <td>133.129</td>\n",
              "      <td>133.129</td>\n",
              "      <td>133.129</td>\n",
              "      <td>-133.129</td>\n",
              "      <td>-133.129</td>\n",
              "      <td>0</td>\n",
              "    </tr>\n",
              "    <tr>\n",
              "      <th>2013</th>\n",
              "      <td>15.0644</td>\n",
              "      <td>15.0644</td>\n",
              "      <td>15.0644</td>\n",
              "      <td>-0.6826</td>\n",
              "      <td>-0.6826</td>\n",
              "      <td>-14.3818</td>\n",
              "      <td>100.877</td>\n",
              "      <td>100.877</td>\n",
              "      <td>100.877</td>\n",
              "      <td>-98.7989</td>\n",
              "      <td>-98.7989</td>\n",
              "      <td>-2.07788</td>\n",
              "      <td>131.316</td>\n",
              "      <td>131.316</td>\n",
              "      <td>131.316</td>\n",
              "      <td>-131.316</td>\n",
              "      <td>-131.316</td>\n",
              "      <td>0</td>\n",
              "    </tr>\n",
              "    <tr>\n",
              "      <th>2014</th>\n",
              "      <td>23.1343</td>\n",
              "      <td>23.1343</td>\n",
              "      <td>23.1343</td>\n",
              "      <td>-0.765537</td>\n",
              "      <td>-0.765537</td>\n",
              "      <td>-22.3688</td>\n",
              "      <td>140.014</td>\n",
              "      <td>140.014</td>\n",
              "      <td>140.014</td>\n",
              "      <td>-137.321</td>\n",
              "      <td>-137.321</td>\n",
              "      <td>-2.69278</td>\n",
              "      <td>129.878</td>\n",
              "      <td>129.878</td>\n",
              "      <td>129.878</td>\n",
              "      <td>-129.878</td>\n",
              "      <td>-129.878</td>\n",
              "      <td>0</td>\n",
              "    </tr>\n",
              "    <tr>\n",
              "      <th>2015</th>\n",
              "      <td>31.4823</td>\n",
              "      <td>31.4823</td>\n",
              "      <td>31.4823</td>\n",
              "      <td>-0.73053</td>\n",
              "      <td>-0.73053</td>\n",
              "      <td>-30.7518</td>\n",
              "      <td>111.21</td>\n",
              "      <td>111.21</td>\n",
              "      <td>111.21</td>\n",
              "      <td>-108.459</td>\n",
              "      <td>-108.459</td>\n",
              "      <td>-2.75065</td>\n",
              "      <td>134.53</td>\n",
              "      <td>134.53</td>\n",
              "      <td>134.53</td>\n",
              "      <td>-133.684</td>\n",
              "      <td>-133.684</td>\n",
              "      <td>-0.846218</td>\n",
              "    </tr>\n",
              "    <tr>\n",
              "      <th>2016</th>\n",
              "      <td>37.3611</td>\n",
              "      <td>37.3611</td>\n",
              "      <td>37.3611</td>\n",
              "      <td>-0.673348</td>\n",
              "      <td>-0.673348</td>\n",
              "      <td>-36.6878</td>\n",
              "      <td>110.51</td>\n",
              "      <td>110.51</td>\n",
              "      <td>110.51</td>\n",
              "      <td>-104.898</td>\n",
              "      <td>-104.898</td>\n",
              "      <td>-5.61232</td>\n",
              "      <td>132.595</td>\n",
              "      <td>132.595</td>\n",
              "      <td>132.595</td>\n",
              "      <td>-130.104</td>\n",
              "      <td>-130.104</td>\n",
              "      <td>-2.49063</td>\n",
              "    </tr>\n",
              "    <tr>\n",
              "      <th>2017</th>\n",
              "      <td>38.2312</td>\n",
              "      <td>38.2312</td>\n",
              "      <td>38.2312</td>\n",
              "      <td>-0.377222</td>\n",
              "      <td>-0.377222</td>\n",
              "      <td>-37.854</td>\n",
              "      <td>114.652</td>\n",
              "      <td>114.652</td>\n",
              "      <td>114.652</td>\n",
              "      <td>-108.251</td>\n",
              "      <td>-108.251</td>\n",
              "      <td>-6.40084</td>\n",
              "      <td>127.426</td>\n",
              "      <td>127.426</td>\n",
              "      <td>127.426</td>\n",
              "      <td>-124.193</td>\n",
              "      <td>-124.193</td>\n",
              "      <td>-3.23312</td>\n",
              "    </tr>\n",
              "    <tr>\n",
              "      <th>2018</th>\n",
              "      <td>47.119</td>\n",
              "      <td>47.119</td>\n",
              "      <td>47.119</td>\n",
              "      <td>-0.438</td>\n",
              "      <td>-0.438</td>\n",
              "      <td>-46.681</td>\n",
              "      <td>116.948</td>\n",
              "      <td>116.948</td>\n",
              "      <td>116.948</td>\n",
              "      <td>-109.9</td>\n",
              "      <td>-109.9</td>\n",
              "      <td>-7.048</td>\n",
              "      <td>113.184</td>\n",
              "      <td>113.184</td>\n",
              "      <td>113.184</td>\n",
              "      <td>-110.514</td>\n",
              "      <td>-110.514</td>\n",
              "      <td>-2.67</td>\n",
              "    </tr>\n",
              "    <tr>\n",
              "      <th>2019</th>\n",
              "      <td>60.216</td>\n",
              "      <td>60.216</td>\n",
              "      <td>60.216</td>\n",
              "      <td>-0.264</td>\n",
              "      <td>-0.264</td>\n",
              "      <td>-59.952</td>\n",
              "      <td>84.989</td>\n",
              "      <td>84.989</td>\n",
              "      <td>84.989</td>\n",
              "      <td>-79.45</td>\n",
              "      <td>-79.45</td>\n",
              "      <td>-5.539</td>\n",
              "      <td>112.883</td>\n",
              "      <td>112.883</td>\n",
              "      <td>112.883</td>\n",
              "      <td>-110.704</td>\n",
              "      <td>-110.704</td>\n",
              "      <td>-2.179</td>\n",
              "    </tr>\n",
              "  </tbody>\n",
              "</table>\n",
              "</div>"
            ],
            "text/plain": [
              "     producción_energia_eolica  ... diferencia_estadística_geoenerigia\n",
              "2000                  0.001705  ...                            21.2436\n",
              "2001                  0.001705  ...                            20.0412\n",
              "2002                  0.000464  ...                            19.4328\n",
              "2003                     0.018  ...                                  0\n",
              "2004                    0.0216  ...                                  0\n",
              "2005                     0.018  ...                                  0\n",
              "2006                     0.162  ...                                  0\n",
              "2007                    0.8928  ...                                  0\n",
              "2008                     0.918  ...                                  0\n",
              "2009                   2.14687  ...                                  0\n",
              "2010                    4.4608  ...                                  0\n",
              "2011                   5.93396  ...                                  0\n",
              "2012                   13.2779  ...                                  0\n",
              "2013                   15.0644  ...                                  0\n",
              "2014                   23.1343  ...                                  0\n",
              "2015                   31.4823  ...                          -0.846218\n",
              "2016                   37.3611  ...                           -2.49063\n",
              "2017                   38.2312  ...                           -3.23312\n",
              "2018                    47.119  ...                              -2.67\n",
              "2019                    60.216  ...                             -2.179\n",
              "\n",
              "[20 rows x 18 columns]"
            ]
          },
          "metadata": {
            "tags": []
          },
          "execution_count": 62
        }
      ]
    },
    {
      "cell_type": "markdown",
      "metadata": {
        "id": "taoupmxU-50s"
      },
      "source": [
        "##### Tipo de datos\r\n",
        "Ahora veremos que tipos de datos contienen nuestros dataframes. Y transformaremos los necesarios.\r\n",
        "\r\n",
        "**Dataframe con estadísticas**"
      ]
    },
    {
      "cell_type": "code",
      "metadata": {
        "colab": {
          "base_uri": "https://localhost:8080/"
        },
        "id": "0AU-zlgrBkiC",
        "outputId": "71dee818-f579-4175-d533-d6fa4c14cb23"
      },
      "source": [
        "energias_renovables_estadisticas_mexico.dtypes"
      ],
      "execution_count": null,
      "outputs": [
        {
          "output_type": "execute_result",
          "data": {
            "text/plain": [
              "precios_sector_mexico_total                 object\n",
              "precios_sector_mexico_residencial           object\n",
              "precios_sector_mexico_servicios             object\n",
              "precios_sector_mexico_comercial             object\n",
              "precios_sector_mexico_agrícola              object\n",
              "precios_sector_mexico_industrial            object\n",
              "precios_sector_mexico_empresa_mediana       object\n",
              "precios_sector_mexico_gran_industria        object\n",
              "capacidad_efectiva_mexico_total             object\n",
              "capacidad_efectiva_mexico_geotérmica        object\n",
              "capacidad_efectiva_mexico_eólica            object\n",
              "capacidad_efectiva_mexico_cfe               object\n",
              "capacidad_efectiva_mexico_pie               object\n",
              "capacidad_efectiva_mexico_hidroeléctrica    object\n",
              "capacidad_efectiva_mexico_fotovoltaica      object\n",
              "generacion_bruta_mexico_total               object\n",
              "generacion_bruta_mexico_geotermoléctrica    object\n",
              "generacion_bruta_mexico_eólica              object\n",
              "generacion_bruta_mexico_cfe                 object\n",
              "generacion_bruta_mexico_pie_(1)             object\n",
              "generacion_bruta_mexico_hidroeléctrica      object\n",
              "generacion_bruta_mexico_fotovoltaica        object\n",
              "dtype: object"
            ]
          },
          "metadata": {
            "tags": []
          },
          "execution_count": 63
        }
      ]
    },
    {
      "cell_type": "code",
      "metadata": {
        "colab": {
          "base_uri": "https://localhost:8080/"
        },
        "id": "Iv2rIzzl_EUA",
        "outputId": "898f8d4d-fb31-409f-8b17-0bda52cc29fe"
      },
      "source": [
        "tipos_datos(energias_renovables_estadisticas_mexico)"
      ],
      "execution_count": null,
      "outputs": [
        {
          "output_type": "stream",
          "text": [
            "Columna                                            | Tipos de datos\n",
            "------------------------------------------------------------------------------------------\n",
            "precios_sector_mexico_total                        | [<class 'float'>, <class 'int'>]\n",
            "precios_sector_mexico_residencial                  | [<class 'float'>, <class 'int'>]\n",
            "precios_sector_mexico_servicios                    | [<class 'float'>, <class 'int'>]\n",
            "precios_sector_mexico_comercial                    | [<class 'float'>, <class 'int'>]\n",
            "precios_sector_mexico_agrícola                     | [<class 'float'>, <class 'int'>]\n",
            "precios_sector_mexico_industrial                   | [<class 'float'>, <class 'int'>]\n",
            "precios_sector_mexico_empresa_mediana              | [<class 'float'>, <class 'int'>]\n",
            "precios_sector_mexico_gran_industria               | [<class 'float'>, <class 'int'>]\n",
            "capacidad_efectiva_mexico_total                    | [<class 'float'>, <class 'int'>]\n",
            "capacidad_efectiva_mexico_geotérmica               | [<class 'float'>]\n",
            "capacidad_efectiva_mexico_eólica                   | [<class 'float'>, <class 'int'>]\n",
            "capacidad_efectiva_mexico_cfe                      | [<class 'float'>]\n",
            "capacidad_efectiva_mexico_pie                      | [<class 'int'>, <class 'float'>]\n",
            "capacidad_efectiva_mexico_hidroeléctrica           | [<class 'float'>]\n",
            "capacidad_efectiva_mexico_fotovoltaica             | [<class 'int'>, <class 'str'>]\n",
            "generacion_bruta_mexico_total                      | [<class 'float'>, <class 'int'>]\n",
            "generacion_bruta_mexico_geotermoléctrica           | [<class 'float'>]\n",
            "generacion_bruta_mexico_eólica                     | [<class 'float'>, <class 'int'>]\n",
            "generacion_bruta_mexico_cfe                        | [<class 'float'>, <class 'int'>]\n",
            "generacion_bruta_mexico_pie_(1)                    | [<class 'int'>, <class 'float'>]\n",
            "generacion_bruta_mexico_hidroeléctrica             | [<class 'float'>, <class 'int'>]\n",
            "generacion_bruta_mexico_fotovoltaica               | [<class 'int'>, <class 'float'>]\n"
          ],
          "name": "stdout"
        }
      ]
    },
    {
      "cell_type": "markdown",
      "metadata": {
        "id": "A2LUL1iT_L7J"
      },
      "source": [
        "Notamos que no tenemos estandarizados los tipos de datos entonces por los tipos de datos pasaremos todo al tipo de datos float."
      ]
    },
    {
      "cell_type": "code",
      "metadata": {
        "colab": {
          "base_uri": "https://localhost:8080/"
        },
        "id": "M28yBKxd_XHa",
        "outputId": "0ada1840-1355-4b1e-f07f-46029d2d37eb"
      },
      "source": [
        "energias_renovables_estadisticas_mexico = as_float(energias_renovables_estadisticas_mexico)\r\n",
        "tipos_datos(energias_renovables_estadisticas_mexico)\r\n",
        "energias_renovables_estadisticas_mexico = energias_renovables_estadisticas_mexico.apply(pd.to_numeric)\r\n",
        "energias_renovables_estadisticas_mexico.dtypes"
      ],
      "execution_count": null,
      "outputs": [
        {
          "output_type": "stream",
          "text": [
            "Columna                                            | Tipos de datos\n",
            "------------------------------------------------------------------------------------------\n",
            "precios_sector_mexico_total                        | [<class 'float'>]\n",
            "precios_sector_mexico_residencial                  | [<class 'float'>]\n",
            "precios_sector_mexico_servicios                    | [<class 'float'>]\n",
            "precios_sector_mexico_comercial                    | [<class 'float'>]\n",
            "precios_sector_mexico_agrícola                     | [<class 'float'>]\n",
            "precios_sector_mexico_industrial                   | [<class 'float'>]\n",
            "precios_sector_mexico_empresa_mediana              | [<class 'float'>]\n",
            "precios_sector_mexico_gran_industria               | [<class 'float'>]\n",
            "capacidad_efectiva_mexico_total                    | [<class 'float'>]\n",
            "capacidad_efectiva_mexico_geotérmica               | [<class 'float'>]\n",
            "capacidad_efectiva_mexico_eólica                   | [<class 'float'>]\n",
            "capacidad_efectiva_mexico_cfe                      | [<class 'float'>]\n",
            "capacidad_efectiva_mexico_pie                      | [<class 'float'>]\n",
            "capacidad_efectiva_mexico_hidroeléctrica           | [<class 'float'>]\n",
            "capacidad_efectiva_mexico_fotovoltaica             | [<class 'float'>]\n",
            "generacion_bruta_mexico_total                      | [<class 'float'>]\n",
            "generacion_bruta_mexico_geotermoléctrica           | [<class 'float'>]\n",
            "generacion_bruta_mexico_eólica                     | [<class 'float'>]\n",
            "generacion_bruta_mexico_cfe                        | [<class 'float'>]\n",
            "generacion_bruta_mexico_pie_(1)                    | [<class 'float'>]\n",
            "generacion_bruta_mexico_hidroeléctrica             | [<class 'float'>]\n",
            "generacion_bruta_mexico_fotovoltaica               | [<class 'float'>]\n"
          ],
          "name": "stdout"
        },
        {
          "output_type": "execute_result",
          "data": {
            "text/plain": [
              "precios_sector_mexico_total                 float32\n",
              "precios_sector_mexico_residencial           float32\n",
              "precios_sector_mexico_servicios             float32\n",
              "precios_sector_mexico_comercial             float32\n",
              "precios_sector_mexico_agrícola              float32\n",
              "precios_sector_mexico_industrial            float32\n",
              "precios_sector_mexico_empresa_mediana       float32\n",
              "precios_sector_mexico_gran_industria        float32\n",
              "capacidad_efectiva_mexico_total             float32\n",
              "capacidad_efectiva_mexico_geotérmica        float64\n",
              "capacidad_efectiva_mexico_eólica            float32\n",
              "capacidad_efectiva_mexico_cfe               float64\n",
              "capacidad_efectiva_mexico_pie               float32\n",
              "capacidad_efectiva_mexico_hidroeléctrica    float64\n",
              "capacidad_efectiva_mexico_fotovoltaica      float32\n",
              "generacion_bruta_mexico_total               float32\n",
              "generacion_bruta_mexico_geotermoléctrica    float64\n",
              "generacion_bruta_mexico_eólica              float32\n",
              "generacion_bruta_mexico_cfe                 float32\n",
              "generacion_bruta_mexico_pie_(1)             float32\n",
              "generacion_bruta_mexico_hidroeléctrica      float32\n",
              "generacion_bruta_mexico_fotovoltaica        float32\n",
              "dtype: object"
            ]
          },
          "metadata": {
            "tags": []
          },
          "execution_count": 65
        }
      ]
    },
    {
      "cell_type": "markdown",
      "metadata": {
        "id": "m756xbc--9ny"
      },
      "source": [
        "**Energías**"
      ]
    },
    {
      "cell_type": "code",
      "metadata": {
        "colab": {
          "base_uri": "https://localhost:8080/"
        },
        "id": "l_g7G_DxGoVx",
        "outputId": "61a29ec8-f0f9-4f3f-dd94-c0e3c2bad07a"
      },
      "source": [
        "energias_renovables_mexico.dtypes"
      ],
      "execution_count": null,
      "outputs": [
        {
          "output_type": "execute_result",
          "data": {
            "text/plain": [
              "producción_energia_eolica                       object\n",
              "oferta_total_energia_eolica                     object\n",
              "oferta_interna_bruta_energia_eolica             object\n",
              "total_transformación_energia_eolica             object\n",
              "centrales_eléctricas_públicas_energia_eolica    object\n",
              "diferencia_estadística_energia_eolica           object\n",
              "producción_hidroenerigia                        object\n",
              "oferta_total_hidroenerigia                      object\n",
              "oferta_interna_bruta_hidroenerigia              object\n",
              "total_transformación_hidroenerigia              object\n",
              "centrales_eléctricas_públicas_hidroenerigia     object\n",
              "diferencia_estadística_hidroenerigia            object\n",
              "producción_geoenerigia                          object\n",
              "oferta_total_geoenerigia                        object\n",
              "oferta_interna_bruta_geoenerigia                object\n",
              "total_transformación_geoenerigia                object\n",
              "centrales_eléctricas_públicas_geoenerigia       object\n",
              "diferencia_estadística_geoenerigia              object\n",
              "dtype: object"
            ]
          },
          "metadata": {
            "tags": []
          },
          "execution_count": 66
        }
      ]
    },
    {
      "cell_type": "code",
      "metadata": {
        "colab": {
          "base_uri": "https://localhost:8080/"
        },
        "id": "khZK9q9DGymt",
        "outputId": "86dfce9a-7ce0-4ba6-eb8a-b8d91d6edb9d"
      },
      "source": [
        "tipos_datos(energias_renovables_mexico)"
      ],
      "execution_count": null,
      "outputs": [
        {
          "output_type": "stream",
          "text": [
            "Columna                                            | Tipos de datos\n",
            "------------------------------------------------------------------------------------------\n",
            "producción_energia_eolica                          | [<class 'float'>]\n",
            "oferta_total_energia_eolica                        | [<class 'float'>]\n",
            "oferta_interna_bruta_energia_eolica                | [<class 'float'>]\n",
            "total_transformación_energia_eolica                | [<class 'str'>, <class 'float'>]\n",
            "centrales_eléctricas_públicas_energia_eolica       | [<class 'str'>, <class 'float'>]\n",
            "diferencia_estadística_energia_eolica              | [<class 'float'>]\n",
            "producción_hidroenerigia                           | [<class 'float'>]\n",
            "oferta_total_hidroenerigia                         | [<class 'float'>]\n",
            "oferta_interna_bruta_hidroenerigia                 | [<class 'float'>]\n",
            "total_transformación_hidroenerigia                 | [<class 'float'>]\n",
            "centrales_eléctricas_públicas_hidroenerigia        | [<class 'float'>]\n",
            "diferencia_estadística_hidroenerigia               | [<class 'int'>, <class 'float'>]\n",
            "producción_geoenerigia                             | [<class 'float'>]\n",
            "oferta_total_geoenerigia                           | [<class 'float'>]\n",
            "oferta_interna_bruta_geoenerigia                   | [<class 'float'>]\n",
            "total_transformación_geoenerigia                   | [<class 'float'>]\n",
            "centrales_eléctricas_públicas_geoenerigia          | [<class 'float'>]\n",
            "diferencia_estadística_geoenerigia                 | [<class 'float'>]\n"
          ],
          "name": "stdout"
        }
      ]
    },
    {
      "cell_type": "markdown",
      "metadata": {
        "id": "sZOWhiR7G4U-"
      },
      "source": [
        "Al igual que en el dataframe anterior no tenemos estandarizados los tipos de datos entonces por los tipos de datos pasaremos todo al tipo de datos float."
      ]
    },
    {
      "cell_type": "code",
      "metadata": {
        "colab": {
          "base_uri": "https://localhost:8080/"
        },
        "id": "2MxIN_5ZHAzW",
        "outputId": "5fd056d6-df3a-452e-e2b7-583466434cab"
      },
      "source": [
        "energias_renovables_mexico = as_float(energias_renovables_mexico)\r\n",
        "tipos_datos(energias_renovables_mexico)\r\n",
        "energias_renovables_mexico = energias_renovables_mexico.apply(pd.to_numeric)\r\n",
        "energias_renovables_mexico.dtypes"
      ],
      "execution_count": null,
      "outputs": [
        {
          "output_type": "stream",
          "text": [
            "Columna                                            | Tipos de datos\n",
            "------------------------------------------------------------------------------------------\n",
            "producción_energia_eolica                          | [<class 'float'>]\n",
            "oferta_total_energia_eolica                        | [<class 'float'>]\n",
            "oferta_interna_bruta_energia_eolica                | [<class 'float'>]\n",
            "total_transformación_energia_eolica                | [<class 'float'>]\n",
            "centrales_eléctricas_públicas_energia_eolica       | [<class 'float'>]\n",
            "diferencia_estadística_energia_eolica              | [<class 'float'>]\n",
            "producción_hidroenerigia                           | [<class 'float'>]\n",
            "oferta_total_hidroenerigia                         | [<class 'float'>]\n",
            "oferta_interna_bruta_hidroenerigia                 | [<class 'float'>]\n",
            "total_transformación_hidroenerigia                 | [<class 'float'>]\n",
            "centrales_eléctricas_públicas_hidroenerigia        | [<class 'float'>]\n",
            "diferencia_estadística_hidroenerigia               | [<class 'float'>]\n",
            "producción_geoenerigia                             | [<class 'float'>]\n",
            "oferta_total_geoenerigia                           | [<class 'float'>]\n",
            "oferta_interna_bruta_geoenerigia                   | [<class 'float'>]\n",
            "total_transformación_geoenerigia                   | [<class 'float'>]\n",
            "centrales_eléctricas_públicas_geoenerigia          | [<class 'float'>]\n",
            "diferencia_estadística_geoenerigia                 | [<class 'float'>]\n"
          ],
          "name": "stdout"
        },
        {
          "output_type": "execute_result",
          "data": {
            "text/plain": [
              "producción_energia_eolica                       float64\n",
              "oferta_total_energia_eolica                     float64\n",
              "oferta_interna_bruta_energia_eolica             float64\n",
              "total_transformación_energia_eolica             float32\n",
              "centrales_eléctricas_públicas_energia_eolica    float32\n",
              "diferencia_estadística_energia_eolica           float64\n",
              "producción_hidroenerigia                        float64\n",
              "oferta_total_hidroenerigia                      float64\n",
              "oferta_interna_bruta_hidroenerigia              float64\n",
              "total_transformación_hidroenerigia              float64\n",
              "centrales_eléctricas_públicas_hidroenerigia     float64\n",
              "diferencia_estadística_hidroenerigia            float32\n",
              "producción_geoenerigia                          float64\n",
              "oferta_total_geoenerigia                        float64\n",
              "oferta_interna_bruta_geoenerigia                float64\n",
              "total_transformación_geoenerigia                float64\n",
              "centrales_eléctricas_públicas_geoenerigia       float64\n",
              "diferencia_estadística_geoenerigia              float64\n",
              "dtype: object"
            ]
          },
          "metadata": {
            "tags": []
          },
          "execution_count": 68
        }
      ]
    },
    {
      "cell_type": "markdown",
      "metadata": {
        "id": "ToAYg1nVJE0L"
      },
      "source": [
        "##### Muestra de los datos"
      ]
    },
    {
      "cell_type": "markdown",
      "metadata": {
        "id": "Ko5fvXFGUMiV"
      },
      "source": [
        "**Dataframe con estadísticas** "
      ]
    },
    {
      "cell_type": "code",
      "metadata": {
        "colab": {
          "base_uri": "https://localhost:8080/",
          "height": 217
        },
        "id": "jLmC7cJTUL3N",
        "outputId": "b543a9e3-f18e-4a25-98ce-e1baa8ca32a7"
      },
      "source": [
        "energias_renovables_estadisticas_mexico.head()"
      ],
      "execution_count": null,
      "outputs": [
        {
          "output_type": "execute_result",
          "data": {
            "text/html": [
              "<div>\n",
              "<style scoped>\n",
              "    .dataframe tbody tr th:only-of-type {\n",
              "        vertical-align: middle;\n",
              "    }\n",
              "\n",
              "    .dataframe tbody tr th {\n",
              "        vertical-align: top;\n",
              "    }\n",
              "\n",
              "    .dataframe thead th {\n",
              "        text-align: right;\n",
              "    }\n",
              "</style>\n",
              "<table border=\"1\" class=\"dataframe\">\n",
              "  <thead>\n",
              "    <tr style=\"text-align: right;\">\n",
              "      <th></th>\n",
              "      <th>precios_sector_mexico_total</th>\n",
              "      <th>precios_sector_mexico_residencial</th>\n",
              "      <th>precios_sector_mexico_servicios</th>\n",
              "      <th>precios_sector_mexico_comercial</th>\n",
              "      <th>precios_sector_mexico_agrícola</th>\n",
              "      <th>precios_sector_mexico_industrial</th>\n",
              "      <th>precios_sector_mexico_empresa_mediana</th>\n",
              "      <th>precios_sector_mexico_gran_industria</th>\n",
              "      <th>capacidad_efectiva_mexico_total</th>\n",
              "      <th>capacidad_efectiva_mexico_geotérmica</th>\n",
              "      <th>capacidad_efectiva_mexico_eólica</th>\n",
              "      <th>capacidad_efectiva_mexico_cfe</th>\n",
              "      <th>capacidad_efectiva_mexico_pie</th>\n",
              "      <th>capacidad_efectiva_mexico_hidroeléctrica</th>\n",
              "      <th>capacidad_efectiva_mexico_fotovoltaica</th>\n",
              "      <th>generacion_bruta_mexico_total</th>\n",
              "      <th>generacion_bruta_mexico_geotermoléctrica</th>\n",
              "      <th>generacion_bruta_mexico_eólica</th>\n",
              "      <th>generacion_bruta_mexico_cfe</th>\n",
              "      <th>generacion_bruta_mexico_pie_(1)</th>\n",
              "      <th>generacion_bruta_mexico_hidroeléctrica</th>\n",
              "      <th>generacion_bruta_mexico_fotovoltaica</th>\n",
              "    </tr>\n",
              "  </thead>\n",
              "  <tbody>\n",
              "    <tr>\n",
              "      <th>ene_2002</th>\n",
              "      <td>66.510002</td>\n",
              "      <td>72.160004</td>\n",
              "      <td>114.059998</td>\n",
              "      <td>130.520004</td>\n",
              "      <td>32.810001</td>\n",
              "      <td>54.730000</td>\n",
              "      <td>62.529999</td>\n",
              "      <td>44.049999</td>\n",
              "      <td>10448.232422</td>\n",
              "      <td>837.9</td>\n",
              "      <td>2.175</td>\n",
              "      <td>2.175</td>\n",
              "      <td>0.0</td>\n",
              "      <td>9608.157</td>\n",
              "      <td>0.0</td>\n",
              "      <td>2610592.00</td>\n",
              "      <td>469343.125</td>\n",
              "      <td>582.635010</td>\n",
              "      <td>582.635010</td>\n",
              "      <td>0.0</td>\n",
              "      <td>2140666.250</td>\n",
              "      <td>0.0</td>\n",
              "    </tr>\n",
              "    <tr>\n",
              "      <th>feb_2002</th>\n",
              "      <td>67.050003</td>\n",
              "      <td>70.489998</td>\n",
              "      <td>127.180000</td>\n",
              "      <td>127.830002</td>\n",
              "      <td>32.419998</td>\n",
              "      <td>55.639999</td>\n",
              "      <td>65.730003</td>\n",
              "      <td>42.480000</td>\n",
              "      <td>10448.232422</td>\n",
              "      <td>837.9</td>\n",
              "      <td>2.175</td>\n",
              "      <td>2.175</td>\n",
              "      <td>0.0</td>\n",
              "      <td>9608.157</td>\n",
              "      <td>0.0</td>\n",
              "      <td>2268289.00</td>\n",
              "      <td>395702.517</td>\n",
              "      <td>601.495972</td>\n",
              "      <td>601.495972</td>\n",
              "      <td>0.0</td>\n",
              "      <td>1871984.875</td>\n",
              "      <td>0.0</td>\n",
              "    </tr>\n",
              "    <tr>\n",
              "      <th>mar_2002</th>\n",
              "      <td>65.790001</td>\n",
              "      <td>74.620003</td>\n",
              "      <td>120.029999</td>\n",
              "      <td>129.050003</td>\n",
              "      <td>33.060001</td>\n",
              "      <td>53.639999</td>\n",
              "      <td>63.720001</td>\n",
              "      <td>40.520000</td>\n",
              "      <td>10448.232422</td>\n",
              "      <td>837.9</td>\n",
              "      <td>2.175</td>\n",
              "      <td>2.175</td>\n",
              "      <td>0.0</td>\n",
              "      <td>9608.157</td>\n",
              "      <td>0.0</td>\n",
              "      <td>2307690.50</td>\n",
              "      <td>442148.773</td>\n",
              "      <td>448.122986</td>\n",
              "      <td>448.122986</td>\n",
              "      <td>0.0</td>\n",
              "      <td>1865093.625</td>\n",
              "      <td>0.0</td>\n",
              "    </tr>\n",
              "    <tr>\n",
              "      <th>abr_2002</th>\n",
              "      <td>66.290001</td>\n",
              "      <td>81.580002</td>\n",
              "      <td>119.370003</td>\n",
              "      <td>128.919998</td>\n",
              "      <td>33.730000</td>\n",
              "      <td>53.099998</td>\n",
              "      <td>61.779999</td>\n",
              "      <td>40.950001</td>\n",
              "      <td>10448.232422</td>\n",
              "      <td>837.9</td>\n",
              "      <td>2.175</td>\n",
              "      <td>2.175</td>\n",
              "      <td>0.0</td>\n",
              "      <td>9608.157</td>\n",
              "      <td>0.0</td>\n",
              "      <td>2573912.75</td>\n",
              "      <td>462046.556</td>\n",
              "      <td>587.956970</td>\n",
              "      <td>587.956970</td>\n",
              "      <td>0.0</td>\n",
              "      <td>2111278.250</td>\n",
              "      <td>0.0</td>\n",
              "    </tr>\n",
              "    <tr>\n",
              "      <th>may_2002</th>\n",
              "      <td>68.260002</td>\n",
              "      <td>79.660004</td>\n",
              "      <td>124.180000</td>\n",
              "      <td>130.339996</td>\n",
              "      <td>35.980000</td>\n",
              "      <td>56.500000</td>\n",
              "      <td>65.290001</td>\n",
              "      <td>43.980000</td>\n",
              "      <td>10448.232422</td>\n",
              "      <td>837.9</td>\n",
              "      <td>2.175</td>\n",
              "      <td>2.175</td>\n",
              "      <td>0.0</td>\n",
              "      <td>9608.157</td>\n",
              "      <td>0.0</td>\n",
              "      <td>2543748.50</td>\n",
              "      <td>485792.737</td>\n",
              "      <td>606.737000</td>\n",
              "      <td>606.737000</td>\n",
              "      <td>0.0</td>\n",
              "      <td>2057348.875</td>\n",
              "      <td>0.0</td>\n",
              "    </tr>\n",
              "  </tbody>\n",
              "</table>\n",
              "</div>"
            ],
            "text/plain": [
              "          precios_sector_mexico_total  ...  generacion_bruta_mexico_fotovoltaica\n",
              "ene_2002                    66.510002  ...                                   0.0\n",
              "feb_2002                    67.050003  ...                                   0.0\n",
              "mar_2002                    65.790001  ...                                   0.0\n",
              "abr_2002                    66.290001  ...                                   0.0\n",
              "may_2002                    68.260002  ...                                   0.0\n",
              "\n",
              "[5 rows x 22 columns]"
            ]
          },
          "metadata": {
            "tags": []
          },
          "execution_count": 69
        }
      ]
    },
    {
      "cell_type": "code",
      "metadata": {
        "colab": {
          "base_uri": "https://localhost:8080/",
          "height": 217
        },
        "id": "ZiHUbsT2UZPo",
        "outputId": "0280b10e-2bb3-4962-a8c6-22acea0acad7"
      },
      "source": [
        "energias_renovables_estadisticas_mexico.tail()"
      ],
      "execution_count": null,
      "outputs": [
        {
          "output_type": "execute_result",
          "data": {
            "text/html": [
              "<div>\n",
              "<style scoped>\n",
              "    .dataframe tbody tr th:only-of-type {\n",
              "        vertical-align: middle;\n",
              "    }\n",
              "\n",
              "    .dataframe tbody tr th {\n",
              "        vertical-align: top;\n",
              "    }\n",
              "\n",
              "    .dataframe thead th {\n",
              "        text-align: right;\n",
              "    }\n",
              "</style>\n",
              "<table border=\"1\" class=\"dataframe\">\n",
              "  <thead>\n",
              "    <tr style=\"text-align: right;\">\n",
              "      <th></th>\n",
              "      <th>precios_sector_mexico_total</th>\n",
              "      <th>precios_sector_mexico_residencial</th>\n",
              "      <th>precios_sector_mexico_servicios</th>\n",
              "      <th>precios_sector_mexico_comercial</th>\n",
              "      <th>precios_sector_mexico_agrícola</th>\n",
              "      <th>precios_sector_mexico_industrial</th>\n",
              "      <th>precios_sector_mexico_empresa_mediana</th>\n",
              "      <th>precios_sector_mexico_gran_industria</th>\n",
              "      <th>capacidad_efectiva_mexico_total</th>\n",
              "      <th>capacidad_efectiva_mexico_geotérmica</th>\n",
              "      <th>capacidad_efectiva_mexico_eólica</th>\n",
              "      <th>capacidad_efectiva_mexico_cfe</th>\n",
              "      <th>capacidad_efectiva_mexico_pie</th>\n",
              "      <th>capacidad_efectiva_mexico_hidroeléctrica</th>\n",
              "      <th>capacidad_efectiva_mexico_fotovoltaica</th>\n",
              "      <th>generacion_bruta_mexico_total</th>\n",
              "      <th>generacion_bruta_mexico_geotermoléctrica</th>\n",
              "      <th>generacion_bruta_mexico_eólica</th>\n",
              "      <th>generacion_bruta_mexico_cfe</th>\n",
              "      <th>generacion_bruta_mexico_pie_(1)</th>\n",
              "      <th>generacion_bruta_mexico_hidroeléctrica</th>\n",
              "      <th>generacion_bruta_mexico_fotovoltaica</th>\n",
              "    </tr>\n",
              "  </thead>\n",
              "  <tbody>\n",
              "    <tr>\n",
              "      <th>ago_2017</th>\n",
              "      <td>160.822006</td>\n",
              "      <td>111.923203</td>\n",
              "      <td>289.846191</td>\n",
              "      <td>347.931885</td>\n",
              "      <td>55.629200</td>\n",
              "      <td>165.695297</td>\n",
              "      <td>177.669907</td>\n",
              "      <td>136.303894</td>\n",
              "      <td>13079.041016</td>\n",
              "      <td>873.6</td>\n",
              "      <td>86.300003</td>\n",
              "      <td>86.3</td>\n",
              "      <td>0.0</td>\n",
              "      <td>12113.140778</td>\n",
              "      <td>6.0</td>\n",
              "      <td>3711837.0</td>\n",
              "      <td>487829.487</td>\n",
              "      <td>97867.132812</td>\n",
              "      <td>6722.165527</td>\n",
              "      <td>91144.968750</td>\n",
              "      <td>3125188.500</td>\n",
              "      <td>952.041321</td>\n",
              "    </tr>\n",
              "    <tr>\n",
              "      <th>sep_2017</th>\n",
              "      <td>156.923798</td>\n",
              "      <td>110.755997</td>\n",
              "      <td>289.520386</td>\n",
              "      <td>342.299500</td>\n",
              "      <td>54.056499</td>\n",
              "      <td>159.742599</td>\n",
              "      <td>170.103302</td>\n",
              "      <td>135.893402</td>\n",
              "      <td>13080.383789</td>\n",
              "      <td>873.6</td>\n",
              "      <td>86.300003</td>\n",
              "      <td>86.3</td>\n",
              "      <td>0.0</td>\n",
              "      <td>12114.483879</td>\n",
              "      <td>6.0</td>\n",
              "      <td>4166927.0</td>\n",
              "      <td>474587.904</td>\n",
              "      <td>9456.339844</td>\n",
              "      <td>702.860474</td>\n",
              "      <td>8753.479492</td>\n",
              "      <td>3681998.500</td>\n",
              "      <td>884.421021</td>\n",
              "    </tr>\n",
              "    <tr>\n",
              "      <th>oct_2017</th>\n",
              "      <td>159.499298</td>\n",
              "      <td>109.610001</td>\n",
              "      <td>291.881592</td>\n",
              "      <td>336.159485</td>\n",
              "      <td>63.143299</td>\n",
              "      <td>162.069794</td>\n",
              "      <td>174.176102</td>\n",
              "      <td>132.938599</td>\n",
              "      <td>13081.493164</td>\n",
              "      <td>873.6</td>\n",
              "      <td>86.300003</td>\n",
              "      <td>86.3</td>\n",
              "      <td>0.0</td>\n",
              "      <td>12115.593263</td>\n",
              "      <td>6.0</td>\n",
              "      <td>3929007.5</td>\n",
              "      <td>487877.777</td>\n",
              "      <td>186358.468750</td>\n",
              "      <td>5057.001465</td>\n",
              "      <td>181301.468750</td>\n",
              "      <td>3253848.000</td>\n",
              "      <td>923.202881</td>\n",
              "    </tr>\n",
              "    <tr>\n",
              "      <th>nov_2017</th>\n",
              "      <td>162.757401</td>\n",
              "      <td>120.422798</td>\n",
              "      <td>289.423401</td>\n",
              "      <td>337.165894</td>\n",
              "      <td>69.967003</td>\n",
              "      <td>159.382095</td>\n",
              "      <td>170.214798</td>\n",
              "      <td>134.192795</td>\n",
              "      <td>13082.371094</td>\n",
              "      <td>873.6</td>\n",
              "      <td>86.300003</td>\n",
              "      <td>86.3</td>\n",
              "      <td>0.0</td>\n",
              "      <td>12116.470784</td>\n",
              "      <td>6.0</td>\n",
              "      <td>2816630.0</td>\n",
              "      <td>452685.783</td>\n",
              "      <td>238623.468750</td>\n",
              "      <td>12295.959961</td>\n",
              "      <td>226327.500000</td>\n",
              "      <td>2124728.250</td>\n",
              "      <td>592.631042</td>\n",
              "    </tr>\n",
              "    <tr>\n",
              "      <th>dic_2017</th>\n",
              "      <td>0.000000</td>\n",
              "      <td>0.000000</td>\n",
              "      <td>0.000000</td>\n",
              "      <td>0.000000</td>\n",
              "      <td>0.000000</td>\n",
              "      <td>0.000000</td>\n",
              "      <td>0.000000</td>\n",
              "      <td>0.000000</td>\n",
              "      <td>13083.125977</td>\n",
              "      <td>873.6</td>\n",
              "      <td>86.300003</td>\n",
              "      <td>86.3</td>\n",
              "      <td>0.0</td>\n",
              "      <td>12117.226014</td>\n",
              "      <td>6.0</td>\n",
              "      <td>2115745.5</td>\n",
              "      <td>482330.221</td>\n",
              "      <td>313514.593750</td>\n",
              "      <td>11934.172852</td>\n",
              "      <td>301580.406250</td>\n",
              "      <td>1319315.125</td>\n",
              "      <td>585.616882</td>\n",
              "    </tr>\n",
              "  </tbody>\n",
              "</table>\n",
              "</div>"
            ],
            "text/plain": [
              "          precios_sector_mexico_total  ...  generacion_bruta_mexico_fotovoltaica\n",
              "ago_2017                   160.822006  ...                            952.041321\n",
              "sep_2017                   156.923798  ...                            884.421021\n",
              "oct_2017                   159.499298  ...                            923.202881\n",
              "nov_2017                   162.757401  ...                            592.631042\n",
              "dic_2017                     0.000000  ...                            585.616882\n",
              "\n",
              "[5 rows x 22 columns]"
            ]
          },
          "metadata": {
            "tags": []
          },
          "execution_count": 70
        }
      ]
    },
    {
      "cell_type": "code",
      "metadata": {
        "colab": {
          "base_uri": "https://localhost:8080/"
        },
        "id": "PowPXRb6UcYk",
        "outputId": "da5eca21-aaa7-437e-9555-b0d021cb9777"
      },
      "source": [
        "energias_renovables_estadisticas_mexico.shape"
      ],
      "execution_count": null,
      "outputs": [
        {
          "output_type": "execute_result",
          "data": {
            "text/plain": [
              "(192, 22)"
            ]
          },
          "metadata": {
            "tags": []
          },
          "execution_count": 71
        }
      ]
    },
    {
      "cell_type": "code",
      "metadata": {
        "colab": {
          "base_uri": "https://localhost:8080/"
        },
        "id": "V-_6_Y0tUeY9",
        "outputId": "33085957-72e5-4b8f-9243-3e90bda4beb8"
      },
      "source": [
        "energias_renovables_estadisticas_mexico.columns"
      ],
      "execution_count": null,
      "outputs": [
        {
          "output_type": "execute_result",
          "data": {
            "text/plain": [
              "Index(['precios_sector_mexico_total', 'precios_sector_mexico_residencial',\n",
              "       'precios_sector_mexico_servicios', 'precios_sector_mexico_comercial',\n",
              "       'precios_sector_mexico_agrícola', 'precios_sector_mexico_industrial',\n",
              "       'precios_sector_mexico_empresa_mediana',\n",
              "       'precios_sector_mexico_gran_industria',\n",
              "       'capacidad_efectiva_mexico_total',\n",
              "       'capacidad_efectiva_mexico_geotérmica',\n",
              "       'capacidad_efectiva_mexico_eólica', 'capacidad_efectiva_mexico_cfe',\n",
              "       'capacidad_efectiva_mexico_pie',\n",
              "       'capacidad_efectiva_mexico_hidroeléctrica',\n",
              "       'capacidad_efectiva_mexico_fotovoltaica',\n",
              "       'generacion_bruta_mexico_total',\n",
              "       'generacion_bruta_mexico_geotermoléctrica',\n",
              "       'generacion_bruta_mexico_eólica', 'generacion_bruta_mexico_cfe',\n",
              "       'generacion_bruta_mexico_pie_(1)',\n",
              "       'generacion_bruta_mexico_hidroeléctrica',\n",
              "       'generacion_bruta_mexico_fotovoltaica'],\n",
              "      dtype='object')"
            ]
          },
          "metadata": {
            "tags": []
          },
          "execution_count": 72
        }
      ]
    },
    {
      "cell_type": "markdown",
      "metadata": {
        "id": "h-mO2SC8URrj"
      },
      "source": [
        "**Energías**"
      ]
    },
    {
      "cell_type": "code",
      "metadata": {
        "colab": {
          "base_uri": "https://localhost:8080/",
          "height": 217
        },
        "id": "MvFJZo9oUIES",
        "outputId": "f69b25bb-a028-49da-bed0-8aa3f93ee841"
      },
      "source": [
        "energias_renovables_mexico.head()"
      ],
      "execution_count": null,
      "outputs": [
        {
          "output_type": "execute_result",
          "data": {
            "text/html": [
              "<div>\n",
              "<style scoped>\n",
              "    .dataframe tbody tr th:only-of-type {\n",
              "        vertical-align: middle;\n",
              "    }\n",
              "\n",
              "    .dataframe tbody tr th {\n",
              "        vertical-align: top;\n",
              "    }\n",
              "\n",
              "    .dataframe thead th {\n",
              "        text-align: right;\n",
              "    }\n",
              "</style>\n",
              "<table border=\"1\" class=\"dataframe\">\n",
              "  <thead>\n",
              "    <tr style=\"text-align: right;\">\n",
              "      <th></th>\n",
              "      <th>producción_energia_eolica</th>\n",
              "      <th>oferta_total_energia_eolica</th>\n",
              "      <th>oferta_interna_bruta_energia_eolica</th>\n",
              "      <th>total_transformación_energia_eolica</th>\n",
              "      <th>centrales_eléctricas_públicas_energia_eolica</th>\n",
              "      <th>diferencia_estadística_energia_eolica</th>\n",
              "      <th>producción_hidroenerigia</th>\n",
              "      <th>oferta_total_hidroenerigia</th>\n",
              "      <th>oferta_interna_bruta_hidroenerigia</th>\n",
              "      <th>total_transformación_hidroenerigia</th>\n",
              "      <th>centrales_eléctricas_públicas_hidroenerigia</th>\n",
              "      <th>diferencia_estadística_hidroenerigia</th>\n",
              "      <th>producción_geoenerigia</th>\n",
              "      <th>oferta_total_geoenerigia</th>\n",
              "      <th>oferta_interna_bruta_geoenerigia</th>\n",
              "      <th>total_transformación_geoenerigia</th>\n",
              "      <th>centrales_eléctricas_públicas_geoenerigia</th>\n",
              "      <th>diferencia_estadística_geoenerigia</th>\n",
              "    </tr>\n",
              "  </thead>\n",
              "  <tbody>\n",
              "    <tr>\n",
              "      <th>2000</th>\n",
              "      <td>0.001705</td>\n",
              "      <td>0.001705</td>\n",
              "      <td>0.001705</td>\n",
              "      <td>NaN</td>\n",
              "      <td>NaN</td>\n",
              "      <td>-0.001705</td>\n",
              "      <td>119.069568</td>\n",
              "      <td>119.069568</td>\n",
              "      <td>119.069568</td>\n",
              "      <td>-119.069568</td>\n",
              "      <td>-119.069568</td>\n",
              "      <td>0.000000</td>\n",
              "      <td>112.448030</td>\n",
              "      <td>112.448030</td>\n",
              "      <td>112.448030</td>\n",
              "      <td>-133.691630</td>\n",
              "      <td>-133.691630</td>\n",
              "      <td>21.2436</td>\n",
              "    </tr>\n",
              "    <tr>\n",
              "      <th>2001</th>\n",
              "      <td>0.001705</td>\n",
              "      <td>0.001705</td>\n",
              "      <td>0.001705</td>\n",
              "      <td>NaN</td>\n",
              "      <td>NaN</td>\n",
              "      <td>-0.001705</td>\n",
              "      <td>102.367188</td>\n",
              "      <td>102.367188</td>\n",
              "      <td>102.367188</td>\n",
              "      <td>-102.367188</td>\n",
              "      <td>-102.367188</td>\n",
              "      <td>0.000000</td>\n",
              "      <td>106.083407</td>\n",
              "      <td>106.083407</td>\n",
              "      <td>106.083407</td>\n",
              "      <td>-126.124607</td>\n",
              "      <td>-126.124607</td>\n",
              "      <td>20.0412</td>\n",
              "    </tr>\n",
              "    <tr>\n",
              "      <th>2002</th>\n",
              "      <td>0.000464</td>\n",
              "      <td>0.000464</td>\n",
              "      <td>0.000464</td>\n",
              "      <td>0.0000</td>\n",
              "      <td>0.0000</td>\n",
              "      <td>-0.000464</td>\n",
              "      <td>89.501724</td>\n",
              "      <td>89.501724</td>\n",
              "      <td>89.501724</td>\n",
              "      <td>-89.501724</td>\n",
              "      <td>-89.501724</td>\n",
              "      <td>0.000000</td>\n",
              "      <td>102.862984</td>\n",
              "      <td>102.862984</td>\n",
              "      <td>102.862984</td>\n",
              "      <td>-122.295784</td>\n",
              "      <td>-122.295784</td>\n",
              "      <td>19.4328</td>\n",
              "    </tr>\n",
              "    <tr>\n",
              "      <th>2003</th>\n",
              "      <td>0.018000</td>\n",
              "      <td>0.018000</td>\n",
              "      <td>0.018000</td>\n",
              "      <td>-0.0180</td>\n",
              "      <td>-0.0180</td>\n",
              "      <td>0.000000</td>\n",
              "      <td>71.467938</td>\n",
              "      <td>71.467938</td>\n",
              "      <td>71.467938</td>\n",
              "      <td>-71.110800</td>\n",
              "      <td>-71.110800</td>\n",
              "      <td>-0.357138</td>\n",
              "      <td>142.323474</td>\n",
              "      <td>142.323474</td>\n",
              "      <td>142.323474</td>\n",
              "      <td>-142.323474</td>\n",
              "      <td>-142.323474</td>\n",
              "      <td>0.0000</td>\n",
              "    </tr>\n",
              "    <tr>\n",
              "      <th>2004</th>\n",
              "      <td>0.021600</td>\n",
              "      <td>0.021600</td>\n",
              "      <td>0.021600</td>\n",
              "      <td>-0.0216</td>\n",
              "      <td>-0.0216</td>\n",
              "      <td>0.000000</td>\n",
              "      <td>90.635017</td>\n",
              "      <td>90.635017</td>\n",
              "      <td>90.635017</td>\n",
              "      <td>-90.273600</td>\n",
              "      <td>-90.273600</td>\n",
              "      <td>-0.361417</td>\n",
              "      <td>149.006923</td>\n",
              "      <td>149.006923</td>\n",
              "      <td>149.006923</td>\n",
              "      <td>-149.006923</td>\n",
              "      <td>-149.006923</td>\n",
              "      <td>0.0000</td>\n",
              "    </tr>\n",
              "  </tbody>\n",
              "</table>\n",
              "</div>"
            ],
            "text/plain": [
              "      producción_energia_eolica  ...  diferencia_estadística_geoenerigia\n",
              "2000                   0.001705  ...                             21.2436\n",
              "2001                   0.001705  ...                             20.0412\n",
              "2002                   0.000464  ...                             19.4328\n",
              "2003                   0.018000  ...                              0.0000\n",
              "2004                   0.021600  ...                              0.0000\n",
              "\n",
              "[5 rows x 18 columns]"
            ]
          },
          "metadata": {
            "tags": []
          },
          "execution_count": 73
        }
      ]
    },
    {
      "cell_type": "code",
      "metadata": {
        "colab": {
          "base_uri": "https://localhost:8080/",
          "height": 217
        },
        "id": "JFJwajqlUi8Y",
        "outputId": "32faec0f-bab2-4e4e-e27a-887372b2c6a1"
      },
      "source": [
        "energias_renovables_mexico.tail()"
      ],
      "execution_count": null,
      "outputs": [
        {
          "output_type": "execute_result",
          "data": {
            "text/html": [
              "<div>\n",
              "<style scoped>\n",
              "    .dataframe tbody tr th:only-of-type {\n",
              "        vertical-align: middle;\n",
              "    }\n",
              "\n",
              "    .dataframe tbody tr th {\n",
              "        vertical-align: top;\n",
              "    }\n",
              "\n",
              "    .dataframe thead th {\n",
              "        text-align: right;\n",
              "    }\n",
              "</style>\n",
              "<table border=\"1\" class=\"dataframe\">\n",
              "  <thead>\n",
              "    <tr style=\"text-align: right;\">\n",
              "      <th></th>\n",
              "      <th>producción_energia_eolica</th>\n",
              "      <th>oferta_total_energia_eolica</th>\n",
              "      <th>oferta_interna_bruta_energia_eolica</th>\n",
              "      <th>total_transformación_energia_eolica</th>\n",
              "      <th>centrales_eléctricas_públicas_energia_eolica</th>\n",
              "      <th>diferencia_estadística_energia_eolica</th>\n",
              "      <th>producción_hidroenerigia</th>\n",
              "      <th>oferta_total_hidroenerigia</th>\n",
              "      <th>oferta_interna_bruta_hidroenerigia</th>\n",
              "      <th>total_transformación_hidroenerigia</th>\n",
              "      <th>centrales_eléctricas_públicas_hidroenerigia</th>\n",
              "      <th>diferencia_estadística_hidroenerigia</th>\n",
              "      <th>producción_geoenerigia</th>\n",
              "      <th>oferta_total_geoenerigia</th>\n",
              "      <th>oferta_interna_bruta_geoenerigia</th>\n",
              "      <th>total_transformación_geoenerigia</th>\n",
              "      <th>centrales_eléctricas_públicas_geoenerigia</th>\n",
              "      <th>diferencia_estadística_geoenerigia</th>\n",
              "    </tr>\n",
              "  </thead>\n",
              "  <tbody>\n",
              "    <tr>\n",
              "      <th>2015</th>\n",
              "      <td>31.482341</td>\n",
              "      <td>31.482341</td>\n",
              "      <td>31.482341</td>\n",
              "      <td>-0.730530</td>\n",
              "      <td>-0.730530</td>\n",
              "      <td>-30.751811</td>\n",
              "      <td>111.209546</td>\n",
              "      <td>111.209546</td>\n",
              "      <td>111.209546</td>\n",
              "      <td>-108.458898</td>\n",
              "      <td>-108.458898</td>\n",
              "      <td>-2.750648</td>\n",
              "      <td>134.529889</td>\n",
              "      <td>134.529889</td>\n",
              "      <td>134.529889</td>\n",
              "      <td>-133.683671</td>\n",
              "      <td>-133.683671</td>\n",
              "      <td>-0.846218</td>\n",
              "    </tr>\n",
              "    <tr>\n",
              "      <th>2016</th>\n",
              "      <td>37.361141</td>\n",
              "      <td>37.361141</td>\n",
              "      <td>37.361141</td>\n",
              "      <td>-0.673348</td>\n",
              "      <td>-0.673348</td>\n",
              "      <td>-36.687793</td>\n",
              "      <td>110.510471</td>\n",
              "      <td>110.510471</td>\n",
              "      <td>110.510471</td>\n",
              "      <td>-104.898154</td>\n",
              "      <td>-104.898154</td>\n",
              "      <td>-5.612317</td>\n",
              "      <td>132.594822</td>\n",
              "      <td>132.594822</td>\n",
              "      <td>132.594822</td>\n",
              "      <td>-130.104192</td>\n",
              "      <td>-130.104192</td>\n",
              "      <td>-2.490630</td>\n",
              "    </tr>\n",
              "    <tr>\n",
              "      <th>2017</th>\n",
              "      <td>38.231214</td>\n",
              "      <td>38.231214</td>\n",
              "      <td>38.231214</td>\n",
              "      <td>-0.377222</td>\n",
              "      <td>-0.377222</td>\n",
              "      <td>-37.853992</td>\n",
              "      <td>114.651561</td>\n",
              "      <td>114.651561</td>\n",
              "      <td>114.651561</td>\n",
              "      <td>-108.250724</td>\n",
              "      <td>-108.250724</td>\n",
              "      <td>-6.400837</td>\n",
              "      <td>127.426290</td>\n",
              "      <td>127.426290</td>\n",
              "      <td>127.426290</td>\n",
              "      <td>-124.193169</td>\n",
              "      <td>-124.193169</td>\n",
              "      <td>-3.233121</td>\n",
              "    </tr>\n",
              "    <tr>\n",
              "      <th>2018</th>\n",
              "      <td>47.119000</td>\n",
              "      <td>47.119000</td>\n",
              "      <td>47.119000</td>\n",
              "      <td>-0.438000</td>\n",
              "      <td>-0.438000</td>\n",
              "      <td>-46.681000</td>\n",
              "      <td>116.948000</td>\n",
              "      <td>116.948000</td>\n",
              "      <td>116.948000</td>\n",
              "      <td>-109.900000</td>\n",
              "      <td>-109.900000</td>\n",
              "      <td>-7.048000</td>\n",
              "      <td>113.184000</td>\n",
              "      <td>113.184000</td>\n",
              "      <td>113.184000</td>\n",
              "      <td>-110.514000</td>\n",
              "      <td>-110.514000</td>\n",
              "      <td>-2.670000</td>\n",
              "    </tr>\n",
              "    <tr>\n",
              "      <th>2019</th>\n",
              "      <td>60.216000</td>\n",
              "      <td>60.216000</td>\n",
              "      <td>60.216000</td>\n",
              "      <td>-0.264000</td>\n",
              "      <td>-0.264000</td>\n",
              "      <td>-59.952000</td>\n",
              "      <td>84.989000</td>\n",
              "      <td>84.989000</td>\n",
              "      <td>84.989000</td>\n",
              "      <td>-79.450000</td>\n",
              "      <td>-79.450000</td>\n",
              "      <td>-5.539000</td>\n",
              "      <td>112.883000</td>\n",
              "      <td>112.883000</td>\n",
              "      <td>112.883000</td>\n",
              "      <td>-110.704000</td>\n",
              "      <td>-110.704000</td>\n",
              "      <td>-2.179000</td>\n",
              "    </tr>\n",
              "  </tbody>\n",
              "</table>\n",
              "</div>"
            ],
            "text/plain": [
              "      producción_energia_eolica  ...  diferencia_estadística_geoenerigia\n",
              "2015                  31.482341  ...                           -0.846218\n",
              "2016                  37.361141  ...                           -2.490630\n",
              "2017                  38.231214  ...                           -3.233121\n",
              "2018                  47.119000  ...                           -2.670000\n",
              "2019                  60.216000  ...                           -2.179000\n",
              "\n",
              "[5 rows x 18 columns]"
            ]
          },
          "metadata": {
            "tags": []
          },
          "execution_count": 74
        }
      ]
    },
    {
      "cell_type": "code",
      "metadata": {
        "colab": {
          "base_uri": "https://localhost:8080/"
        },
        "id": "ImZ8P2O6JLm5",
        "outputId": "da03aada-869e-4eb2-a01c-cde4b6a31ed3"
      },
      "source": [
        "energias_renovables_mexico.shape"
      ],
      "execution_count": null,
      "outputs": [
        {
          "output_type": "execute_result",
          "data": {
            "text/plain": [
              "(20, 18)"
            ]
          },
          "metadata": {
            "tags": []
          },
          "execution_count": 75
        }
      ]
    },
    {
      "cell_type": "code",
      "metadata": {
        "colab": {
          "base_uri": "https://localhost:8080/"
        },
        "id": "MVUl791jUoyP",
        "outputId": "a1899234-0cd7-4979-a68f-00fcb7d7ea2b"
      },
      "source": [
        "energias_renovables_mexico.columns"
      ],
      "execution_count": null,
      "outputs": [
        {
          "output_type": "execute_result",
          "data": {
            "text/plain": [
              "Index(['producción_energia_eolica', 'oferta_total_energia_eolica',\n",
              "       'oferta_interna_bruta_energia_eolica',\n",
              "       'total_transformación_energia_eolica',\n",
              "       'centrales_eléctricas_públicas_energia_eolica',\n",
              "       'diferencia_estadística_energia_eolica', 'producción_hidroenerigia',\n",
              "       'oferta_total_hidroenerigia', 'oferta_interna_bruta_hidroenerigia',\n",
              "       'total_transformación_hidroenerigia',\n",
              "       'centrales_eléctricas_públicas_hidroenerigia',\n",
              "       'diferencia_estadística_hidroenerigia', 'producción_geoenerigia',\n",
              "       'oferta_total_geoenerigia', 'oferta_interna_bruta_geoenerigia',\n",
              "       'total_transformación_geoenerigia',\n",
              "       'centrales_eléctricas_públicas_geoenerigia',\n",
              "       'diferencia_estadística_geoenerigia'],\n",
              "      dtype='object')"
            ]
          },
          "metadata": {
            "tags": []
          },
          "execution_count": 76
        }
      ]
    },
    {
      "cell_type": "markdown",
      "metadata": {
        "id": "qDKJ0IqfBTb3"
      },
      "source": [
        "##### *Limpieza y restructuración de los datos*\r\n",
        "\r\n",
        "Esta limpieza abarcara nas, datos no utiles, convenciones de nomenclatura de python y nombres de variables descriptivos."
      ]
    },
    {
      "cell_type": "code",
      "metadata": {
        "colab": {
          "base_uri": "https://localhost:8080/",
          "height": 197
        },
        "id": "kY1PvwOvB2KZ",
        "outputId": "84ce9641-8e5f-414d-d2bf-bf7eab54ab20"
      },
      "source": [
        "\r\n",
        "df_annual_change.dtypes\r\n",
        "df_renew_energy_capacity.dtypes\r\n",
        "df_investment_by_tech.dtypes\r\n",
        "df_investment_of_gdp.dtypes\r\n",
        "df_renew_energy_of_total.dtypes\r\n",
        "\r\n",
        "df_annual_change.shape\r\n",
        "#(3828 rows, 4 columns)\r\n",
        "\r\n",
        "df_renew_energy_capacity.shape\r\n",
        "#(102, 3)\r\n",
        "\r\n",
        "df_investment_by_tech.shape\r\n",
        "#(13, 8)\r\n",
        "\r\n",
        "df_investment_of_gdp.shape\r\n",
        "#(10, 3)\r\n",
        "\r\n",
        "df_renew_energy_of_total.shape\r\n",
        "#(6588, 4)\r\n",
        "\r\n",
        "df_annual_change.columns\r\n",
        "df_renew_energy_capacity.columns\r\n",
        "df_investment_by_tech.columns\r\n",
        "df_investment_of_gdp.columns\r\n",
        "df_renew_energy_of_total.columns\r\n",
        "\r\n",
        "\r\n",
        "\r\n",
        "df_annual_change.head(5)\r\n",
        "df_annual_change.tail(5)\r\n",
        "#podemos eliminar columna 'Code', renombrar columnas ('Entity' hace referencia a país), redondear a dos decimales\r\n",
        "\r\n",
        "df_renew_energy_capacity.head(5)\r\n",
        "df_renew_energy_capacity.tail(100)\r\n",
        "#podemos renombrar columnas ('Entity' hace referencia a tipo de energía)\r\n",
        "\r\n",
        "df_investment_by_tech.head(5)\r\n",
        "df_investment_by_tech.tail(5)\r\n",
        "#podemos renombrar columnas, transponer columnas a renglones\r\n",
        "\r\n",
        "df_investment_of_gdp.head(5)\r\n",
        "df_investment_of_gdp.tail(5)\r\n",
        "#podemos eliminar columna 'Code', renombrar columnas ('Entity' hace referencia a país)\r\n",
        "\r\n",
        "df_renew_energy_of_total.head(5)\r\n",
        "df_renew_energy_of_total.tail(5)\r\n",
        "#podemos eliminar columna 'Code', renombrar columnas ('Entity' hace referencia a país), redondear a dos decimales\r\n"
      ],
      "execution_count": null,
      "outputs": [
        {
          "output_type": "execute_result",
          "data": {
            "text/html": [
              "<div>\n",
              "<style scoped>\n",
              "    .dataframe tbody tr th:only-of-type {\n",
              "        vertical-align: middle;\n",
              "    }\n",
              "\n",
              "    .dataframe tbody tr th {\n",
              "        vertical-align: top;\n",
              "    }\n",
              "\n",
              "    .dataframe thead th {\n",
              "        text-align: right;\n",
              "    }\n",
              "</style>\n",
              "<table border=\"1\" class=\"dataframe\">\n",
              "  <thead>\n",
              "    <tr style=\"text-align: right;\">\n",
              "      <th></th>\n",
              "      <th>Entity</th>\n",
              "      <th>Code</th>\n",
              "      <th>Year</th>\n",
              "      <th>Renewable energy consumption (% of total final energy consumption)</th>\n",
              "    </tr>\n",
              "  </thead>\n",
              "  <tbody>\n",
              "    <tr>\n",
              "      <th>6583</th>\n",
              "      <td>Zimbabwe</td>\n",
              "      <td>ZWE</td>\n",
              "      <td>2011</td>\n",
              "      <td>79.574227</td>\n",
              "    </tr>\n",
              "    <tr>\n",
              "      <th>6584</th>\n",
              "      <td>Zimbabwe</td>\n",
              "      <td>ZWE</td>\n",
              "      <td>2012</td>\n",
              "      <td>78.019702</td>\n",
              "    </tr>\n",
              "    <tr>\n",
              "      <th>6585</th>\n",
              "      <td>Zimbabwe</td>\n",
              "      <td>ZWE</td>\n",
              "      <td>2013</td>\n",
              "      <td>79.561094</td>\n",
              "    </tr>\n",
              "    <tr>\n",
              "      <th>6586</th>\n",
              "      <td>Zimbabwe</td>\n",
              "      <td>ZWE</td>\n",
              "      <td>2014</td>\n",
              "      <td>81.049292</td>\n",
              "    </tr>\n",
              "    <tr>\n",
              "      <th>6587</th>\n",
              "      <td>Zimbabwe</td>\n",
              "      <td>ZWE</td>\n",
              "      <td>2015</td>\n",
              "      <td>81.797809</td>\n",
              "    </tr>\n",
              "  </tbody>\n",
              "</table>\n",
              "</div>"
            ],
            "text/plain": [
              "        Entity  ... Renewable energy consumption (% of total final energy consumption)\n",
              "6583  Zimbabwe  ...                                          79.574227                \n",
              "6584  Zimbabwe  ...                                          78.019702                \n",
              "6585  Zimbabwe  ...                                          79.561094                \n",
              "6586  Zimbabwe  ...                                          81.049292                \n",
              "6587  Zimbabwe  ...                                          81.797809                \n",
              "\n",
              "[5 rows x 4 columns]"
            ]
          },
          "metadata": {
            "tags": []
          },
          "execution_count": 77
        }
      ]
    },
    {
      "cell_type": "markdown",
      "metadata": {
        "id": "w3T3HPaoD9Df"
      },
      "source": [
        "Ya que la columna correspondiente a los códigos por región es irelevante para el análisis, se eliminará."
      ]
    },
    {
      "cell_type": "code",
      "metadata": {
        "id": "2-xAbasLEAdb",
        "colab": {
          "base_uri": "https://localhost:8080/"
        },
        "outputId": "0cac91c1-d642-4622-d7bd-e4876845ab99"
      },
      "source": [
        "###limpiar datos\r\n",
        "df_annual_change.isna().sum() \r\n",
        "#'Code' = 162\r\n",
        "\r\n",
        "df_annual_change_dropped = df_annual_change.drop(columns= 'Code')\r\n",
        "\r\n",
        "df_annual_change_dropped.isna().sum()\r\n",
        "\r\n",
        "df_annual_change.isna().sum()\r\n",
        "\r\n",
        "column_name = {'Entity': 'country',\r\n",
        "               'Year': 'year',\r\n",
        "               'Renewables (% growth)': 'percent_growth'}\r\n",
        "\r\n",
        "df_annual_change_dropped = df_annual_change_dropped.rename(columns= column_name)\r\n",
        "\r\n",
        "df_annual_change_dropped.columns\r\n",
        "\r\n",
        "decimals = 2 \r\n",
        "\r\n",
        "df_annual_change_dropped['percent_growth'] = df_annual_change_dropped['percent_growth'].apply(lambda x: round(x, decimals))\r\n",
        "\r\n",
        "df_annual_change_dropped['percent_growth']\r\n",
        "\r\n",
        "\r\n",
        "df_renew_energy_capacity.isna().sum() \r\n",
        "#no Nas\r\n",
        "\r\n",
        "column_name = {'Entity': 'energy_type',\r\n",
        "               'Year': 'year',\r\n",
        "               'Renewable Energy Capacity by Technology (IRENA (2017))': 'renewable_energy_capacity'}\r\n",
        "\r\n",
        "df_renew_energy_capacity = df_renew_energy_capacity.rename(columns= column_name)\r\n",
        "\r\n",
        "df_renew_energy_capacity.columns\r\n",
        "\r\n",
        "df_investment_by_tech.isna().sum() \r\n",
        "#no Nas\r\n",
        "\r\n",
        "column_name = {'Year': 'year',\r\n",
        "               'Solar Energy': 'solar_energy',\r\n",
        "               'Wind Energy': 'wind_energy',\r\n",
        "               'Biomass & Waste-to-Energy': 'biomass_energy',\r\n",
        "               'Liquid Biofuels': 'liquid_biofuels',\r\n",
        "               'Small Hydropower': 'small_hydropower',\r\n",
        "               'Geothermal Energy': 'geothermal_energy',\r\n",
        "               'Marine Energy': 'marine_energy'\r\n",
        "               }\r\n",
        "\r\n",
        "df_investment_by_tech = df_investment_by_tech.rename(columns= column_name)\r\n",
        "\r\n",
        "df_investment_by_tech.columns\r\n",
        "\r\n",
        "df_investment_of_gdp.isna().sum() \r\n",
        "#'Code' has Nas\r\n",
        "\r\n",
        "df_investment_of_gdp_dropped = df_investment_of_gdp.drop(columns= 'Code')\r\n",
        "\r\n",
        "column_name = {'Entity': 'country',\r\n",
        "               'Renewable Investment (% of GDP) (BNEP and World Bank)': 'invest_percent_of_gdp'\r\n",
        "               }\r\n",
        "\r\n",
        "df_investment_of_gdp_dropped = df_investment_of_gdp_dropped.rename(columns= column_name)\r\n",
        "\r\n",
        "df_investment_of_gdp_dropped.columns\r\n",
        "\r\n",
        "\r\n",
        "df_renew_energy_of_total.isna().sum() \r\n",
        "#Code has 1196 Nas\r\n",
        "\r\n",
        "df_renew_energy_of_total_dropped = df_renew_energy_of_total.drop(columns= 'Code')\r\n",
        "\r\n",
        "column_name = {'Entity': 'country',\r\n",
        "               'Year': 'year',\r\n",
        "               'Renewable energy consumption (% of total final energy consumption)': 'consumption_of_total'\r\n",
        "               }\r\n",
        "\r\n",
        "df_renew_energy_of_total_dropped = df_renew_energy_of_total_dropped.rename(columns= column_name)\r\n",
        "\r\n",
        "df_renew_energy_of_total_dropped.columns\r\n",
        "df_renew_energy_of_total_dropped.head()\r\n",
        "\r\n",
        "# tenemos 6 decimales en 'consumption_of_total'\r\n",
        "\r\n",
        "decimals = 2 \r\n",
        "\r\n",
        "df_renew_energy_of_total_dropped['consumption_of_total'] = df_renew_energy_of_total_dropped['consumption_of_total'].apply(lambda x: round(x, decimals))\r\n",
        "\r\n",
        "df_renew_energy_of_total_dropped['consumption_of_total']"
      ],
      "execution_count": null,
      "outputs": [
        {
          "output_type": "execute_result",
          "data": {
            "text/plain": [
              "0       15.92\n",
              "1       17.04\n",
              "2       26.52\n",
              "3       30.59\n",
              "4       32.80\n",
              "        ...  \n",
              "6583    79.57\n",
              "6584    78.02\n",
              "6585    79.56\n",
              "6586    81.05\n",
              "6587    81.80\n",
              "Name: consumption_of_total, Length: 6588, dtype: float64"
            ]
          },
          "metadata": {
            "tags": []
          },
          "execution_count": 78
        }
      ]
    },
    {
      "cell_type": "code",
      "metadata": {
        "id": "t2L2YHEjEr8C",
        "colab": {
          "base_uri": "https://localhost:8080/",
          "height": 253
        },
        "outputId": "64ff0f71-c58c-4e04-c2cb-6dc17c8decd2"
      },
      "source": [
        "df_investment_by_tech = pd.melt(df_investment_by_tech, id_vars= 'year', var_name= 'type_of_energy', value_name= '$')\r\n",
        "\r\n",
        "df_investment_by_tech.head()"
      ],
      "execution_count": null,
      "outputs": [
        {
          "output_type": "stream",
          "text": [
            "/usr/local/lib/python3.7/dist-packages/IPython/core/interactiveshell.py:2882: FutureWarning: This dataframe has a column name that matches the 'value_name' column name of the resultiing Dataframe. In the future this will raise an error, please set the 'value_name' parameter of DataFrame.melt to a unique name.\n",
            "  exec(code_obj, self.user_global_ns, self.user_ns)\n"
          ],
          "name": "stderr"
        },
        {
          "output_type": "execute_result",
          "data": {
            "text/html": [
              "<div>\n",
              "<style scoped>\n",
              "    .dataframe tbody tr th:only-of-type {\n",
              "        vertical-align: middle;\n",
              "    }\n",
              "\n",
              "    .dataframe tbody tr th {\n",
              "        vertical-align: top;\n",
              "    }\n",
              "\n",
              "    .dataframe thead th {\n",
              "        text-align: right;\n",
              "    }\n",
              "</style>\n",
              "<table border=\"1\" class=\"dataframe\">\n",
              "  <thead>\n",
              "    <tr style=\"text-align: right;\">\n",
              "      <th></th>\n",
              "      <th>year</th>\n",
              "      <th>type_of_energy</th>\n",
              "      <th>$</th>\n",
              "    </tr>\n",
              "  </thead>\n",
              "  <tbody>\n",
              "    <tr>\n",
              "      <th>0</th>\n",
              "      <td>2004</td>\n",
              "      <td>type_of_energy</td>\n",
              "      <td>solar_energy</td>\n",
              "    </tr>\n",
              "    <tr>\n",
              "      <th>1</th>\n",
              "      <td>2005</td>\n",
              "      <td>type_of_energy</td>\n",
              "      <td>solar_energy</td>\n",
              "    </tr>\n",
              "    <tr>\n",
              "      <th>2</th>\n",
              "      <td>2006</td>\n",
              "      <td>type_of_energy</td>\n",
              "      <td>solar_energy</td>\n",
              "    </tr>\n",
              "    <tr>\n",
              "      <th>3</th>\n",
              "      <td>2007</td>\n",
              "      <td>type_of_energy</td>\n",
              "      <td>solar_energy</td>\n",
              "    </tr>\n",
              "    <tr>\n",
              "      <th>4</th>\n",
              "      <td>2008</td>\n",
              "      <td>type_of_energy</td>\n",
              "      <td>solar_energy</td>\n",
              "    </tr>\n",
              "  </tbody>\n",
              "</table>\n",
              "</div>"
            ],
            "text/plain": [
              "   year  type_of_energy             $\n",
              "0  2004  type_of_energy  solar_energy\n",
              "1  2005  type_of_energy  solar_energy\n",
              "2  2006  type_of_energy  solar_energy\n",
              "3  2007  type_of_energy  solar_energy\n",
              "4  2008  type_of_energy  solar_energy"
            ]
          },
          "metadata": {
            "tags": []
          },
          "execution_count": 79
        }
      ]
    },
    {
      "cell_type": "code",
      "metadata": {
        "id": "4D8gr3abFJP5",
        "colab": {
          "base_uri": "https://localhost:8080/",
          "height": 436
        },
        "outputId": "8bc64a54-4272-4743-e289-e7f8aa3e00d4"
      },
      "source": [
        "df_annual_change_dropped.set_index('year')\r\n",
        "df_renew_energy_capacity.set_index('year')\r\n",
        "df_investment_by_tech.set_index('year')\r\n",
        "df_investment_of_gdp_dropped.set_index('country')\r\n",
        "df_renew_energy_of_total_dropped.set_index('year')"
      ],
      "execution_count": null,
      "outputs": [
        {
          "output_type": "execute_result",
          "data": {
            "text/html": [
              "<div>\n",
              "<style scoped>\n",
              "    .dataframe tbody tr th:only-of-type {\n",
              "        vertical-align: middle;\n",
              "    }\n",
              "\n",
              "    .dataframe tbody tr th {\n",
              "        vertical-align: top;\n",
              "    }\n",
              "\n",
              "    .dataframe thead th {\n",
              "        text-align: right;\n",
              "    }\n",
              "</style>\n",
              "<table border=\"1\" class=\"dataframe\">\n",
              "  <thead>\n",
              "    <tr style=\"text-align: right;\">\n",
              "      <th></th>\n",
              "      <th>country</th>\n",
              "      <th>consumption_of_total</th>\n",
              "    </tr>\n",
              "    <tr>\n",
              "      <th>year</th>\n",
              "      <th></th>\n",
              "      <th></th>\n",
              "    </tr>\n",
              "  </thead>\n",
              "  <tbody>\n",
              "    <tr>\n",
              "      <th>1990</th>\n",
              "      <td>Afghanistan</td>\n",
              "      <td>15.92</td>\n",
              "    </tr>\n",
              "    <tr>\n",
              "      <th>1991</th>\n",
              "      <td>Afghanistan</td>\n",
              "      <td>17.04</td>\n",
              "    </tr>\n",
              "    <tr>\n",
              "      <th>1992</th>\n",
              "      <td>Afghanistan</td>\n",
              "      <td>26.52</td>\n",
              "    </tr>\n",
              "    <tr>\n",
              "      <th>1993</th>\n",
              "      <td>Afghanistan</td>\n",
              "      <td>30.59</td>\n",
              "    </tr>\n",
              "    <tr>\n",
              "      <th>1994</th>\n",
              "      <td>Afghanistan</td>\n",
              "      <td>32.80</td>\n",
              "    </tr>\n",
              "    <tr>\n",
              "      <th>...</th>\n",
              "      <td>...</td>\n",
              "      <td>...</td>\n",
              "    </tr>\n",
              "    <tr>\n",
              "      <th>2011</th>\n",
              "      <td>Zimbabwe</td>\n",
              "      <td>79.57</td>\n",
              "    </tr>\n",
              "    <tr>\n",
              "      <th>2012</th>\n",
              "      <td>Zimbabwe</td>\n",
              "      <td>78.02</td>\n",
              "    </tr>\n",
              "    <tr>\n",
              "      <th>2013</th>\n",
              "      <td>Zimbabwe</td>\n",
              "      <td>79.56</td>\n",
              "    </tr>\n",
              "    <tr>\n",
              "      <th>2014</th>\n",
              "      <td>Zimbabwe</td>\n",
              "      <td>81.05</td>\n",
              "    </tr>\n",
              "    <tr>\n",
              "      <th>2015</th>\n",
              "      <td>Zimbabwe</td>\n",
              "      <td>81.80</td>\n",
              "    </tr>\n",
              "  </tbody>\n",
              "</table>\n",
              "<p>6588 rows × 2 columns</p>\n",
              "</div>"
            ],
            "text/plain": [
              "          country  consumption_of_total\n",
              "year                                   \n",
              "1990  Afghanistan                 15.92\n",
              "1991  Afghanistan                 17.04\n",
              "1992  Afghanistan                 26.52\n",
              "1993  Afghanistan                 30.59\n",
              "1994  Afghanistan                 32.80\n",
              "...           ...                   ...\n",
              "2011     Zimbabwe                 79.57\n",
              "2012     Zimbabwe                 78.02\n",
              "2013     Zimbabwe                 79.56\n",
              "2014     Zimbabwe                 81.05\n",
              "2015     Zimbabwe                 81.80\n",
              "\n",
              "[6588 rows x 2 columns]"
            ]
          },
          "metadata": {
            "tags": []
          },
          "execution_count": 80
        }
      ]
    },
    {
      "cell_type": "code",
      "metadata": {
        "id": "KPjIG3UJGg3W",
        "colab": {
          "base_uri": "https://localhost:8080/",
          "height": 426
        },
        "outputId": "2e612578-4954-4219-b8e1-89be5e2923c6"
      },
      "source": [
        "df_investment_of_gdp_dropped['year']= 2015\r\n",
        "df_investment_of_gdp_dropped.tail()\r\n",
        "\r\n",
        "df_investment_by_tech['country'] = 'World'\r\n",
        "df_renew_energy_capacity['country'] = 'World'\r\n",
        "\r\n",
        "multindex = ['year', 'country']\r\n",
        "#dfs = [df_annual_change_dropped, df_investment_by_tech, df_investment_of_gdp_dropped, df_renew_energy_capacity, df_renew_energy_of_total_dropped]\r\n",
        "\r\n",
        "new_df = df_annual_change_dropped.merge(df_investment_by_tech, how= 'outer', on= multindex)\r\n",
        "\r\n",
        "new_df2 = new_df.merge(df_investment_of_gdp_dropped, how= 'outer', on= multindex)\r\n",
        "new_df2\r\n",
        "\r\n",
        "new_df3= new_df2.merge(df_renew_energy_capacity, how= 'outer', on= multindex)\r\n",
        "new_df3\r\n",
        "\r\n",
        "new_df4 = new_df3.merge(df_renew_energy_of_total_dropped,  how= 'outer', on= multindex)\r\n",
        "new_df4\r\n"
      ],
      "execution_count": null,
      "outputs": [
        {
          "output_type": "execute_result",
          "data": {
            "text/html": [
              "<div>\n",
              "<style scoped>\n",
              "    .dataframe tbody tr th:only-of-type {\n",
              "        vertical-align: middle;\n",
              "    }\n",
              "\n",
              "    .dataframe tbody tr th {\n",
              "        vertical-align: top;\n",
              "    }\n",
              "\n",
              "    .dataframe thead th {\n",
              "        text-align: right;\n",
              "    }\n",
              "</style>\n",
              "<table border=\"1\" class=\"dataframe\">\n",
              "  <thead>\n",
              "    <tr style=\"text-align: right;\">\n",
              "      <th></th>\n",
              "      <th>country</th>\n",
              "      <th>year</th>\n",
              "      <th>percent_growth</th>\n",
              "      <th>type_of_energy</th>\n",
              "      <th>$</th>\n",
              "      <th>invest_percent_of_gdp</th>\n",
              "      <th>energy_type</th>\n",
              "      <th>renewable_energy_capacity</th>\n",
              "      <th>consumption_of_total</th>\n",
              "    </tr>\n",
              "  </thead>\n",
              "  <tbody>\n",
              "    <tr>\n",
              "      <th>0</th>\n",
              "      <td>Africa</td>\n",
              "      <td>1966</td>\n",
              "      <td>11.54</td>\n",
              "      <td>NaN</td>\n",
              "      <td>NaN</td>\n",
              "      <td>NaN</td>\n",
              "      <td>NaN</td>\n",
              "      <td>NaN</td>\n",
              "      <td>NaN</td>\n",
              "    </tr>\n",
              "    <tr>\n",
              "      <th>1</th>\n",
              "      <td>Africa</td>\n",
              "      <td>1967</td>\n",
              "      <td>4.39</td>\n",
              "      <td>NaN</td>\n",
              "      <td>NaN</td>\n",
              "      <td>NaN</td>\n",
              "      <td>NaN</td>\n",
              "      <td>NaN</td>\n",
              "      <td>NaN</td>\n",
              "    </tr>\n",
              "    <tr>\n",
              "      <th>2</th>\n",
              "      <td>Africa</td>\n",
              "      <td>1968</td>\n",
              "      <td>16.97</td>\n",
              "      <td>NaN</td>\n",
              "      <td>NaN</td>\n",
              "      <td>NaN</td>\n",
              "      <td>NaN</td>\n",
              "      <td>NaN</td>\n",
              "      <td>NaN</td>\n",
              "    </tr>\n",
              "    <tr>\n",
              "      <th>3</th>\n",
              "      <td>Africa</td>\n",
              "      <td>1969</td>\n",
              "      <td>16.70</td>\n",
              "      <td>NaN</td>\n",
              "      <td>NaN</td>\n",
              "      <td>NaN</td>\n",
              "      <td>NaN</td>\n",
              "      <td>NaN</td>\n",
              "      <td>NaN</td>\n",
              "    </tr>\n",
              "    <tr>\n",
              "      <th>4</th>\n",
              "      <td>Africa</td>\n",
              "      <td>1970</td>\n",
              "      <td>25.02</td>\n",
              "      <td>NaN</td>\n",
              "      <td>NaN</td>\n",
              "      <td>NaN</td>\n",
              "      <td>NaN</td>\n",
              "      <td>NaN</td>\n",
              "      <td>NaN</td>\n",
              "    </tr>\n",
              "    <tr>\n",
              "      <th>...</th>\n",
              "      <td>...</td>\n",
              "      <td>...</td>\n",
              "      <td>...</td>\n",
              "      <td>...</td>\n",
              "      <td>...</td>\n",
              "      <td>...</td>\n",
              "      <td>...</td>\n",
              "      <td>...</td>\n",
              "      <td>...</td>\n",
              "    </tr>\n",
              "    <tr>\n",
              "      <th>10127</th>\n",
              "      <td>Zimbabwe</td>\n",
              "      <td>2011</td>\n",
              "      <td>NaN</td>\n",
              "      <td>NaN</td>\n",
              "      <td>NaN</td>\n",
              "      <td>NaN</td>\n",
              "      <td>NaN</td>\n",
              "      <td>NaN</td>\n",
              "      <td>79.57</td>\n",
              "    </tr>\n",
              "    <tr>\n",
              "      <th>10128</th>\n",
              "      <td>Zimbabwe</td>\n",
              "      <td>2012</td>\n",
              "      <td>NaN</td>\n",
              "      <td>NaN</td>\n",
              "      <td>NaN</td>\n",
              "      <td>NaN</td>\n",
              "      <td>NaN</td>\n",
              "      <td>NaN</td>\n",
              "      <td>78.02</td>\n",
              "    </tr>\n",
              "    <tr>\n",
              "      <th>10129</th>\n",
              "      <td>Zimbabwe</td>\n",
              "      <td>2013</td>\n",
              "      <td>NaN</td>\n",
              "      <td>NaN</td>\n",
              "      <td>NaN</td>\n",
              "      <td>NaN</td>\n",
              "      <td>NaN</td>\n",
              "      <td>NaN</td>\n",
              "      <td>79.56</td>\n",
              "    </tr>\n",
              "    <tr>\n",
              "      <th>10130</th>\n",
              "      <td>Zimbabwe</td>\n",
              "      <td>2014</td>\n",
              "      <td>NaN</td>\n",
              "      <td>NaN</td>\n",
              "      <td>NaN</td>\n",
              "      <td>NaN</td>\n",
              "      <td>NaN</td>\n",
              "      <td>NaN</td>\n",
              "      <td>81.05</td>\n",
              "    </tr>\n",
              "    <tr>\n",
              "      <th>10131</th>\n",
              "      <td>Zimbabwe</td>\n",
              "      <td>2015</td>\n",
              "      <td>NaN</td>\n",
              "      <td>NaN</td>\n",
              "      <td>NaN</td>\n",
              "      <td>NaN</td>\n",
              "      <td>NaN</td>\n",
              "      <td>NaN</td>\n",
              "      <td>81.80</td>\n",
              "    </tr>\n",
              "  </tbody>\n",
              "</table>\n",
              "<p>10132 rows × 9 columns</p>\n",
              "</div>"
            ],
            "text/plain": [
              "        country  year  ...  renewable_energy_capacity consumption_of_total\n",
              "0        Africa  1966  ...                        NaN                  NaN\n",
              "1        Africa  1967  ...                        NaN                  NaN\n",
              "2        Africa  1968  ...                        NaN                  NaN\n",
              "3        Africa  1969  ...                        NaN                  NaN\n",
              "4        Africa  1970  ...                        NaN                  NaN\n",
              "...         ...   ...  ...                        ...                  ...\n",
              "10127  Zimbabwe  2011  ...                        NaN                79.57\n",
              "10128  Zimbabwe  2012  ...                        NaN                78.02\n",
              "10129  Zimbabwe  2013  ...                        NaN                79.56\n",
              "10130  Zimbabwe  2014  ...                        NaN                81.05\n",
              "10131  Zimbabwe  2015  ...                        NaN                81.80\n",
              "\n",
              "[10132 rows x 9 columns]"
            ]
          },
          "metadata": {
            "tags": []
          },
          "execution_count": 81
        }
      ]
    },
    {
      "cell_type": "markdown",
      "metadata": {
        "id": "u1c_7KtBG0jF"
      },
      "source": [
        "Filtramos únicamente los datos correspondientes a la ventana temporal del estudio: 2000-2019."
      ]
    },
    {
      "cell_type": "code",
      "metadata": {
        "id": "cZ8HYLq5G1GO",
        "colab": {
          "base_uri": "https://localhost:8080/",
          "height": 426
        },
        "outputId": "1b476a97-ac6b-48ee-8f33-820410219438"
      },
      "source": [
        "df = new_df4.fillna('')\r\n",
        "df\r\n",
        "\r\n",
        "df = df[df['year'] >= 2000]\r\n",
        "df"
      ],
      "execution_count": null,
      "outputs": [
        {
          "output_type": "execute_result",
          "data": {
            "text/html": [
              "<div>\n",
              "<style scoped>\n",
              "    .dataframe tbody tr th:only-of-type {\n",
              "        vertical-align: middle;\n",
              "    }\n",
              "\n",
              "    .dataframe tbody tr th {\n",
              "        vertical-align: top;\n",
              "    }\n",
              "\n",
              "    .dataframe thead th {\n",
              "        text-align: right;\n",
              "    }\n",
              "</style>\n",
              "<table border=\"1\" class=\"dataframe\">\n",
              "  <thead>\n",
              "    <tr style=\"text-align: right;\">\n",
              "      <th></th>\n",
              "      <th>country</th>\n",
              "      <th>year</th>\n",
              "      <th>percent_growth</th>\n",
              "      <th>type_of_energy</th>\n",
              "      <th>$</th>\n",
              "      <th>invest_percent_of_gdp</th>\n",
              "      <th>energy_type</th>\n",
              "      <th>renewable_energy_capacity</th>\n",
              "      <th>consumption_of_total</th>\n",
              "    </tr>\n",
              "  </thead>\n",
              "  <tbody>\n",
              "    <tr>\n",
              "      <th>34</th>\n",
              "      <td>Africa</td>\n",
              "      <td>2000</td>\n",
              "      <td>7.33</td>\n",
              "      <td></td>\n",
              "      <td></td>\n",
              "      <td></td>\n",
              "      <td></td>\n",
              "      <td></td>\n",
              "      <td></td>\n",
              "    </tr>\n",
              "    <tr>\n",
              "      <th>35</th>\n",
              "      <td>Africa</td>\n",
              "      <td>2001</td>\n",
              "      <td>6.93</td>\n",
              "      <td></td>\n",
              "      <td></td>\n",
              "      <td></td>\n",
              "      <td></td>\n",
              "      <td></td>\n",
              "      <td></td>\n",
              "    </tr>\n",
              "    <tr>\n",
              "      <th>36</th>\n",
              "      <td>Africa</td>\n",
              "      <td>2002</td>\n",
              "      <td>4.46</td>\n",
              "      <td></td>\n",
              "      <td></td>\n",
              "      <td></td>\n",
              "      <td></td>\n",
              "      <td></td>\n",
              "      <td></td>\n",
              "    </tr>\n",
              "    <tr>\n",
              "      <th>37</th>\n",
              "      <td>Africa</td>\n",
              "      <td>2003</td>\n",
              "      <td>-2.76</td>\n",
              "      <td></td>\n",
              "      <td></td>\n",
              "      <td></td>\n",
              "      <td></td>\n",
              "      <td></td>\n",
              "      <td></td>\n",
              "    </tr>\n",
              "    <tr>\n",
              "      <th>38</th>\n",
              "      <td>Africa</td>\n",
              "      <td>2004</td>\n",
              "      <td>5.28</td>\n",
              "      <td></td>\n",
              "      <td></td>\n",
              "      <td></td>\n",
              "      <td></td>\n",
              "      <td></td>\n",
              "      <td></td>\n",
              "    </tr>\n",
              "    <tr>\n",
              "      <th>...</th>\n",
              "      <td>...</td>\n",
              "      <td>...</td>\n",
              "      <td>...</td>\n",
              "      <td>...</td>\n",
              "      <td>...</td>\n",
              "      <td>...</td>\n",
              "      <td>...</td>\n",
              "      <td>...</td>\n",
              "      <td>...</td>\n",
              "    </tr>\n",
              "    <tr>\n",
              "      <th>10127</th>\n",
              "      <td>Zimbabwe</td>\n",
              "      <td>2011</td>\n",
              "      <td></td>\n",
              "      <td></td>\n",
              "      <td></td>\n",
              "      <td></td>\n",
              "      <td></td>\n",
              "      <td></td>\n",
              "      <td>79.57</td>\n",
              "    </tr>\n",
              "    <tr>\n",
              "      <th>10128</th>\n",
              "      <td>Zimbabwe</td>\n",
              "      <td>2012</td>\n",
              "      <td></td>\n",
              "      <td></td>\n",
              "      <td></td>\n",
              "      <td></td>\n",
              "      <td></td>\n",
              "      <td></td>\n",
              "      <td>78.02</td>\n",
              "    </tr>\n",
              "    <tr>\n",
              "      <th>10129</th>\n",
              "      <td>Zimbabwe</td>\n",
              "      <td>2013</td>\n",
              "      <td></td>\n",
              "      <td></td>\n",
              "      <td></td>\n",
              "      <td></td>\n",
              "      <td></td>\n",
              "      <td></td>\n",
              "      <td>79.56</td>\n",
              "    </tr>\n",
              "    <tr>\n",
              "      <th>10130</th>\n",
              "      <td>Zimbabwe</td>\n",
              "      <td>2014</td>\n",
              "      <td></td>\n",
              "      <td></td>\n",
              "      <td></td>\n",
              "      <td></td>\n",
              "      <td></td>\n",
              "      <td></td>\n",
              "      <td>81.05</td>\n",
              "    </tr>\n",
              "    <tr>\n",
              "      <th>10131</th>\n",
              "      <td>Zimbabwe</td>\n",
              "      <td>2015</td>\n",
              "      <td></td>\n",
              "      <td></td>\n",
              "      <td></td>\n",
              "      <td></td>\n",
              "      <td></td>\n",
              "      <td></td>\n",
              "      <td>81.8</td>\n",
              "    </tr>\n",
              "  </tbody>\n",
              "</table>\n",
              "<p>6130 rows × 9 columns</p>\n",
              "</div>"
            ],
            "text/plain": [
              "        country  year  ... renewable_energy_capacity consumption_of_total\n",
              "34       Africa  2000  ...                                               \n",
              "35       Africa  2001  ...                                               \n",
              "36       Africa  2002  ...                                               \n",
              "37       Africa  2003  ...                                               \n",
              "38       Africa  2004  ...                                               \n",
              "...         ...   ...  ...                       ...                  ...\n",
              "10127  Zimbabwe  2011  ...                                          79.57\n",
              "10128  Zimbabwe  2012  ...                                          78.02\n",
              "10129  Zimbabwe  2013  ...                                          79.56\n",
              "10130  Zimbabwe  2014  ...                                          81.05\n",
              "10131  Zimbabwe  2015  ...                                           81.8\n",
              "\n",
              "[6130 rows x 9 columns]"
            ]
          },
          "metadata": {
            "tags": []
          },
          "execution_count": 82
        }
      ]
    },
    {
      "cell_type": "markdown",
      "metadata": {
        "id": "UtzwvPboH0ZZ"
      },
      "source": [
        "### Resumen de los datos"
      ]
    },
    {
      "cell_type": "markdown",
      "metadata": {
        "id": "n_mtFATGN-qS"
      },
      "source": [
        "#### **Consumo de energía Per Cápita**\r\n",
        "\r\n",
        "---"
      ]
    },
    {
      "cell_type": "markdown",
      "metadata": {
        "id": "904zF-g1OABt"
      },
      "source": [
        "Como puede observarse en la siguiente tabla, el consumo de energías renovables ha sido variable en el último siglo, alcanzando su valor máximo en el último año, lo cual parece mostrar que vamos por buen camino. Se muestra también que a pesar de haber una disminución en el consumo de energía hidráulica, tanto el de energía solar como eólica ha ido en aumento, lo cual explica la variación y poco aumento del consumo de energías renovables en total."
      ]
    },
    {
      "cell_type": "code",
      "metadata": {
        "colab": {
          "base_uri": "https://localhost:8080/",
          "height": 665
        },
        "id": "uiMbbp2SOBuq",
        "outputId": "6cac3ffd-9d2a-4585-dc3d-f186a4e45503"
      },
      "source": [
        "print('Consumo de Energías renovables en México (2000-2019)')\r\n",
        "df_00_19.loc['mexico']"
      ],
      "execution_count": null,
      "outputs": [
        {
          "output_type": "stream",
          "text": [
            "Consumo de Energías renovables en México (2000-2019)\n"
          ],
          "name": "stdout"
        },
        {
          "output_type": "execute_result",
          "data": {
            "text/html": [
              "<div>\n",
              "<style scoped>\n",
              "    .dataframe tbody tr th:only-of-type {\n",
              "        vertical-align: middle;\n",
              "    }\n",
              "\n",
              "    .dataframe tbody tr th {\n",
              "        vertical-align: top;\n",
              "    }\n",
              "\n",
              "    .dataframe thead th {\n",
              "        text-align: right;\n",
              "    }\n",
              "</style>\n",
              "<table border=\"1\" class=\"dataframe\">\n",
              "  <thead>\n",
              "    <tr style=\"text-align: right;\">\n",
              "      <th></th>\n",
              "      <th>year</th>\n",
              "      <th>renewables_per_capita_(kwh)</th>\n",
              "      <th>hydro_per_capita_(kwh)</th>\n",
              "      <th>solar_per_capita_(kwh)</th>\n",
              "      <th>wind_per_capita_(kwh)</th>\n",
              "    </tr>\n",
              "  </thead>\n",
              "  <tbody>\n",
              "    <tr>\n",
              "      <th>mexico</th>\n",
              "      <td>2000</td>\n",
              "      <td>1108.290</td>\n",
              "      <td>928.966</td>\n",
              "      <td>0.197</td>\n",
              "      <td>0.534</td>\n",
              "    </tr>\n",
              "    <tr>\n",
              "      <th>mexico</th>\n",
              "      <td>2001</td>\n",
              "      <td>955.028</td>\n",
              "      <td>782.410</td>\n",
              "      <td>0.220</td>\n",
              "      <td>0.495</td>\n",
              "    </tr>\n",
              "    <tr>\n",
              "      <th>mexico</th>\n",
              "      <td>2002</td>\n",
              "      <td>843.907</td>\n",
              "      <td>670.393</td>\n",
              "      <td>0.216</td>\n",
              "      <td>0.566</td>\n",
              "    </tr>\n",
              "    <tr>\n",
              "      <th>mexico</th>\n",
              "      <td>2003</td>\n",
              "      <td>717.852</td>\n",
              "      <td>524.680</td>\n",
              "      <td>0.211</td>\n",
              "      <td>0.502</td>\n",
              "    </tr>\n",
              "    <tr>\n",
              "      <th>mexico</th>\n",
              "      <td>2004</td>\n",
              "      <td>849.764</td>\n",
              "      <td>652.085</td>\n",
              "      <td>0.233</td>\n",
              "      <td>0.518</td>\n",
              "    </tr>\n",
              "    <tr>\n",
              "      <th>mexico</th>\n",
              "      <td>2005</td>\n",
              "      <td>919.985</td>\n",
              "      <td>703.127</td>\n",
              "      <td>0.228</td>\n",
              "      <td>0.482</td>\n",
              "    </tr>\n",
              "    <tr>\n",
              "      <th>mexico</th>\n",
              "      <td>2006</td>\n",
              "      <td>953.749</td>\n",
              "      <td>756.621</td>\n",
              "      <td>0.249</td>\n",
              "      <td>1.118</td>\n",
              "    </tr>\n",
              "    <tr>\n",
              "      <th>mexico</th>\n",
              "      <td>2007</td>\n",
              "      <td>881.394</td>\n",
              "      <td>665.205</td>\n",
              "      <td>0.219</td>\n",
              "      <td>6.034</td>\n",
              "    </tr>\n",
              "    <tr>\n",
              "      <th>mexico</th>\n",
              "      <td>2008</td>\n",
              "      <td>1138.339</td>\n",
              "      <td>934.363</td>\n",
              "      <td>0.453</td>\n",
              "      <td>6.074</td>\n",
              "    </tr>\n",
              "    <tr>\n",
              "      <th>mexico</th>\n",
              "      <td>2009</td>\n",
              "      <td>823.931</td>\n",
              "      <td>623.347</td>\n",
              "      <td>0.630</td>\n",
              "      <td>13.911</td>\n",
              "    </tr>\n",
              "    <tr>\n",
              "      <th>mexico</th>\n",
              "      <td>2010</td>\n",
              "      <td>1058.648</td>\n",
              "      <td>849.170</td>\n",
              "      <td>0.708</td>\n",
              "      <td>28.317</td>\n",
              "    </tr>\n",
              "    <tr>\n",
              "      <th>mexico</th>\n",
              "      <td>2011</td>\n",
              "      <td>1024.666</td>\n",
              "      <td>812.425</td>\n",
              "      <td>0.918</td>\n",
              "      <td>36.921</td>\n",
              "    </tr>\n",
              "    <tr>\n",
              "      <th>mexico</th>\n",
              "      <td>2012</td>\n",
              "      <td>942.592</td>\n",
              "      <td>700.874</td>\n",
              "      <td>1.515</td>\n",
              "      <td>81.009</td>\n",
              "    </tr>\n",
              "    <tr>\n",
              "      <th>mexico</th>\n",
              "      <td>2013</td>\n",
              "      <td>864.516</td>\n",
              "      <td>603.747</td>\n",
              "      <td>2.284</td>\n",
              "      <td>90.160</td>\n",
              "    </tr>\n",
              "    <tr>\n",
              "      <th>mexico</th>\n",
              "      <td>2014</td>\n",
              "      <td>1129.981</td>\n",
              "      <td>822.389</td>\n",
              "      <td>4.673</td>\n",
              "      <td>135.882</td>\n",
              "    </tr>\n",
              "    <tr>\n",
              "      <th>mexico</th>\n",
              "      <td>2015</td>\n",
              "      <td>999.343</td>\n",
              "      <td>641.306</td>\n",
              "      <td>5.107</td>\n",
              "      <td>181.548</td>\n",
              "    </tr>\n",
              "    <tr>\n",
              "      <th>mexico</th>\n",
              "      <td>2016</td>\n",
              "      <td>1009.830</td>\n",
              "      <td>625.928</td>\n",
              "      <td>5.144</td>\n",
              "      <td>211.612</td>\n",
              "    </tr>\n",
              "    <tr>\n",
              "      <th>mexico</th>\n",
              "      <td>2017</td>\n",
              "      <td>1048.039</td>\n",
              "      <td>638.092</td>\n",
              "      <td>23.773</td>\n",
              "      <td>212.775</td>\n",
              "    </tr>\n",
              "    <tr>\n",
              "      <th>mexico</th>\n",
              "      <td>2018</td>\n",
              "      <td>1116.305</td>\n",
              "      <td>639.816</td>\n",
              "      <td>62.631</td>\n",
              "      <td>257.785</td>\n",
              "    </tr>\n",
              "    <tr>\n",
              "      <th>mexico</th>\n",
              "      <td>2019</td>\n",
              "      <td>1213.589</td>\n",
              "      <td>461.766</td>\n",
              "      <td>241.444</td>\n",
              "      <td>341.582</td>\n",
              "    </tr>\n",
              "  </tbody>\n",
              "</table>\n",
              "</div>"
            ],
            "text/plain": [
              "        year  ...  wind_per_capita_(kwh)\n",
              "mexico  2000  ...                  0.534\n",
              "mexico  2001  ...                  0.495\n",
              "mexico  2002  ...                  0.566\n",
              "mexico  2003  ...                  0.502\n",
              "mexico  2004  ...                  0.518\n",
              "mexico  2005  ...                  0.482\n",
              "mexico  2006  ...                  1.118\n",
              "mexico  2007  ...                  6.034\n",
              "mexico  2008  ...                  6.074\n",
              "mexico  2009  ...                 13.911\n",
              "mexico  2010  ...                 28.317\n",
              "mexico  2011  ...                 36.921\n",
              "mexico  2012  ...                 81.009\n",
              "mexico  2013  ...                 90.160\n",
              "mexico  2014  ...                135.882\n",
              "mexico  2015  ...                181.548\n",
              "mexico  2016  ...                211.612\n",
              "mexico  2017  ...                212.775\n",
              "mexico  2018  ...                257.785\n",
              "mexico  2019  ...                341.582\n",
              "\n",
              "[20 rows x 5 columns]"
            ]
          },
          "metadata": {
            "tags": []
          },
          "execution_count": 83
        }
      ]
    },
    {
      "cell_type": "markdown",
      "metadata": {
        "id": "Y1QZJTFaPhCg"
      },
      "source": [
        "Veamos ahora la correspondiente al Mundo.\r\n",
        "\r\n",
        "\r\n",
        "Tanto los 3 tipos de energía renovables más importantes como el total de todas ellas ha ido en aumento desde el inicio del siglo, lo cual muestra un avance hacia el logro del Objetivo 7 de la Agenda 2030 para el Desarrollo Sustentable de la ONU.\r\n",
        "\r\n",
        "\r\n"
      ]
    },
    {
      "cell_type": "code",
      "metadata": {
        "colab": {
          "base_uri": "https://localhost:8080/",
          "height": 665
        },
        "id": "tABDEuoiPgwm",
        "outputId": "14e948cb-451b-46d2-d4dd-b68749ad10e0"
      },
      "source": [
        "print('Consumo de Energías renovables en el Mundo (2000-2019)')\r\n",
        "df_00_19.loc['world']"
      ],
      "execution_count": null,
      "outputs": [
        {
          "output_type": "stream",
          "text": [
            "Consumo de Energías renovables en el Mundo (2000-2019)\n"
          ],
          "name": "stdout"
        },
        {
          "output_type": "execute_result",
          "data": {
            "text/html": [
              "<div>\n",
              "<style scoped>\n",
              "    .dataframe tbody tr th:only-of-type {\n",
              "        vertical-align: middle;\n",
              "    }\n",
              "\n",
              "    .dataframe tbody tr th {\n",
              "        vertical-align: top;\n",
              "    }\n",
              "\n",
              "    .dataframe thead th {\n",
              "        text-align: right;\n",
              "    }\n",
              "</style>\n",
              "<table border=\"1\" class=\"dataframe\">\n",
              "  <thead>\n",
              "    <tr style=\"text-align: right;\">\n",
              "      <th></th>\n",
              "      <th>year</th>\n",
              "      <th>renewables_per_capita_(kwh)</th>\n",
              "      <th>hydro_per_capita_(kwh)</th>\n",
              "      <th>solar_per_capita_(kwh)</th>\n",
              "      <th>wind_per_capita_(kwh)</th>\n",
              "    </tr>\n",
              "  </thead>\n",
              "  <tbody>\n",
              "    <tr>\n",
              "      <th>world</th>\n",
              "      <td>2000</td>\n",
              "      <td>1318.438</td>\n",
              "      <td>1199.084</td>\n",
              "      <td>0.507</td>\n",
              "      <td>14.207</td>\n",
              "    </tr>\n",
              "    <tr>\n",
              "      <th>world</th>\n",
              "      <td>2001</td>\n",
              "      <td>1268.913</td>\n",
              "      <td>1145.957</td>\n",
              "      <td>0.621</td>\n",
              "      <td>17.026</td>\n",
              "    </tr>\n",
              "    <tr>\n",
              "      <th>world</th>\n",
              "      <td>2002</td>\n",
              "      <td>1281.657</td>\n",
              "      <td>1145.132</td>\n",
              "      <td>0.767</td>\n",
              "      <td>22.770</td>\n",
              "    </tr>\n",
              "    <tr>\n",
              "      <th>world</th>\n",
              "      <td>2003</td>\n",
              "      <td>1268.534</td>\n",
              "      <td>1121.820</td>\n",
              "      <td>0.964</td>\n",
              "      <td>26.862</td>\n",
              "    </tr>\n",
              "    <tr>\n",
              "      <th>world</th>\n",
              "      <td>2004</td>\n",
              "      <td>1348.134</td>\n",
              "      <td>1181.797</td>\n",
              "      <td>1.246</td>\n",
              "      <td>35.661</td>\n",
              "    </tr>\n",
              "    <tr>\n",
              "      <th>world</th>\n",
              "      <td>2005</td>\n",
              "      <td>1384.765</td>\n",
              "      <td>1199.133</td>\n",
              "      <td>1.713</td>\n",
              "      <td>42.798</td>\n",
              "    </tr>\n",
              "    <tr>\n",
              "      <th>world</th>\n",
              "      <td>2006</td>\n",
              "      <td>1432.626</td>\n",
              "      <td>1221.835</td>\n",
              "      <td>2.309</td>\n",
              "      <td>53.616</td>\n",
              "    </tr>\n",
              "    <tr>\n",
              "      <th>world</th>\n",
              "      <td>2007</td>\n",
              "      <td>1465.992</td>\n",
              "      <td>1219.737</td>\n",
              "      <td>3.078</td>\n",
              "      <td>67.627</td>\n",
              "    </tr>\n",
              "    <tr>\n",
              "      <th>world</th>\n",
              "      <td>2008</td>\n",
              "      <td>1559.443</td>\n",
              "      <td>1266.547</td>\n",
              "      <td>4.916</td>\n",
              "      <td>85.794</td>\n",
              "    </tr>\n",
              "    <tr>\n",
              "      <th>world</th>\n",
              "      <td>2009</td>\n",
              "      <td>1574.581</td>\n",
              "      <td>1241.537</td>\n",
              "      <td>8.005</td>\n",
              "      <td>105.374</td>\n",
              "    </tr>\n",
              "    <tr>\n",
              "      <th>world</th>\n",
              "      <td>2010</td>\n",
              "      <td>1675.008</td>\n",
              "      <td>1287.724</td>\n",
              "      <td>12.636</td>\n",
              "      <td>129.868</td>\n",
              "    </tr>\n",
              "    <tr>\n",
              "      <th>world</th>\n",
              "      <td>2011</td>\n",
              "      <td>1727.259</td>\n",
              "      <td>1288.545</td>\n",
              "      <td>23.968</td>\n",
              "      <td>162.166</td>\n",
              "    </tr>\n",
              "    <tr>\n",
              "      <th>world</th>\n",
              "      <td>2012</td>\n",
              "      <td>1810.606</td>\n",
              "      <td>1319.259</td>\n",
              "      <td>36.439</td>\n",
              "      <td>191.886</td>\n",
              "    </tr>\n",
              "    <tr>\n",
              "      <th>world</th>\n",
              "      <td>2013</td>\n",
              "      <td>1907.451</td>\n",
              "      <td>1354.242</td>\n",
              "      <td>49.395</td>\n",
              "      <td>225.743</td>\n",
              "    </tr>\n",
              "    <tr>\n",
              "      <th>world</th>\n",
              "      <td>2014</td>\n",
              "      <td>1968.720</td>\n",
              "      <td>1358.457</td>\n",
              "      <td>69.022</td>\n",
              "      <td>246.447</td>\n",
              "    </tr>\n",
              "    <tr>\n",
              "      <th>world</th>\n",
              "      <td>2015</td>\n",
              "      <td>2012.209</td>\n",
              "      <td>1331.632</td>\n",
              "      <td>88.043</td>\n",
              "      <td>285.058</td>\n",
              "    </tr>\n",
              "    <tr>\n",
              "      <th>world</th>\n",
              "      <td>2016</td>\n",
              "      <td>2098.487</td>\n",
              "      <td>1352.051</td>\n",
              "      <td>110.590</td>\n",
              "      <td>324.717</td>\n",
              "    </tr>\n",
              "    <tr>\n",
              "      <th>world</th>\n",
              "      <td>2017</td>\n",
              "      <td>2194.493</td>\n",
              "      <td>1346.697</td>\n",
              "      <td>148.038</td>\n",
              "      <td>377.913</td>\n",
              "    </tr>\n",
              "    <tr>\n",
              "      <th>world</th>\n",
              "      <td>2018</td>\n",
              "      <td>2298.676</td>\n",
              "      <td>1358.591</td>\n",
              "      <td>189.798</td>\n",
              "      <td>413.682</td>\n",
              "    </tr>\n",
              "    <tr>\n",
              "      <th>world</th>\n",
              "      <td>2019</td>\n",
              "      <td>2398.941</td>\n",
              "      <td>1355.438</td>\n",
              "      <td>232.450</td>\n",
              "      <td>458.944</td>\n",
              "    </tr>\n",
              "  </tbody>\n",
              "</table>\n",
              "</div>"
            ],
            "text/plain": [
              "       year  ...  wind_per_capita_(kwh)\n",
              "world  2000  ...                 14.207\n",
              "world  2001  ...                 17.026\n",
              "world  2002  ...                 22.770\n",
              "world  2003  ...                 26.862\n",
              "world  2004  ...                 35.661\n",
              "world  2005  ...                 42.798\n",
              "world  2006  ...                 53.616\n",
              "world  2007  ...                 67.627\n",
              "world  2008  ...                 85.794\n",
              "world  2009  ...                105.374\n",
              "world  2010  ...                129.868\n",
              "world  2011  ...                162.166\n",
              "world  2012  ...                191.886\n",
              "world  2013  ...                225.743\n",
              "world  2014  ...                246.447\n",
              "world  2015  ...                285.058\n",
              "world  2016  ...                324.717\n",
              "world  2017  ...                377.913\n",
              "world  2018  ...                413.682\n",
              "world  2019  ...                458.944\n",
              "\n",
              "[20 rows x 5 columns]"
            ]
          },
          "metadata": {
            "tags": []
          },
          "execution_count": 84
        }
      ]
    },
    {
      "cell_type": "markdown",
      "metadata": {
        "id": "i96z5296Ovs6"
      },
      "source": [
        "Los numeros a 2019 son similares para las energías Solar y Eólica, sin embargo existe gran diferencia entre el consumo de energías renovables en general y, claro, en la energía hidráulica que ha ido disminuyendo en nuestro país.\r\n",
        "\r\n",
        "\r\n",
        "\r\n",
        "En las tabla de resumen estadístico podemos observar mejor las diferencias:"
      ]
    },
    {
      "cell_type": "code",
      "metadata": {
        "colab": {
          "base_uri": "https://localhost:8080/",
          "height": 257
        },
        "id": "qiGRttEZOwIg",
        "outputId": "c5b9369a-ab22-4b02-d9cb-32674648d1e6"
      },
      "source": [
        "df_00_19.loc['mexico'].describe().drop(columns= 'year', index = 'count')"
      ],
      "execution_count": null,
      "outputs": [
        {
          "output_type": "execute_result",
          "data": {
            "text/html": [
              "<div>\n",
              "<style scoped>\n",
              "    .dataframe tbody tr th:only-of-type {\n",
              "        vertical-align: middle;\n",
              "    }\n",
              "\n",
              "    .dataframe tbody tr th {\n",
              "        vertical-align: top;\n",
              "    }\n",
              "\n",
              "    .dataframe thead th {\n",
              "        text-align: right;\n",
              "    }\n",
              "</style>\n",
              "<table border=\"1\" class=\"dataframe\">\n",
              "  <thead>\n",
              "    <tr style=\"text-align: right;\">\n",
              "      <th></th>\n",
              "      <th>renewables_per_capita_(kwh)</th>\n",
              "      <th>hydro_per_capita_(kwh)</th>\n",
              "      <th>solar_per_capita_(kwh)</th>\n",
              "      <th>wind_per_capita_(kwh)</th>\n",
              "    </tr>\n",
              "  </thead>\n",
              "  <tbody>\n",
              "    <tr>\n",
              "      <th>mean</th>\n",
              "      <td>979.987400</td>\n",
              "      <td>701.835500</td>\n",
              "      <td>17.552650</td>\n",
              "      <td>80.39125</td>\n",
              "    </tr>\n",
              "    <tr>\n",
              "      <th>std</th>\n",
              "      <td>127.563396</td>\n",
              "      <td>123.664322</td>\n",
              "      <td>54.630493</td>\n",
              "      <td>105.75013</td>\n",
              "    </tr>\n",
              "    <tr>\n",
              "      <th>min</th>\n",
              "      <td>717.852000</td>\n",
              "      <td>461.766000</td>\n",
              "      <td>0.197000</td>\n",
              "      <td>0.48200</td>\n",
              "    </tr>\n",
              "    <tr>\n",
              "      <th>25%</th>\n",
              "      <td>877.174500</td>\n",
              "      <td>635.051000</td>\n",
              "      <td>0.226000</td>\n",
              "      <td>0.55800</td>\n",
              "    </tr>\n",
              "    <tr>\n",
              "      <th>50%</th>\n",
              "      <td>977.185500</td>\n",
              "      <td>667.799000</td>\n",
              "      <td>0.669000</td>\n",
              "      <td>21.11400</td>\n",
              "    </tr>\n",
              "    <tr>\n",
              "      <th>75%</th>\n",
              "      <td>1071.058500</td>\n",
              "      <td>789.913750</td>\n",
              "      <td>4.781500</td>\n",
              "      <td>147.29850</td>\n",
              "    </tr>\n",
              "    <tr>\n",
              "      <th>max</th>\n",
              "      <td>1213.589000</td>\n",
              "      <td>934.363000</td>\n",
              "      <td>241.444000</td>\n",
              "      <td>341.58200</td>\n",
              "    </tr>\n",
              "  </tbody>\n",
              "</table>\n",
              "</div>"
            ],
            "text/plain": [
              "      renewables_per_capita_(kwh)  ...  wind_per_capita_(kwh)\n",
              "mean                   979.987400  ...               80.39125\n",
              "std                    127.563396  ...              105.75013\n",
              "min                    717.852000  ...                0.48200\n",
              "25%                    877.174500  ...                0.55800\n",
              "50%                    977.185500  ...               21.11400\n",
              "75%                   1071.058500  ...              147.29850\n",
              "max                   1213.589000  ...              341.58200\n",
              "\n",
              "[7 rows x 4 columns]"
            ]
          },
          "metadata": {
            "tags": []
          },
          "execution_count": 85
        }
      ]
    },
    {
      "cell_type": "code",
      "metadata": {
        "colab": {
          "base_uri": "https://localhost:8080/",
          "height": 257
        },
        "id": "eJ50xd85Q5A-",
        "outputId": "aba0a6dc-a854-4748-ed7d-b355510c8a23"
      },
      "source": [
        "df_00_19.loc['world'].describe().drop(columns= 'year', index = 'count')"
      ],
      "execution_count": null,
      "outputs": [
        {
          "output_type": "execute_result",
          "data": {
            "text/html": [
              "<div>\n",
              "<style scoped>\n",
              "    .dataframe tbody tr th:only-of-type {\n",
              "        vertical-align: middle;\n",
              "    }\n",
              "\n",
              "    .dataframe tbody tr th {\n",
              "        vertical-align: top;\n",
              "    }\n",
              "\n",
              "    .dataframe thead th {\n",
              "        text-align: right;\n",
              "    }\n",
              "</style>\n",
              "<table border=\"1\" class=\"dataframe\">\n",
              "  <thead>\n",
              "    <tr style=\"text-align: right;\">\n",
              "      <th></th>\n",
              "      <th>renewables_per_capita_(kwh)</th>\n",
              "      <th>hydro_per_capita_(kwh)</th>\n",
              "      <th>solar_per_capita_(kwh)</th>\n",
              "      <th>wind_per_capita_(kwh)</th>\n",
              "    </tr>\n",
              "  </thead>\n",
              "  <tbody>\n",
              "    <tr>\n",
              "      <th>mean</th>\n",
              "      <td>1699.746650</td>\n",
              "      <td>1264.76075</td>\n",
              "      <td>49.225250</td>\n",
              "      <td>164.407950</td>\n",
              "    </tr>\n",
              "    <tr>\n",
              "      <th>std</th>\n",
              "      <td>366.640831</td>\n",
              "      <td>81.25770</td>\n",
              "      <td>69.912081</td>\n",
              "      <td>143.839755</td>\n",
              "    </tr>\n",
              "    <tr>\n",
              "      <th>min</th>\n",
              "      <td>1268.534000</td>\n",
              "      <td>1121.82000</td>\n",
              "      <td>0.507000</td>\n",
              "      <td>14.207000</td>\n",
              "    </tr>\n",
              "    <tr>\n",
              "      <th>25%</th>\n",
              "      <td>1375.607250</td>\n",
              "      <td>1199.12075</td>\n",
              "      <td>1.596250</td>\n",
              "      <td>41.013750</td>\n",
              "    </tr>\n",
              "    <tr>\n",
              "      <th>50%</th>\n",
              "      <td>1624.794500</td>\n",
              "      <td>1277.13550</td>\n",
              "      <td>10.320500</td>\n",
              "      <td>117.621000</td>\n",
              "    </tr>\n",
              "    <tr>\n",
              "      <th>75%</th>\n",
              "      <td>1979.592250</td>\n",
              "      <td>1348.03550</td>\n",
              "      <td>73.777250</td>\n",
              "      <td>256.099750</td>\n",
              "    </tr>\n",
              "    <tr>\n",
              "      <th>max</th>\n",
              "      <td>2398.941000</td>\n",
              "      <td>1358.59100</td>\n",
              "      <td>232.450000</td>\n",
              "      <td>458.944000</td>\n",
              "    </tr>\n",
              "  </tbody>\n",
              "</table>\n",
              "</div>"
            ],
            "text/plain": [
              "      renewables_per_capita_(kwh)  ...  wind_per_capita_(kwh)\n",
              "mean                  1699.746650  ...             164.407950\n",
              "std                    366.640831  ...             143.839755\n",
              "min                   1268.534000  ...              14.207000\n",
              "25%                   1375.607250  ...              41.013750\n",
              "50%                   1624.794500  ...             117.621000\n",
              "75%                   1979.592250  ...             256.099750\n",
              "max                   2398.941000  ...             458.944000\n",
              "\n",
              "[7 rows x 4 columns]"
            ]
          },
          "metadata": {
            "tags": []
          },
          "execution_count": 86
        }
      ]
    },
    {
      "cell_type": "markdown",
      "metadata": {
        "id": "YU4T00XkRCqq"
      },
      "source": [
        "El país parece ir lento, en comparación con el mundo, sin embargo presenta buenos avances respecto a la energía solar y eólica."
      ]
    },
    {
      "cell_type": "markdown",
      "metadata": {
        "id": "v2KEcl_vklZA"
      },
      "source": [
        "#### **Energías renovables en el mundo**"
      ]
    },
    {
      "cell_type": "code",
      "metadata": {
        "colab": {
          "base_uri": "https://localhost:8080/",
          "height": 286
        },
        "id": "q7tu_7gvxRqn",
        "outputId": "84d48dd9-b3d1-406f-b0aa-f74d04b05767"
      },
      "source": [
        "df.shape\r\n",
        "df.dtypes\r\n",
        "\r\n",
        "df['percent_growth'] = pd.to_numeric(df['percent_growth'], downcast=\"float\", errors='coerce')\r\n",
        "df['$'] = pd.to_numeric(df['$'], downcast=\"float\", errors='coerce')\r\n",
        "df['invest_percent_of_gdp'] = pd.to_numeric(df['invest_percent_of_gdp'], downcast=\"float\", errors='coerce')\r\n",
        "df['renewable_energy_capacity'] = pd.to_numeric(df['renewable_energy_capacity'], downcast=\"float\", errors='coerce')\r\n",
        "df['consumption_of_total'] = pd.to_numeric(df['consumption_of_total'], downcast=\"float\", errors='coerce')\r\n",
        "\r\n",
        "df.dtypes\r\n",
        "df.describe()\r\n",
        "\r\n",
        "df_mex = df.copy()\r\n",
        "df_mex = df_mex[df_mex['country'] == 'Mexico']\r\n",
        "df_mex.describe()"
      ],
      "execution_count": null,
      "outputs": [
        {
          "output_type": "execute_result",
          "data": {
            "text/html": [
              "<div>\n",
              "<style scoped>\n",
              "    .dataframe tbody tr th:only-of-type {\n",
              "        vertical-align: middle;\n",
              "    }\n",
              "\n",
              "    .dataframe tbody tr th {\n",
              "        vertical-align: top;\n",
              "    }\n",
              "\n",
              "    .dataframe thead th {\n",
              "        text-align: right;\n",
              "    }\n",
              "</style>\n",
              "<table border=\"1\" class=\"dataframe\">\n",
              "  <thead>\n",
              "    <tr style=\"text-align: right;\">\n",
              "      <th></th>\n",
              "      <th>year</th>\n",
              "      <th>percent_growth</th>\n",
              "      <th>$</th>\n",
              "      <th>invest_percent_of_gdp</th>\n",
              "      <th>renewable_energy_capacity</th>\n",
              "      <th>consumption_of_total</th>\n",
              "    </tr>\n",
              "  </thead>\n",
              "  <tbody>\n",
              "    <tr>\n",
              "      <th>count</th>\n",
              "      <td>20.00000</td>\n",
              "      <td>20.000000</td>\n",
              "      <td>0.0</td>\n",
              "      <td>1.0</td>\n",
              "      <td>0.0</td>\n",
              "      <td>16.000000</td>\n",
              "    </tr>\n",
              "    <tr>\n",
              "      <th>mean</th>\n",
              "      <td>2009.50000</td>\n",
              "      <td>2.990500</td>\n",
              "      <td>NaN</td>\n",
              "      <td>0.3</td>\n",
              "      <td>NaN</td>\n",
              "      <td>9.918749</td>\n",
              "    </tr>\n",
              "    <tr>\n",
              "      <th>std</th>\n",
              "      <td>5.91608</td>\n",
              "      <td>16.028963</td>\n",
              "      <td>NaN</td>\n",
              "      <td>NaN</td>\n",
              "      <td>NaN</td>\n",
              "      <td>0.883598</td>\n",
              "    </tr>\n",
              "    <tr>\n",
              "      <th>min</th>\n",
              "      <td>2000.00000</td>\n",
              "      <td>-26.540001</td>\n",
              "      <td>NaN</td>\n",
              "      <td>0.3</td>\n",
              "      <td>NaN</td>\n",
              "      <td>8.960000</td>\n",
              "    </tr>\n",
              "    <tr>\n",
              "      <th>25%</th>\n",
              "      <td>2004.75000</td>\n",
              "      <td>-7.905000</td>\n",
              "      <td>NaN</td>\n",
              "      <td>0.3</td>\n",
              "      <td>NaN</td>\n",
              "      <td>9.227500</td>\n",
              "    </tr>\n",
              "    <tr>\n",
              "      <th>50%</th>\n",
              "      <td>2009.50000</td>\n",
              "      <td>1.990000</td>\n",
              "      <td>NaN</td>\n",
              "      <td>0.3</td>\n",
              "      <td>NaN</td>\n",
              "      <td>9.765000</td>\n",
              "    </tr>\n",
              "    <tr>\n",
              "      <th>75%</th>\n",
              "      <td>2014.25000</td>\n",
              "      <td>9.835000</td>\n",
              "      <td>NaN</td>\n",
              "      <td>0.3</td>\n",
              "      <td>NaN</td>\n",
              "      <td>10.235001</td>\n",
              "    </tr>\n",
              "    <tr>\n",
              "      <th>max</th>\n",
              "      <td>2019.00000</td>\n",
              "      <td>32.389999</td>\n",
              "      <td>NaN</td>\n",
              "      <td>0.3</td>\n",
              "      <td>NaN</td>\n",
              "      <td>12.170000</td>\n",
              "    </tr>\n",
              "  </tbody>\n",
              "</table>\n",
              "</div>"
            ],
            "text/plain": [
              "             year  ...  consumption_of_total\n",
              "count    20.00000  ...             16.000000\n",
              "mean   2009.50000  ...              9.918749\n",
              "std       5.91608  ...              0.883598\n",
              "min    2000.00000  ...              8.960000\n",
              "25%    2004.75000  ...              9.227500\n",
              "50%    2009.50000  ...              9.765000\n",
              "75%    2014.25000  ...             10.235001\n",
              "max    2019.00000  ...             12.170000\n",
              "\n",
              "[8 rows x 6 columns]"
            ]
          },
          "metadata": {
            "tags": []
          },
          "execution_count": 249
        }
      ]
    },
    {
      "cell_type": "markdown",
      "metadata": {
        "id": "22PYwJ9yUy3e"
      },
      "source": [
        "#### **Energías renovables en México**"
      ]
    },
    {
      "cell_type": "code",
      "metadata": {
        "colab": {
          "base_uri": "https://localhost:8080/"
        },
        "id": "4SgFY5lfUzTR",
        "outputId": "5b20229d-f615-46ac-d88c-59118495b49c"
      },
      "source": [
        "energias_renovables_estadisticas_mexico.describe()"
      ],
      "execution_count": null,
      "outputs": [
        {
          "output_type": "execute_result",
          "data": {
            "text/html": [
              "<div>\n",
              "<style scoped>\n",
              "    .dataframe tbody tr th:only-of-type {\n",
              "        vertical-align: middle;\n",
              "    }\n",
              "\n",
              "    .dataframe tbody tr th {\n",
              "        vertical-align: top;\n",
              "    }\n",
              "\n",
              "    .dataframe thead th {\n",
              "        text-align: right;\n",
              "    }\n",
              "</style>\n",
              "<table border=\"1\" class=\"dataframe\">\n",
              "  <thead>\n",
              "    <tr style=\"text-align: right;\">\n",
              "      <th></th>\n",
              "      <th>precios_sector_mexico_total</th>\n",
              "      <th>precios_sector_mexico_residencial</th>\n",
              "      <th>precios_sector_mexico_servicios</th>\n",
              "      <th>precios_sector_mexico_comercial</th>\n",
              "      <th>precios_sector_mexico_agrícola</th>\n",
              "      <th>precios_sector_mexico_industrial</th>\n",
              "      <th>precios_sector_mexico_empresa_mediana</th>\n",
              "      <th>precios_sector_mexico_gran_industria</th>\n",
              "      <th>capacidad_efectiva_mexico_total</th>\n",
              "      <th>capacidad_efectiva_mexico_geotérmica</th>\n",
              "      <th>capacidad_efectiva_mexico_eólica</th>\n",
              "      <th>capacidad_efectiva_mexico_cfe</th>\n",
              "      <th>capacidad_efectiva_mexico_pie</th>\n",
              "      <th>capacidad_efectiva_mexico_hidroeléctrica</th>\n",
              "      <th>capacidad_efectiva_mexico_fotovoltaica</th>\n",
              "      <th>generacion_bruta_mexico_total</th>\n",
              "      <th>generacion_bruta_mexico_geotermoléctrica</th>\n",
              "      <th>generacion_bruta_mexico_eólica</th>\n",
              "      <th>generacion_bruta_mexico_cfe</th>\n",
              "      <th>generacion_bruta_mexico_pie_(1)</th>\n",
              "      <th>generacion_bruta_mexico_hidroeléctrica</th>\n",
              "      <th>generacion_bruta_mexico_fotovoltaica</th>\n",
              "    </tr>\n",
              "  </thead>\n",
              "  <tbody>\n",
              "    <tr>\n",
              "      <th>count</th>\n",
              "      <td>192.000000</td>\n",
              "      <td>192.000000</td>\n",
              "      <td>192.000000</td>\n",
              "      <td>192.000000</td>\n",
              "      <td>192.000000</td>\n",
              "      <td>192.000000</td>\n",
              "      <td>192.000000</td>\n",
              "      <td>192.000000</td>\n",
              "      <td>192.000000</td>\n",
              "      <td>192.000000</td>\n",
              "      <td>192.000000</td>\n",
              "      <td>192.000000</td>\n",
              "      <td>192.000000</td>\n",
              "      <td>192.000000</td>\n",
              "      <td>108.000000</td>\n",
              "      <td>192.000</td>\n",
              "      <td>192.000000</td>\n",
              "      <td>192.000000</td>\n",
              "      <td>192.000000</td>\n",
              "      <td>192.000000</td>\n",
              "      <td>192.000</td>\n",
              "      <td>192.000000</td>\n",
              "    </tr>\n",
              "    <tr>\n",
              "      <th>mean</th>\n",
              "      <td>125.899666</td>\n",
              "      <td>105.940094</td>\n",
              "      <td>190.720108</td>\n",
              "      <td>247.112564</td>\n",
              "      <td>48.723145</td>\n",
              "      <td>122.041054</td>\n",
              "      <td>133.711578</td>\n",
              "      <td>101.333771</td>\n",
              "      <td>12271.144531</td>\n",
              "      <td>899.259375</td>\n",
              "      <td>218.891617</td>\n",
              "      <td>59.822135</td>\n",
              "      <td>159.069458</td>\n",
              "      <td>11151.215461</td>\n",
              "      <td>3.157408</td>\n",
              "      <td>3100312.000</td>\n",
              "      <td>534889.804802</td>\n",
              "      <td>71895.367188</td>\n",
              "      <td>11340.211914</td>\n",
              "      <td>60555.167969</td>\n",
              "      <td>2493194.500</td>\n",
              "      <td>332.616791</td>\n",
              "    </tr>\n",
              "    <tr>\n",
              "      <th>std</th>\n",
              "      <td>28.496023</td>\n",
              "      <td>17.708277</td>\n",
              "      <td>49.347137</td>\n",
              "      <td>56.863949</td>\n",
              "      <td>15.467139</td>\n",
              "      <td>32.598484</td>\n",
              "      <td>34.061138</td>\n",
              "      <td>28.765793</td>\n",
              "      <td>1044.678467</td>\n",
              "      <td>59.710075</td>\n",
              "      <td>264.146606</td>\n",
              "      <td>38.960973</td>\n",
              "      <td>244.405304</td>\n",
              "      <td>866.980525</td>\n",
              "      <td>2.970766</td>\n",
              "      <td>887579.750</td>\n",
              "      <td>55606.759115</td>\n",
              "      <td>92257.789062</td>\n",
              "      <td>9367.765625</td>\n",
              "      <td>87955.304688</td>\n",
              "      <td>884435.500</td>\n",
              "      <td>514.660034</td>\n",
              "    </tr>\n",
              "    <tr>\n",
              "      <th>min</th>\n",
              "      <td>0.000000</td>\n",
              "      <td>0.000000</td>\n",
              "      <td>0.000000</td>\n",
              "      <td>0.000000</td>\n",
              "      <td>-54.490002</td>\n",
              "      <td>0.000000</td>\n",
              "      <td>0.000000</td>\n",
              "      <td>0.000000</td>\n",
              "      <td>10448.232422</td>\n",
              "      <td>811.600000</td>\n",
              "      <td>2.175000</td>\n",
              "      <td>2.175000</td>\n",
              "      <td>0.000000</td>\n",
              "      <td>9600.155000</td>\n",
              "      <td>0.000000</td>\n",
              "      <td>1378409.250</td>\n",
              "      <td>395702.517000</td>\n",
              "      <td>155.544006</td>\n",
              "      <td>155.544006</td>\n",
              "      <td>0.000000</td>\n",
              "      <td>895370.250</td>\n",
              "      <td>0.000000</td>\n",
              "    </tr>\n",
              "    <tr>\n",
              "      <th>25%</th>\n",
              "      <td>108.050001</td>\n",
              "      <td>93.975000</td>\n",
              "      <td>151.315002</td>\n",
              "      <td>211.950005</td>\n",
              "      <td>41.277499</td>\n",
              "      <td>100.992502</td>\n",
              "      <td>111.117500</td>\n",
              "      <td>82.187500</td>\n",
              "      <td>11520.439941</td>\n",
              "      <td>845.825000</td>\n",
              "      <td>2.210000</td>\n",
              "      <td>2.210000</td>\n",
              "      <td>0.000000</td>\n",
              "      <td>10558.730000</td>\n",
              "      <td>0.000000</td>\n",
              "      <td>2482238.375</td>\n",
              "      <td>495556.733250</td>\n",
              "      <td>605.426743</td>\n",
              "      <td>605.426743</td>\n",
              "      <td>0.000000</td>\n",
              "      <td>1914395.375</td>\n",
              "      <td>0.000000</td>\n",
              "    </tr>\n",
              "    <tr>\n",
              "      <th>50%</th>\n",
              "      <td>130.555000</td>\n",
              "      <td>107.930000</td>\n",
              "      <td>181.535004</td>\n",
              "      <td>254.755005</td>\n",
              "      <td>50.410000</td>\n",
              "      <td>124.931450</td>\n",
              "      <td>136.856300</td>\n",
              "      <td>101.973351</td>\n",
              "      <td>12433.000000</td>\n",
              "      <td>886.600000</td>\n",
              "      <td>85.480003</td>\n",
              "      <td>85.480000</td>\n",
              "      <td>0.000000</td>\n",
              "      <td>11403.239000</td>\n",
              "      <td>6.000000</td>\n",
              "      <td>3022161.750</td>\n",
              "      <td>531286.084000</td>\n",
              "      <td>19897.384766</td>\n",
              "      <td>11345.631836</td>\n",
              "      <td>0.000000</td>\n",
              "      <td>2410943.500</td>\n",
              "      <td>0.000000</td>\n",
              "    </tr>\n",
              "    <tr>\n",
              "      <th>75%</th>\n",
              "      <td>147.357498</td>\n",
              "      <td>118.745003</td>\n",
              "      <td>230.510952</td>\n",
              "      <td>289.322556</td>\n",
              "      <td>56.615000</td>\n",
              "      <td>149.310005</td>\n",
              "      <td>163.268005</td>\n",
              "      <td>126.130001</td>\n",
              "      <td>12935.767578</td>\n",
              "      <td>959.500000</td>\n",
              "      <td>597.000000</td>\n",
              "      <td>86.300000</td>\n",
              "      <td>510.850006</td>\n",
              "      <td>11508.768000</td>\n",
              "      <td>6.000000</td>\n",
              "      <td>3561414.125</td>\n",
              "      <td>571986.485250</td>\n",
              "      <td>144515.781250</td>\n",
              "      <td>18826.755859</td>\n",
              "      <td>129287.412109</td>\n",
              "      <td>2948491.125</td>\n",
              "      <td>749.270737</td>\n",
              "    </tr>\n",
              "    <tr>\n",
              "      <th>max</th>\n",
              "      <td>179.414795</td>\n",
              "      <td>134.910004</td>\n",
              "      <td>291.881592</td>\n",
              "      <td>370.562988</td>\n",
              "      <td>118.736702</td>\n",
              "      <td>185.593002</td>\n",
              "      <td>200.530502</td>\n",
              "      <td>153.933899</td>\n",
              "      <td>13872.578125</td>\n",
              "      <td>964.500000</td>\n",
              "      <td>699.150024</td>\n",
              "      <td>86.750000</td>\n",
              "      <td>612.849976</td>\n",
              "      <td>12293.828000</td>\n",
              "      <td>6.000000</td>\n",
              "      <td>6497777.500</td>\n",
              "      <td>664232.760000</td>\n",
              "      <td>320174.000000</td>\n",
              "      <td>37711.460938</td>\n",
              "      <td>301580.406250</td>\n",
              "      <td>5927349.500</td>\n",
              "      <td>2076.424072</td>\n",
              "    </tr>\n",
              "  </tbody>\n",
              "</table>\n",
              "</div>"
            ],
            "text/plain": [
              "       precios_sector_mexico_total  ...  generacion_bruta_mexico_fotovoltaica\n",
              "count                   192.000000  ...                            192.000000\n",
              "mean                    125.899666  ...                            332.616791\n",
              "std                      28.496023  ...                            514.660034\n",
              "min                       0.000000  ...                              0.000000\n",
              "25%                     108.050001  ...                              0.000000\n",
              "50%                     130.555000  ...                              0.000000\n",
              "75%                     147.357498  ...                            749.270737\n",
              "max                     179.414795  ...                           2076.424072\n",
              "\n",
              "[8 rows x 22 columns]"
            ]
          },
          "metadata": {
            "tags": []
          },
          "execution_count": 88
        }
      ]
    },
    {
      "cell_type": "code",
      "metadata": {
        "colab": {
          "base_uri": "https://localhost:8080/"
        },
        "id": "c7OgOszDVDuj",
        "outputId": "eab1b84f-2be4-4f02-d95f-6259d99dcd1a"
      },
      "source": [
        "energias_renovables_estadisticas_mexico.describe()"
      ],
      "execution_count": null,
      "outputs": [
        {
          "output_type": "execute_result",
          "data": {
            "text/html": [
              "<div>\n",
              "<style scoped>\n",
              "    .dataframe tbody tr th:only-of-type {\n",
              "        vertical-align: middle;\n",
              "    }\n",
              "\n",
              "    .dataframe tbody tr th {\n",
              "        vertical-align: top;\n",
              "    }\n",
              "\n",
              "    .dataframe thead th {\n",
              "        text-align: right;\n",
              "    }\n",
              "</style>\n",
              "<table border=\"1\" class=\"dataframe\">\n",
              "  <thead>\n",
              "    <tr style=\"text-align: right;\">\n",
              "      <th></th>\n",
              "      <th>precios_sector_mexico_total</th>\n",
              "      <th>precios_sector_mexico_residencial</th>\n",
              "      <th>precios_sector_mexico_servicios</th>\n",
              "      <th>precios_sector_mexico_comercial</th>\n",
              "      <th>precios_sector_mexico_agrícola</th>\n",
              "      <th>precios_sector_mexico_industrial</th>\n",
              "      <th>precios_sector_mexico_empresa_mediana</th>\n",
              "      <th>precios_sector_mexico_gran_industria</th>\n",
              "      <th>capacidad_efectiva_mexico_total</th>\n",
              "      <th>capacidad_efectiva_mexico_geotérmica</th>\n",
              "      <th>capacidad_efectiva_mexico_eólica</th>\n",
              "      <th>capacidad_efectiva_mexico_cfe</th>\n",
              "      <th>capacidad_efectiva_mexico_pie</th>\n",
              "      <th>capacidad_efectiva_mexico_hidroeléctrica</th>\n",
              "      <th>capacidad_efectiva_mexico_fotovoltaica</th>\n",
              "      <th>generacion_bruta_mexico_total</th>\n",
              "      <th>generacion_bruta_mexico_geotermoléctrica</th>\n",
              "      <th>generacion_bruta_mexico_eólica</th>\n",
              "      <th>generacion_bruta_mexico_cfe</th>\n",
              "      <th>generacion_bruta_mexico_pie_(1)</th>\n",
              "      <th>generacion_bruta_mexico_hidroeléctrica</th>\n",
              "      <th>generacion_bruta_mexico_fotovoltaica</th>\n",
              "    </tr>\n",
              "  </thead>\n",
              "  <tbody>\n",
              "    <tr>\n",
              "      <th>count</th>\n",
              "      <td>192.000000</td>\n",
              "      <td>192.000000</td>\n",
              "      <td>192.000000</td>\n",
              "      <td>192.000000</td>\n",
              "      <td>192.000000</td>\n",
              "      <td>192.000000</td>\n",
              "      <td>192.000000</td>\n",
              "      <td>192.000000</td>\n",
              "      <td>192.000000</td>\n",
              "      <td>192.000000</td>\n",
              "      <td>192.000000</td>\n",
              "      <td>192.000000</td>\n",
              "      <td>192.000000</td>\n",
              "      <td>192.000000</td>\n",
              "      <td>108.000000</td>\n",
              "      <td>192.000</td>\n",
              "      <td>192.000000</td>\n",
              "      <td>192.000000</td>\n",
              "      <td>192.000000</td>\n",
              "      <td>192.000000</td>\n",
              "      <td>192.000</td>\n",
              "      <td>192.000000</td>\n",
              "    </tr>\n",
              "    <tr>\n",
              "      <th>mean</th>\n",
              "      <td>125.899666</td>\n",
              "      <td>105.940094</td>\n",
              "      <td>190.720108</td>\n",
              "      <td>247.112564</td>\n",
              "      <td>48.723145</td>\n",
              "      <td>122.041054</td>\n",
              "      <td>133.711578</td>\n",
              "      <td>101.333771</td>\n",
              "      <td>12271.144531</td>\n",
              "      <td>899.259375</td>\n",
              "      <td>218.891617</td>\n",
              "      <td>59.822135</td>\n",
              "      <td>159.069458</td>\n",
              "      <td>11151.215461</td>\n",
              "      <td>3.157408</td>\n",
              "      <td>3100312.000</td>\n",
              "      <td>534889.804802</td>\n",
              "      <td>71895.367188</td>\n",
              "      <td>11340.211914</td>\n",
              "      <td>60555.167969</td>\n",
              "      <td>2493194.500</td>\n",
              "      <td>332.616791</td>\n",
              "    </tr>\n",
              "    <tr>\n",
              "      <th>std</th>\n",
              "      <td>28.496023</td>\n",
              "      <td>17.708277</td>\n",
              "      <td>49.347137</td>\n",
              "      <td>56.863949</td>\n",
              "      <td>15.467139</td>\n",
              "      <td>32.598484</td>\n",
              "      <td>34.061138</td>\n",
              "      <td>28.765793</td>\n",
              "      <td>1044.678467</td>\n",
              "      <td>59.710075</td>\n",
              "      <td>264.146606</td>\n",
              "      <td>38.960973</td>\n",
              "      <td>244.405304</td>\n",
              "      <td>866.980525</td>\n",
              "      <td>2.970766</td>\n",
              "      <td>887579.750</td>\n",
              "      <td>55606.759115</td>\n",
              "      <td>92257.789062</td>\n",
              "      <td>9367.765625</td>\n",
              "      <td>87955.304688</td>\n",
              "      <td>884435.500</td>\n",
              "      <td>514.660034</td>\n",
              "    </tr>\n",
              "    <tr>\n",
              "      <th>min</th>\n",
              "      <td>0.000000</td>\n",
              "      <td>0.000000</td>\n",
              "      <td>0.000000</td>\n",
              "      <td>0.000000</td>\n",
              "      <td>-54.490002</td>\n",
              "      <td>0.000000</td>\n",
              "      <td>0.000000</td>\n",
              "      <td>0.000000</td>\n",
              "      <td>10448.232422</td>\n",
              "      <td>811.600000</td>\n",
              "      <td>2.175000</td>\n",
              "      <td>2.175000</td>\n",
              "      <td>0.000000</td>\n",
              "      <td>9600.155000</td>\n",
              "      <td>0.000000</td>\n",
              "      <td>1378409.250</td>\n",
              "      <td>395702.517000</td>\n",
              "      <td>155.544006</td>\n",
              "      <td>155.544006</td>\n",
              "      <td>0.000000</td>\n",
              "      <td>895370.250</td>\n",
              "      <td>0.000000</td>\n",
              "    </tr>\n",
              "    <tr>\n",
              "      <th>25%</th>\n",
              "      <td>108.050001</td>\n",
              "      <td>93.975000</td>\n",
              "      <td>151.315002</td>\n",
              "      <td>211.950005</td>\n",
              "      <td>41.277499</td>\n",
              "      <td>100.992502</td>\n",
              "      <td>111.117500</td>\n",
              "      <td>82.187500</td>\n",
              "      <td>11520.439941</td>\n",
              "      <td>845.825000</td>\n",
              "      <td>2.210000</td>\n",
              "      <td>2.210000</td>\n",
              "      <td>0.000000</td>\n",
              "      <td>10558.730000</td>\n",
              "      <td>0.000000</td>\n",
              "      <td>2482238.375</td>\n",
              "      <td>495556.733250</td>\n",
              "      <td>605.426743</td>\n",
              "      <td>605.426743</td>\n",
              "      <td>0.000000</td>\n",
              "      <td>1914395.375</td>\n",
              "      <td>0.000000</td>\n",
              "    </tr>\n",
              "    <tr>\n",
              "      <th>50%</th>\n",
              "      <td>130.555000</td>\n",
              "      <td>107.930000</td>\n",
              "      <td>181.535004</td>\n",
              "      <td>254.755005</td>\n",
              "      <td>50.410000</td>\n",
              "      <td>124.931450</td>\n",
              "      <td>136.856300</td>\n",
              "      <td>101.973351</td>\n",
              "      <td>12433.000000</td>\n",
              "      <td>886.600000</td>\n",
              "      <td>85.480003</td>\n",
              "      <td>85.480000</td>\n",
              "      <td>0.000000</td>\n",
              "      <td>11403.239000</td>\n",
              "      <td>6.000000</td>\n",
              "      <td>3022161.750</td>\n",
              "      <td>531286.084000</td>\n",
              "      <td>19897.384766</td>\n",
              "      <td>11345.631836</td>\n",
              "      <td>0.000000</td>\n",
              "      <td>2410943.500</td>\n",
              "      <td>0.000000</td>\n",
              "    </tr>\n",
              "    <tr>\n",
              "      <th>75%</th>\n",
              "      <td>147.357498</td>\n",
              "      <td>118.745003</td>\n",
              "      <td>230.510952</td>\n",
              "      <td>289.322556</td>\n",
              "      <td>56.615000</td>\n",
              "      <td>149.310005</td>\n",
              "      <td>163.268005</td>\n",
              "      <td>126.130001</td>\n",
              "      <td>12935.767578</td>\n",
              "      <td>959.500000</td>\n",
              "      <td>597.000000</td>\n",
              "      <td>86.300000</td>\n",
              "      <td>510.850006</td>\n",
              "      <td>11508.768000</td>\n",
              "      <td>6.000000</td>\n",
              "      <td>3561414.125</td>\n",
              "      <td>571986.485250</td>\n",
              "      <td>144515.781250</td>\n",
              "      <td>18826.755859</td>\n",
              "      <td>129287.412109</td>\n",
              "      <td>2948491.125</td>\n",
              "      <td>749.270737</td>\n",
              "    </tr>\n",
              "    <tr>\n",
              "      <th>max</th>\n",
              "      <td>179.414795</td>\n",
              "      <td>134.910004</td>\n",
              "      <td>291.881592</td>\n",
              "      <td>370.562988</td>\n",
              "      <td>118.736702</td>\n",
              "      <td>185.593002</td>\n",
              "      <td>200.530502</td>\n",
              "      <td>153.933899</td>\n",
              "      <td>13872.578125</td>\n",
              "      <td>964.500000</td>\n",
              "      <td>699.150024</td>\n",
              "      <td>86.750000</td>\n",
              "      <td>612.849976</td>\n",
              "      <td>12293.828000</td>\n",
              "      <td>6.000000</td>\n",
              "      <td>6497777.500</td>\n",
              "      <td>664232.760000</td>\n",
              "      <td>320174.000000</td>\n",
              "      <td>37711.460938</td>\n",
              "      <td>301580.406250</td>\n",
              "      <td>5927349.500</td>\n",
              "      <td>2076.424072</td>\n",
              "    </tr>\n",
              "  </tbody>\n",
              "</table>\n",
              "</div>"
            ],
            "text/plain": [
              "       precios_sector_mexico_total  ...  generacion_bruta_mexico_fotovoltaica\n",
              "count                   192.000000  ...                            192.000000\n",
              "mean                    125.899666  ...                            332.616791\n",
              "std                      28.496023  ...                            514.660034\n",
              "min                       0.000000  ...                              0.000000\n",
              "25%                     108.050001  ...                              0.000000\n",
              "50%                     130.555000  ...                              0.000000\n",
              "75%                     147.357498  ...                            749.270737\n",
              "max                     179.414795  ...                           2076.424072\n",
              "\n",
              "[8 rows x 22 columns]"
            ]
          },
          "metadata": {
            "tags": []
          },
          "execution_count": 89
        }
      ]
    },
    {
      "cell_type": "code",
      "metadata": {
        "colab": {
          "base_uri": "https://localhost:8080/"
        },
        "id": "CYrX8g6MklZK",
        "outputId": "feb8779e-2790-45ce-edb6-c98670f7ebf1"
      },
      "source": [
        "df = df.drop(columns= 'type_of_energy')\r\n",
        "df\r\n",
        "\r\n",
        "df1 = df.copy()\r\n",
        "df1 = df1.drop(columns= ['country', 'energy_type'])\r\n",
        "\r\n",
        "df_final = as_float(df1)\r\n",
        "\r\n",
        "df_final.describe()"
      ],
      "execution_count": null,
      "outputs": [
        {
          "output_type": "execute_result",
          "data": {
            "text/html": [
              "<div>\n",
              "<style scoped>\n",
              "    .dataframe tbody tr th:only-of-type {\n",
              "        vertical-align: middle;\n",
              "    }\n",
              "\n",
              "    .dataframe tbody tr th {\n",
              "        vertical-align: top;\n",
              "    }\n",
              "\n",
              "    .dataframe thead th {\n",
              "        text-align: right;\n",
              "    }\n",
              "</style>\n",
              "<table border=\"1\" class=\"dataframe\">\n",
              "  <thead>\n",
              "    <tr style=\"text-align: right;\">\n",
              "      <th></th>\n",
              "      <th>year</th>\n",
              "      <th>percent_growth</th>\n",
              "      <th>$</th>\n",
              "      <th>invest_percent_of_gdp</th>\n",
              "      <th>renewable_energy_capacity</th>\n",
              "      <th>consumption_of_total</th>\n",
              "    </tr>\n",
              "  </thead>\n",
              "  <tbody>\n",
              "    <tr>\n",
              "      <th>count</th>\n",
              "      <td>6130.000000</td>\n",
              "      <td>3234.000000</td>\n",
              "      <td>546.000000</td>\n",
              "      <td>10.000000</td>\n",
              "      <td>1.662000e+03</td>\n",
              "      <td>5624.000000</td>\n",
              "    </tr>\n",
              "    <tr>\n",
              "      <th>mean</th>\n",
              "      <td>2008.708008</td>\n",
              "      <td>10.912395</td>\n",
              "      <td>28.547291</td>\n",
              "      <td>0.700000</td>\n",
              "      <td>2.338274e+05</td>\n",
              "      <td>26.760199</td>\n",
              "    </tr>\n",
              "    <tr>\n",
              "      <th>std</th>\n",
              "      <td>4.889811</td>\n",
              "      <td>152.459732</td>\n",
              "      <td>42.534134</td>\n",
              "      <td>0.439697</td>\n",
              "      <td>3.716312e+05</td>\n",
              "      <td>25.628489</td>\n",
              "    </tr>\n",
              "    <tr>\n",
              "      <th>min</th>\n",
              "      <td>2000.000000</td>\n",
              "      <td>-82.339996</td>\n",
              "      <td>0.000000</td>\n",
              "      <td>0.200000</td>\n",
              "      <td>2.651000e+02</td>\n",
              "      <td>0.000000</td>\n",
              "    </tr>\n",
              "    <tr>\n",
              "      <th>25%</th>\n",
              "      <td>2005.000000</td>\n",
              "      <td>2.210000</td>\n",
              "      <td>2.700000</td>\n",
              "      <td>0.325000</td>\n",
              "      <td>9.143500e+03</td>\n",
              "      <td>9.257500</td>\n",
              "    </tr>\n",
              "    <tr>\n",
              "      <th>50%</th>\n",
              "      <td>2009.000000</td>\n",
              "      <td>4.750000</td>\n",
              "      <td>7.600000</td>\n",
              "      <td>0.650000</td>\n",
              "      <td>5.689940e+04</td>\n",
              "      <td>17.480000</td>\n",
              "    </tr>\n",
              "    <tr>\n",
              "      <th>75%</th>\n",
              "      <td>2013.000000</td>\n",
              "      <td>7.680000</td>\n",
              "      <td>28.500000</td>\n",
              "      <td>0.875000</td>\n",
              "      <td>2.247909e+05</td>\n",
              "      <td>34.927498</td>\n",
              "    </tr>\n",
              "    <tr>\n",
              "      <th>max</th>\n",
              "      <td>2019.000000</td>\n",
              "      <td>8345.719727</td>\n",
              "      <td>171.699997</td>\n",
              "      <td>1.400000</td>\n",
              "      <td>1.242961e+06</td>\n",
              "      <td>98.339996</td>\n",
              "    </tr>\n",
              "  </tbody>\n",
              "</table>\n",
              "</div>"
            ],
            "text/plain": [
              "              year  ...  consumption_of_total\n",
              "count  6130.000000  ...           5624.000000\n",
              "mean   2008.708008  ...             26.760199\n",
              "std       4.889811  ...             25.628489\n",
              "min    2000.000000  ...              0.000000\n",
              "25%    2005.000000  ...              9.257500\n",
              "50%    2009.000000  ...             17.480000\n",
              "75%    2013.000000  ...             34.927498\n",
              "max    2019.000000  ...             98.339996\n",
              "\n",
              "[8 rows x 6 columns]"
            ]
          },
          "metadata": {
            "tags": []
          },
          "execution_count": 90
        }
      ]
    },
    {
      "cell_type": "code",
      "metadata": {
        "colab": {
          "base_uri": "https://localhost:8080/"
        },
        "id": "GP0kk5iMklZL",
        "outputId": "a024247a-d904-4ea6-b646-30ca22d79ee2"
      },
      "source": [
        "energias_renovables_estadisticas_mexico.describe()"
      ],
      "execution_count": null,
      "outputs": [
        {
          "output_type": "execute_result",
          "data": {
            "text/html": [
              "<div>\n",
              "<style scoped>\n",
              "    .dataframe tbody tr th:only-of-type {\n",
              "        vertical-align: middle;\n",
              "    }\n",
              "\n",
              "    .dataframe tbody tr th {\n",
              "        vertical-align: top;\n",
              "    }\n",
              "\n",
              "    .dataframe thead th {\n",
              "        text-align: right;\n",
              "    }\n",
              "</style>\n",
              "<table border=\"1\" class=\"dataframe\">\n",
              "  <thead>\n",
              "    <tr style=\"text-align: right;\">\n",
              "      <th></th>\n",
              "      <th>precios_sector_mexico_total</th>\n",
              "      <th>precios_sector_mexico_residencial</th>\n",
              "      <th>precios_sector_mexico_servicios</th>\n",
              "      <th>precios_sector_mexico_comercial</th>\n",
              "      <th>precios_sector_mexico_agrícola</th>\n",
              "      <th>precios_sector_mexico_industrial</th>\n",
              "      <th>precios_sector_mexico_empresa_mediana</th>\n",
              "      <th>precios_sector_mexico_gran_industria</th>\n",
              "      <th>capacidad_efectiva_mexico_total</th>\n",
              "      <th>capacidad_efectiva_mexico_geotérmica</th>\n",
              "      <th>capacidad_efectiva_mexico_eólica</th>\n",
              "      <th>capacidad_efectiva_mexico_cfe</th>\n",
              "      <th>capacidad_efectiva_mexico_pie</th>\n",
              "      <th>capacidad_efectiva_mexico_hidroeléctrica</th>\n",
              "      <th>capacidad_efectiva_mexico_fotovoltaica</th>\n",
              "      <th>generacion_bruta_mexico_total</th>\n",
              "      <th>generacion_bruta_mexico_geotermoléctrica</th>\n",
              "      <th>generacion_bruta_mexico_eólica</th>\n",
              "      <th>generacion_bruta_mexico_cfe</th>\n",
              "      <th>generacion_bruta_mexico_pie_(1)</th>\n",
              "      <th>generacion_bruta_mexico_hidroeléctrica</th>\n",
              "      <th>generacion_bruta_mexico_fotovoltaica</th>\n",
              "    </tr>\n",
              "  </thead>\n",
              "  <tbody>\n",
              "    <tr>\n",
              "      <th>count</th>\n",
              "      <td>192.000000</td>\n",
              "      <td>192.000000</td>\n",
              "      <td>192.000000</td>\n",
              "      <td>192.000000</td>\n",
              "      <td>192.000000</td>\n",
              "      <td>192.000000</td>\n",
              "      <td>192.000000</td>\n",
              "      <td>192.000000</td>\n",
              "      <td>192.000000</td>\n",
              "      <td>192.000000</td>\n",
              "      <td>192.000000</td>\n",
              "      <td>192.000000</td>\n",
              "      <td>192.000000</td>\n",
              "      <td>192.000000</td>\n",
              "      <td>108.000000</td>\n",
              "      <td>192.000</td>\n",
              "      <td>192.000000</td>\n",
              "      <td>192.000000</td>\n",
              "      <td>192.000000</td>\n",
              "      <td>192.000000</td>\n",
              "      <td>192.000</td>\n",
              "      <td>192.000000</td>\n",
              "    </tr>\n",
              "    <tr>\n",
              "      <th>mean</th>\n",
              "      <td>125.899666</td>\n",
              "      <td>105.940094</td>\n",
              "      <td>190.720108</td>\n",
              "      <td>247.112564</td>\n",
              "      <td>48.723145</td>\n",
              "      <td>122.041054</td>\n",
              "      <td>133.711578</td>\n",
              "      <td>101.333771</td>\n",
              "      <td>12271.144531</td>\n",
              "      <td>899.259375</td>\n",
              "      <td>218.891617</td>\n",
              "      <td>59.822135</td>\n",
              "      <td>159.069458</td>\n",
              "      <td>11151.215461</td>\n",
              "      <td>3.157408</td>\n",
              "      <td>3100312.000</td>\n",
              "      <td>534889.804802</td>\n",
              "      <td>71895.367188</td>\n",
              "      <td>11340.211914</td>\n",
              "      <td>60555.167969</td>\n",
              "      <td>2493194.500</td>\n",
              "      <td>332.616791</td>\n",
              "    </tr>\n",
              "    <tr>\n",
              "      <th>std</th>\n",
              "      <td>28.496023</td>\n",
              "      <td>17.708277</td>\n",
              "      <td>49.347137</td>\n",
              "      <td>56.863949</td>\n",
              "      <td>15.467139</td>\n",
              "      <td>32.598484</td>\n",
              "      <td>34.061138</td>\n",
              "      <td>28.765793</td>\n",
              "      <td>1044.678467</td>\n",
              "      <td>59.710075</td>\n",
              "      <td>264.146606</td>\n",
              "      <td>38.960973</td>\n",
              "      <td>244.405304</td>\n",
              "      <td>866.980525</td>\n",
              "      <td>2.970766</td>\n",
              "      <td>887579.750</td>\n",
              "      <td>55606.759115</td>\n",
              "      <td>92257.789062</td>\n",
              "      <td>9367.765625</td>\n",
              "      <td>87955.304688</td>\n",
              "      <td>884435.500</td>\n",
              "      <td>514.660034</td>\n",
              "    </tr>\n",
              "    <tr>\n",
              "      <th>min</th>\n",
              "      <td>0.000000</td>\n",
              "      <td>0.000000</td>\n",
              "      <td>0.000000</td>\n",
              "      <td>0.000000</td>\n",
              "      <td>-54.490002</td>\n",
              "      <td>0.000000</td>\n",
              "      <td>0.000000</td>\n",
              "      <td>0.000000</td>\n",
              "      <td>10448.232422</td>\n",
              "      <td>811.600000</td>\n",
              "      <td>2.175000</td>\n",
              "      <td>2.175000</td>\n",
              "      <td>0.000000</td>\n",
              "      <td>9600.155000</td>\n",
              "      <td>0.000000</td>\n",
              "      <td>1378409.250</td>\n",
              "      <td>395702.517000</td>\n",
              "      <td>155.544006</td>\n",
              "      <td>155.544006</td>\n",
              "      <td>0.000000</td>\n",
              "      <td>895370.250</td>\n",
              "      <td>0.000000</td>\n",
              "    </tr>\n",
              "    <tr>\n",
              "      <th>25%</th>\n",
              "      <td>108.050001</td>\n",
              "      <td>93.975000</td>\n",
              "      <td>151.315002</td>\n",
              "      <td>211.950005</td>\n",
              "      <td>41.277499</td>\n",
              "      <td>100.992502</td>\n",
              "      <td>111.117500</td>\n",
              "      <td>82.187500</td>\n",
              "      <td>11520.439941</td>\n",
              "      <td>845.825000</td>\n",
              "      <td>2.210000</td>\n",
              "      <td>2.210000</td>\n",
              "      <td>0.000000</td>\n",
              "      <td>10558.730000</td>\n",
              "      <td>0.000000</td>\n",
              "      <td>2482238.375</td>\n",
              "      <td>495556.733250</td>\n",
              "      <td>605.426743</td>\n",
              "      <td>605.426743</td>\n",
              "      <td>0.000000</td>\n",
              "      <td>1914395.375</td>\n",
              "      <td>0.000000</td>\n",
              "    </tr>\n",
              "    <tr>\n",
              "      <th>50%</th>\n",
              "      <td>130.555000</td>\n",
              "      <td>107.930000</td>\n",
              "      <td>181.535004</td>\n",
              "      <td>254.755005</td>\n",
              "      <td>50.410000</td>\n",
              "      <td>124.931450</td>\n",
              "      <td>136.856300</td>\n",
              "      <td>101.973351</td>\n",
              "      <td>12433.000000</td>\n",
              "      <td>886.600000</td>\n",
              "      <td>85.480003</td>\n",
              "      <td>85.480000</td>\n",
              "      <td>0.000000</td>\n",
              "      <td>11403.239000</td>\n",
              "      <td>6.000000</td>\n",
              "      <td>3022161.750</td>\n",
              "      <td>531286.084000</td>\n",
              "      <td>19897.384766</td>\n",
              "      <td>11345.631836</td>\n",
              "      <td>0.000000</td>\n",
              "      <td>2410943.500</td>\n",
              "      <td>0.000000</td>\n",
              "    </tr>\n",
              "    <tr>\n",
              "      <th>75%</th>\n",
              "      <td>147.357498</td>\n",
              "      <td>118.745003</td>\n",
              "      <td>230.510952</td>\n",
              "      <td>289.322556</td>\n",
              "      <td>56.615000</td>\n",
              "      <td>149.310005</td>\n",
              "      <td>163.268005</td>\n",
              "      <td>126.130001</td>\n",
              "      <td>12935.767578</td>\n",
              "      <td>959.500000</td>\n",
              "      <td>597.000000</td>\n",
              "      <td>86.300000</td>\n",
              "      <td>510.850006</td>\n",
              "      <td>11508.768000</td>\n",
              "      <td>6.000000</td>\n",
              "      <td>3561414.125</td>\n",
              "      <td>571986.485250</td>\n",
              "      <td>144515.781250</td>\n",
              "      <td>18826.755859</td>\n",
              "      <td>129287.412109</td>\n",
              "      <td>2948491.125</td>\n",
              "      <td>749.270737</td>\n",
              "    </tr>\n",
              "    <tr>\n",
              "      <th>max</th>\n",
              "      <td>179.414795</td>\n",
              "      <td>134.910004</td>\n",
              "      <td>291.881592</td>\n",
              "      <td>370.562988</td>\n",
              "      <td>118.736702</td>\n",
              "      <td>185.593002</td>\n",
              "      <td>200.530502</td>\n",
              "      <td>153.933899</td>\n",
              "      <td>13872.578125</td>\n",
              "      <td>964.500000</td>\n",
              "      <td>699.150024</td>\n",
              "      <td>86.750000</td>\n",
              "      <td>612.849976</td>\n",
              "      <td>12293.828000</td>\n",
              "      <td>6.000000</td>\n",
              "      <td>6497777.500</td>\n",
              "      <td>664232.760000</td>\n",
              "      <td>320174.000000</td>\n",
              "      <td>37711.460938</td>\n",
              "      <td>301580.406250</td>\n",
              "      <td>5927349.500</td>\n",
              "      <td>2076.424072</td>\n",
              "    </tr>\n",
              "  </tbody>\n",
              "</table>\n",
              "</div>"
            ],
            "text/plain": [
              "       precios_sector_mexico_total  ...  generacion_bruta_mexico_fotovoltaica\n",
              "count                   192.000000  ...                            192.000000\n",
              "mean                    125.899666  ...                            332.616791\n",
              "std                      28.496023  ...                            514.660034\n",
              "min                       0.000000  ...                              0.000000\n",
              "25%                     108.050001  ...                              0.000000\n",
              "50%                     130.555000  ...                              0.000000\n",
              "75%                     147.357498  ...                            749.270737\n",
              "max                     179.414795  ...                           2076.424072\n",
              "\n",
              "[8 rows x 22 columns]"
            ]
          },
          "metadata": {
            "tags": []
          },
          "execution_count": 91
        }
      ]
    },
    {
      "cell_type": "markdown",
      "metadata": {
        "id": "YHhlZw3UIEPi"
      },
      "source": [
        "### API\r\n",
        "Encontramos un api que nos da la proporción de la oferta de energía primaria renovable (que requiere o no requiere combustión), por tipo de fuente."
      ]
    },
    {
      "cell_type": "markdown",
      "metadata": {
        "id": "ohTaJROJBAcK"
      },
      "source": [
        "Primero importaremos la librerias que usaremos"
      ]
    },
    {
      "cell_type": "code",
      "metadata": {
        "colab": {
          "base_uri": "https://localhost:8080/"
        },
        "id": "7aiWCVkr-bNG",
        "outputId": "3f542482-42ff-4533-93f9-977d12081e1f"
      },
      "source": [
        "!pip install xmltodict\r\n",
        "import requests\r\n",
        "import xmltodict\r\n",
        "import json"
      ],
      "execution_count": null,
      "outputs": [
        {
          "output_type": "stream",
          "text": [
            "Collecting xmltodict\n",
            "  Downloading https://files.pythonhosted.org/packages/28/fd/30d5c1d3ac29ce229f6bdc40bbc20b28f716e8b363140c26eff19122d8a5/xmltodict-0.12.0-py2.py3-none-any.whl\n",
            "Installing collected packages: xmltodict\n",
            "Successfully installed xmltodict-0.12.0\n"
          ],
          "name": "stdout"
        }
      ]
    },
    {
      "cell_type": "markdown",
      "metadata": {
        "id": "dWEus1HM-ruv"
      },
      "source": [
        "Ahora relizaremos el request"
      ]
    },
    {
      "cell_type": "code",
      "metadata": {
        "id": "HeMKQoRg-uuM"
      },
      "source": [
        "r = requests.get('https://estadisticas.cepal.org/sisgen/ws/cepalstat/getDataMeta.asp?IdIndicator=4236&language=spanish')"
      ],
      "execution_count": null,
      "outputs": []
    },
    {
      "cell_type": "markdown",
      "metadata": {
        "id": "w8kPC-sU-zdP"
      },
      "source": [
        "Si vemos el resultado es un xml, lo transformaremos a json para poder manejarlo."
      ]
    },
    {
      "cell_type": "code",
      "metadata": {
        "id": "nwCgumI_-6w5"
      },
      "source": [
        "x = json.dumps(xmltodict.parse(r.content))\r\n",
        "x = json.loads(x)"
      ],
      "execution_count": null,
      "outputs": []
    },
    {
      "cell_type": "markdown",
      "metadata": {
        "id": "EMyRWufZ_GgO"
      },
      "source": [
        "Ahora extraeremos lo datos que son de nuestro interés."
      ]
    },
    {
      "cell_type": "code",
      "metadata": {
        "id": "dQYiefOs_J8K"
      },
      "source": [
        "datos = x['datameta']['datos']['dato']\r\n",
        "paises = x['datameta']['dimensions']['dim'][0]['des']\r\n",
        "anios = x['datameta']['dimensions']['dim'][1]['des']\r\n",
        "tipo_energia = x['datameta']['dimensions']['dim'][2]['des']"
      ],
      "execution_count": null,
      "outputs": []
    },
    {
      "cell_type": "markdown",
      "metadata": {
        "id": "Wmiijur9_N7v"
      },
      "source": [
        "Y pasaremos estos datos a dataframes."
      ]
    },
    {
      "cell_type": "code",
      "metadata": {
        "id": "T7b3Ciio_Qn-"
      },
      "source": [
        "datos = pd.DataFrame(datos)\r\n",
        "paises = pd.DataFrame(paises)\r\n",
        "anios = pd.DataFrame(anios)\r\n",
        "tipo_energia = pd.DataFrame(tipo_energia)"
      ],
      "execution_count": null,
      "outputs": []
    },
    {
      "cell_type": "markdown",
      "metadata": {
        "id": "7liKJPPC_d2h"
      },
      "source": [
        "Veamos como se encuentran nuestros datos"
      ]
    },
    {
      "cell_type": "code",
      "metadata": {
        "colab": {
          "base_uri": "https://localhost:8080/",
          "height": 197
        },
        "id": "x6MEq64Y_g6y",
        "outputId": "e6654c1d-a5dd-4d6f-ab13-2834e0c05791"
      },
      "source": [
        "datos.head()"
      ],
      "execution_count": null,
      "outputs": [
        {
          "output_type": "execute_result",
          "data": {
            "text/html": [
              "<div>\n",
              "<style scoped>\n",
              "    .dataframe tbody tr th:only-of-type {\n",
              "        vertical-align: middle;\n",
              "    }\n",
              "\n",
              "    .dataframe tbody tr th {\n",
              "        vertical-align: top;\n",
              "    }\n",
              "\n",
              "    .dataframe thead th {\n",
              "        text-align: right;\n",
              "    }\n",
              "</style>\n",
              "<table border=\"1\" class=\"dataframe\">\n",
              "  <thead>\n",
              "    <tr style=\"text-align: right;\">\n",
              "      <th></th>\n",
              "      <th>@dim_208</th>\n",
              "      <th>@dim_29117</th>\n",
              "      <th>@dim_44959</th>\n",
              "      <th>@id_fuente</th>\n",
              "      <th>@ids_notas</th>\n",
              "      <th>@iso3</th>\n",
              "      <th>@valor</th>\n",
              "    </tr>\n",
              "  </thead>\n",
              "  <tbody>\n",
              "    <tr>\n",
              "      <th>0</th>\n",
              "      <td>216</td>\n",
              "      <td>29138</td>\n",
              "      <td>57509</td>\n",
              "      <td>714</td>\n",
              "      <td></td>\n",
              "      <td>ARG</td>\n",
              "      <td>6.95</td>\n",
              "    </tr>\n",
              "    <tr>\n",
              "      <th>1</th>\n",
              "      <td>216</td>\n",
              "      <td>29139</td>\n",
              "      <td>57509</td>\n",
              "      <td>714</td>\n",
              "      <td></td>\n",
              "      <td>ARG</td>\n",
              "      <td>7.17</td>\n",
              "    </tr>\n",
              "    <tr>\n",
              "      <th>2</th>\n",
              "      <td>216</td>\n",
              "      <td>29140</td>\n",
              "      <td>57509</td>\n",
              "      <td>714</td>\n",
              "      <td></td>\n",
              "      <td>ARG</td>\n",
              "      <td>7.43</td>\n",
              "    </tr>\n",
              "    <tr>\n",
              "      <th>3</th>\n",
              "      <td>216</td>\n",
              "      <td>29141</td>\n",
              "      <td>57509</td>\n",
              "      <td>714</td>\n",
              "      <td></td>\n",
              "      <td>ARG</td>\n",
              "      <td>14.66</td>\n",
              "    </tr>\n",
              "    <tr>\n",
              "      <th>4</th>\n",
              "      <td>216</td>\n",
              "      <td>29142</td>\n",
              "      <td>57509</td>\n",
              "      <td>714</td>\n",
              "      <td></td>\n",
              "      <td>ARG</td>\n",
              "      <td>19.9</td>\n",
              "    </tr>\n",
              "  </tbody>\n",
              "</table>\n",
              "</div>"
            ],
            "text/plain": [
              "  @dim_208 @dim_29117 @dim_44959 @id_fuente @ids_notas @iso3 @valor\n",
              "0      216      29138      57509        714              ARG   6.95\n",
              "1      216      29139      57509        714              ARG   7.17\n",
              "2      216      29140      57509        714              ARG   7.43\n",
              "3      216      29141      57509        714              ARG  14.66\n",
              "4      216      29142      57509        714              ARG   19.9"
            ]
          },
          "metadata": {
            "tags": []
          },
          "execution_count": 97
        }
      ]
    },
    {
      "cell_type": "markdown",
      "metadata": {
        "id": "RxBxn383_jqg"
      },
      "source": [
        "Notamos 2 cosas, que se basan en ids los nombres, y que los nombres de nuestras columnas contienen un '@' que podriamos omitir, obtenedremos los ids de los demas dataframes para poder tener un mejor entendimiento de los datos. Primero haremos la limpieza de los nombres de variables de nuestros dataframes."
      ]
    },
    {
      "cell_type": "code",
      "metadata": {
        "id": "3HmG2sLuAaLp"
      },
      "source": [
        "def limpiar_variables_api(lista):\r\n",
        "    regreso = []\r\n",
        "    for c in lista:\r\n",
        "        c = str(c)\r\n",
        "        ret = \"\"\r\n",
        "        c = c.strip()\r\n",
        "        for i in c:\r\n",
        "            if i.isupper():\r\n",
        "                ret = ret + i.lower()\r\n",
        "            elif i == '/' or i == ' ':\r\n",
        "                ret = ret + '_'\r\n",
        "            elif i == '@':\r\n",
        "                continue\r\n",
        "            else:\r\n",
        "                ret = ret + i\r\n",
        "        regreso.append(ret)\r\n",
        "    return regreso"
      ],
      "execution_count": null,
      "outputs": []
    },
    {
      "cell_type": "code",
      "metadata": {
        "colab": {
          "base_uri": "https://localhost:8080/"
        },
        "id": "V-EJCZDtAdTp",
        "outputId": "ed8ca375-ab22-44cb-d860-95e3d0e1cb4c"
      },
      "source": [
        "apis = ['datos', 'paises','anios', 'tipo_energia']\r\n",
        "for i in apis:\r\n",
        "    vars()[i].columns = limpiar_variables_api(vars()[i].columns)\r\n",
        "for i in apis:\r\n",
        "  print(f'{i} : {vars()[i].columns}')"
      ],
      "execution_count": null,
      "outputs": [
        {
          "output_type": "stream",
          "text": [
            "datos : Index(['dim_208', 'dim_29117', 'dim_44959', 'id_fuente', 'ids_notas', 'iso3',\n",
            "       'valor'],\n",
            "      dtype='object')\n",
            "paises : Index(['name', 'id', 'in'], dtype='object')\n",
            "anios : Index(['name', 'id', 'in'], dtype='object')\n",
            "tipo_energia : Index(['name', 'id', 'in'], dtype='object')\n"
          ],
          "name": "stdout"
        }
      ]
    },
    {
      "cell_type": "markdown",
      "metadata": {
        "id": "c4ZeYTzLAvbA"
      },
      "source": [
        "Ahora si obtendremos los ids."
      ]
    },
    {
      "cell_type": "code",
      "metadata": {
        "id": "ukhC77ew_0bE"
      },
      "source": [
        "id_paises = int(x['datameta']['dimensions']['dim'][0]['@id'])\r\n",
        "id_anios = int(x['datameta']['dimensions']['dim'][1]['@id'])\r\n",
        "id_tipo_energia = int(x['datameta']['dimensions']['dim'][2]['@id'])"
      ],
      "execution_count": null,
      "outputs": []
    },
    {
      "cell_type": "code",
      "metadata": {
        "colab": {
          "base_uri": "https://localhost:8080/"
        },
        "id": "sO-gARKu_6Qn",
        "outputId": "caa09cc9-6bdb-451a-dfb7-ea43f5810e6d"
      },
      "source": [
        "print(f'id paises: {id_paises}')\r\n",
        "print(f'id anios: {id_anios}')\r\n",
        "print(f'id tipo de energia: {id_tipo_energia}')"
      ],
      "execution_count": null,
      "outputs": [
        {
          "output_type": "stream",
          "text": [
            "id paises: 208\n",
            "id anios: 29117\n",
            "id tipo de energia: 44959\n"
          ],
          "name": "stdout"
        }
      ]
    },
    {
      "cell_type": "markdown",
      "metadata": {
        "id": "6SpVDo6HAGW5"
      },
      "source": [
        "Notamos que estos id se relacionan con el nombre de variables de nuestro dataframe de datos."
      ]
    },
    {
      "cell_type": "markdown",
      "metadata": {
        "id": "7L1wj_iM1oKB"
      },
      "source": [
        "Vamos a hacer el merge de estos dataframes, pero primero renombraremos las columnas para poder identificarlas."
      ]
    },
    {
      "cell_type": "code",
      "metadata": {
        "id": "q-Jvbyk010QN"
      },
      "source": [
        "for i in  ['paises','anios', 'tipo_energia']:    \r\n",
        "    vars()[i] = vars()[i].set_index(vars()[i]['id'], drop=True)\r\n",
        "    vars()[i] = vars()[i].drop(['id'], axis=1)\r\n",
        "    rename = []\r\n",
        "    for j in vars()[i].columns:\r\n",
        "        rename.append(j + f\"_{i}\")\r\n",
        "    vars()[i].columns = rename"
      ],
      "execution_count": null,
      "outputs": []
    },
    {
      "cell_type": "code",
      "metadata": {
        "colab": {
          "base_uri": "https://localhost:8080/"
        },
        "id": "TYR7Ju-N3BRs",
        "outputId": "f83ccffb-8c03-4a33-9251-6d0028403c17"
      },
      "source": [
        "for i in apis:\r\n",
        "  print(f'{i} : {vars()[i].columns}')"
      ],
      "execution_count": null,
      "outputs": [
        {
          "output_type": "stream",
          "text": [
            "datos : Index(['dim_208', 'dim_29117', 'dim_44959', 'id_fuente', 'ids_notas', 'iso3',\n",
            "       'valor'],\n",
            "      dtype='object')\n",
            "paises : Index(['name_paises', 'in_paises'], dtype='object')\n",
            "anios : Index(['name_anios', 'in_anios'], dtype='object')\n",
            "tipo_energia : Index(['name_tipo_energia', 'in_tipo_energia'], dtype='object')\n"
          ],
          "name": "stdout"
        }
      ]
    },
    {
      "cell_type": "markdown",
      "metadata": {
        "id": "G_Rm_e1x29UL"
      },
      "source": [
        "Vemos que se renombrearon correctamente nuestros dataframes y ahora si procedemos a hacer el merge con nuestra tabla principal de datos"
      ]
    },
    {
      "cell_type": "code",
      "metadata": {
        "id": "3eLOSf2D3MNc"
      },
      "source": [
        "datos_final = pd.merge(datos, paises, left_on='dim_208', right_index=True)\r\n",
        "datos_final = pd.merge(datos_final, anios, left_on='dim_29117', right_index = True)\r\n",
        "datos_final =  pd.merge(datos_final, tipo_energia, left_on='dim_44959', right_index = True)"
      ],
      "execution_count": null,
      "outputs": []
    },
    {
      "cell_type": "markdown",
      "metadata": {
        "id": "mY0PRc-E3QYj"
      },
      "source": [
        "Veamos como quedo nuestro dataframe."
      ]
    },
    {
      "cell_type": "code",
      "metadata": {
        "colab": {
          "base_uri": "https://localhost:8080/",
          "height": 267
        },
        "id": "unyn7Yan3Tbo",
        "outputId": "5b8990aa-d447-4622-d743-8dd686f5f01c"
      },
      "source": [
        "datos_final.head()"
      ],
      "execution_count": null,
      "outputs": [
        {
          "output_type": "execute_result",
          "data": {
            "text/html": [
              "<div>\n",
              "<style scoped>\n",
              "    .dataframe tbody tr th:only-of-type {\n",
              "        vertical-align: middle;\n",
              "    }\n",
              "\n",
              "    .dataframe tbody tr th {\n",
              "        vertical-align: top;\n",
              "    }\n",
              "\n",
              "    .dataframe thead th {\n",
              "        text-align: right;\n",
              "    }\n",
              "</style>\n",
              "<table border=\"1\" class=\"dataframe\">\n",
              "  <thead>\n",
              "    <tr style=\"text-align: right;\">\n",
              "      <th></th>\n",
              "      <th>dim_208</th>\n",
              "      <th>dim_29117</th>\n",
              "      <th>dim_44959</th>\n",
              "      <th>id_fuente</th>\n",
              "      <th>ids_notas</th>\n",
              "      <th>iso3</th>\n",
              "      <th>valor</th>\n",
              "      <th>name_paises</th>\n",
              "      <th>in_paises</th>\n",
              "      <th>name_anios</th>\n",
              "      <th>in_anios</th>\n",
              "      <th>name_tipo_energia</th>\n",
              "      <th>in_tipo_energia</th>\n",
              "    </tr>\n",
              "  </thead>\n",
              "  <tbody>\n",
              "    <tr>\n",
              "      <th>0</th>\n",
              "      <td>216</td>\n",
              "      <td>29138</td>\n",
              "      <td>57509</td>\n",
              "      <td>714</td>\n",
              "      <td></td>\n",
              "      <td>ARG</td>\n",
              "      <td>6.95</td>\n",
              "      <td>Argentina</td>\n",
              "      <td>1</td>\n",
              "      <td>1970</td>\n",
              "      <td>1</td>\n",
              "      <td>Hidroenergía</td>\n",
              "      <td>1</td>\n",
              "    </tr>\n",
              "    <tr>\n",
              "      <th>65</th>\n",
              "      <td>221</td>\n",
              "      <td>29138</td>\n",
              "      <td>57509</td>\n",
              "      <td>714</td>\n",
              "      <td></td>\n",
              "      <td>BOL</td>\n",
              "      <td>49.02</td>\n",
              "      <td>Bolivia (Estado Plurinacional de)</td>\n",
              "      <td>1</td>\n",
              "      <td>1970</td>\n",
              "      <td>1</td>\n",
              "      <td>Hidroenergía</td>\n",
              "      <td>1</td>\n",
              "    </tr>\n",
              "    <tr>\n",
              "      <th>113</th>\n",
              "      <td>222</td>\n",
              "      <td>29138</td>\n",
              "      <td>57509</td>\n",
              "      <td>714</td>\n",
              "      <td></td>\n",
              "      <td>BRA</td>\n",
              "      <td>8.75</td>\n",
              "      <td>Brasil</td>\n",
              "      <td>1</td>\n",
              "      <td>1970</td>\n",
              "      <td>1</td>\n",
              "      <td>Hidroenergía</td>\n",
              "      <td>1</td>\n",
              "    </tr>\n",
              "    <tr>\n",
              "      <th>161</th>\n",
              "      <td>224</td>\n",
              "      <td>29138</td>\n",
              "      <td>57509</td>\n",
              "      <td>714</td>\n",
              "      <td></td>\n",
              "      <td>CHL</td>\n",
              "      <td>20.35</td>\n",
              "      <td>Chile</td>\n",
              "      <td>1</td>\n",
              "      <td>1970</td>\n",
              "      <td>1</td>\n",
              "      <td>Hidroenergía</td>\n",
              "      <td>1</td>\n",
              "    </tr>\n",
              "    <tr>\n",
              "      <th>209</th>\n",
              "      <td>225</td>\n",
              "      <td>29138</td>\n",
              "      <td>57509</td>\n",
              "      <td>714</td>\n",
              "      <td></td>\n",
              "      <td>COL</td>\n",
              "      <td>13.95</td>\n",
              "      <td>Colombia</td>\n",
              "      <td>1</td>\n",
              "      <td>1970</td>\n",
              "      <td>1</td>\n",
              "      <td>Hidroenergía</td>\n",
              "      <td>1</td>\n",
              "    </tr>\n",
              "  </tbody>\n",
              "</table>\n",
              "</div>"
            ],
            "text/plain": [
              "    dim_208 dim_29117 dim_44959  ... in_anios name_tipo_energia in_tipo_energia\n",
              "0       216     29138     57509  ...        1      Hidroenergía               1\n",
              "65      221     29138     57509  ...        1      Hidroenergía               1\n",
              "113     222     29138     57509  ...        1      Hidroenergía               1\n",
              "161     224     29138     57509  ...        1      Hidroenergía               1\n",
              "209     225     29138     57509  ...        1      Hidroenergía               1\n",
              "\n",
              "[5 rows x 13 columns]"
            ]
          },
          "metadata": {
            "tags": []
          },
          "execution_count": 105
        }
      ]
    },
    {
      "cell_type": "markdown",
      "metadata": {
        "id": "phSuQMZ23Xir"
      },
      "source": [
        "Seleccionaremos las variables que nos seran útilies y renombraremos los columnas."
      ]
    },
    {
      "cell_type": "code",
      "metadata": {
        "colab": {
          "base_uri": "https://localhost:8080/",
          "height": 406
        },
        "id": "SQthGf6w3b4d",
        "outputId": "ddaed44c-3630-49ec-f402-4562ba7dd3f4"
      },
      "source": [
        "datos_final = datos_final[['name_paises', 'name_anios', 'name_tipo_energia', 'valor']]\r\n",
        "rename = ['pais', 'anio', 'tipo_energia', 'valor']\r\n",
        "datos_final.columns = rename\r\n",
        "datos_final"
      ],
      "execution_count": null,
      "outputs": [
        {
          "output_type": "execute_result",
          "data": {
            "text/html": [
              "<div>\n",
              "<style scoped>\n",
              "    .dataframe tbody tr th:only-of-type {\n",
              "        vertical-align: middle;\n",
              "    }\n",
              "\n",
              "    .dataframe tbody tr th {\n",
              "        vertical-align: top;\n",
              "    }\n",
              "\n",
              "    .dataframe thead th {\n",
              "        text-align: right;\n",
              "    }\n",
              "</style>\n",
              "<table border=\"1\" class=\"dataframe\">\n",
              "  <thead>\n",
              "    <tr style=\"text-align: right;\">\n",
              "      <th></th>\n",
              "      <th>pais</th>\n",
              "      <th>anio</th>\n",
              "      <th>tipo_energia</th>\n",
              "      <th>valor</th>\n",
              "    </tr>\n",
              "  </thead>\n",
              "  <tbody>\n",
              "    <tr>\n",
              "      <th>0</th>\n",
              "      <td>Argentina</td>\n",
              "      <td>1970</td>\n",
              "      <td>Hidroenergía</td>\n",
              "      <td>6.95</td>\n",
              "    </tr>\n",
              "    <tr>\n",
              "      <th>65</th>\n",
              "      <td>Bolivia (Estado Plurinacional de)</td>\n",
              "      <td>1970</td>\n",
              "      <td>Hidroenergía</td>\n",
              "      <td>49.02</td>\n",
              "    </tr>\n",
              "    <tr>\n",
              "      <th>113</th>\n",
              "      <td>Brasil</td>\n",
              "      <td>1970</td>\n",
              "      <td>Hidroenergía</td>\n",
              "      <td>8.75</td>\n",
              "    </tr>\n",
              "    <tr>\n",
              "      <th>161</th>\n",
              "      <td>Chile</td>\n",
              "      <td>1970</td>\n",
              "      <td>Hidroenergía</td>\n",
              "      <td>20.35</td>\n",
              "    </tr>\n",
              "    <tr>\n",
              "      <th>209</th>\n",
              "      <td>Colombia</td>\n",
              "      <td>1970</td>\n",
              "      <td>Hidroenergía</td>\n",
              "      <td>13.95</td>\n",
              "    </tr>\n",
              "    <tr>\n",
              "      <th>...</th>\n",
              "      <td>...</td>\n",
              "      <td>...</td>\n",
              "      <td>...</td>\n",
              "      <td>...</td>\n",
              "    </tr>\n",
              "    <tr>\n",
              "      <th>4614</th>\n",
              "      <td>Guatemala</td>\n",
              "      <td>2018</td>\n",
              "      <td>Geotermia</td>\n",
              "      <td>2.80134266</td>\n",
              "    </tr>\n",
              "    <tr>\n",
              "      <th>4615</th>\n",
              "      <td>Honduras</td>\n",
              "      <td>2018</td>\n",
              "      <td>Geotermia</td>\n",
              "      <td>0.98520934</td>\n",
              "    </tr>\n",
              "    <tr>\n",
              "      <th>4616</th>\n",
              "      <td>México</td>\n",
              "      <td>2018</td>\n",
              "      <td>Geotermia</td>\n",
              "      <td>17.2758627</td>\n",
              "    </tr>\n",
              "    <tr>\n",
              "      <th>4617</th>\n",
              "      <td>Nicaragua</td>\n",
              "      <td>2018</td>\n",
              "      <td>Geotermia</td>\n",
              "      <td>8.94816816</td>\n",
              "    </tr>\n",
              "    <tr>\n",
              "      <th>4618</th>\n",
              "      <td>América Latina y el Caribe</td>\n",
              "      <td>2018</td>\n",
              "      <td>Geotermia</td>\n",
              "      <td>1.94369428</td>\n",
              "    </tr>\n",
              "  </tbody>\n",
              "</table>\n",
              "<p>4680 rows × 4 columns</p>\n",
              "</div>"
            ],
            "text/plain": [
              "                                   pais  anio  tipo_energia       valor\n",
              "0                             Argentina  1970  Hidroenergía        6.95\n",
              "65    Bolivia (Estado Plurinacional de)  1970  Hidroenergía       49.02\n",
              "113                              Brasil  1970  Hidroenergía        8.75\n",
              "161                               Chile  1970  Hidroenergía       20.35\n",
              "209                            Colombia  1970  Hidroenergía       13.95\n",
              "...                                 ...   ...           ...         ...\n",
              "4614                          Guatemala  2018     Geotermia  2.80134266\n",
              "4615                           Honduras  2018     Geotermia  0.98520934\n",
              "4616                             México  2018     Geotermia  17.2758627\n",
              "4617                          Nicaragua  2018     Geotermia  8.94816816\n",
              "4618         América Latina y el Caribe  2018     Geotermia  1.94369428\n",
              "\n",
              "[4680 rows x 4 columns]"
            ]
          },
          "metadata": {
            "tags": []
          },
          "execution_count": 106
        }
      ]
    },
    {
      "cell_type": "markdown",
      "metadata": {
        "id": "r8xphOBn3jSe"
      },
      "source": [
        "Seleccionaremos solo los datos que pertenecen a Mexico y que sean apartir del año 2000."
      ]
    },
    {
      "cell_type": "code",
      "metadata": {
        "colab": {
          "base_uri": "https://localhost:8080/",
          "height": 513
        },
        "id": "MXBPGOa53uPx",
        "outputId": "94dccc20-4e49-47bb-a7fa-8a8562a44ebe"
      },
      "source": [
        "datos_mexico = datos_final[datos_final['pais']=='México']\r\n",
        "datos_mexico['anio'] = datos_mexico['anio'].astype(int)\r\n",
        "mexico_api = datos_mexico[datos_mexico['anio'] >= 2000]\r\n",
        "mexico_api"
      ],
      "execution_count": null,
      "outputs": [
        {
          "output_type": "stream",
          "text": [
            "/usr/local/lib/python3.7/dist-packages/ipykernel_launcher.py:2: SettingWithCopyWarning: \n",
            "A value is trying to be set on a copy of a slice from a DataFrame.\n",
            "Try using .loc[row_indexer,col_indexer] = value instead\n",
            "\n",
            "See the caveats in the documentation: https://pandas.pydata.org/pandas-docs/stable/user_guide/indexing.html#returning-a-view-versus-a-copy\n",
            "  \n"
          ],
          "name": "stderr"
        },
        {
          "output_type": "execute_result",
          "data": {
            "text/html": [
              "<div>\n",
              "<style scoped>\n",
              "    .dataframe tbody tr th:only-of-type {\n",
              "        vertical-align: middle;\n",
              "    }\n",
              "\n",
              "    .dataframe tbody tr th {\n",
              "        vertical-align: top;\n",
              "    }\n",
              "\n",
              "    .dataframe thead th {\n",
              "        text-align: right;\n",
              "    }\n",
              "</style>\n",
              "<table border=\"1\" class=\"dataframe\">\n",
              "  <thead>\n",
              "    <tr style=\"text-align: right;\">\n",
              "      <th></th>\n",
              "      <th>pais</th>\n",
              "      <th>anio</th>\n",
              "      <th>tipo_energia</th>\n",
              "      <th>valor</th>\n",
              "    </tr>\n",
              "  </thead>\n",
              "  <tbody>\n",
              "    <tr>\n",
              "      <th>670</th>\n",
              "      <td>México</td>\n",
              "      <td>2000</td>\n",
              "      <td>Hidroenergía</td>\n",
              "      <td>18.87</td>\n",
              "    </tr>\n",
              "    <tr>\n",
              "      <th>671</th>\n",
              "      <td>México</td>\n",
              "      <td>2001</td>\n",
              "      <td>Hidroenergía</td>\n",
              "      <td>17.26</td>\n",
              "    </tr>\n",
              "    <tr>\n",
              "      <th>672</th>\n",
              "      <td>México</td>\n",
              "      <td>2002</td>\n",
              "      <td>Hidroenergía</td>\n",
              "      <td>15.61</td>\n",
              "    </tr>\n",
              "    <tr>\n",
              "      <th>673</th>\n",
              "      <td>México</td>\n",
              "      <td>2003</td>\n",
              "      <td>Hidroenergía</td>\n",
              "      <td>12.58</td>\n",
              "    </tr>\n",
              "    <tr>\n",
              "      <th>674</th>\n",
              "      <td>México</td>\n",
              "      <td>2004</td>\n",
              "      <td>Hidroenergía</td>\n",
              "      <td>15.04</td>\n",
              "    </tr>\n",
              "    <tr>\n",
              "      <th>...</th>\n",
              "      <td>...</td>\n",
              "      <td>...</td>\n",
              "      <td>...</td>\n",
              "      <td>...</td>\n",
              "    </tr>\n",
              "    <tr>\n",
              "      <th>2561</th>\n",
              "      <td>México</td>\n",
              "      <td>2014</td>\n",
              "      <td>Geotermia</td>\n",
              "      <td>19.50809619</td>\n",
              "    </tr>\n",
              "    <tr>\n",
              "      <th>2562</th>\n",
              "      <td>México</td>\n",
              "      <td>2015</td>\n",
              "      <td>Geotermia</td>\n",
              "      <td>20.76372552</td>\n",
              "    </tr>\n",
              "    <tr>\n",
              "      <th>2563</th>\n",
              "      <td>México</td>\n",
              "      <td>2016</td>\n",
              "      <td>Geotermia</td>\n",
              "      <td>20.27290672</td>\n",
              "    </tr>\n",
              "    <tr>\n",
              "      <th>2564</th>\n",
              "      <td>México</td>\n",
              "      <td>2017</td>\n",
              "      <td>Geotermia</td>\n",
              "      <td>19.19427776</td>\n",
              "    </tr>\n",
              "    <tr>\n",
              "      <th>4616</th>\n",
              "      <td>México</td>\n",
              "      <td>2018</td>\n",
              "      <td>Geotermia</td>\n",
              "      <td>17.2758627</td>\n",
              "    </tr>\n",
              "  </tbody>\n",
              "</table>\n",
              "<p>95 rows × 4 columns</p>\n",
              "</div>"
            ],
            "text/plain": [
              "        pais  anio  tipo_energia        valor\n",
              "670   México  2000  Hidroenergía        18.87\n",
              "671   México  2001  Hidroenergía        17.26\n",
              "672   México  2002  Hidroenergía        15.61\n",
              "673   México  2003  Hidroenergía        12.58\n",
              "674   México  2004  Hidroenergía        15.04\n",
              "...      ...   ...           ...          ...\n",
              "2561  México  2014     Geotermia  19.50809619\n",
              "2562  México  2015     Geotermia  20.76372552\n",
              "2563  México  2016     Geotermia  20.27290672\n",
              "2564  México  2017     Geotermia  19.19427776\n",
              "4616  México  2018     Geotermia   17.2758627\n",
              "\n",
              "[95 rows x 4 columns]"
            ]
          },
          "metadata": {
            "tags": []
          },
          "execution_count": 107
        }
      ]
    },
    {
      "cell_type": "markdown",
      "metadata": {
        "id": "ahLlz6c-4jfQ"
      },
      "source": [
        "Haremos una transformación de los datos para que los podamos unir al dataframe de energias renovables de mexico."
      ]
    },
    {
      "cell_type": "code",
      "metadata": {
        "colab": {
          "base_uri": "https://localhost:8080/",
          "height": 617
        },
        "id": "HAw_BNRB4rAc",
        "outputId": "cf4ea577-0aad-46a0-a71d-0018cdf24676"
      },
      "source": [
        "transformacion_mexico_api = []\r\n",
        "for i in mexico_api['anio'].unique():\r\n",
        "    filtro = mexico_api[mexico_api['anio'] == i]\r\n",
        "    filtro = filtro.set_index(filtro['tipo_energia']).drop(['pais', 'anio', 'tipo_energia'], axis=1).T\r\n",
        "    filtro = pd.DataFrame(filtro)\r\n",
        "    filtro['anio'] = i\r\n",
        "    transformacion_mexico_api.append(filtro)\r\n",
        "trans_2_mexico_api  = pd.DataFrame(pd.concat(transformacion_mexico_api, axis=0).reset_index(drop=True))\r\n",
        "rename = []\r\n",
        "for i in trans_2_mexico_api.columns:\r\n",
        "    rename.append(f'{i}_api')\r\n",
        "trans_2_mexico_api.columns = rename\r\n",
        "trans_2_mexico_api.columns = limpiar_variables(trans_2_mexico_api.columns)\r\n",
        "trans_2_mexico_api"
      ],
      "execution_count": null,
      "outputs": [
        {
          "output_type": "execute_result",
          "data": {
            "text/html": [
              "<div>\n",
              "<style scoped>\n",
              "    .dataframe tbody tr th:only-of-type {\n",
              "        vertical-align: middle;\n",
              "    }\n",
              "\n",
              "    .dataframe tbody tr th {\n",
              "        vertical-align: top;\n",
              "    }\n",
              "\n",
              "    .dataframe thead th {\n",
              "        text-align: right;\n",
              "    }\n",
              "</style>\n",
              "<table border=\"1\" class=\"dataframe\">\n",
              "  <thead>\n",
              "    <tr style=\"text-align: right;\">\n",
              "      <th></th>\n",
              "      <th>hidroenergía_api</th>\n",
              "      <th>leña_api</th>\n",
              "      <th>caña_de_azúcar_y_derivados_api</th>\n",
              "      <th>otras_primarias_api</th>\n",
              "      <th>geotermia_api</th>\n",
              "      <th>anio_api</th>\n",
              "    </tr>\n",
              "  </thead>\n",
              "  <tbody>\n",
              "    <tr>\n",
              "      <th>0</th>\n",
              "      <td>18.87</td>\n",
              "      <td>45.18</td>\n",
              "      <td>13.95</td>\n",
              "      <td>0.29</td>\n",
              "      <td>21.70917501</td>\n",
              "      <td>2000</td>\n",
              "    </tr>\n",
              "    <tr>\n",
              "      <th>1</th>\n",
              "      <td>17.26</td>\n",
              "      <td>45.06</td>\n",
              "      <td>15.69</td>\n",
              "      <td>0.37</td>\n",
              "      <td>21.62359878</td>\n",
              "      <td>2001</td>\n",
              "    </tr>\n",
              "    <tr>\n",
              "      <th>2</th>\n",
              "      <td>15.61</td>\n",
              "      <td>46.46</td>\n",
              "      <td>15.47</td>\n",
              "      <td>0.43</td>\n",
              "      <td>22.02343145</td>\n",
              "      <td>2002</td>\n",
              "    </tr>\n",
              "    <tr>\n",
              "      <th>3</th>\n",
              "      <td>12.58</td>\n",
              "      <td>47.23</td>\n",
              "      <td>15.81</td>\n",
              "      <td>0.58</td>\n",
              "      <td>23.80355329</td>\n",
              "      <td>2003</td>\n",
              "    </tr>\n",
              "    <tr>\n",
              "      <th>4</th>\n",
              "      <td>15.04</td>\n",
              "      <td>44.31</td>\n",
              "      <td>15.3</td>\n",
              "      <td>0.6</td>\n",
              "      <td>24.75871575</td>\n",
              "      <td>2004</td>\n",
              "    </tr>\n",
              "    <tr>\n",
              "      <th>5</th>\n",
              "      <td>15.63</td>\n",
              "      <td>41.75</td>\n",
              "      <td>16.26</td>\n",
              "      <td>0.45</td>\n",
              "      <td>25.91103626</td>\n",
              "      <td>2005</td>\n",
              "    </tr>\n",
              "    <tr>\n",
              "      <th>6</th>\n",
              "      <td>17.51</td>\n",
              "      <td>42.28</td>\n",
              "      <td>15.49</td>\n",
              "      <td>0.51</td>\n",
              "      <td>24.20118386</td>\n",
              "      <td>2006</td>\n",
              "    </tr>\n",
              "    <tr>\n",
              "      <th>7</th>\n",
              "      <td>15.57</td>\n",
              "      <td>41.63</td>\n",
              "      <td>15.57</td>\n",
              "      <td>0.69</td>\n",
              "      <td>26.5309221</td>\n",
              "      <td>2007</td>\n",
              "    </tr>\n",
              "    <tr>\n",
              "      <th>8</th>\n",
              "      <td>21.2</td>\n",
              "      <td>39.33</td>\n",
              "      <td>14.72</td>\n",
              "      <td>0.76</td>\n",
              "      <td>23.99493338</td>\n",
              "      <td>2008</td>\n",
              "    </tr>\n",
              "    <tr>\n",
              "      <th>9</th>\n",
              "      <td>15.9</td>\n",
              "      <td>43.08</td>\n",
              "      <td>14.58</td>\n",
              "      <td>1.21</td>\n",
              "      <td>25.23252141</td>\n",
              "      <td>2009</td>\n",
              "    </tr>\n",
              "    <tr>\n",
              "      <th>10</th>\n",
              "      <td>20.84</td>\n",
              "      <td>40.39</td>\n",
              "      <td>13.74</td>\n",
              "      <td>1.67</td>\n",
              "      <td>23.35586357</td>\n",
              "      <td>2010</td>\n",
              "    </tr>\n",
              "    <tr>\n",
              "      <th>11</th>\n",
              "      <td>20.38</td>\n",
              "      <td>40.27</td>\n",
              "      <td>13.99</td>\n",
              "      <td>2.07</td>\n",
              "      <td>23.29729273</td>\n",
              "      <td>2011</td>\n",
              "    </tr>\n",
              "    <tr>\n",
              "      <th>12</th>\n",
              "      <td>18.51</td>\n",
              "      <td>41.37</td>\n",
              "      <td>15.15</td>\n",
              "      <td>3.5</td>\n",
              "      <td>21.45405062</td>\n",
              "      <td>2012</td>\n",
              "    </tr>\n",
              "    <tr>\n",
              "      <th>13</th>\n",
              "      <td>15.89</td>\n",
              "      <td>40.24</td>\n",
              "      <td>19.3</td>\n",
              "      <td>3.88</td>\n",
              "      <td>20.68883756</td>\n",
              "      <td>2013</td>\n",
              "    </tr>\n",
              "    <tr>\n",
              "      <th>14</th>\n",
              "      <td>21.03</td>\n",
              "      <td>38.17</td>\n",
              "      <td>16.22</td>\n",
              "      <td>5.08</td>\n",
              "      <td>19.50809619</td>\n",
              "      <td>2014</td>\n",
              "    </tr>\n",
              "    <tr>\n",
              "      <th>15</th>\n",
              "      <td>17.16</td>\n",
              "      <td>39.02</td>\n",
              "      <td>16.33</td>\n",
              "      <td>6.71</td>\n",
              "      <td>20.76372552</td>\n",
              "      <td>2015</td>\n",
              "    </tr>\n",
              "    <tr>\n",
              "      <th>16</th>\n",
              "      <td>16.9</td>\n",
              "      <td>38.46</td>\n",
              "      <td>16.65</td>\n",
              "      <td>7.71</td>\n",
              "      <td>20.27290672</td>\n",
              "      <td>2016</td>\n",
              "    </tr>\n",
              "    <tr>\n",
              "      <th>17</th>\n",
              "      <td>17.27</td>\n",
              "      <td>37.7</td>\n",
              "      <td>17.41</td>\n",
              "      <td>8.42</td>\n",
              "      <td>19.19427776</td>\n",
              "      <td>2017</td>\n",
              "    </tr>\n",
              "    <tr>\n",
              "      <th>18</th>\n",
              "      <td>17.8</td>\n",
              "      <td>38.49</td>\n",
              "      <td>17.78</td>\n",
              "      <td>8.66</td>\n",
              "      <td>17.2758627</td>\n",
              "      <td>2018</td>\n",
              "    </tr>\n",
              "  </tbody>\n",
              "</table>\n",
              "</div>"
            ],
            "text/plain": [
              "   hidroenergía_api leña_api  ... geotermia_api anio_api\n",
              "0             18.87    45.18  ...   21.70917501     2000\n",
              "1             17.26    45.06  ...   21.62359878     2001\n",
              "2             15.61    46.46  ...   22.02343145     2002\n",
              "3             12.58    47.23  ...   23.80355329     2003\n",
              "4             15.04    44.31  ...   24.75871575     2004\n",
              "5             15.63    41.75  ...   25.91103626     2005\n",
              "6             17.51    42.28  ...   24.20118386     2006\n",
              "7             15.57    41.63  ...    26.5309221     2007\n",
              "8              21.2    39.33  ...   23.99493338     2008\n",
              "9              15.9    43.08  ...   25.23252141     2009\n",
              "10            20.84    40.39  ...   23.35586357     2010\n",
              "11            20.38    40.27  ...   23.29729273     2011\n",
              "12            18.51    41.37  ...   21.45405062     2012\n",
              "13            15.89    40.24  ...   20.68883756     2013\n",
              "14            21.03    38.17  ...   19.50809619     2014\n",
              "15            17.16    39.02  ...   20.76372552     2015\n",
              "16             16.9    38.46  ...   20.27290672     2016\n",
              "17            17.27     37.7  ...   19.19427776     2017\n",
              "18             17.8    38.49  ...    17.2758627     2018\n",
              "\n",
              "[19 rows x 6 columns]"
            ]
          },
          "metadata": {
            "tags": []
          },
          "execution_count": 108
        }
      ]
    },
    {
      "cell_type": "markdown",
      "metadata": {
        "id": "kwnL9tRu44-9"
      },
      "source": [
        "Podemos observar que ahora tenemos una fila por año, manteniendo las variables que teniamos. Ahora si lo podemos juntar con nuestro dataframe que obtuvimos anteriormente de energias renovables de mexico."
      ]
    },
    {
      "cell_type": "code",
      "metadata": {
        "id": "oUW25lNc5Ev-"
      },
      "source": [
        "energias_renovables_mexico.index = energias_renovables_mexico.index.astype(int)\r\n",
        "energias_renovables_mexico_api = pd.merge(energias_renovables_mexico,trans_2_mexico_api , right_on= 'anio_api', left_index = True)\r\n",
        "energias_renovables_mexico_api.set_index(energias_renovables_mexico_api['anio_api'], inplace=True)\r\n",
        "energias_renovables_mexico_api.drop(['anio_api'], axis=1, inplace=True)"
      ],
      "execution_count": null,
      "outputs": []
    },
    {
      "cell_type": "markdown",
      "metadata": {
        "id": "yk6jnQE05Mab"
      },
      "source": [
        "  Y ahora si ya tenemos nuestro dataframe completo."
      ]
    },
    {
      "cell_type": "code",
      "metadata": {
        "colab": {
          "base_uri": "https://localhost:8080/",
          "height": 667
        },
        "id": "lhSbW80v1v06",
        "outputId": "fa663339-097c-44ca-f095-108ea009030c"
      },
      "source": [
        "energias_renovables_mexico_api"
      ],
      "execution_count": null,
      "outputs": [
        {
          "output_type": "execute_result",
          "data": {
            "text/html": [
              "<div>\n",
              "<style scoped>\n",
              "    .dataframe tbody tr th:only-of-type {\n",
              "        vertical-align: middle;\n",
              "    }\n",
              "\n",
              "    .dataframe tbody tr th {\n",
              "        vertical-align: top;\n",
              "    }\n",
              "\n",
              "    .dataframe thead th {\n",
              "        text-align: right;\n",
              "    }\n",
              "</style>\n",
              "<table border=\"1\" class=\"dataframe\">\n",
              "  <thead>\n",
              "    <tr style=\"text-align: right;\">\n",
              "      <th></th>\n",
              "      <th>producción_energia_eolica</th>\n",
              "      <th>oferta_total_energia_eolica</th>\n",
              "      <th>oferta_interna_bruta_energia_eolica</th>\n",
              "      <th>total_transformación_energia_eolica</th>\n",
              "      <th>centrales_eléctricas_públicas_energia_eolica</th>\n",
              "      <th>diferencia_estadística_energia_eolica</th>\n",
              "      <th>producción_hidroenerigia</th>\n",
              "      <th>oferta_total_hidroenerigia</th>\n",
              "      <th>oferta_interna_bruta_hidroenerigia</th>\n",
              "      <th>total_transformación_hidroenerigia</th>\n",
              "      <th>centrales_eléctricas_públicas_hidroenerigia</th>\n",
              "      <th>diferencia_estadística_hidroenerigia</th>\n",
              "      <th>producción_geoenerigia</th>\n",
              "      <th>oferta_total_geoenerigia</th>\n",
              "      <th>oferta_interna_bruta_geoenerigia</th>\n",
              "      <th>total_transformación_geoenerigia</th>\n",
              "      <th>centrales_eléctricas_públicas_geoenerigia</th>\n",
              "      <th>diferencia_estadística_geoenerigia</th>\n",
              "      <th>hidroenergía_api</th>\n",
              "      <th>leña_api</th>\n",
              "      <th>caña_de_azúcar_y_derivados_api</th>\n",
              "      <th>otras_primarias_api</th>\n",
              "      <th>geotermia_api</th>\n",
              "    </tr>\n",
              "    <tr>\n",
              "      <th>anio_api</th>\n",
              "      <th></th>\n",
              "      <th></th>\n",
              "      <th></th>\n",
              "      <th></th>\n",
              "      <th></th>\n",
              "      <th></th>\n",
              "      <th></th>\n",
              "      <th></th>\n",
              "      <th></th>\n",
              "      <th></th>\n",
              "      <th></th>\n",
              "      <th></th>\n",
              "      <th></th>\n",
              "      <th></th>\n",
              "      <th></th>\n",
              "      <th></th>\n",
              "      <th></th>\n",
              "      <th></th>\n",
              "      <th></th>\n",
              "      <th></th>\n",
              "      <th></th>\n",
              "      <th></th>\n",
              "      <th></th>\n",
              "    </tr>\n",
              "  </thead>\n",
              "  <tbody>\n",
              "    <tr>\n",
              "      <th>2000</th>\n",
              "      <td>0.001705</td>\n",
              "      <td>0.001705</td>\n",
              "      <td>0.001705</td>\n",
              "      <td>NaN</td>\n",
              "      <td>NaN</td>\n",
              "      <td>-0.001705</td>\n",
              "      <td>119.069568</td>\n",
              "      <td>119.069568</td>\n",
              "      <td>119.069568</td>\n",
              "      <td>-119.069568</td>\n",
              "      <td>-119.069568</td>\n",
              "      <td>0.000000</td>\n",
              "      <td>112.448030</td>\n",
              "      <td>112.448030</td>\n",
              "      <td>112.448030</td>\n",
              "      <td>-133.691630</td>\n",
              "      <td>-133.691630</td>\n",
              "      <td>21.243600</td>\n",
              "      <td>18.87</td>\n",
              "      <td>45.18</td>\n",
              "      <td>13.95</td>\n",
              "      <td>0.29</td>\n",
              "      <td>21.70917501</td>\n",
              "    </tr>\n",
              "    <tr>\n",
              "      <th>2001</th>\n",
              "      <td>0.001705</td>\n",
              "      <td>0.001705</td>\n",
              "      <td>0.001705</td>\n",
              "      <td>NaN</td>\n",
              "      <td>NaN</td>\n",
              "      <td>-0.001705</td>\n",
              "      <td>102.367188</td>\n",
              "      <td>102.367188</td>\n",
              "      <td>102.367188</td>\n",
              "      <td>-102.367188</td>\n",
              "      <td>-102.367188</td>\n",
              "      <td>0.000000</td>\n",
              "      <td>106.083407</td>\n",
              "      <td>106.083407</td>\n",
              "      <td>106.083407</td>\n",
              "      <td>-126.124607</td>\n",
              "      <td>-126.124607</td>\n",
              "      <td>20.041200</td>\n",
              "      <td>17.26</td>\n",
              "      <td>45.06</td>\n",
              "      <td>15.69</td>\n",
              "      <td>0.37</td>\n",
              "      <td>21.62359878</td>\n",
              "    </tr>\n",
              "    <tr>\n",
              "      <th>2002</th>\n",
              "      <td>0.000464</td>\n",
              "      <td>0.000464</td>\n",
              "      <td>0.000464</td>\n",
              "      <td>0.000000</td>\n",
              "      <td>0.000000</td>\n",
              "      <td>-0.000464</td>\n",
              "      <td>89.501724</td>\n",
              "      <td>89.501724</td>\n",
              "      <td>89.501724</td>\n",
              "      <td>-89.501724</td>\n",
              "      <td>-89.501724</td>\n",
              "      <td>0.000000</td>\n",
              "      <td>102.862984</td>\n",
              "      <td>102.862984</td>\n",
              "      <td>102.862984</td>\n",
              "      <td>-122.295784</td>\n",
              "      <td>-122.295784</td>\n",
              "      <td>19.432800</td>\n",
              "      <td>15.61</td>\n",
              "      <td>46.46</td>\n",
              "      <td>15.47</td>\n",
              "      <td>0.43</td>\n",
              "      <td>22.02343145</td>\n",
              "    </tr>\n",
              "    <tr>\n",
              "      <th>2003</th>\n",
              "      <td>0.018000</td>\n",
              "      <td>0.018000</td>\n",
              "      <td>0.018000</td>\n",
              "      <td>-0.018000</td>\n",
              "      <td>-0.018000</td>\n",
              "      <td>0.000000</td>\n",
              "      <td>71.467938</td>\n",
              "      <td>71.467938</td>\n",
              "      <td>71.467938</td>\n",
              "      <td>-71.110800</td>\n",
              "      <td>-71.110800</td>\n",
              "      <td>-0.357138</td>\n",
              "      <td>142.323474</td>\n",
              "      <td>142.323474</td>\n",
              "      <td>142.323474</td>\n",
              "      <td>-142.323474</td>\n",
              "      <td>-142.323474</td>\n",
              "      <td>0.000000</td>\n",
              "      <td>12.58</td>\n",
              "      <td>47.23</td>\n",
              "      <td>15.81</td>\n",
              "      <td>0.58</td>\n",
              "      <td>23.80355329</td>\n",
              "    </tr>\n",
              "    <tr>\n",
              "      <th>2004</th>\n",
              "      <td>0.021600</td>\n",
              "      <td>0.021600</td>\n",
              "      <td>0.021600</td>\n",
              "      <td>-0.021600</td>\n",
              "      <td>-0.021600</td>\n",
              "      <td>0.000000</td>\n",
              "      <td>90.635017</td>\n",
              "      <td>90.635017</td>\n",
              "      <td>90.635017</td>\n",
              "      <td>-90.273600</td>\n",
              "      <td>-90.273600</td>\n",
              "      <td>-0.361417</td>\n",
              "      <td>149.006923</td>\n",
              "      <td>149.006923</td>\n",
              "      <td>149.006923</td>\n",
              "      <td>-149.006923</td>\n",
              "      <td>-149.006923</td>\n",
              "      <td>0.000000</td>\n",
              "      <td>15.04</td>\n",
              "      <td>44.31</td>\n",
              "      <td>15.3</td>\n",
              "      <td>0.6</td>\n",
              "      <td>24.75871575</td>\n",
              "    </tr>\n",
              "    <tr>\n",
              "      <th>2005</th>\n",
              "      <td>0.018000</td>\n",
              "      <td>0.018000</td>\n",
              "      <td>0.018000</td>\n",
              "      <td>-0.018000</td>\n",
              "      <td>-0.018000</td>\n",
              "      <td>0.000000</td>\n",
              "      <td>99.754004</td>\n",
              "      <td>99.754004</td>\n",
              "      <td>99.754004</td>\n",
              "      <td>-99.399600</td>\n",
              "      <td>-99.399600</td>\n",
              "      <td>-0.354404</td>\n",
              "      <td>165.364380</td>\n",
              "      <td>165.364380</td>\n",
              "      <td>165.364380</td>\n",
              "      <td>-165.364380</td>\n",
              "      <td>-165.364380</td>\n",
              "      <td>0.000000</td>\n",
              "      <td>15.63</td>\n",
              "      <td>41.75</td>\n",
              "      <td>16.26</td>\n",
              "      <td>0.45</td>\n",
              "      <td>25.91103626</td>\n",
              "    </tr>\n",
              "    <tr>\n",
              "      <th>2006</th>\n",
              "      <td>0.162000</td>\n",
              "      <td>0.162000</td>\n",
              "      <td>0.162000</td>\n",
              "      <td>-0.162000</td>\n",
              "      <td>-0.162000</td>\n",
              "      <td>0.000000</td>\n",
              "      <td>109.607309</td>\n",
              "      <td>109.607309</td>\n",
              "      <td>109.607309</td>\n",
              "      <td>-109.098000</td>\n",
              "      <td>-109.098000</td>\n",
              "      <td>-0.509309</td>\n",
              "      <td>151.453744</td>\n",
              "      <td>151.453744</td>\n",
              "      <td>151.453744</td>\n",
              "      <td>-151.453744</td>\n",
              "      <td>-151.453744</td>\n",
              "      <td>0.000000</td>\n",
              "      <td>17.51</td>\n",
              "      <td>42.28</td>\n",
              "      <td>15.49</td>\n",
              "      <td>0.51</td>\n",
              "      <td>24.20118386</td>\n",
              "    </tr>\n",
              "    <tr>\n",
              "      <th>2007</th>\n",
              "      <td>0.892800</td>\n",
              "      <td>0.892800</td>\n",
              "      <td>0.892800</td>\n",
              "      <td>-0.892800</td>\n",
              "      <td>-0.892800</td>\n",
              "      <td>0.000000</td>\n",
              "      <td>98.422827</td>\n",
              "      <td>98.422827</td>\n",
              "      <td>98.422827</td>\n",
              "      <td>-97.351200</td>\n",
              "      <td>-97.351200</td>\n",
              "      <td>-1.071627</td>\n",
              "      <td>167.743235</td>\n",
              "      <td>167.743235</td>\n",
              "      <td>167.743235</td>\n",
              "      <td>-167.743235</td>\n",
              "      <td>-167.743235</td>\n",
              "      <td>0.000000</td>\n",
              "      <td>15.57</td>\n",
              "      <td>41.63</td>\n",
              "      <td>15.57</td>\n",
              "      <td>0.69</td>\n",
              "      <td>26.5309221</td>\n",
              "    </tr>\n",
              "    <tr>\n",
              "      <th>2008</th>\n",
              "      <td>0.918000</td>\n",
              "      <td>0.918000</td>\n",
              "      <td>0.918000</td>\n",
              "      <td>-0.918000</td>\n",
              "      <td>-0.918000</td>\n",
              "      <td>0.000000</td>\n",
              "      <td>141.206073</td>\n",
              "      <td>141.206073</td>\n",
              "      <td>141.206073</td>\n",
              "      <td>-140.011200</td>\n",
              "      <td>-140.011200</td>\n",
              "      <td>-1.194873</td>\n",
              "      <td>159.859031</td>\n",
              "      <td>159.859031</td>\n",
              "      <td>159.859031</td>\n",
              "      <td>-159.859031</td>\n",
              "      <td>-159.859031</td>\n",
              "      <td>0.000000</td>\n",
              "      <td>21.2</td>\n",
              "      <td>39.33</td>\n",
              "      <td>14.72</td>\n",
              "      <td>0.76</td>\n",
              "      <td>23.99493338</td>\n",
              "    </tr>\n",
              "    <tr>\n",
              "      <th>2009</th>\n",
              "      <td>2.146870</td>\n",
              "      <td>2.146870</td>\n",
              "      <td>2.146870</td>\n",
              "      <td>-0.897288</td>\n",
              "      <td>-0.897288</td>\n",
              "      <td>-1.249582</td>\n",
              "      <td>96.199220</td>\n",
              "      <td>96.199220</td>\n",
              "      <td>96.199220</td>\n",
              "      <td>-95.201868</td>\n",
              "      <td>-95.201868</td>\n",
              "      <td>-0.997352</td>\n",
              "      <td>152.692243</td>\n",
              "      <td>152.692243</td>\n",
              "      <td>152.692243</td>\n",
              "      <td>-152.692243</td>\n",
              "      <td>-152.692243</td>\n",
              "      <td>0.000000</td>\n",
              "      <td>15.9</td>\n",
              "      <td>43.08</td>\n",
              "      <td>14.58</td>\n",
              "      <td>1.21</td>\n",
              "      <td>25.23252141</td>\n",
              "    </tr>\n",
              "    <tr>\n",
              "      <th>2010</th>\n",
              "      <td>4.460800</td>\n",
              "      <td>4.460800</td>\n",
              "      <td>4.460800</td>\n",
              "      <td>-0.599011</td>\n",
              "      <td>-0.599011</td>\n",
              "      <td>-3.861789</td>\n",
              "      <td>133.768766</td>\n",
              "      <td>133.768766</td>\n",
              "      <td>133.768766</td>\n",
              "      <td>-132.256800</td>\n",
              "      <td>-132.256800</td>\n",
              "      <td>-1.511966</td>\n",
              "      <td>149.935809</td>\n",
              "      <td>149.935809</td>\n",
              "      <td>149.935809</td>\n",
              "      <td>-149.935809</td>\n",
              "      <td>-149.935809</td>\n",
              "      <td>0.000000</td>\n",
              "      <td>20.84</td>\n",
              "      <td>40.39</td>\n",
              "      <td>13.74</td>\n",
              "      <td>1.67</td>\n",
              "      <td>23.35586357</td>\n",
              "    </tr>\n",
              "    <tr>\n",
              "      <th>2011</th>\n",
              "      <td>5.933957</td>\n",
              "      <td>5.933957</td>\n",
              "      <td>5.933957</td>\n",
              "      <td>-0.380451</td>\n",
              "      <td>-0.380451</td>\n",
              "      <td>-5.553506</td>\n",
              "      <td>130.573509</td>\n",
              "      <td>130.573509</td>\n",
              "      <td>130.573509</td>\n",
              "      <td>-128.865600</td>\n",
              "      <td>-128.865600</td>\n",
              "      <td>-1.707909</td>\n",
              "      <td>149.300191</td>\n",
              "      <td>149.300191</td>\n",
              "      <td>149.300191</td>\n",
              "      <td>-149.300191</td>\n",
              "      <td>-149.300191</td>\n",
              "      <td>0.000000</td>\n",
              "      <td>20.38</td>\n",
              "      <td>40.27</td>\n",
              "      <td>13.99</td>\n",
              "      <td>2.07</td>\n",
              "      <td>23.29729273</td>\n",
              "    </tr>\n",
              "    <tr>\n",
              "      <th>2012</th>\n",
              "      <td>13.277917</td>\n",
              "      <td>13.277917</td>\n",
              "      <td>13.277917</td>\n",
              "      <td>-0.676642</td>\n",
              "      <td>-0.676642</td>\n",
              "      <td>-12.601275</td>\n",
              "      <td>114.878477</td>\n",
              "      <td>114.878477</td>\n",
              "      <td>114.878477</td>\n",
              "      <td>-112.741200</td>\n",
              "      <td>-112.741200</td>\n",
              "      <td>-2.137277</td>\n",
              "      <td>133.129053</td>\n",
              "      <td>133.129053</td>\n",
              "      <td>133.129053</td>\n",
              "      <td>-133.129053</td>\n",
              "      <td>-133.129053</td>\n",
              "      <td>0.000000</td>\n",
              "      <td>18.51</td>\n",
              "      <td>41.37</td>\n",
              "      <td>15.15</td>\n",
              "      <td>3.5</td>\n",
              "      <td>21.45405062</td>\n",
              "    </tr>\n",
              "    <tr>\n",
              "      <th>2013</th>\n",
              "      <td>15.064358</td>\n",
              "      <td>15.064358</td>\n",
              "      <td>15.064358</td>\n",
              "      <td>-0.682600</td>\n",
              "      <td>-0.682600</td>\n",
              "      <td>-14.381758</td>\n",
              "      <td>100.876759</td>\n",
              "      <td>100.876759</td>\n",
              "      <td>100.876759</td>\n",
              "      <td>-98.798879</td>\n",
              "      <td>-98.798879</td>\n",
              "      <td>-2.077880</td>\n",
              "      <td>131.315999</td>\n",
              "      <td>131.315999</td>\n",
              "      <td>131.315999</td>\n",
              "      <td>-131.315999</td>\n",
              "      <td>-131.315999</td>\n",
              "      <td>0.000000</td>\n",
              "      <td>15.89</td>\n",
              "      <td>40.24</td>\n",
              "      <td>19.3</td>\n",
              "      <td>3.88</td>\n",
              "      <td>20.68883756</td>\n",
              "    </tr>\n",
              "    <tr>\n",
              "      <th>2014</th>\n",
              "      <td>23.134308</td>\n",
              "      <td>23.134308</td>\n",
              "      <td>23.134308</td>\n",
              "      <td>-0.765537</td>\n",
              "      <td>-0.765537</td>\n",
              "      <td>-22.368771</td>\n",
              "      <td>140.013968</td>\n",
              "      <td>140.013968</td>\n",
              "      <td>140.013968</td>\n",
              "      <td>-137.321186</td>\n",
              "      <td>-137.321186</td>\n",
              "      <td>-2.692782</td>\n",
              "      <td>129.878363</td>\n",
              "      <td>129.878363</td>\n",
              "      <td>129.878363</td>\n",
              "      <td>-129.878363</td>\n",
              "      <td>-129.878363</td>\n",
              "      <td>0.000000</td>\n",
              "      <td>21.03</td>\n",
              "      <td>38.17</td>\n",
              "      <td>16.22</td>\n",
              "      <td>5.08</td>\n",
              "      <td>19.50809619</td>\n",
              "    </tr>\n",
              "    <tr>\n",
              "      <th>2015</th>\n",
              "      <td>31.482341</td>\n",
              "      <td>31.482341</td>\n",
              "      <td>31.482341</td>\n",
              "      <td>-0.730530</td>\n",
              "      <td>-0.730530</td>\n",
              "      <td>-30.751811</td>\n",
              "      <td>111.209546</td>\n",
              "      <td>111.209546</td>\n",
              "      <td>111.209546</td>\n",
              "      <td>-108.458898</td>\n",
              "      <td>-108.458898</td>\n",
              "      <td>-2.750648</td>\n",
              "      <td>134.529889</td>\n",
              "      <td>134.529889</td>\n",
              "      <td>134.529889</td>\n",
              "      <td>-133.683671</td>\n",
              "      <td>-133.683671</td>\n",
              "      <td>-0.846218</td>\n",
              "      <td>17.16</td>\n",
              "      <td>39.02</td>\n",
              "      <td>16.33</td>\n",
              "      <td>6.71</td>\n",
              "      <td>20.76372552</td>\n",
              "    </tr>\n",
              "    <tr>\n",
              "      <th>2016</th>\n",
              "      <td>37.361141</td>\n",
              "      <td>37.361141</td>\n",
              "      <td>37.361141</td>\n",
              "      <td>-0.673348</td>\n",
              "      <td>-0.673348</td>\n",
              "      <td>-36.687793</td>\n",
              "      <td>110.510471</td>\n",
              "      <td>110.510471</td>\n",
              "      <td>110.510471</td>\n",
              "      <td>-104.898154</td>\n",
              "      <td>-104.898154</td>\n",
              "      <td>-5.612317</td>\n",
              "      <td>132.594822</td>\n",
              "      <td>132.594822</td>\n",
              "      <td>132.594822</td>\n",
              "      <td>-130.104192</td>\n",
              "      <td>-130.104192</td>\n",
              "      <td>-2.490630</td>\n",
              "      <td>16.9</td>\n",
              "      <td>38.46</td>\n",
              "      <td>16.65</td>\n",
              "      <td>7.71</td>\n",
              "      <td>20.27290672</td>\n",
              "    </tr>\n",
              "    <tr>\n",
              "      <th>2017</th>\n",
              "      <td>38.231214</td>\n",
              "      <td>38.231214</td>\n",
              "      <td>38.231214</td>\n",
              "      <td>-0.377222</td>\n",
              "      <td>-0.377222</td>\n",
              "      <td>-37.853992</td>\n",
              "      <td>114.651561</td>\n",
              "      <td>114.651561</td>\n",
              "      <td>114.651561</td>\n",
              "      <td>-108.250724</td>\n",
              "      <td>-108.250724</td>\n",
              "      <td>-6.400837</td>\n",
              "      <td>127.426290</td>\n",
              "      <td>127.426290</td>\n",
              "      <td>127.426290</td>\n",
              "      <td>-124.193169</td>\n",
              "      <td>-124.193169</td>\n",
              "      <td>-3.233121</td>\n",
              "      <td>17.27</td>\n",
              "      <td>37.7</td>\n",
              "      <td>17.41</td>\n",
              "      <td>8.42</td>\n",
              "      <td>19.19427776</td>\n",
              "    </tr>\n",
              "    <tr>\n",
              "      <th>2018</th>\n",
              "      <td>47.119000</td>\n",
              "      <td>47.119000</td>\n",
              "      <td>47.119000</td>\n",
              "      <td>-0.438000</td>\n",
              "      <td>-0.438000</td>\n",
              "      <td>-46.681000</td>\n",
              "      <td>116.948000</td>\n",
              "      <td>116.948000</td>\n",
              "      <td>116.948000</td>\n",
              "      <td>-109.900000</td>\n",
              "      <td>-109.900000</td>\n",
              "      <td>-7.048000</td>\n",
              "      <td>113.184000</td>\n",
              "      <td>113.184000</td>\n",
              "      <td>113.184000</td>\n",
              "      <td>-110.514000</td>\n",
              "      <td>-110.514000</td>\n",
              "      <td>-2.670000</td>\n",
              "      <td>17.8</td>\n",
              "      <td>38.49</td>\n",
              "      <td>17.78</td>\n",
              "      <td>8.66</td>\n",
              "      <td>17.2758627</td>\n",
              "    </tr>\n",
              "  </tbody>\n",
              "</table>\n",
              "</div>"
            ],
            "text/plain": [
              "          producción_energia_eolica  ...  geotermia_api\n",
              "anio_api                             ...               \n",
              "2000                       0.001705  ...    21.70917501\n",
              "2001                       0.001705  ...    21.62359878\n",
              "2002                       0.000464  ...    22.02343145\n",
              "2003                       0.018000  ...    23.80355329\n",
              "2004                       0.021600  ...    24.75871575\n",
              "2005                       0.018000  ...    25.91103626\n",
              "2006                       0.162000  ...    24.20118386\n",
              "2007                       0.892800  ...     26.5309221\n",
              "2008                       0.918000  ...    23.99493338\n",
              "2009                       2.146870  ...    25.23252141\n",
              "2010                       4.460800  ...    23.35586357\n",
              "2011                       5.933957  ...    23.29729273\n",
              "2012                      13.277917  ...    21.45405062\n",
              "2013                      15.064358  ...    20.68883756\n",
              "2014                      23.134308  ...    19.50809619\n",
              "2015                      31.482341  ...    20.76372552\n",
              "2016                      37.361141  ...    20.27290672\n",
              "2017                      38.231214  ...    19.19427776\n",
              "2018                      47.119000  ...     17.2758627\n",
              "\n",
              "[19 rows x 23 columns]"
            ]
          },
          "metadata": {
            "tags": []
          },
          "execution_count": 110
        }
      ]
    },
    {
      "cell_type": "markdown",
      "metadata": {
        "id": "a7DLHTZVRv5A"
      },
      "source": [
        "Ahora veamos los datos de nuestro dataframe resultante:"
      ]
    },
    {
      "cell_type": "code",
      "metadata": {
        "id": "1TMdNkI-uq0b",
        "colab": {
          "base_uri": "https://localhost:8080/"
        },
        "outputId": "8a26de3e-c103-4fdd-939b-e15e01bfc2cc"
      },
      "source": [
        "tipos_datos(energias_renovables_mexico_api)\r\n",
        "energias_renovables_mexico_api.dtypes"
      ],
      "execution_count": null,
      "outputs": [
        {
          "output_type": "stream",
          "text": [
            "Columna                                            | Tipos de datos\n",
            "------------------------------------------------------------------------------------------\n",
            "producción_energia_eolica                          | [<class 'float'>]\n",
            "oferta_total_energia_eolica                        | [<class 'float'>]\n",
            "oferta_interna_bruta_energia_eolica                | [<class 'float'>]\n",
            "total_transformación_energia_eolica                | [<class 'float'>]\n",
            "centrales_eléctricas_públicas_energia_eolica       | [<class 'float'>]\n",
            "diferencia_estadística_energia_eolica              | [<class 'float'>]\n",
            "producción_hidroenerigia                           | [<class 'float'>]\n",
            "oferta_total_hidroenerigia                         | [<class 'float'>]\n",
            "oferta_interna_bruta_hidroenerigia                 | [<class 'float'>]\n",
            "total_transformación_hidroenerigia                 | [<class 'float'>]\n",
            "centrales_eléctricas_públicas_hidroenerigia        | [<class 'float'>]\n",
            "diferencia_estadística_hidroenerigia               | [<class 'float'>]\n",
            "producción_geoenerigia                             | [<class 'float'>]\n",
            "oferta_total_geoenerigia                           | [<class 'float'>]\n",
            "oferta_interna_bruta_geoenerigia                   | [<class 'float'>]\n",
            "total_transformación_geoenerigia                   | [<class 'float'>]\n",
            "centrales_eléctricas_públicas_geoenerigia          | [<class 'float'>]\n",
            "diferencia_estadística_geoenerigia                 | [<class 'float'>]\n",
            "hidroenergía_api                                   | [<class 'str'>]\n",
            "leña_api                                           | [<class 'str'>]\n",
            "caña_de_azúcar_y_derivados_api                     | [<class 'str'>]\n",
            "otras_primarias_api                                | [<class 'str'>]\n",
            "geotermia_api                                      | [<class 'str'>]\n"
          ],
          "name": "stdout"
        },
        {
          "output_type": "execute_result",
          "data": {
            "text/plain": [
              "producción_energia_eolica                       float64\n",
              "oferta_total_energia_eolica                     float64\n",
              "oferta_interna_bruta_energia_eolica             float64\n",
              "total_transformación_energia_eolica             float32\n",
              "centrales_eléctricas_públicas_energia_eolica    float32\n",
              "diferencia_estadística_energia_eolica           float64\n",
              "producción_hidroenerigia                        float64\n",
              "oferta_total_hidroenerigia                      float64\n",
              "oferta_interna_bruta_hidroenerigia              float64\n",
              "total_transformación_hidroenerigia              float64\n",
              "centrales_eléctricas_públicas_hidroenerigia     float64\n",
              "diferencia_estadística_hidroenerigia            float32\n",
              "producción_geoenerigia                          float64\n",
              "oferta_total_geoenerigia                        float64\n",
              "oferta_interna_bruta_geoenerigia                float64\n",
              "total_transformación_geoenerigia                float64\n",
              "centrales_eléctricas_públicas_geoenerigia       float64\n",
              "diferencia_estadística_geoenerigia              float64\n",
              "hidroenergía_api                                 object\n",
              "leña_api                                         object\n",
              "caña_de_azúcar_y_derivados_api                   object\n",
              "otras_primarias_api                              object\n",
              "geotermia_api                                    object\n",
              "dtype: object"
            ]
          },
          "metadata": {
            "tags": []
          },
          "execution_count": 111
        }
      ]
    },
    {
      "cell_type": "markdown",
      "metadata": {
        "id": "O5oRkJoZR8O5"
      },
      "source": [
        "Pasaremos todos las columnas a tipo de dato float:"
      ]
    },
    {
      "cell_type": "code",
      "metadata": {
        "colab": {
          "base_uri": "https://localhost:8080/"
        },
        "id": "uRpegzs7Rz9v",
        "outputId": "657c8fe6-4ad8-48a6-a8f5-8a8e0f8bd4da"
      },
      "source": [
        "energias_renovables_mexico_api = as_float(energias_renovables_mexico_api)\r\n",
        "tipos_datos(energias_renovables_mexico_api)\r\n",
        "energias_renovables_mexico_api = energias_renovables_mexico_api.apply(pd.to_numeric)\r\n",
        "energias_renovables_mexico_api.dtypes"
      ],
      "execution_count": null,
      "outputs": [
        {
          "output_type": "stream",
          "text": [
            "Columna                                            | Tipos de datos\n",
            "------------------------------------------------------------------------------------------\n",
            "producción_energia_eolica                          | [<class 'float'>]\n",
            "oferta_total_energia_eolica                        | [<class 'float'>]\n",
            "oferta_interna_bruta_energia_eolica                | [<class 'float'>]\n",
            "total_transformación_energia_eolica                | [<class 'float'>]\n",
            "centrales_eléctricas_públicas_energia_eolica       | [<class 'float'>]\n",
            "diferencia_estadística_energia_eolica              | [<class 'float'>]\n",
            "producción_hidroenerigia                           | [<class 'float'>]\n",
            "oferta_total_hidroenerigia                         | [<class 'float'>]\n",
            "oferta_interna_bruta_hidroenerigia                 | [<class 'float'>]\n",
            "total_transformación_hidroenerigia                 | [<class 'float'>]\n",
            "centrales_eléctricas_públicas_hidroenerigia        | [<class 'float'>]\n",
            "diferencia_estadística_hidroenerigia               | [<class 'float'>]\n",
            "producción_geoenerigia                             | [<class 'float'>]\n",
            "oferta_total_geoenerigia                           | [<class 'float'>]\n",
            "oferta_interna_bruta_geoenerigia                   | [<class 'float'>]\n",
            "total_transformación_geoenerigia                   | [<class 'float'>]\n",
            "centrales_eléctricas_públicas_geoenerigia          | [<class 'float'>]\n",
            "diferencia_estadística_geoenerigia                 | [<class 'float'>]\n",
            "hidroenergía_api                                   | [<class 'float'>]\n",
            "leña_api                                           | [<class 'float'>]\n",
            "caña_de_azúcar_y_derivados_api                     | [<class 'float'>]\n",
            "otras_primarias_api                                | [<class 'float'>]\n",
            "geotermia_api                                      | [<class 'float'>]\n"
          ],
          "name": "stdout"
        },
        {
          "output_type": "execute_result",
          "data": {
            "text/plain": [
              "producción_energia_eolica                       float64\n",
              "oferta_total_energia_eolica                     float64\n",
              "oferta_interna_bruta_energia_eolica             float64\n",
              "total_transformación_energia_eolica             float32\n",
              "centrales_eléctricas_públicas_energia_eolica    float32\n",
              "diferencia_estadística_energia_eolica           float64\n",
              "producción_hidroenerigia                        float64\n",
              "oferta_total_hidroenerigia                      float64\n",
              "oferta_interna_bruta_hidroenerigia              float64\n",
              "total_transformación_hidroenerigia              float64\n",
              "centrales_eléctricas_públicas_hidroenerigia     float64\n",
              "diferencia_estadística_hidroenerigia            float32\n",
              "producción_geoenerigia                          float64\n",
              "oferta_total_geoenerigia                        float64\n",
              "oferta_interna_bruta_geoenerigia                float64\n",
              "total_transformación_geoenerigia                float64\n",
              "centrales_eléctricas_públicas_geoenerigia       float64\n",
              "diferencia_estadística_geoenerigia              float64\n",
              "hidroenergía_api                                float32\n",
              "leña_api                                        float32\n",
              "caña_de_azúcar_y_derivados_api                  float32\n",
              "otras_primarias_api                             float32\n",
              "geotermia_api                                   float32\n",
              "dtype: object"
            ]
          },
          "metadata": {
            "tags": []
          },
          "execution_count": 112
        }
      ]
    },
    {
      "cell_type": "markdown",
      "metadata": {
        "id": "wfuxjmnSWppC"
      },
      "source": [
        "### Conclusiones\r\n",
        "Al final de todo el procesamiento de datos que realizamos nos quedaron los siguientes dataframes:\r\n",
        "* Consumo de energía per cápita 2000-2019: df_00_19\r\n",
        "* Dataframe con estadísticas: \r\n",
        " * México: energias_renovables_estadisticas_mexico\r\n",
        " * Mundo: df\r\n",
        "* Energías en México: energias_renovables_mexico"
      ]
    },
    {
      "cell_type": "markdown",
      "metadata": {
        "id": "FVR_37WpnZ7z"
      },
      "source": [
        "**Datos relevantes**\r\n",
        "\r\n",
        "\r\n"
      ]
    },
    {
      "cell_type": "markdown",
      "metadata": {
        "id": "LmnBONax8IQ6"
      },
      "source": [
        "> Como puede observarse en las gráficas siguientes, el consumo total de energías renovables en nuestro país ha sido *variable* en el último siglo, alcanzando su valor máximo en el último año, mientras que a nivel mundial ha incrementado constantemente.\r\n",
        "A nivel mundial, todas han ido en aumento, mientras que en nuestro país se muestra una disminución en el consumo de energía hidráulica en los últimos años, sin embargo esta sigue siendo la **energía más usada**. Por otro lado, hay buenos avances respecto a la energía solar y eólica."
      ]
    },
    {
      "cell_type": "code",
      "metadata": {
        "colab": {
          "base_uri": "https://localhost:8080/",
          "height": 274
        },
        "id": "yxuZzrfArYXq",
        "outputId": "25d16883-78b5-4139-b20d-0f8349636ae3"
      },
      "source": [
        "df_world_renewables =  df_00_19.loc['world']\r\n",
        "df_world_renewables = df_world_renewables.set_index(df_world_renewables['year']).drop(columns=['year'])\r\n",
        "visualizar_renovables_mundo = df_world_renewables.plot.line(subplots=True)"
      ],
      "execution_count": null,
      "outputs": [
        {
          "output_type": "display_data",
          "data": {
            "image/png": "[encoded data removed]",
            "text/plain": [
              "<Figure size 432x288 with 4 Axes>"
            ]
          },
          "metadata": {
            "tags": [],
            "needs_background": "light"
          }
        }
      ]
    },
    {
      "cell_type": "code",
      "metadata": {
        "colab": {
          "base_uri": "https://localhost:8080/",
          "height": 274
        },
        "id": "LvRb28wnnags",
        "outputId": "e6056b9a-335e-40c3-de0c-35d503efd230"
      },
      "source": [
        "df_mx_renewables = df_00_19.loc['mexico']\r\n",
        "df_mx_renewables = df_mx_renewables.set_index(df_mx_renewables['year']).drop(columns=['year'])\r\n",
        "visualizar_renovables = df_mx_renewables.plot.line(subplots=True)"
      ],
      "execution_count": null,
      "outputs": [
        {
          "output_type": "display_data",
          "data": {
            "image/png": "[encoded data removed]",
            "text/plain": [
              "<Figure size 432x288 with 4 Axes>"
            ]
          },
          "metadata": {
            "tags": [],
            "needs_background": "light"
          }
        }
      ]
    },
    {
      "cell_type": "markdown",
      "metadata": {
        "id": "eBWN8S2Z9Wl6"
      },
      "source": [
        "> Desde el 2000 hasta la fecha, México tiene un **porcentaje de cambio anual** promedio de 2.99% comparado con el 10% con el resto del mundo en el uso de energías renovables. \r\n",
        "Esto indica que México va bastante retrasado con el resto del mundo, estamos a un escaso tercio del promedio mundial."
      ]
    },
    {
      "cell_type": "markdown",
      "metadata": {
        "id": "O1BMXLHKBxfb"
      },
      "source": [
        "> Con respecto al GDP (Gross Domestic Product), México **invierte el 0.3% en energías renovables**, en el mundo entero la aportación promedio es del 0.7%. \r\n",
        "Aquí se demuestra que estamos atrasados, aunque no al grado del cambio anual, ya que se muestra en proporción del PIB. \r\n"
      ]
    },
    {
      "cell_type": "markdown",
      "metadata": {
        "id": "skITGLK8DTrs"
      },
      "source": [
        "> El **porcentaje de uso** de energías renovables del total para el mundo es de 17.48% y en México es del 9.76%, lo cuál nos demuestra que estamos a la mitad del camino para competir con el resto del mundo.\r\n"
      ]
    },
    {
      "cell_type": "markdown",
      "metadata": {
        "id": "Zu0YVGRbJX__"
      },
      "source": [
        "> En las siguientes graficas podemos ver que la producción de energias ha ido incrementando hasta llegar a un balance de la energía eólica hidráulica y geotérmica."
      ]
    },
    {
      "cell_type": "code",
      "metadata": {
        "id": "GPBs_qyuuyYq",
        "colab": {
          "base_uri": "https://localhost:8080/",
          "height": 1000
        },
        "outputId": "95211bf5-2afe-4dbf-87a2-f457b22f0c81"
      },
      "source": [
        "produccion_mexico = energias_renovables_mexico[['producción_energia_eolica', 'producción_hidroenerigia', 'producción_geoenerigia']].T\r\n",
        "produccion_mexico = produccion_mexico.filter(like='201')\r\n",
        "produccion_mexico.plot.pie(subplots = True,layout = (5,2), figsize = (20,40), autopct='%1.1f%%')"
      ],
      "execution_count": null,
      "outputs": [
        {
          "output_type": "execute_result",
          "data": {
            "text/plain": [
              "array([[<matplotlib.axes._subplots.AxesSubplot object at 0x7f16c6571590>,\n",
              "        <matplotlib.axes._subplots.AxesSubplot object at 0x7f16c64c65d0>],\n",
              "       [<matplotlib.axes._subplots.AxesSubplot object at 0x7f16c65e0d90>,\n",
              "        <matplotlib.axes._subplots.AxesSubplot object at 0x7f16c64a73d0>],\n",
              "       [<matplotlib.axes._subplots.AxesSubplot object at 0x7f16c645e710>,\n",
              "        <matplotlib.axes._subplots.AxesSubplot object at 0x7f16c6412b10>],\n",
              "       [<matplotlib.axes._subplots.AxesSubplot object at 0x7f16c63c8f90>,\n",
              "        <matplotlib.axes._subplots.AxesSubplot object at 0x7f16c638c310>],\n",
              "       [<matplotlib.axes._subplots.AxesSubplot object at 0x7f16c638c350>,\n",
              "        <matplotlib.axes._subplots.AxesSubplot object at 0x7f16c6342850>]],\n",
              "      dtype=object)"
            ]
          },
          "metadata": {
            "tags": []
          },
          "execution_count": 117
        },
        {
          "output_type": "display_data",
          "data": {
            "image/png": "[encoded data removed]",
            "text/plain": [
              "<Figure size 1440x2880 with 10 Axes>"
            ]
          },
          "metadata": {
            "tags": []
          }
        }
      ]
    },
    {
      "cell_type": "code",
      "metadata": {
        "colab": {
          "base_uri": "https://localhost:8080/",
          "height": 482
        },
        "id": "yNy7V5SzDuPS",
        "outputId": "04b0d8c2-61c4-4556-bed6-04bf9057beeb"
      },
      "source": [
        "sector = energias_renovables_estadisticas_mexico[['precios_sector_mexico_total', 'precios_sector_mexico_residencial',\r\n",
        "       'precios_sector_mexico_servicios', 'precios_sector_mexico_comercial',\r\n",
        "       'precios_sector_mexico_agrícola', 'precios_sector_mexico_industrial',\r\n",
        "       'precios_sector_mexico_empresa_mediana',\r\n",
        "       'precios_sector_mexico_gran_industria',]]\r\n",
        "sector1 = sector.reset_index()\r\n",
        "sector1[['MES', 'ANIO']] = sector1['index'].str.split('_', expand = True)\r\n",
        "sector2 = sector1.drop(['index', 'MES'], axis= 1)\r\n",
        "sector2 = as_float(sector2)\r\n",
        "sector2.groupby('ANIO').mean()\r\n",
        "sector2.describe().drop('ANIO', axis=1).loc['mean'].plot.bar()"
      ],
      "execution_count": null,
      "outputs": [
        {
          "output_type": "execute_result",
          "data": {
            "text/plain": [
              "<matplotlib.axes._subplots.AxesSubplot at 0x7f16c6046ed0>"
            ]
          },
          "metadata": {
            "tags": []
          },
          "execution_count": 118
        },
        {
          "output_type": "display_data",
          "data": {
            "image/png": "[encoded data removed]",
            "text/plain": [
              "<Figure size 432x288 with 1 Axes>"
            ]
          },
          "metadata": {
            "tags": [],
            "needs_background": "light"
          }
        }
      ]
    },
    {
      "cell_type": "markdown",
      "metadata": {
        "id": "BgPYnEYXJDqJ"
      },
      "source": [
        "> Podemos notar que el sector que mas paga por uso de energía es el sector comercial, y el que menos paga es el sector agricola.\r\n"
      ]
    },
    {
      "cell_type": "markdown",
      "metadata": {
        "id": "tzI4W36yLLQR"
      },
      "source": [
        "## **¿Qué sigue?**\r\n"
      ]
    },
    {
      "cell_type": "markdown",
      "metadata": {
        "id": "Qu-lNMcjTWMF"
      },
      "source": [
        "Considerando el análisis anterior, nos gustaría saber cuales son los tipos de energías renovables que se continuarán produciendo en los próximos años. \r\n",
        "Con el uso de más visualizaciones podríamos entender a mayor detalle las distribuciones de los datos y encontrar tendecias para poder predecir el comportamiento en los próximos años.\r\n",
        "También queremos comprender si la disminución del consumo de energía hidraúlica con el aumento de otros tipos de energías renovables.\r\n",
        "Haciendo una análisis más extensivo de la producción, los precios y la inversión que se ha hecho históricamente podriamos responder a la pregunta de si es viable invertir en México."
      ]
    },
    {
      "cell_type": "markdown",
      "metadata": {
        "id": "FZQmYJ_wABLc"
      },
      "source": [
        "## **Referencias**\r\n",
        "**Datasets:**\r\n",
        "* https://ourworldindata.org/renewable-energy\r\n",
        "\r\n",
        "* http://sie.energia.gob.mx/bdiController.do?action=temas\r\n",
        "\r\n",
        "* https://datos.gob.mx/busca/dataset?theme=Energ%C3%ADa+Y+Medio+Ambiente&tags=energia&_tags_limit=0\r\n",
        "\r\n",
        "\r\n",
        "**API:**\r\n",
        "\r\n",
        "* https://estadisticas.cepal.org/"
      ]
    }
  ]
}