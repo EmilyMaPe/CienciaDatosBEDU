{
  "nbformat": 4,
  "nbformat_minor": 0,
  "metadata": {
    "colab": {
      "name": "Proyecto.ipynb",
      "provenance": [],
      "collapsed_sections": [],
      "toc_visible": true,
      "include_colab_link": true
    },
    "kernelspec": {
      "name": "python3",
      "display_name": "Python 3"
    }
  },
  "cells": [
    {
      "cell_type": "markdown",
      "metadata": {
        "id": "view-in-github",
        "colab_type": "text"
      },
      "source": [
        "<a href=\"https://colab.research.google.com/github/EmilyMaPe/CienciaDatosBEDU/blob/master/MODULO3/Proyecto/Entrega_Final_Procesamiento_SofiaHernandez_EmilyMadrigal_SamanthaSobrino/Proyecto.ipynb\" target=\"_parent\"><img src=\"https://colab.research.google.com/assets/colab-badge.svg\" alt=\"Open In Colab\"/></a>"
      ]
    },
    {
      "cell_type": "markdown",
      "metadata": {
        "id": "Qv-EWKolonf8"
      },
      "source": [
        "# **Energías renovables, ¿Una opción viable en México?**"
      ]
    },
    {
      "cell_type": "markdown",
      "metadata": {
        "id": "dR-oMe4Y_o7_"
      },
      "source": [
        "## **Objetivo**\r\n",
        "Con este proyecto se pretende entender como es el consumo de energias renovables en México.\r\n",
        "##### **Background**\r\n",
        "Asegúrate de empezar con una introducción donde hables acerca del tema que te llamó la atención. Explica por qué quisiste abordar este tema, cuáles fueron tus preguntas iniciales, y el problema que te gustaría resolver.\r\n",
        "##### **Problema:**\r\n",
        " Es viable invertir en energias no renovables en México"
      ]
    },
    {
      "cell_type": "markdown",
      "metadata": {
        "id": "O4HjIh1s_1gA"
      },
      "source": [
        "## **Estado del arte**\r\n",
        "\r\n",
        "Existen diversos articulos que hablan sobre el tema...\r\n",
        "\r\n",
        "https://www.gob.mx/sener/articulos/el-fondo-para-la-transicion-energetica-y-el-aprovechamiento-sustentable-de-la-energia-es-un-instrumento-de-politica-publica-de-la-secretaria\r\n",
        "\r\n",
        "https://sdg-tracker.org/energy#targets"
      ]
    },
    {
      "cell_type": "markdown",
      "metadata": {
        "id": "TYyV3KbE_6fk"
      },
      "source": [
        "## **Soluciones anteriores**\r\n",
        "Existen algunos trabajos donde se ataca este tema...\r\n",
        "\r\n",
        "https://towardsdatascience.com/tagged/renewable-energy\r\n",
        "\r\n",
        "https://towardsdatascience.com/create-value-with-your-energy-data-26feaa723c07"
      ]
    },
    {
      "cell_type": "markdown",
      "metadata": {
        "id": "bf9bqaiB_-Kj"
      },
      "source": [
        "## **Preguntas**\r\n",
        "cual es el porcentaje de uso de energias renovables en mexico\r\n",
        "Que energias renovables existen\r\n",
        "Cual es el tipo de enrgia mas usada en Mexico\r\n",
        "Cual es el costo-beneficio de las energias renovables"
      ]
    },
    {
      "cell_type": "markdown",
      "metadata": {
        "id": "FZQmYJ_wABLc"
      },
      "source": [
        "## **Colecciones de datos**\r\n",
        "https://ourworldindata.org/renewable-energy\r\n",
        "\r\n",
        "http://sie.energia.gob.mx/bdiController.do?action=temas\r\n",
        "\r\n",
        "https://www.iea.org/reports/sdg7-data-and-projections\r\n",
        "\r\n",
        "https://www.irena.org/Statistics/View-Data-by-Topic/Renewable-Energy-Balances/Country-Profiles\r\n",
        "\r\n",
        "https://datos.gob.mx/busca/dataset?theme=Energ%C3%ADa+Y+Medio+Ambiente&tags=energia&_tags_limit=0\r\n",
        "\r\n",
        "https://datos.gob.mx/busca/dataset/indicadores-de-crecimiento-verde--produccion-y-consumo\r\n",
        "\r\n",
        "https://www.eia.gov/tools/a-z/index.php?id=e\r\n",
        "\r\n",
        "https://www.eia.gov/international/analysis/country/MEX\r\n",
        "\r\n",
        "APIs:\r\n",
        "\r\n",
        "API - Alemania https://gruenstromindex.de/\r\n",
        "\r\n",
        "API- USA https://developer.nrel.gov/docs/solar/pvwatts/v6/"
      ]
    },
    {
      "cell_type": "code",
      "metadata": {
        "id": "vTIxf4Q-r7yQ"
      },
      "source": [
        "import pandas as pd\r\n",
        "url = 'CienciaDatosBEDU/MODULO3/Proyecto/Datasets/annual-percentage-change-renewables.csv'\r\n",
        "df_annualchange = pd.read_csv(url)"
      ],
      "execution_count": null,
      "outputs": []
    },
    {
      "cell_type": "code",
      "metadata": {
        "colab": {
          "base_uri": "https://localhost:8080/"
        },
        "id": "yoGTaJFcuWWt",
        "outputId": "f0b16c3d-293e-4d51-f44c-1cc08eb2b93d"
      },
      "source": [
        "df_annualchange.describe() #mean = 11.939%\r\n",
        "\r\n",
        "df_annualchange.isna().sum() #code = 162\r\n",
        "\r\n",
        "df_annualchange_dropped = df_annualchange.drop(columns= 'Code')\r\n",
        "\r\n",
        "df_annualchange_dropped.isna().sum()"
      ],
      "execution_count": null,
      "outputs": [
        {
          "output_type": "execute_result",
          "data": {
            "text/plain": [
              "Entity                   0\n",
              "Year                     0\n",
              "Renewables (% growth)    0\n",
              "dtype: int64"
            ]
          },
          "metadata": {
            "tags": []
          },
          "execution_count": 15
        }
      ]
    },
    {
      "cell_type": "markdown",
      "metadata": {
        "id": "qv3BDE1_AMQm"
      },
      "source": [
        "## **Desarrollo del Proyecto**"
      ]
    },
    {
      "cell_type": "markdown",
      "metadata": {
        "id": "6Q3408xuBG-r"
      },
      "source": [
        "### Importar librerias"
      ]
    },
    {
      "cell_type": "code",
      "metadata": {
        "id": "qadPVOjuBNxa"
      },
      "source": [
        "import pandas as pd\r\n",
        "import numpy as np"
      ],
      "execution_count": 2,
      "outputs": []
    },
    {
      "cell_type": "markdown",
      "metadata": {
        "id": "Z501j9RAAUKR"
      },
      "source": [
        "### Recoleccion de los datos\r\n",
        "Clonaremos un repositorio de github que sera donde estaremos consultando los datasets que se usaran en el proyecto."
      ]
    },
    {
      "cell_type": "code",
      "metadata": {
        "colab": {
          "base_uri": "https://localhost:8080/"
        },
        "id": "k03C8tA9AoNm",
        "outputId": "12c2e7ad-f901-465e-a9ba-f2484815b4a7"
      },
      "source": [
        "!git clone https://github.com/EmilyMaPe/CienciaDatosBEDU.git"
      ],
      "execution_count": 1,
      "outputs": [
        {
          "output_type": "stream",
          "text": [
            "Cloning into 'CienciaDatosBEDU'...\n",
            "remote: Enumerating objects: 602, done.\u001b[K\n",
            "remote: Counting objects: 100% (602/602), done.\u001b[K\n",
            "remote: Compressing objects: 100% (499/499), done.\u001b[K\n",
            "remote: Total 602 (delta 110), reused 555 (delta 65), pack-reused 0\u001b[K\n",
            "Receiving objects: 100% (602/602), 11.03 MiB | 19.91 MiB/s, done.\n",
            "Resolving deltas: 100% (110/110), done.\n"
          ],
          "name": "stdout"
        }
      ]
    },
    {
      "cell_type": "markdown",
      "metadata": {
        "id": "NBmwtIq8BEmI"
      },
      "source": [
        "Guardaremos los datos en dataframes con la ayuda de la libreria pandas"
      ]
    },
    {
      "cell_type": "code",
      "metadata": {
        "id": "wmb_VqAsBdyH"
      },
      "source": [
        "### importar archivos"
      ],
      "execution_count": 3,
      "outputs": []
    },
    {
      "cell_type": "markdown",
      "metadata": {
        "id": "sLoZg8VYA5GV"
      },
      "source": [
        "### Estructura de los archivos\r\n",
        "Lo que haremos a continuación es realizar una limpieza de los datos, de manera que mas adelante se nos sea mas facil poder utilizarlos para realizar un analisis mas profundo.\r\n",
        "Esta limpieza se centrara en corregir la estructura de los archivos si fuera necesario."
      ]
    },
    {
      "cell_type": "code",
      "metadata": {
        "id": "n80uVnzXBDnG"
      },
      "source": [
        "### dar forma a los archivos"
      ],
      "execution_count": 4,
      "outputs": []
    },
    {
      "cell_type": "markdown",
      "metadata": {
        "id": "K_Y_6RE7CH5a"
      },
      "source": [
        "### Analisis exploratorio"
      ]
    },
    {
      "cell_type": "markdown",
      "metadata": {
        "id": "vaYLDnuFCPGr"
      },
      "source": [
        "#### Dimensiones de los datos"
      ]
    },
    {
      "cell_type": "code",
      "metadata": {
        "id": "-GnkAL4sCUA8"
      },
      "source": [
        "### uso de shape"
      ],
      "execution_count": 5,
      "outputs": []
    },
    {
      "cell_type": "markdown",
      "metadata": {
        "id": "etac6R66CX06"
      },
      "source": [
        "Los datos tienen un tamaño conveniente/no conveniente "
      ]
    },
    {
      "cell_type": "markdown",
      "metadata": {
        "id": "QMdE7M56ChoP"
      },
      "source": [
        "#### Variables "
      ]
    },
    {
      "cell_type": "code",
      "metadata": {
        "id": "2xEWz1mYCn6k"
      },
      "source": [
        "### df.columns "
      ],
      "execution_count": 6,
      "outputs": []
    },
    {
      "cell_type": "markdown",
      "metadata": {
        "id": "joQn_pIzCqHI"
      },
      "source": [
        "Estas columnas nos dan informacion de..."
      ]
    },
    {
      "cell_type": "markdown",
      "metadata": {
        "id": "t9jj7_6RDNHr"
      },
      "source": [
        "#### Muestra de los datos"
      ]
    },
    {
      "cell_type": "code",
      "metadata": {
        "id": "QksHSkkGDX0F"
      },
      "source": [
        "### uso de head y tail"
      ],
      "execution_count": 7,
      "outputs": []
    },
    {
      "cell_type": "markdown",
      "metadata": {
        "id": "icEIs-55ECiH"
      },
      "source": [
        "### Limpieza de los datos\r\n",
        "Esta limpieza abarcara nas, datos no utiles, convenciones de nomenclatura de python y nombres de variables descriptivos."
      ]
    },
    {
      "cell_type": "code",
      "metadata": {
        "id": "u_j6GaM8EPqy"
      },
      "source": [
        "###limpiar datos"
      ],
      "execution_count": 8,
      "outputs": []
    },
    {
      "cell_type": "markdown",
      "metadata": {
        "id": "j9YDyzuKHcBw"
      },
      "source": [
        "#### Restructuración de los dataframes"
      ]
    },
    {
      "cell_type": "code",
      "metadata": {
        "id": "YE_-Ul53Hipo"
      },
      "source": [
        "### concatenar df si es necesario"
      ],
      "execution_count": 9,
      "outputs": []
    },
    {
      "cell_type": "markdown",
      "metadata": {
        "id": "UtzwvPboH0ZZ"
      },
      "source": [
        "### Resumen de los datos"
      ]
    },
    {
      "cell_type": "code",
      "metadata": {
        "id": "FHEC3N67H7A2"
      },
      "source": [
        "### min, max, mean, sum, count..."
      ],
      "execution_count": 11,
      "outputs": []
    },
    {
      "cell_type": "markdown",
      "metadata": {
        "id": "YHhlZw3UIEPi"
      },
      "source": [
        "### API\r\n",
        "Si se encuentra un api funcional al proyecto"
      ]
    },
    {
      "cell_type": "markdown",
      "metadata": {
        "id": "Uw8b-90-JzJI"
      },
      "source": [
        "### Transformación de los datos\r\n",
        "Tipos de datos correctos, nuevas columnas que se requieran"
      ]
    },
    {
      "cell_type": "code",
      "metadata": {
        "id": "tsYvgoWRJ2UW"
      },
      "source": [
        "### map, apply, nuevas columnas..."
      ],
      "execution_count": 12,
      "outputs": []
    },
    {
      "cell_type": "markdown",
      "metadata": {
        "id": "tzI4W36yLLQR"
      },
      "source": [
        "### ¿Qué sigue?\r\n",
        "Piensa qué puedes hacer con los datos que tienes. ¿Qué te gustaría analizar? ¿Qué información está disponible en tus datos? ¿Cómo podrías ayudarte a entender mejor los datos usando gráficas y visualizaciones?"
      ]
    },
    {
      "cell_type": "code",
      "metadata": {
        "id": "1TMdNkI-uq0b"
      },
      "source": [
        ""
      ],
      "execution_count": null,
      "outputs": []
    },
    {
      "cell_type": "markdown",
      "metadata": {
        "id": "1hA_my4ouyJ3"
      },
      "source": [
        "#### DESARROLLO\r\n",
        "\r\n",
        "En este Postwork vamos a dejar descansar un poquito nuestro dataset. La única manera de entender a la perfección cómo utilizar APIs es usándolas. Y eso es lo que vamos a hacer. Vamos a elegir un API y construir un nuevo dataset utilizando peticiones HTTP y concatenaciones. Puede que sea un API que complemente tu dataset original (eso sería lo mejor de lo mejor), o puede simplemente que sea un API que ofrezca información que te parezca interesante. Los pasos a seguir son estos:\r\n",
        "\r\n",
        "1. Encuentra un API que quieras explorar. Puedes encontrar una lista enorme de APIs gratuitas [aquí](https://github.com/public-apis/public-apis).\r\n",
        "2. Crea una cuenta si es necesario.\r\n",
        "3. Lee la documentación.\r\n",
        "4. Realiza algunas peticiones de prueba para entender la estructura de los datos (si quieres explorar un poco, puedes intentar haacer peticiones usando [este software](https://www.postman.com/)).\r\n",
        "5. Automatiza el proceso de realizar peticiones para obtener un dataset considerablemente grande.\r\n",
        "6. Explora y limpia tu dataset.\r\n",
        "7. Si has encontrado un dataset que complementa la información de tu dataset original (el que has estado trabajando durante todas las sesiones), ve si puedes unirlos en un solo `DataFrame` que incluya la información útil de ambos.\r\n",
        "\r\n",
        "> **Extra**: Puedes también explorar la posibilidad de automatizar algunos de los procesos de limpieza que has realizado con tu dataset. Si encuentras dónde podría ser útil y te animas a hacerlo, recuerda proteger tu código con estructuras `try except` para que la automatización no falle."
      ]
    },
    {
      "cell_type": "code",
      "metadata": {
        "id": "_U4opFjruyl8"
      },
      "source": [
        ""
      ],
      "execution_count": null,
      "outputs": []
    },
    {
      "cell_type": "markdown",
      "metadata": {
        "id": "SzMbpGvbu36k"
      },
      "source": [
        "#### DESARROLLO\r\n",
        "\r\n",
        "Ha llegado el momento de aplicar técnicas comunes de procesamiento de datos a nuestro conjunto de datos. Para este momento ya debes de tener un conjunto de datos que te sea interesante y que haya sido limpiado previamente de `NaNs`. También es importante que ya hayas explorado extensivamente tu dataset para que lo conozcas muy bien. De igual manera, es recomendable que tu dataset esté bien indexado y que tenga nombres coherentes y comprensibles para las columnas.\r\n",
        "\r\n",
        "Para aplicar en tu dataset lo que vimos en esta sesión, realiza las siguientes acciones:\r\n",
        "\r\n",
        "1. Checa que todos tus datos tengan el tipo de dato correcto. Si no es así, usa casting para convertir tus datos al tipo de dato correcto (recuerda que tipos de dato como `datetime64` se guardan como strings cuando están en archivos .csv, así que tendrás que convertirlos al tipo de dato apropiado cada vez que importes tu archivo.)\r\n",
        "2. Si tienes columnas de texto, asegúrate de que todas tengan el formato correcto. Si no es así, utiliza las técnicas de manipulación de `strings` para darles el formato que necesitas.\r\n",
        "3. Si consideras que alguna de tus columnas sería más clara si los datos tuvieran otro formato o representación usa `map` para transformar los datos de esa columna.\r\n",
        "4. Si crees que es posible generar nuevas columnas útiles a partir de las columnas que ya tienes, usa `apply` para generar nuevos datos a partir de los que tienes y añádelos a tu dataset.\r\n",
        "5. Con el fin de responder algunas de las preguntas que te planteaste acerca de tu dataset, usa filtros y sorting para crear nuevos subconjuntos y reordenamientos que sean más adecuados para responder tus preguntas. Primero comienza intentando responder las preguntas que te planteaste al principio, pero después puedes solamente explorar para ver si encuentras otras preguntas que no te habías planteado anteriormente.\r\n",
        "\r\n",
        "Comparte tus dudas y hallazgos con tus compañeros y con la experta, de manera que todos puedan nutrirse mutuamente de su trabajo."
      ]
    },
    {
      "cell_type": "markdown",
      "metadata": {
        "id": "JwWS7uBpvXAJ"
      },
      "source": [
        "#### **(Para tu entrega final)**\r\n",
        "\r\n",
        "Ha llegado el momento de la verdad para tu entrega final. Hagan un folder con los nombres de tu equipo de la siguiente manera: \"Entrega_Final_Procesamiento_RafaelArias_MichaelJordan_DarthVader\". Coloquen dentro de este folder su entrega escrita y su Jupyter Notebook final.\r\n",
        "\r\n",
        "Simplemente asegúrate de que tu entrega escrita este lista, en cuanto a contenido y formato. Asegúrate de haber explicado tus decisiones a través de las diferentes exploraciones y actividades, y asegúrate de justificar tu texto, agregar títulos, etc.\r\n",
        "\r\n",
        "Por otro lado, también es momento de conjuntar todo tu código en un sólo notebook, ordenarlo, comentarlo, limpiarlo y entregarlo. Te recomiendo altamente correrlo todo de principio a fin para asegurarte que funcione con el dataset y que no hay errores.\r\n",
        "\r\n",
        "Si tu dataset no está en la nube, asegúrate de también agregarlo a tu folder de entrega ¡para que nosotros podamos correr correctamente tu código!\r\n",
        "\r\n",
        "Finalmente deberás hacer un video presentando tu proyecto. Prepara diapositivas explicando lo que hiciste. Debes de al menos explicar lo siguiente: 1. Explicar porqué escogieron su problema en específico. 2. Explicar brevemente su documento y código (las preguntas, cómo coleccionaron los datos, qué hallazgos encontraron etc). 3. Explicar si tuvieron problemas, cuáles fueron y cómo los resolvieron.\r\n",
        "\r\n",
        "El video no debe durar más de 5 mins.\r\n",
        "\r\n",
        "¡Felicidades y mucha suerte! ¡Esperamos verte en el próximo módulo de Análisis Estadístico y Visualización!"
      ]
    },
    {
      "cell_type": "code",
      "metadata": {
        "id": "OabBP26ovXbx"
      },
      "source": [
        ""
      ],
      "execution_count": null,
      "outputs": []
    }
  ]
}