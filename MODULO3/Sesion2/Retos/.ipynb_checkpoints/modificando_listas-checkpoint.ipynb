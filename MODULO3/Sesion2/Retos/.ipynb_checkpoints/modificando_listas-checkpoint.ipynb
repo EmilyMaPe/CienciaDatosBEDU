{
 "cells": [
  {
   "cell_type": "markdown",
   "metadata": {},
   "source": [
    "## Reto 2: Modificando listas\n",
    "\n",
    "### 1. Objetivos:\n",
    "    - Practicar el uso de los métodos `append` `pop`.\n",
    " \n",
    "---\n",
    "    \n",
    "### 2. Desarrollo:"
   ]
  },
  {
   "cell_type": "markdown",
   "metadata": {},
   "source": [
    "#### a) Modificar para eliminar diferencias\n",
    "\n",
    "Debajo tienes dos listas definidas:"
   ]
  },
  {
   "cell_type": "code",
   "execution_count": 3,
   "metadata": {},
   "outputs": [],
   "source": [
    "lista_1 = [3.4, 0.7, 99.9, 5.41, 6.23, 7.9]\n",
    "\n",
    "lista_2 = [3.4, 63.4, 0.7, 6.46, 99.9, 2.2, 5.41]\n",
    "\n",
    "lista_2.pop(1)\n",
    "lista_2.pop(2)\n",
    "lista_2.pop(3)\n",
    "lista_2.append(6.23)\n",
    "lista_2.append(7.9)"
   ]
  },
  {
   "cell_type": "markdown",
   "metadata": {},
   "source": [
    "Ahora, tienes una `sentencia if` que utiliza una comparación entre las dos listas:"
   ]
  },
  {
   "cell_type": "code",
   "execution_count": 4,
   "metadata": {},
   "outputs": [
    {
     "name": "stdout",
     "output_type": "stream",
     "text": [
      "Tú y yo somos uno mismo\n"
     ]
    }
   ],
   "source": [
    "if lista_1 == lista_2:\n",
    "    print(\"Tú y yo somos uno mismo\")"
   ]
  },
  {
   "cell_type": "markdown",
   "metadata": {},
   "source": [
    "Donde dice `tu código va aquí` agrega modificaciones a la **lista_2** para lograr que ambas listas sean idénticas y el bello mensaje \"Tú y yo somos uno mismo\" se imprima. Puedes usar tanto `pop` como `append`, pero **sólo puedes modificar la lista_2**."
   ]
  },
  {
   "cell_type": "markdown",
   "metadata": {},
   "source": [
    "#### b) Corrigiendo fragmentos\n",
    "\n",
    "Debajo hay un muy pequeño fragmento del capítulo 68 de la novela \"Rayuela\" de Julio Cortázar ([Lo puedes leer aquí](https://ciudadseva.com/texto/rayuela-capitulo-68/)). Este fragmento ha sido modificado, como fácilmente podrás ver. Además, el fragmento termina con un oración inconclusa:"
   ]
  },
  {
   "cell_type": "code",
   "execution_count": 16,
   "metadata": {},
   "outputs": [],
   "source": [
    "fragmento_fragmentado = ['Apenas', 'él', 'le', 'amalaba', 'hidrolizado' ' el', 'noema,',\n",
    "                         'a', 'ella', 'se', 'le', 'agolpaba', 'el', 'clémiso', 'súbito',\n",
    "                         'y', 'caían', 'en', 'fermales', 'hidromurias,', 'en', 'salvajes', 'ambonios,',\n",
    "                         'en', 'sustalos', 'distales', 'exasperantes.',\n",
    "                         'Cada', 'vez', 'que', 'él', 'procuraba', 'relamar', 'las', 'incopelusas,']\n",
    "\n",
    "fragmento_fragmentado.pop(4)\n",
    "fragmento_fragmentado.pop(13)\n",
    "fragmento_fragmentado.pop(16)\n",
    "fragmento_fragmentado.pop(22)\n",
    "fragmento_fragmentado.append(\"se enredaba en un grimado quejumbroso y tenía\")\n",
    "fragmento_fragmentado.append(\"que envulsionarse de cara al nóvalo, sintiendo\")\n",
    "fragmento_fragmentado.append(\"cómo poco a poco las arnillas se espejunaban, \")\n",
    "fragmento_fragmentado.append(\"se iban apeltronando, reduplimiendo, hasta quedar\") \n",
    "fragmento_fragmentado.append(\"tendido como el trimalciato de ergomanina al que se\") \n",
    "fragmento_fragmentado.append(\"le han dejado caer unas fílulas de cariaconcia.\")\n",
    "#for i in fragmento_fragmentado:\n",
    "#    print(i, end =\" \")"
   ]
  },
  {
   "cell_type": "markdown",
   "metadata": {},
   "source": [
    "Debajo hay código que toma la lista de arriba e imprime el fragmento en forma de texto. Tu reto es eliminar todas las modificaciones que han sido hechas al texto de Cortázar usando el método `pop`. Al terminar, puedes, si así lo deseas, agregar tu propio final a la oración inconclusa usando el método `append`.\n",
    "\n",
    "El resultado será una colaboración tuya y de Cortázar:"
   ]
  },
  {
   "cell_type": "code",
   "execution_count": 17,
   "metadata": {},
   "outputs": [
    {
     "name": "stdout",
     "output_type": "stream",
     "text": [
      "==Colaboración póstuma de Córtazar y Emily==\n",
      "\n",
      "Apenas él le amalaba noema, a ella se le agolpaba el clémiso súbito caían en fermales en salvajes ambonios, en sustalos distales Cada vez que él procuraba relamar las incopelusas, se enredaba en un grimado quejumbroso y tenía que envulsionarse de cara al nóvalo, sintiendo cómo poco a poco las arnillas se espejunaban,  se iban apeltronando, reduplimiendo, hasta quedar tendido como el trimalciato de ergomanina al que se le han dejado caer unas fílulas de cariaconcia.\n"
     ]
    }
   ],
   "source": [
    "tu_nombre = \"Emily\"  # Tu nombre va aquí\n",
    "\n",
    "print(f'==Colaboración póstuma de Córtazar y {tu_nombre}==\\n')\n",
    "print(f'{\" \".join(fragmento_fragmentado)}')"
   ]
  }
 ],
 "metadata": {
  "kernelspec": {
   "display_name": "Python 3",
   "language": "python",
   "name": "python3"
  },
  "language_info": {
   "codemirror_mode": {
    "name": "ipython",
    "version": 3
   },
   "file_extension": ".py",
   "mimetype": "text/x-python",
   "name": "python",
   "nbconvert_exporter": "python",
   "pygments_lexer": "ipython3",
   "version": "3.8.3"
  }
 },
 "nbformat": 4,
 "nbformat_minor": 4
}
