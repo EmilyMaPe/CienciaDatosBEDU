{
 "cells": [
  {
   "cell_type": "markdown",
   "metadata": {},
   "source": [
    "# Agregaciones"
   ]
  },
  {
   "cell_type": "code",
   "execution_count": 8,
   "metadata": {},
   "outputs": [],
   "source": [
    "import pymongo\n",
    "import re\n",
    "client = pymongo.MongoClient(f\"mongodb://{user}:{password}@{proyecto}-shard-00-00.mmsfi.mongodb.net:27017,{proyecto}-shard-00-01.mmsfi.mongodb.net:27017,{proyecto}-shard-00-02.mmsfi.mongodb.net:27017/test?ssl=true&replicaSet=atlas-11i31k-shard-0&authSource=admin&retryWrites=true&w=majority\")\n",
    "db = client.test"
   ]
  },
  {
   "cell_type": "markdown",
   "metadata": {},
   "source": [
    "### Reto 1: Agrupamientos\n",
    "Con base en el ejemplo 1, modifica el agrupamiento para que muestre el costo promedio por habitación por país de las propiedades de tipo casa."
   ]
  },
  {
   "cell_type": "code",
   "execution_count": 9,
   "metadata": {},
   "outputs": [],
   "source": [
    "result = client['sample_airbnb']['listingsAndReviews'].aggregate([\n",
    "    {\n",
    "        '$match': {\n",
    "            'property_type': 'House', \n",
    "            'bedrooms': {\n",
    "                '$gte': 1\n",
    "            }\n",
    "        }\n",
    "    }, {\n",
    "        '$addFields': {\n",
    "            'costoRecamara': {\n",
    "                '$divide': [\n",
    "                    '$price', '$bedrooms'\n",
    "                ]\n",
    "            }\n",
    "        }\n",
    "    }, {\n",
    "        '$group': {\n",
    "            '_id': '$address.country', \n",
    "            'recamaras': {\n",
    "                '$sum': 1\n",
    "            }, \n",
    "            'total': {\n",
    "                '$sum': '$costoRecamara'\n",
    "            }\n",
    "        }\n",
    "    }, {\n",
    "        '$addFields': {\n",
    "            'pais': '$_id', \n",
    "            'costoPromedio': {\n",
    "                '$trunc': [\n",
    "                    {\n",
    "                        '$divide': [\n",
    "                            '$total', '$recamaras'\n",
    "                        ]\n",
    "                    }, 2\n",
    "                ]\n",
    "            }\n",
    "        }\n",
    "    }, {\n",
    "        '$project': {\n",
    "            '_id': 0, \n",
    "            'pais': 1, \n",
    "            'costoPromedio': 1\n",
    "        }\n",
    "    }\n",
    "])"
   ]
  },
  {
   "cell_type": "code",
   "execution_count": 10,
   "metadata": {},
   "outputs": [
    {
     "name": "stdout",
     "output_type": "stream",
     "text": [
      "pais:  China\n",
      "costo Promedio:  393.00\n",
      "\n",
      "pais:  United States\n",
      "costo Promedio:  113.73\n",
      "\n",
      "pais:  Brazil\n",
      "costo Promedio:  348.66\n",
      "\n",
      "pais:  Turkey\n",
      "costo Promedio:  209.87\n",
      "\n",
      "pais:  Hong Kong\n",
      "costo Promedio:  514.60\n",
      "\n",
      "pais:  Canada\n",
      "costo Promedio:  114.98\n",
      "\n"
     ]
    }
   ],
   "source": [
    "i= 0\n",
    "for x in result:\n",
    "    print('pais: ', x['pais'])\n",
    "    print('costo Promedio: ', x['costoPromedio'])\n",
    "    print()\n",
    "    i+=1\n",
    "    if i > 5:\n",
    "        break"
   ]
  },
  {
   "cell_type": "markdown",
   "metadata": {},
   "source": [
    "### Reto 2: Asociación de colecciones\n",
    "Usando las colecciones comments y users, se requiere conocer el correo y contraseña de cada persona que realizó un comentario. Construye un pipeline que genere como resultado estos datos."
   ]
  },
  {
   "cell_type": "code",
   "execution_count": 11,
   "metadata": {},
   "outputs": [],
   "source": [
    "result = client['sample_mflix']['comments'].aggregate([\n",
    "    {\n",
    "        '$lookup': {\n",
    "            'from': 'users', \n",
    "            'localField': 'email', \n",
    "            'foreignField': 'email', \n",
    "            'as': 'usuario'\n",
    "        }\n",
    "    }, {\n",
    "        '$addFields': {\n",
    "            'usuario': {\n",
    "                '$arrayElemAt': [\n",
    "                    '$usuario', 0\n",
    "                ]\n",
    "            }\n",
    "        }\n",
    "    }, {\n",
    "        '$addFields': {\n",
    "            'password': '$usuario.password'\n",
    "        }\n",
    "    }, {\n",
    "        '$project': {\n",
    "            '_id': 0, \n",
    "            'text': 1, \n",
    "            'email': 1, \n",
    "            'password': 1\n",
    "        }\n",
    "    }\n",
    "])"
   ]
  },
  {
   "cell_type": "code",
   "execution_count": 12,
   "metadata": {},
   "outputs": [
    {
     "name": "stdout",
     "output_type": "stream",
     "text": [
      "text:  Minus sequi incidunt cum magnam. Quam voluptatum vitae ab voluptatum cum. Autem perferendis nisi nulla dolores aut recusandae.\n",
      "email:  iain_glen@gameofthron.es\n",
      "password:  $2b$12$K8bKkwnpkrjsBPzASZxO/.yj7d9kvupiVtO6JA3Xl106AKXr3pXFK\n",
      "\n",
      "text:  Ab consequatur numquam sed eligendi ex unde. Dolorem illum minima numquam dicta ipsa magnam nostrum. Possimus sed inventore cum non.\n",
      "email:  sarah_lewis@fakegmail.com\n",
      "password:  $2b$12$5kCUjcP3lvYSzhouVJTpOeCZ7e7Xke8gDoPPg2Uyz39tNKrp9om1a\n",
      "\n",
      "text:  Harum necessitatibus rerum ab voluptatem nulla at reiciendis recusandae. Quas ullam similique atque sit. A voluptates labore nam illum dolorem qui.\n",
      "email:  kristian_nairn@gameofthron.es\n",
      "password:  $2b$12$hFkSycBpMDENs/sT.5y0feifE5IluHUJmYHqH/lSkcc81/HRzzRSq\n",
      "\n",
      "text:  Doloremque corporis eaque illum nihil. Veritatis tenetur quo vitae ipsa nihil facere dolorum esse. Minima inventore ullam laudantium vitae a nesciunt. Architecto laborum eveniet quam.\n",
      "email:  brenock_o'connor@gameofthron.es\n",
      "password:  $2b$12$Mp0mG3u/6xuQSe/3/UjO8uHTHUDQUIcV0Iki42vfAqKLaBbYxHjv.\n",
      "\n",
      "text:  Fuga voluptates veniam qui aliquid ipsum. Blanditiis saepe est autem natus. Fugit corrupti soluta dolores ea ipsum ipsam repudiandae. Iste ipsum ipsam autem ducimus.\n",
      "email:  taylor_hill@fakegmail.com\n",
      "password:  $2b$12$5NRO3TpZti62ZN2rSlxYoOurfMQAUEQ4oIufrfAhcsSqGp4eKF4Gi\n",
      "\n",
      "text:  Saepe cupiditate eius dicta totam culpa consectetur. Libero dolorem assumenda magnam non repudiandae quis aspernatur.\n",
      "email:  stephen_dillane@gameofthron.es\n",
      "password:  $2b$12$vbPwOM9QkSOsOXRgLSZiqe9JPJtBX1JUwm06d3lYVViKxrYCIyhEm\n",
      "\n"
     ]
    }
   ],
   "source": [
    "i= 0\n",
    "for x in result:\n",
    "    print('text: ', x['text'])\n",
    "    print('email: ', x['email'])\n",
    "    print('password: ', x['password'])\n",
    "    print()\n",
    "    i+=1\n",
    "    if i > 5:\n",
    "        break"
   ]
  },
  {
   "cell_type": "markdown",
   "metadata": {},
   "source": [
    "### Reto 3: Generación de vistas\n",
    "Usando el pipeline que generaste en el Reto 2, genera la vista correspondiente."
   ]
  }
 ],
 "metadata": {
  "kernelspec": {
   "display_name": "Python 3",
   "language": "python",
   "name": "python3"
  },
  "language_info": {
   "codemirror_mode": {
    "name": "ipython",
    "version": 3
   },
   "file_extension": ".py",
   "mimetype": "text/x-python",
   "name": "python",
   "nbconvert_exporter": "python",
   "pygments_lexer": "ipython3",
   "version": "3.8.3"
  }
 },
 "nbformat": 4,
 "nbformat_minor": 4
}
