{
 "cells": [
  {
   "cell_type": "code",
   "execution_count": 2,
   "metadata": {},
   "outputs": [],
   "source": [
    "import pymongo\n",
    "import re\n",
    "client = pymongo.MongoClient(f\"mongodb://{user}:{password}@{proyecto}-shard-00-00.mmsfi.mongodb.net:27017,{proyecto}-shard-00-01.mmsfi.mongodb.net:27017,{proyecto}-shard-00-02.mmsfi.mongodb.net:27017/test?ssl=true&replicaSet=atlas-11i31k-shard-0&authSource=admin&retryWrites=true&w=majority\")\n",
    "db = client.test"
   ]
  },
  {
   "cell_type": "markdown",
   "metadata": {},
   "source": [
    "# Ejercicios Sesion 6\n",
    "El proyecto consiste en obtener, por país, el número de películas que hay de cada género. "
   ]
  },
  {
   "cell_type": "code",
   "execution_count": 3,
   "metadata": {},
   "outputs": [],
   "source": [
    "result = client['sample_mflix']['movies'].aggregate([\n",
    "    {\n",
    "        '$group': {\n",
    "            '_id': {\n",
    "                'pais': '$countries', \n",
    "                'genero': '$genres'\n",
    "            }, \n",
    "            'peliculas': {\n",
    "                '$sum': 1\n",
    "            }\n",
    "        }\n",
    "    }, {\n",
    "        '$addFields': {\n",
    "            'pais': {\n",
    "                '$arrayElemAt': [\n",
    "                    '$_id.pais', 0\n",
    "                ]\n",
    "            }, \n",
    "            'genero': {\n",
    "                '$arrayElemAt': [\n",
    "                    '$_id.genero', 0\n",
    "                ]\n",
    "            }\n",
    "        }\n",
    "    }, {\n",
    "        '$sort': {\n",
    "            'peliculas': -1\n",
    "        }\n",
    "    }, {\n",
    "        '$project': {\n",
    "            '_id': 0, \n",
    "            'pais': 1, \n",
    "            'genero': 1, \n",
    "            'peliculas': 1\n",
    "        }\n",
    "    }\n",
    "])"
   ]
  },
  {
   "cell_type": "code",
   "execution_count": 4,
   "metadata": {},
   "outputs": [
    {
     "name": "stdout",
     "output_type": "stream",
     "text": [
      "pais:  USA\n",
      "genero:  Drama\n",
      "peliculas:  897\n",
      "\n",
      "pais:  USA\n",
      "genero:  Documentary\n",
      "peliculas:  496\n",
      "\n",
      "pais:  USA\n",
      "genero:  Comedy\n",
      "peliculas:  433\n",
      "\n",
      "pais:  USA\n",
      "genero:  Comedy\n",
      "peliculas:  382\n",
      "\n",
      "pais:  USA\n",
      "genero:  Comedy\n",
      "peliculas:  349\n",
      "\n",
      "pais:  USA\n",
      "genero:  Drama\n",
      "peliculas:  284\n",
      "\n"
     ]
    }
   ],
   "source": [
    "i= 0\n",
    "for x in result:\n",
    "    print('pais: ', x['pais'])\n",
    "    print('genero: ', x['genero'])\n",
    "    print('peliculas: ', x['peliculas'])\n",
    "    print()\n",
    "    i+=1\n",
    "    if i > 5:\n",
    "        break"
   ]
  }
 ],
 "metadata": {
  "kernelspec": {
   "display_name": "Python 3",
   "language": "python",
   "name": "python3"
  },
  "language_info": {
   "codemirror_mode": {
    "name": "ipython",
    "version": 3
   },
   "file_extension": ".py",
   "mimetype": "text/x-python",
   "name": "python",
   "nbconvert_exporter": "python",
   "pygments_lexer": "ipython3",
   "version": "3.8.3"
  }
 },
 "nbformat": 4,
 "nbformat_minor": 4
}
