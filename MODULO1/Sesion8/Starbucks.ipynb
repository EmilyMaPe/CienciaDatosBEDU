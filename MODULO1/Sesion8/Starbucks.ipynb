{
 "cells": [
  {
   "cell_type": "markdown",
   "metadata": {},
   "source": [
    "# Reto 1: Starbucks\n",
    "Starbucks comenzó como una empresa minorista de tostado de grano entero, café molido, té y especias con una sola tienda en el mercado Pike Place de Seattle en 1971. La compañía ahora opera más de 24,000 tiendas minoristas en 70 países.\n",
    "\n",
    "Para este reto usarás un conjunto de datos que incluye registros sobre cada tienda Starbucks o subsidiaria actualmente en funcionamiento."
   ]
  },
  {
   "cell_type": "markdown",
   "metadata": {},
   "source": [
    "1. Analiza los datos, limpia los datos en caso de ser necesario.\n",
    "\n",
    "2. Elige MySQL o MongoDB y crea una base de datos para el conjunto de datos del reto.\n",
    "\n",
    "3. Carga los datos en la base de datos que elegiste y revisa que éstos se muestren correctamente.\n",
    "\n",
    "4. Usando la latitud y longitud de tu posición actual, encuenta el Starbucks más cercano a tu posición. Para conocer tu posición actual puedes usar Google Maps para, sólo debes copiar los datos de la URL."
   ]
  },
  {
   "cell_type": "code",
   "execution_count": 2,
   "metadata": {},
   "outputs": [],
   "source": [
    "import pymongo\n",
    "import re\n",
    "import pandas as pd\n",
    "client = pymongo.MongoClient(f\"mongodb://{user}:{password}@{proyecto}-shard-00-00.mmsfi.mongodb.net:27017,{proyecto}-shard-00-01.mmsfi.mongodb.net:27017,{proyecto}-shard-00-02.mmsfi.mongodb.net:27017/test?ssl=true&replicaSet=atlas-11i31k-shard-0&authSource=admin&retryWrites=true&w=majority\")\n",
    "db = client.test"
   ]
  },
  {
   "cell_type": "markdown",
   "metadata": {},
   "source": [
    "Aqui podemos ingresar diferentes coordenadas para encontrar el establecimiento mas cercano, por ejemplo pongamos las coordenadas de BEDU."
   ]
  },
  {
   "cell_type": "code",
   "execution_count": 3,
   "metadata": {},
   "outputs": [],
   "source": [
    "lat = 19.4218099\n",
    "long = -99.1613632"
   ]
  },
  {
   "cell_type": "code",
   "execution_count": 4,
   "metadata": {},
   "outputs": [],
   "source": [
    "result = client['starbucks']['starbucks'].aggregate([\n",
    "    {\n",
    "        '$addFields': {\n",
    "            'actualLat': lat, \n",
    "            'actualLong': long\n",
    "        }\n",
    "    }, {\n",
    "        '$addFields': {\n",
    "            'distanceToStore': {\n",
    "                '$sqrt': {\n",
    "                    '$add': [\n",
    "                        {\n",
    "                            '$pow': [\n",
    "                                {\n",
    "                                    '$subtract': [\n",
    "                                        '$actualLat', '$Latitude'\n",
    "                                    ]\n",
    "                                }, 2\n",
    "                            ]\n",
    "                        }, {\n",
    "                            '$pow': [\n",
    "                                {\n",
    "                                    '$subtract': [\n",
    "                                        '$actualLong', '$Longitude'\n",
    "                                    ]\n",
    "                                }, 2\n",
    "                            ]\n",
    "                        }\n",
    "                    ]\n",
    "                }\n",
    "            }\n",
    "        }\n",
    "    }, {\n",
    "        '$match': {\n",
    "            'distanceToStore': {\n",
    "                '$gte': 0\n",
    "            }\n",
    "        }\n",
    "    }, {\n",
    "        '$sort': {\n",
    "            'distanceToStore': 1\n",
    "        }\n",
    "    }, {\n",
    "        '$limit': 1\n",
    "    }, {\n",
    "        '$project': {\n",
    "            '_id': 0, \n",
    "            'Store Name': 1, \n",
    "            'Street Address': 1, \n",
    "            'City': 1, \n",
    "            'Country': 1, \n",
    "            'distanceToStore': 1\n",
    "        }\n",
    "    }\n",
    "])"
   ]
  },
  {
   "cell_type": "code",
   "execution_count": 5,
   "metadata": {},
   "outputs": [
    {
     "data": {
      "text/html": [
       "<div>\n",
       "<style scoped>\n",
       "    .dataframe tbody tr th:only-of-type {\n",
       "        vertical-align: middle;\n",
       "    }\n",
       "\n",
       "    .dataframe tbody tr th {\n",
       "        vertical-align: top;\n",
       "    }\n",
       "\n",
       "    .dataframe thead th {\n",
       "        text-align: right;\n",
       "    }\n",
       "</style>\n",
       "<table border=\"1\" class=\"dataframe\">\n",
       "  <thead>\n",
       "    <tr style=\"text-align: right;\">\n",
       "      <th></th>\n",
       "      <th>Store Name</th>\n",
       "      <th>Street Address</th>\n",
       "      <th>City</th>\n",
       "      <th>Country</th>\n",
       "      <th>distanceToStore</th>\n",
       "    </tr>\n",
       "  </thead>\n",
       "  <tbody>\n",
       "    <tr>\n",
       "      <th>0</th>\n",
       "      <td>Plaza Luis Cabrera</td>\n",
       "      <td>Plaza Luis Cabrera # 5 Local 1, Col Roma</td>\n",
       "      <td>Mexico City</td>\n",
       "      <td>MX</td>\n",
       "      <td>0.002266</td>\n",
       "    </tr>\n",
       "  </tbody>\n",
       "</table>\n",
       "</div>"
      ],
      "text/plain": [
       "           Store Name                            Street Address         City  \\\n",
       "0  Plaza Luis Cabrera  Plaza Luis Cabrera # 5 Local 1, Col Roma  Mexico City   \n",
       "\n",
       "  Country  distanceToStore  \n",
       "0      MX         0.002266  "
      ]
     },
     "execution_count": 5,
     "metadata": {},
     "output_type": "execute_result"
    }
   ],
   "source": [
    "x = list(result)\n",
    "df = pd.DataFrame(x)\n",
    "df"
   ]
  }
 ],
 "metadata": {
  "kernelspec": {
   "display_name": "Python 3",
   "language": "python",
   "name": "python3"
  },
  "language_info": {
   "codemirror_mode": {
    "name": "ipython",
    "version": 3
   },
   "file_extension": ".py",
   "mimetype": "text/x-python",
   "name": "python",
   "nbconvert_exporter": "python",
   "pygments_lexer": "ipython3",
   "version": "3.8.3"
  }
 },
 "nbformat": 4,
 "nbformat_minor": 4
}
