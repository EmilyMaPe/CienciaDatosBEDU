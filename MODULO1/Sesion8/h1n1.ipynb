{
 "cells": [
  {
   "cell_type": "markdown",
   "metadata": {},
   "source": [
    "# Reto 2: Pandemia A (H1N1)\n",
    "El influenzavirus A subtipo H1N1, más conocido como A H1N1 humana, es una especie de influenzavirus tipo A del virus de la gripe. La pandemia de gripe A (H1N1), que se inició en 2009, entró en México el 17 de marzo del mismo año. Este fue el primer país en reportar casos de gripe A en el mundo entero.\n",
    "\n",
    "Para este reto usarás un conjunto de datos proveniente de un reporte de la OMS."
   ]
  },
  {
   "cell_type": "markdown",
   "metadata": {},
   "source": [
    "1. Analiza los datos, limpia los datos en caso de ser necesario.\n",
    "\n",
    "2. Elige MySQL o MongoDB y crea una base de datos para el conjunto de datos del reto.\n",
    "\n",
    "3. Carga los datos en la base de datos que elegiste y revisa que éstos se muestren correctamente.\n",
    "\n",
    "4. Responde a las siguientes preguntas usando consultas:"
   ]
  },
  {
   "cell_type": "code",
   "execution_count": 2,
   "metadata": {},
   "outputs": [],
   "source": [
    "import pymongo\n",
    "import re\n",
    "import pandas as pd\n",
    "client = pymongo.MongoClient(f\"mongodb://{user}:{password}@{proyecto}-shard-00-00.mmsfi.mongodb.net:27017,{proyecto}-shard-00-01.mmsfi.mongodb.net:27017,{proyecto}-shard-00-02.mmsfi.mongodb.net:27017/test?ssl=true&replicaSet=atlas-11i31k-shard-0&authSource=admin&retryWrites=true&w=majority\")\n",
    "db = client.test"
   ]
  },
  {
   "cell_type": "markdown",
   "metadata": {},
   "source": [
    "#### 1. ¿Cuál fue el país con mayor número de muertes?"
   ]
  },
  {
   "cell_type": "code",
   "execution_count": 3,
   "metadata": {},
   "outputs": [],
   "source": [
    "result = client['h1n1']['h1n1'].aggregate([\n",
    "    {\n",
    "        '$sort': {\n",
    "            'Update Time': -1\n",
    "        }\n",
    "    }, {\n",
    "        '$group': {\n",
    "            '_id': '$Country', \n",
    "            'latest': {\n",
    "                '$first': '$$ROOT'\n",
    "            }\n",
    "        }\n",
    "    }, {\n",
    "        '$match': {\n",
    "            '_id': {\n",
    "                '$not': {\n",
    "                    '$in': [\n",
    "                        'Grand Total'\n",
    "                    ]\n",
    "                }\n",
    "            }\n",
    "        }\n",
    "    }, {\n",
    "        '$addFields': {\n",
    "            'Deaths': '$latest.Deaths'\n",
    "        }\n",
    "    }, {\n",
    "        '$sort': {\n",
    "            'Deaths': -1\n",
    "        }\n",
    "    }, {\n",
    "        '$limit': 1\n",
    "    }, {\n",
    "        '$project': {\n",
    "            '_id': 1, \n",
    "            'Deaths': 1\n",
    "        }\n",
    "    }\n",
    "])"
   ]
  },
  {
   "cell_type": "code",
   "execution_count": 4,
   "metadata": {},
   "outputs": [
    {
     "data": {
      "text/html": [
       "<div>\n",
       "<style scoped>\n",
       "    .dataframe tbody tr th:only-of-type {\n",
       "        vertical-align: middle;\n",
       "    }\n",
       "\n",
       "    .dataframe tbody tr th {\n",
       "        vertical-align: top;\n",
       "    }\n",
       "\n",
       "    .dataframe thead th {\n",
       "        text-align: right;\n",
       "    }\n",
       "</style>\n",
       "<table border=\"1\" class=\"dataframe\">\n",
       "  <thead>\n",
       "    <tr style=\"text-align: right;\">\n",
       "      <th></th>\n",
       "      <th>_id</th>\n",
       "      <th>Deaths</th>\n",
       "    </tr>\n",
       "  </thead>\n",
       "  <tbody>\n",
       "    <tr>\n",
       "      <th>0</th>\n",
       "      <td>United States of America</td>\n",
       "      <td>170</td>\n",
       "    </tr>\n",
       "  </tbody>\n",
       "</table>\n",
       "</div>"
      ],
      "text/plain": [
       "                        _id  Deaths\n",
       "0  United States of America     170"
      ]
     },
     "execution_count": 4,
     "metadata": {},
     "output_type": "execute_result"
    }
   ],
   "source": [
    "x = list(result)\n",
    "df = pd.DataFrame(x)\n",
    "df"
   ]
  },
  {
   "cell_type": "markdown",
   "metadata": {},
   "source": [
    "#### 2. ¿Cuál fue el país con menor número de muertes? (Excluyendo los que no tienen muertes)"
   ]
  },
  {
   "cell_type": "code",
   "execution_count": 6,
   "metadata": {},
   "outputs": [],
   "source": [
    "result = client['h1n1']['h1n1'].aggregate([\n",
    "    {\n",
    "        '$sort': {\n",
    "            'Update Time': -1\n",
    "        }\n",
    "    }, {\n",
    "        '$group': {\n",
    "            '_id': '$Country', \n",
    "            'latest': {\n",
    "                '$first': '$$ROOT'\n",
    "            }\n",
    "        }\n",
    "    }, {\n",
    "        '$match': {\n",
    "            '_id': {\n",
    "                '$not': {\n",
    "                    '$in': [\n",
    "                        'Grand Total'\n",
    "                    ]\n",
    "                }\n",
    "            }\n",
    "        }\n",
    "    }, {\n",
    "        '$addFields': {\n",
    "            'Deaths': '$latest.Deaths'\n",
    "        }\n",
    "    }, {\n",
    "        '$sort': {\n",
    "            'Deaths': 1\n",
    "        }\n",
    "    }, {\n",
    "        '$match': {\n",
    "            'Deaths': {\n",
    "                '$gte': 1\n",
    "            }\n",
    "        }\n",
    "    }, {\n",
    "        '$limit': 1\n",
    "    }, {\n",
    "        '$project': {\n",
    "            '_id': 1, \n",
    "            'Deaths': 1\n",
    "        }\n",
    "    }\n",
    "])"
   ]
  },
  {
   "cell_type": "code",
   "execution_count": 7,
   "metadata": {},
   "outputs": [
    {
     "data": {
      "text/html": [
       "<div>\n",
       "<style scoped>\n",
       "    .dataframe tbody tr th:only-of-type {\n",
       "        vertical-align: middle;\n",
       "    }\n",
       "\n",
       "    .dataframe tbody tr th {\n",
       "        vertical-align: top;\n",
       "    }\n",
       "\n",
       "    .dataframe thead th {\n",
       "        text-align: right;\n",
       "    }\n",
       "</style>\n",
       "<table border=\"1\" class=\"dataframe\">\n",
       "  <thead>\n",
       "    <tr style=\"text-align: right;\">\n",
       "      <th></th>\n",
       "      <th>_id</th>\n",
       "      <th>Deaths</th>\n",
       "    </tr>\n",
       "  </thead>\n",
       "  <tbody>\n",
       "    <tr>\n",
       "      <th>0</th>\n",
       "      <td>Philippines</td>\n",
       "      <td>1</td>\n",
       "    </tr>\n",
       "  </tbody>\n",
       "</table>\n",
       "</div>"
      ],
      "text/plain": [
       "           _id  Deaths\n",
       "0  Philippines       1"
      ]
     },
     "execution_count": 7,
     "metadata": {},
     "output_type": "execute_result"
    }
   ],
   "source": [
    "x = list(result)\n",
    "df = pd.DataFrame(x)\n",
    "df"
   ]
  },
  {
   "cell_type": "markdown",
   "metadata": {},
   "source": [
    "#### 3. ¿Cuál fue el país con el mayor número de casos?"
   ]
  },
  {
   "cell_type": "code",
   "execution_count": 8,
   "metadata": {},
   "outputs": [],
   "source": [
    "result = client['h1n1']['h1n1'].aggregate([\n",
    "    {\n",
    "        '$sort': {\n",
    "            'Update Time': -1\n",
    "        }\n",
    "    }, {\n",
    "        '$group': {\n",
    "            '_id': '$Country', \n",
    "            'latest': {\n",
    "                '$first': '$$ROOT'\n",
    "            }\n",
    "        }\n",
    "    }, {\n",
    "        '$match': {\n",
    "            '_id': {\n",
    "                '$not': {\n",
    "                    '$in': [\n",
    "                        'Grand Total'\n",
    "                    ]\n",
    "                }\n",
    "            }\n",
    "        }\n",
    "    }, {\n",
    "        '$addFields': {\n",
    "            'Casos': '$latest.Cases'\n",
    "        }\n",
    "    }, {\n",
    "        '$sort': {\n",
    "            'Casos': -1\n",
    "        }\n",
    "    }, {\n",
    "        '$limit': 1\n",
    "    }, {\n",
    "        '$project': {\n",
    "            '_id': 1, \n",
    "            'Casos': 1\n",
    "        }\n",
    "    }\n",
    "])"
   ]
  },
  {
   "cell_type": "code",
   "execution_count": 9,
   "metadata": {},
   "outputs": [
    {
     "data": {
      "text/html": [
       "<div>\n",
       "<style scoped>\n",
       "    .dataframe tbody tr th:only-of-type {\n",
       "        vertical-align: middle;\n",
       "    }\n",
       "\n",
       "    .dataframe tbody tr th {\n",
       "        vertical-align: top;\n",
       "    }\n",
       "\n",
       "    .dataframe thead th {\n",
       "        text-align: right;\n",
       "    }\n",
       "</style>\n",
       "<table border=\"1\" class=\"dataframe\">\n",
       "  <thead>\n",
       "    <tr style=\"text-align: right;\">\n",
       "      <th></th>\n",
       "      <th>_id</th>\n",
       "      <th>Casos</th>\n",
       "    </tr>\n",
       "  </thead>\n",
       "  <tbody>\n",
       "    <tr>\n",
       "      <th>0</th>\n",
       "      <td>United States of America</td>\n",
       "      <td>33902</td>\n",
       "    </tr>\n",
       "  </tbody>\n",
       "</table>\n",
       "</div>"
      ],
      "text/plain": [
       "                        _id  Casos\n",
       "0  United States of America  33902"
      ]
     },
     "execution_count": 9,
     "metadata": {},
     "output_type": "execute_result"
    }
   ],
   "source": [
    "x = list(result)\n",
    "df = pd.DataFrame(x)\n",
    "df"
   ]
  },
  {
   "cell_type": "markdown",
   "metadata": {},
   "source": [
    "#### 4. ¿Cuál fue el país con el menor número de casos?"
   ]
  },
  {
   "cell_type": "code",
   "execution_count": 10,
   "metadata": {},
   "outputs": [],
   "source": [
    "result = client['h1n1']['h1n1'].aggregate([\n",
    "    {\n",
    "        '$sort': {\n",
    "            'Update Time': -1\n",
    "        }\n",
    "    }, {\n",
    "        '$group': {\n",
    "            '_id': '$Country', \n",
    "            'latest': {\n",
    "                '$first': '$$ROOT'\n",
    "            }\n",
    "        }\n",
    "    }, {\n",
    "        '$match': {\n",
    "            '_id': {\n",
    "                '$not': {\n",
    "                    '$in': [\n",
    "                        'Grand Total'\n",
    "                    ]\n",
    "                }\n",
    "            }\n",
    "        }\n",
    "    }, {\n",
    "        '$addFields': {\n",
    "            'Casos': '$latest.Cases'\n",
    "        }\n",
    "    }, {\n",
    "        '$sort': {\n",
    "            'Casos': 1\n",
    "        }\n",
    "    }, {\n",
    "        '$match': {\n",
    "            'Casos': {\n",
    "                '$gte': 1\n",
    "            }\n",
    "        }\n",
    "    }, {\n",
    "        '$limit': 1\n",
    "    }, {\n",
    "        '$project': {\n",
    "            '_id': 1, \n",
    "            'Casos': 1\n",
    "        }\n",
    "    }\n",
    "])"
   ]
  },
  {
   "cell_type": "code",
   "execution_count": 11,
   "metadata": {},
   "outputs": [
    {
     "data": {
      "text/html": [
       "<div>\n",
       "<style scoped>\n",
       "    .dataframe tbody tr th:only-of-type {\n",
       "        vertical-align: middle;\n",
       "    }\n",
       "\n",
       "    .dataframe tbody tr th {\n",
       "        vertical-align: top;\n",
       "    }\n",
       "\n",
       "    .dataframe thead th {\n",
       "        text-align: right;\n",
       "    }\n",
       "</style>\n",
       "<table border=\"1\" class=\"dataframe\">\n",
       "  <thead>\n",
       "    <tr style=\"text-align: right;\">\n",
       "      <th></th>\n",
       "      <th>_id</th>\n",
       "      <th>Casos</th>\n",
       "    </tr>\n",
       "  </thead>\n",
       "  <tbody>\n",
       "    <tr>\n",
       "      <th>0</th>\n",
       "      <td>Cook Island</td>\n",
       "      <td>1</td>\n",
       "    </tr>\n",
       "  </tbody>\n",
       "</table>\n",
       "</div>"
      ],
      "text/plain": [
       "           _id  Casos\n",
       "0  Cook Island      1"
      ]
     },
     "execution_count": 11,
     "metadata": {},
     "output_type": "execute_result"
    }
   ],
   "source": [
    "x = list(result)\n",
    "df = pd.DataFrame(x)\n",
    "df"
   ]
  },
  {
   "cell_type": "markdown",
   "metadata": {},
   "source": [
    "#### 5. ¿Cuál fue el número de muertes promedio? (Por pais)"
   ]
  },
  {
   "cell_type": "code",
   "execution_count": 14,
   "metadata": {},
   "outputs": [],
   "source": [
    "result = client['h1n1']['h1n1'].aggregate([\n",
    "    {\n",
    "        '$sort': {\n",
    "            'Update Time': -1\n",
    "        }\n",
    "    }, {\n",
    "        '$group': {\n",
    "            '_id': '$Country', \n",
    "            'latest': {\n",
    "                '$first': '$$ROOT'\n",
    "            }\n",
    "        }\n",
    "    }, {\n",
    "        '$match': {\n",
    "            '_id': {\n",
    "                '$not': {\n",
    "                    '$in': [\n",
    "                        'Grand Total'\n",
    "                    ]\n",
    "                }\n",
    "            }\n",
    "        }\n",
    "    }, {\n",
    "        '$group': {\n",
    "            '_id': None, \n",
    "            'promedioMuertes': {\n",
    "                '$avg': '$latest.Deaths'\n",
    "            }\n",
    "        }\n",
    "    }, {\n",
    "        '$project': {\n",
    "            '_id': 0, \n",
    "            'promedioMuertes': 1\n",
    "        }\n",
    "    }\n",
    "])"
   ]
  },
  {
   "cell_type": "code",
   "execution_count": 15,
   "metadata": {},
   "outputs": [
    {
     "data": {
      "text/html": [
       "<div>\n",
       "<style scoped>\n",
       "    .dataframe tbody tr th:only-of-type {\n",
       "        vertical-align: middle;\n",
       "    }\n",
       "\n",
       "    .dataframe tbody tr th {\n",
       "        vertical-align: top;\n",
       "    }\n",
       "\n",
       "    .dataframe thead th {\n",
       "        text-align: right;\n",
       "    }\n",
       "</style>\n",
       "<table border=\"1\" class=\"dataframe\">\n",
       "  <thead>\n",
       "    <tr style=\"text-align: right;\">\n",
       "      <th></th>\n",
       "      <th>promedioMuertes</th>\n",
       "    </tr>\n",
       "  </thead>\n",
       "  <tbody>\n",
       "    <tr>\n",
       "      <th>0</th>\n",
       "      <td>3.194631</td>\n",
       "    </tr>\n",
       "  </tbody>\n",
       "</table>\n",
       "</div>"
      ],
      "text/plain": [
       "   promedioMuertes\n",
       "0         3.194631"
      ]
     },
     "execution_count": 15,
     "metadata": {},
     "output_type": "execute_result"
    }
   ],
   "source": [
    "x = list(result)\n",
    "df = pd.DataFrame(x)\n",
    "df"
   ]
  },
  {
   "cell_type": "markdown",
   "metadata": {},
   "source": [
    "#### 6. ¿Cuál fue el número de casos promedio? (Por pais)"
   ]
  },
  {
   "cell_type": "code",
   "execution_count": 17,
   "metadata": {},
   "outputs": [],
   "source": [
    "result = client['h1n1']['h1n1'].aggregate([\n",
    "    {\n",
    "        '$sort': {\n",
    "            'Update Time': -1\n",
    "        }\n",
    "    }, {\n",
    "        '$group': {\n",
    "            '_id': '$Country', \n",
    "            'latest': {\n",
    "                '$first': '$$ROOT'\n",
    "            }\n",
    "        }\n",
    "    }, {\n",
    "        '$match': {\n",
    "            '_id': {\n",
    "                '$not': {\n",
    "                    '$in': [\n",
    "                        'Grand Total'\n",
    "                    ]\n",
    "                }\n",
    "            }\n",
    "        }\n",
    "    }, {\n",
    "        '$group': {\n",
    "            '_id': None, \n",
    "            'promedioCasos': {\n",
    "                '$avg': '$latest.Cases'\n",
    "            }\n",
    "        }\n",
    "    }, {\n",
    "        '$project': {\n",
    "            '_id': 0, \n",
    "            'promedioCasos': 1\n",
    "        }\n",
    "    }\n",
    "])"
   ]
  },
  {
   "cell_type": "code",
   "execution_count": 18,
   "metadata": {},
   "outputs": [
    {
     "data": {
      "text/html": [
       "<div>\n",
       "<style scoped>\n",
       "    .dataframe tbody tr th:only-of-type {\n",
       "        vertical-align: middle;\n",
       "    }\n",
       "\n",
       "    .dataframe tbody tr th {\n",
       "        vertical-align: top;\n",
       "    }\n",
       "\n",
       "    .dataframe thead th {\n",
       "        text-align: right;\n",
       "    }\n",
       "</style>\n",
       "<table border=\"1\" class=\"dataframe\">\n",
       "  <thead>\n",
       "    <tr style=\"text-align: right;\">\n",
       "      <th></th>\n",
       "      <th>promedioCasos</th>\n",
       "    </tr>\n",
       "  </thead>\n",
       "  <tbody>\n",
       "    <tr>\n",
       "      <th>0</th>\n",
       "      <td>756.281879</td>\n",
       "    </tr>\n",
       "  </tbody>\n",
       "</table>\n",
       "</div>"
      ],
      "text/plain": [
       "   promedioCasos\n",
       "0     756.281879"
      ]
     },
     "execution_count": 18,
     "metadata": {},
     "output_type": "execute_result"
    }
   ],
   "source": [
    "x = list(result)\n",
    "df = pd.DataFrame(x)\n",
    "df"
   ]
  },
  {
   "cell_type": "markdown",
   "metadata": {},
   "source": [
    "#### 7. Top 5 de países con más muertes"
   ]
  },
  {
   "cell_type": "code",
   "execution_count": 21,
   "metadata": {},
   "outputs": [],
   "source": [
    "result = client['h1n1']['h1n1'].aggregate([\n",
    "    {\n",
    "        '$sort': {\n",
    "            'Update Time': -1\n",
    "        }\n",
    "    }, {\n",
    "        '$group': {\n",
    "            '_id': '$Country', \n",
    "            'latest': {\n",
    "                '$first': '$$ROOT'\n",
    "            }\n",
    "        }\n",
    "    }, {\n",
    "        '$match': {\n",
    "            '_id': {\n",
    "                '$not': {\n",
    "                    '$in': [\n",
    "                        'Grand Total'\n",
    "                    ]\n",
    "                }\n",
    "            }\n",
    "        }\n",
    "    }, {\n",
    "        '$addFields': {\n",
    "            'Muertes': '$latest.Deaths'\n",
    "        }\n",
    "    }, {\n",
    "        '$sort': {\n",
    "            'Muertes': -1\n",
    "        }\n",
    "    }, {\n",
    "        '$limit': 5\n",
    "    }, {\n",
    "        '$project': {\n",
    "            '_id': 1, \n",
    "            'Muertes': 1\n",
    "        }\n",
    "    }\n",
    "])"
   ]
  },
  {
   "cell_type": "code",
   "execution_count": 22,
   "metadata": {},
   "outputs": [
    {
     "data": {
      "text/html": [
       "<div>\n",
       "<style scoped>\n",
       "    .dataframe tbody tr th:only-of-type {\n",
       "        vertical-align: middle;\n",
       "    }\n",
       "\n",
       "    .dataframe tbody tr th {\n",
       "        vertical-align: top;\n",
       "    }\n",
       "\n",
       "    .dataframe thead th {\n",
       "        text-align: right;\n",
       "    }\n",
       "</style>\n",
       "<table border=\"1\" class=\"dataframe\">\n",
       "  <thead>\n",
       "    <tr style=\"text-align: right;\">\n",
       "      <th></th>\n",
       "      <th>_id</th>\n",
       "      <th>Muertes</th>\n",
       "    </tr>\n",
       "  </thead>\n",
       "  <tbody>\n",
       "    <tr>\n",
       "      <th>0</th>\n",
       "      <td>United States of America</td>\n",
       "      <td>170</td>\n",
       "    </tr>\n",
       "    <tr>\n",
       "      <th>1</th>\n",
       "      <td>Mexico</td>\n",
       "      <td>119</td>\n",
       "    </tr>\n",
       "    <tr>\n",
       "      <th>2</th>\n",
       "      <td>Argentina</td>\n",
       "      <td>60</td>\n",
       "    </tr>\n",
       "    <tr>\n",
       "      <th>3</th>\n",
       "      <td>United States of America*</td>\n",
       "      <td>44</td>\n",
       "    </tr>\n",
       "    <tr>\n",
       "      <th>4</th>\n",
       "      <td>Canada</td>\n",
       "      <td>25</td>\n",
       "    </tr>\n",
       "  </tbody>\n",
       "</table>\n",
       "</div>"
      ],
      "text/plain": [
       "                         _id  Muertes\n",
       "0   United States of America      170\n",
       "1                     Mexico      119\n",
       "2                  Argentina       60\n",
       "3  United States of America*       44\n",
       "4                     Canada       25"
      ]
     },
     "execution_count": 22,
     "metadata": {},
     "output_type": "execute_result"
    }
   ],
   "source": [
    "x = list(result)\n",
    "df = pd.DataFrame(x)\n",
    "df"
   ]
  },
  {
   "cell_type": "markdown",
   "metadata": {},
   "source": [
    "#### 8. Top 5 de países con menos muertes (Excluyendo los que no tuvieron muertes)"
   ]
  },
  {
   "cell_type": "code",
   "execution_count": 23,
   "metadata": {},
   "outputs": [],
   "source": [
    "result = client['h1n1']['h1n1'].aggregate([\n",
    "    {\n",
    "        '$sort': {\n",
    "            'Update Time': -1\n",
    "        }\n",
    "    }, {\n",
    "        '$group': {\n",
    "            '_id': '$Country', \n",
    "            'latest': {\n",
    "                '$first': '$$ROOT'\n",
    "            }\n",
    "        }\n",
    "    }, {\n",
    "        '$match': {\n",
    "            '_id': {\n",
    "                '$not': {\n",
    "                    '$in': [\n",
    "                        'Grand Total'\n",
    "                    ]\n",
    "                }\n",
    "            }\n",
    "        }\n",
    "    }, {\n",
    "        '$addFields': {\n",
    "            'Muertes': '$latest.Deaths'\n",
    "        }\n",
    "    }, {\n",
    "        '$sort': {\n",
    "            'Muertes': 1\n",
    "        }\n",
    "    }, {\n",
    "        '$match': {\n",
    "            'Muertes': {\n",
    "                '$gte': 1\n",
    "            }\n",
    "        }\n",
    "    }, {\n",
    "        '$limit': 5\n",
    "    }, {\n",
    "        '$project': {\n",
    "            '_id': 1, \n",
    "            'Muertes': 1\n",
    "        }\n",
    "    }\n",
    "])"
   ]
  },
  {
   "cell_type": "code",
   "execution_count": 24,
   "metadata": {},
   "outputs": [
    {
     "data": {
      "text/html": [
       "<div>\n",
       "<style scoped>\n",
       "    .dataframe tbody tr th:only-of-type {\n",
       "        vertical-align: middle;\n",
       "    }\n",
       "\n",
       "    .dataframe tbody tr th {\n",
       "        vertical-align: top;\n",
       "    }\n",
       "\n",
       "    .dataframe thead th {\n",
       "        text-align: right;\n",
       "    }\n",
       "</style>\n",
       "<table border=\"1\" class=\"dataframe\">\n",
       "  <thead>\n",
       "    <tr style=\"text-align: right;\">\n",
       "      <th></th>\n",
       "      <th>_id</th>\n",
       "      <th>Muertes</th>\n",
       "    </tr>\n",
       "  </thead>\n",
       "  <tbody>\n",
       "    <tr>\n",
       "      <th>0</th>\n",
       "      <td>Guatemala</td>\n",
       "      <td>1</td>\n",
       "    </tr>\n",
       "    <tr>\n",
       "      <th>1</th>\n",
       "      <td>Honduras</td>\n",
       "      <td>1</td>\n",
       "    </tr>\n",
       "    <tr>\n",
       "      <th>2</th>\n",
       "      <td>Spain</td>\n",
       "      <td>1</td>\n",
       "    </tr>\n",
       "    <tr>\n",
       "      <th>3</th>\n",
       "      <td>Paraguay</td>\n",
       "      <td>1</td>\n",
       "    </tr>\n",
       "    <tr>\n",
       "      <th>4</th>\n",
       "      <td>Philippines</td>\n",
       "      <td>1</td>\n",
       "    </tr>\n",
       "  </tbody>\n",
       "</table>\n",
       "</div>"
      ],
      "text/plain": [
       "           _id  Muertes\n",
       "0    Guatemala        1\n",
       "1     Honduras        1\n",
       "2        Spain        1\n",
       "3     Paraguay        1\n",
       "4  Philippines        1"
      ]
     },
     "execution_count": 24,
     "metadata": {},
     "output_type": "execute_result"
    }
   ],
   "source": [
    "x = list(result)\n",
    "df = pd.DataFrame(x)\n",
    "df"
   ]
  }
 ],
 "metadata": {
  "kernelspec": {
   "display_name": "Python 3",
   "language": "python",
   "name": "python3"
  },
  "language_info": {
   "codemirror_mode": {
    "name": "ipython",
    "version": 3
   },
   "file_extension": ".py",
   "mimetype": "text/x-python",
   "name": "python",
   "nbconvert_exporter": "python",
   "pygments_lexer": "ipython3",
   "version": "3.8.3"
  }
 },
 "nbformat": 4,
 "nbformat_minor": 4
}
