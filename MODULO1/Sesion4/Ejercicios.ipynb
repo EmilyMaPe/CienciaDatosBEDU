{
 "cells": [
  {
   "cell_type": "code",
   "execution_count": 8,
   "metadata": {},
   "outputs": [],
   "source": [
    "import pymongo\n",
    "import re\n",
    "client = pymongo.MongoClient(f\"mongodb://{user}:{password}@{proyecto}-shard-00-00.mmsfi.mongodb.net:27017,{proyecto}-shard-00-01.mmsfi.mongodb.net:27017,{proyecto}-shard-00-02.mmsfi.mongodb.net:27017/test?ssl=true&replicaSet=atlas-11i31k-shard-0&authSource=admin&retryWrites=true&w=majority\")\n",
    "db = client.test"
   ]
  },
  {
   "cell_type": "markdown",
   "metadata": {},
   "source": [
    "# Ejercicios Sesión 4\n",
    "\n",
    "Las consultas se realizarán sobre la base sample_training."
   ]
  },
  {
   "cell_type": "markdown",
   "metadata": {},
   "source": [
    "#### 1. Obtén los datos de contacto de cada compañía."
   ]
  },
  {
   "cell_type": "code",
   "execution_count": 4,
   "metadata": {},
   "outputs": [],
   "source": [
    "filter={}\n",
    "project={\n",
    "    'name': 1, \n",
    "    'email_address': 1, \n",
    "    'phone_number': 1, \n",
    "    'crunchbase_url': 1, \n",
    "    '_id': 0\n",
    "}\n",
    "\n",
    "result = client['sample_training']['companies'].find(\n",
    "  filter=filter,\n",
    "  projection=project\n",
    ")"
   ]
  },
  {
   "cell_type": "code",
   "execution_count": 5,
   "metadata": {},
   "outputs": [
    {
     "name": "stdout",
     "output_type": "stream",
     "text": [
      "name:  Cisco\n",
      "email_address:  \n",
      "phone_number:  (408) 526-4000\n",
      "crunchbase_url:  http://www.crunchbase.com/company/cisco\n",
      "\n",
      "name:  Twitter\n",
      "email_address:  press@twitter.com\n",
      "phone_number:  \n",
      "crunchbase_url:  http://www.crunchbase.com/company/twitter\n",
      "\n",
      "name:  StumbleUpon\n",
      "email_address:  \n",
      "phone_number:  \n",
      "crunchbase_url:  http://www.crunchbase.com/company/stumbleupon\n",
      "\n",
      "name:  Scribd\n",
      "email_address:  feedback@scribd.com\n",
      "phone_number:  \n",
      "crunchbase_url:  http://www.crunchbase.com/company/scribd\n",
      "\n",
      "name:  Facebook\n",
      "email_address:  \n",
      "phone_number:  \n",
      "crunchbase_url:  http://www.crunchbase.com/company/facebook\n",
      "\n",
      "name:  Omnidrive\n",
      "email_address:  info@omnidrive.com\n",
      "phone_number:  660-675-5052\n",
      "crunchbase_url:  http://www.crunchbase.com/company/omnidrive\n",
      "\n"
     ]
    }
   ],
   "source": [
    "i= 0\n",
    "for x in result:\n",
    "    print('name: ', x['name'])\n",
    "    print('email_address: ', x['email_address'])\n",
    "    print('phone_number: ', x['phone_number'])\n",
    "    print('crunchbase_url: ', x['crunchbase_url'])\n",
    "    print()\n",
    "    i+=1\n",
    "    if i > 5:\n",
    "        break"
   ]
  },
  {
   "cell_type": "markdown",
   "metadata": {},
   "source": [
    "#### 2. Obtén la fuente de cada tweet."
   ]
  },
  {
   "cell_type": "code",
   "execution_count": 6,
   "metadata": {},
   "outputs": [],
   "source": [
    "filter={}\n",
    "project={\n",
    "    'title': 1, \n",
    "    'author': 1, \n",
    "    '_id': 0\n",
    "}\n",
    "\n",
    "result = client['sample_training']['posts'].find(\n",
    "  filter=filter,\n",
    "  projection=project\n",
    ")"
   ]
  },
  {
   "cell_type": "code",
   "execution_count": 7,
   "metadata": {},
   "outputs": [
    {
     "name": "stdout",
     "output_type": "stream",
     "text": [
      "title:  US Constitution\n",
      "author:  machine\n",
      "\n",
      "title:  US Constitution\n",
      "author:  machine\n",
      "\n",
      "title:  Bill of Rights\n",
      "author:  machine\n",
      "\n",
      "title:  US Constitution\n",
      "author:  machine\n",
      "\n",
      "title:  US Constitution\n",
      "author:  machine\n",
      "\n",
      "title:  Gettysburg Address\n",
      "author:  machine\n",
      "\n"
     ]
    }
   ],
   "source": [
    "i= 0\n",
    "for x in result:\n",
    "    print('title: ', x['title'])\n",
    "    print('author: ', x['author'])\n",
    "    print()\n",
    "    i+=1\n",
    "    if i > 5:\n",
    "        break"
   ]
  },
  {
   "cell_type": "markdown",
   "metadata": {},
   "source": [
    "#### 3. Obtén el nombre de todas las compañias fundadas en octubre."
   ]
  },
  {
   "cell_type": "code",
   "execution_count": 20,
   "metadata": {},
   "outputs": [],
   "source": [
    "filter={\n",
    "    'created_at': re.compile(r\"oct(?i)\")\n",
    "}\n",
    "project={\n",
    "    'name': 1, \n",
    "    'created_at': 1, \n",
    "    '_id': 0\n",
    "}\n",
    "\n",
    "result = client['sample_training']['companies'].find(\n",
    "  filter=filter,\n",
    "  projection=project\n",
    ")"
   ]
  },
  {
   "cell_type": "code",
   "execution_count": 21,
   "metadata": {},
   "outputs": [
    {
     "name": "stdout",
     "output_type": "stream",
     "text": [
      "name:  earthmine\n",
      "created_at:  Wed Oct 03 15:22:40 UTC 2007\n",
      "\n",
      "name:  XLNTads\n",
      "created_at:  Thu Oct 25 07:37:50 UTC 2007\n",
      "\n",
      "name:  All-Scrap\n",
      "created_at:  Thu Oct 25 08:47:03 UTC 2007\n",
      "\n",
      "name:  JibJab\n",
      "created_at:  Thu Oct 04 12:18:53 UTC 2007\n",
      "\n",
      "name:  VoodooVox\n",
      "created_at:  Tue Oct 09 12:05:20 UTC 2007\n",
      "\n",
      "name:  BitGravity\n",
      "created_at:  Mon Oct 29 09:45:52 UTC 2007\n",
      "\n"
     ]
    }
   ],
   "source": [
    "i= 0\n",
    "for x in result:\n",
    "    print('name: ', x['name'])\n",
    "    print('created_at: ', x['created_at'])\n",
    "    print()\n",
    "    i+=1\n",
    "    if i > 5:\n",
    "        break"
   ]
  },
  {
   "cell_type": "markdown",
   "metadata": {},
   "source": [
    "#### 4. Obtén el nombre de todas las compañías fundadas en 2008."
   ]
  },
  {
   "cell_type": "code",
   "execution_count": 22,
   "metadata": {},
   "outputs": [],
   "source": [
    "filter={\n",
    "    'created_at': re.compile(r\"2008\")\n",
    "}\n",
    "project={\n",
    "    'name': 1, \n",
    "    'created_at': 1, \n",
    "    '_id': 0\n",
    "}\n",
    "\n",
    "result = client['sample_training']['companies'].find(\n",
    "  filter=filter,\n",
    "  projection=project\n",
    ")"
   ]
  },
  {
   "cell_type": "code",
   "execution_count": 23,
   "metadata": {},
   "outputs": [
    {
     "name": "stdout",
     "output_type": "stream",
     "text": [
      "name:  AdaptiveBlue\n",
      "created_at:  Tue Feb 05 22:28:14 UTC 2008\n",
      "\n",
      "name:  Intel\n",
      "created_at:  Tue Feb 05 22:28:14 UTC 2008\n",
      "\n",
      "name:  Clipperz\n",
      "created_at:  Tue Feb 05 22:28:19 UTC 2008\n",
      "\n",
      "name:  coRank\n",
      "created_at:  Tue Feb 05 22:28:16 UTC 2008\n",
      "\n",
      "name:  LiveHire\n",
      "created_at:  Tue Jan 01 05:16:41 UTC 2008\n",
      "\n",
      "name:  Cofoundr\n",
      "created_at:  Tue Feb 05 22:28:18 UTC 2008\n",
      "\n"
     ]
    }
   ],
   "source": [
    "i= 0\n",
    "for x in result:\n",
    "    print('name: ', x['name'])\n",
    "    print('created_at: ', x['created_at'])\n",
    "    print()\n",
    "    i+=1\n",
    "    if i > 5:\n",
    "        break"
   ]
  },
  {
   "cell_type": "markdown",
   "metadata": {},
   "source": [
    "#### 5. Obtén todos los post del autor machine."
   ]
  },
  {
   "cell_type": "code",
   "execution_count": 24,
   "metadata": {},
   "outputs": [],
   "source": [
    "filter={\n",
    "    'author': 'machine'\n",
    "}\n",
    "project={\n",
    "    'title': 1, \n",
    "    'author': 1, \n",
    "    '_id': 0\n",
    "}\n",
    "\n",
    "result = client['sample_training']['posts'].find(\n",
    "  filter=filter,\n",
    "  projection=project\n",
    ")"
   ]
  },
  {
   "cell_type": "code",
   "execution_count": 25,
   "metadata": {},
   "outputs": [
    {
     "name": "stdout",
     "output_type": "stream",
     "text": [
      "title:  US Constitution\n",
      "author:  machine\n",
      "\n",
      "title:  US Constitution\n",
      "author:  machine\n",
      "\n",
      "title:  Bill of Rights\n",
      "author:  machine\n",
      "\n",
      "title:  US Constitution\n",
      "author:  machine\n",
      "\n",
      "title:  US Constitution\n",
      "author:  machine\n",
      "\n",
      "title:  Gettysburg Address\n",
      "author:  machine\n",
      "\n"
     ]
    }
   ],
   "source": [
    "i= 0\n",
    "for x in result:\n",
    "    print('title: ', x['title'])\n",
    "    print('author: ', x['author'])\n",
    "    print()\n",
    "    i+=1\n",
    "    if i > 5:\n",
    "        break"
   ]
  },
  {
   "cell_type": "markdown",
   "metadata": {},
   "source": [
    "#### 6. Obtén todas las compañías fundadas en octubre del 2008."
   ]
  },
  {
   "cell_type": "code",
   "execution_count": 29,
   "metadata": {},
   "outputs": [],
   "source": [
    "filter={\n",
    "    'created_at': re.compile(r\"OCT.*2008(?i)\")\n",
    "}\n",
    "project={\n",
    "    '_id': 0, \n",
    "    'name': 1, \n",
    "    'created_at': 1\n",
    "}\n",
    "\n",
    "result = client['sample_training']['companies'].find(\n",
    "  filter=filter,\n",
    "  projection=project\n",
    ")"
   ]
  },
  {
   "cell_type": "code",
   "execution_count": 30,
   "metadata": {},
   "outputs": [
    {
     "name": "stdout",
     "output_type": "stream",
     "text": [
      "name:  FanPrice\n",
      "created_at:  Wed Oct 01 22:17:06 UTC 2008\n",
      "\n",
      "name:  payByMobile\n",
      "created_at:  Thu Oct 02 16:55:31 UTC 2008\n",
      "\n",
      "name:  Musicreview\n",
      "created_at:  Fri Oct 03 19:19:05 UTC 2008\n",
      "\n",
      "name:  RedTail Solutions\n",
      "created_at:  Sat Oct 04 03:55:19 UTC 2008\n",
      "\n",
      "name:  Reuters Real Estate\n",
      "created_at:  Mon Oct 06 16:59:44 UTC 2008\n",
      "\n",
      "name:  Fusion Creative Studios\n",
      "created_at:  Tue Oct 07 20:20:16 UTC 2008\n",
      "\n"
     ]
    }
   ],
   "source": [
    "i= 0\n",
    "for x in result:\n",
    "    print('name: ', x['name'])\n",
    "    print('created_at: ', x['created_at'])\n",
    "    print()\n",
    "    i+=1\n",
    "    if i > 5:\n",
    "        break"
   ]
  }
 ],
 "metadata": {
  "kernelspec": {
   "display_name": "Python 3",
   "language": "python",
   "name": "python3"
  },
  "language_info": {
   "codemirror_mode": {
    "name": "ipython",
    "version": 3
   },
   "file_extension": ".py",
   "mimetype": "text/x-python",
   "name": "python",
   "nbconvert_exporter": "python",
   "pygments_lexer": "ipython3",
   "version": "3.8.3"
  }
 },
 "nbformat": 4,
 "nbformat_minor": 4
}
