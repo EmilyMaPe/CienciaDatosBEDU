{
 "cells": [
  {
   "cell_type": "markdown",
   "metadata": {},
   "source": [
    "# Fundamentos de MongoDB"
   ]
  },
  {
   "cell_type": "code",
   "execution_count": 2,
   "metadata": {},
   "outputs": [],
   "source": [
    "import pymongo\n",
    "client = pymongo.MongoClient(f\"mongodb://{user}:{password}@{proyecto}-shard-00-00.mmsfi.mongodb.net:27017,{proyecto}-shard-00-01.mmsfi.mongodb.net:27017,{proyecto}-shard-00-02.mmsfi.mongodb.net:27017/test?ssl=true&replicaSet=atlas-11i31k-shard-0&authSource=admin&retryWrites=true&w=majority\")\n",
    "db = client.test"
   ]
  },
  {
   "cell_type": "markdown",
   "metadata": {},
   "source": [
    "### Reto 1: Colecciones, Documentos y Proyecciones\n",
    "\n",
    "Usando la base de datos sample_mflix, proyecta los datos que se solicitan.\n",
    "#### 1. Fecha, nombre y texto de cada comentario."
   ]
  },
  {
   "cell_type": "code",
   "execution_count": 3,
   "metadata": {},
   "outputs": [],
   "source": [
    "filter={}\n",
    "project={\n",
    "    '_id': 0, \n",
    "    'date': 1, \n",
    "    'name': 1, \n",
    "    'text': 1\n",
    "}\n",
    "\n",
    "result = client['sample_mflix']['comments'].find(\n",
    "  filter=filter,\n",
    "  projection=project\n",
    ")\n"
   ]
  },
  {
   "cell_type": "code",
   "execution_count": 4,
   "metadata": {},
   "outputs": [
    {
     "name": "stdout",
     "output_type": "stream",
     "text": [
      "date:  1994-02-18 18:52:31\n",
      "name:  Jorah Mormont\n",
      "text:  Minus sequi incidunt cum magnam. Quam voluptatum vitae ab voluptatum cum. Autem perferendis nisi nulla dolores aut recusandae.\n",
      "\n",
      "date:  2005-09-18 01:30:56\n",
      "name:  Sarah Lewis\n",
      "text:  Ab consequatur numquam sed eligendi ex unde. Dolorem illum minima numquam dicta ipsa magnam nostrum. Possimus sed inventore cum non.\n",
      "\n",
      "date:  2010-01-11 17:08:26\n",
      "name:  Hodor\n",
      "text:  Harum necessitatibus rerum ab voluptatem nulla at reiciendis recusandae. Quas ullam similique atque sit. A voluptates labore nam illum dolorem qui.\n",
      "\n",
      "date:  1991-03-14 23:45:09\n",
      "name:  Olly\n",
      "text:  Doloremque corporis eaque illum nihil. Veritatis tenetur quo vitae ipsa nihil facere dolorum esse. Minima inventore ullam laudantium vitae a nesciunt. Architecto laborum eveniet quam.\n",
      "\n",
      "date:  2004-03-02 02:25:24\n",
      "name:  Taylor Hill\n",
      "text:  Fuga voluptates veniam qui aliquid ipsum. Blanditiis saepe est autem natus. Fugit corrupti soluta dolores ea ipsum ipsam repudiandae. Iste ipsum ipsam autem ducimus.\n",
      "\n",
      "date:  2007-07-08 15:20:11\n",
      "name:  Stannis Baratheon\n",
      "text:  Saepe cupiditate eius dicta totam culpa consectetur. Libero dolorem assumenda magnam non repudiandae quis aspernatur.\n",
      "\n"
     ]
    }
   ],
   "source": [
    "i= 0\n",
    "for x in result:\n",
    "    print('date: ', x['date'])\n",
    "    print('name: ', x['name'])\n",
    "    print('text: ', x['text'])\n",
    "    print()\n",
    "    i+=1\n",
    "    if i > 5:\n",
    "        break"
   ]
  },
  {
   "cell_type": "markdown",
   "metadata": {},
   "source": [
    "#### 2. Título, elenco y año de cada película."
   ]
  },
  {
   "cell_type": "code",
   "execution_count": 5,
   "metadata": {},
   "outputs": [],
   "source": [
    "filter={}\n",
    "project={\n",
    "    'title': 1, \n",
    "    'cast': 1, \n",
    "    'year': 1, \n",
    "    '_id': 0\n",
    "}\n",
    "\n",
    "result = client['sample_mflix']['movies'].find(\n",
    "  filter=filter,\n",
    "  projection=project\n",
    ")"
   ]
  },
  {
   "cell_type": "code",
   "execution_count": 6,
   "metadata": {},
   "outputs": [
    {
     "name": "stdout",
     "output_type": "stream",
     "text": [
      "title:  The Blue Bird\n",
      "cast:  ['Tula Belle', 'Robin Macdougall', 'Edwin E. Reed', 'Emma Lowry']\n",
      "year:  1918\n",
      "\n",
      "title:  The Kid\n",
      "cast:  ['Carl Miller', 'Edna Purviance', 'Jackie Coogan', 'Charles Chaplin']\n",
      "year:  1921\n",
      "\n",
      "title:  Nanook of the North\n",
      "cast:  ['Allakariallak', 'Nyla', 'Allee', 'Cunayou']\n",
      "year:  1922\n",
      "\n",
      "title:  The Chechahcos\n",
      "cast:  ['William Dills', 'Albert Van Antwerp', 'Eva Gordon', 'Baby Margie']\n",
      "year:  1923\n",
      "\n",
      "title:  The Lost World\n",
      "cast:  ['Bessie Love', 'Lewis Stone', 'Wallace Beery', 'Lloyd Hughes']\n",
      "year:  1925\n",
      "\n",
      "title:  The Phantom of the Opera\n",
      "cast:  ['Lon Chaney', 'Mary Philbin', 'Norman Kerry', 'Arthur Edmund Carewe']\n",
      "year:  1925\n",
      "\n"
     ]
    }
   ],
   "source": [
    "i= 0\n",
    "for x in result:\n",
    "    print('title: ', x['title'])\n",
    "    print('cast: ', x['cast'])\n",
    "    print('year: ', x['year'])\n",
    "    print()\n",
    "    i+=1\n",
    "    if i > 5:\n",
    "        break"
   ]
  },
  {
   "cell_type": "markdown",
   "metadata": {},
   "source": [
    "#### 3. Nombre y contraseña de cada usuario."
   ]
  },
  {
   "cell_type": "code",
   "execution_count": 7,
   "metadata": {},
   "outputs": [],
   "source": [
    "filter={}\n",
    "project={\n",
    "    'name': 1, \n",
    "    'password': 1, \n",
    "    '_id': 0\n",
    "}\n",
    "\n",
    "result = client['sample_mflix']['users'].find(\n",
    "  filter=filter,\n",
    "  projection=project\n",
    ")"
   ]
  },
  {
   "cell_type": "code",
   "execution_count": 8,
   "metadata": {},
   "outputs": [
    {
     "name": "stdout",
     "output_type": "stream",
     "text": [
      "name:  Gilly\n",
      "password:  $2b$12$s6/CDf3HFLl3sYNVdOs8sOvdR7HOeQln/ByVQwDGRyTOH5S6qlI7m\n",
      "\n",
      "name:  Jaqen H'ghar\n",
      "password:  $2b$12$sgxhWIzY6UiWvWFRMslCDusielBdf8tpNHraxHAS3c9QNwcCHdHJq\n",
      "\n",
      "name:  Sarah Lewis\n",
      "password:  $2b$12$5kCUjcP3lvYSzhouVJTpOeCZ7e7Xke8gDoPPg2Uyz39tNKrp9om1a\n",
      "\n",
      "name:  Javier Smith\n",
      "password:  $2b$12$ce2znqUW43.BjKQaTS5tiekhqZuCLQHOguozLkVm4P.WM8VlrEhPe\n",
      "\n",
      "name:  Megan Turner\n",
      "password:  $2b$12$nR8x.s7PmEQttaF7RS33euSLEZzuu0G2UhSK.PeHJEZEjcK.J3Xq6\n",
      "\n",
      "name:  Brenda Martin\n",
      "password:  $2b$12$H.QWgwnd5SwchVniifWfS.BmBefv6FhBBKqjcDlI20ZdqgFvIy3F2\n",
      "\n"
     ]
    }
   ],
   "source": [
    "i= 0\n",
    "for x in result:\n",
    "    print('name: ', x['name'])\n",
    "    print('password: ', x['password'])\n",
    "    print()\n",
    "    i+=1\n",
    "    if i > 5:\n",
    "        break"
   ]
  },
  {
   "cell_type": "markdown",
   "metadata": {},
   "source": [
    "### Reto 2: Filtros básicos\n",
    "\n",
    "Usando la base de datos sample_mflix, agrega proyeccciones, filtros, ordenamientos y límites que permitan contestar las siguientes preguntas.\n",
    "\n",
    "#### 1. ¿Qué comentarios ha hecho Greg Powell?"
   ]
  },
  {
   "cell_type": "code",
   "execution_count": 9,
   "metadata": {},
   "outputs": [],
   "source": [
    "filter={\n",
    "    'name': 'Greg Powell'\n",
    "}\n",
    "project={\n",
    "    'name': 1, \n",
    "    'text': 1, \n",
    "    '_id': 0\n",
    "}\n",
    "\n",
    "result = client['sample_mflix']['comments'].find(\n",
    "  filter=filter,\n",
    "  projection=project\n",
    ")"
   ]
  },
  {
   "cell_type": "code",
   "execution_count": 10,
   "metadata": {},
   "outputs": [
    {
     "name": "stdout",
     "output_type": "stream",
     "text": [
      "name:  Greg Powell\n",
      "text:  Tenetur dolorum molestiae ea. Eligendi praesentium unde quod porro. Commodi nisi sit placeat rerum vero cupiditate neque. Dolorum nihil vero animi.\n",
      "\n",
      "name:  Greg Powell\n",
      "text:  Officia atque ullam esse doloribus laborum. Maiores dicta ratione rem reiciendis.\n",
      "\n",
      "name:  Greg Powell\n",
      "text:  Necessitatibus consequatur occaecati nisi. Maiores fugiat minus molestiae delectus officia occaecati facilis. Dolor vel illum eius harum id.\n",
      "\n",
      "name:  Greg Powell\n",
      "text:  Quo fugiat iure dolor nam dignissimos architecto eum. Amet molestias sint voluptatum animi. Debitis molestiae iusto maxime.\n",
      "\n",
      "name:  Greg Powell\n",
      "text:  Facilis ut eius aliquid eaque dolore. Ut ea eos nesciunt ex sed quia. Ad reiciendis temporibus distinctio temporibus provident eveniet.\n",
      "\n",
      "name:  Greg Powell\n",
      "text:  Rem nostrum nobis saepe eaque itaque nemo. Fugit dignissimos nisi sapiente cumque perferendis temporibus eligendi. Molestias eos at repudiandae voluptate perferendis est natus.\n",
      "\n"
     ]
    }
   ],
   "source": [
    "i= 0\n",
    "for x in result:\n",
    "    print('name: ', x['name'])\n",
    "    print('text: ', x['text'])\n",
    "    print()\n",
    "    i+=1\n",
    "    if i > 5:\n",
    "        break"
   ]
  },
  {
   "cell_type": "markdown",
   "metadata": {},
   "source": [
    "#### 2. ¿Qué comentarios han hecho Greg Powell o Mercedes Tyler?"
   ]
  },
  {
   "cell_type": "code",
   "execution_count": 11,
   "metadata": {},
   "outputs": [],
   "source": [
    "filter={\n",
    "    '$or': [\n",
    "        {\n",
    "            'name': 'Greg Powell'\n",
    "        }, {\n",
    "            'name': 'Mercedes Tyler'\n",
    "        }\n",
    "    ]\n",
    "}\n",
    "project={\n",
    "    'name': 1, \n",
    "    'text': 1, \n",
    "    '_id': 0\n",
    "}\n",
    "\n",
    "result = client['sample_mflix']['comments'].find(\n",
    "  filter=filter,\n",
    "  projection=project\n",
    ")"
   ]
  },
  {
   "cell_type": "code",
   "execution_count": 12,
   "metadata": {},
   "outputs": [
    {
     "name": "stdout",
     "output_type": "stream",
     "text": [
      "name:  Greg Powell\n",
      "text:  Tenetur dolorum molestiae ea. Eligendi praesentium unde quod porro. Commodi nisi sit placeat rerum vero cupiditate neque. Dolorum nihil vero animi.\n",
      "\n",
      "name:  Greg Powell\n",
      "text:  Officia atque ullam esse doloribus laborum. Maiores dicta ratione rem reiciendis.\n",
      "\n",
      "name:  Greg Powell\n",
      "text:  Necessitatibus consequatur occaecati nisi. Maiores fugiat minus molestiae delectus officia occaecati facilis. Dolor vel illum eius harum id.\n",
      "\n",
      "name:  Mercedes Tyler\n",
      "text:  Cum culpa nostrum suscipit quibusdam. Maiores nostrum aliquam aliquid quo molestias. Dolore incidunt veritatis qui quam et.\n",
      "\n",
      "name:  Greg Powell\n",
      "text:  Quo fugiat iure dolor nam dignissimos architecto eum. Amet molestias sint voluptatum animi. Debitis molestiae iusto maxime.\n",
      "\n",
      "name:  Mercedes Tyler\n",
      "text:  Omnis reiciendis ipsa magnam possimus accusantium. Totam eaque sed repellendus enim natus. Repellendus ab alias distinctio error ea. Occaecati facilis quae neque.\n",
      "\n"
     ]
    }
   ],
   "source": [
    "i= 0\n",
    "for x in result:\n",
    "    print('name: ', x['name'])\n",
    "    print('text: ', x['text'])\n",
    "    print()\n",
    "    i+=1\n",
    "    if i > 5:\n",
    "        break"
   ]
  },
  {
   "cell_type": "markdown",
   "metadata": {},
   "source": [
    "#### 3. ¿Cuál es el máximo número de comentarios en una película?"
   ]
  },
  {
   "cell_type": "code",
   "execution_count": 13,
   "metadata": {},
   "outputs": [],
   "source": [
    "filter={}\n",
    "project={\n",
    "    '_id': 0, \n",
    "    'num_mflix_comments': 1\n",
    "}\n",
    "sort=list({\n",
    "    'num_mflix_comments': -1\n",
    "}.items())\n",
    "limit=1\n",
    "\n",
    "result = client['sample_mflix']['movies'].find(\n",
    "  filter=filter,\n",
    "  projection=project,\n",
    "  sort=sort,\n",
    "  limit=limit\n",
    ")"
   ]
  },
  {
   "cell_type": "code",
   "execution_count": 14,
   "metadata": {},
   "outputs": [
    {
     "name": "stdout",
     "output_type": "stream",
     "text": [
      "num_mflix_comments:  456\n"
     ]
    }
   ],
   "source": [
    "for x in result:\n",
    "    print('num_mflix_comments: ', x['num_mflix_comments'])"
   ]
  },
  {
   "cell_type": "markdown",
   "metadata": {},
   "source": [
    "#### 4. ¿Cuál es título de las cinco películas más comentadas?"
   ]
  },
  {
   "cell_type": "code",
   "execution_count": 15,
   "metadata": {},
   "outputs": [],
   "source": [
    "filter={}\n",
    "project={\n",
    "    '_id': 0, \n",
    "    'title': 1, \n",
    "    'num_mflix_comments': 1\n",
    "}\n",
    "sort=list({\n",
    "    'num_mflix_comments': -1\n",
    "}.items())\n",
    "limit=5\n",
    "\n",
    "result = client['sample_mflix']['movies'].find(\n",
    "  filter=filter,\n",
    "  projection=project,\n",
    "  sort=sort,\n",
    "  limit=limit\n",
    ")"
   ]
  },
  {
   "cell_type": "code",
   "execution_count": 16,
   "metadata": {},
   "outputs": [
    {
     "name": "stdout",
     "output_type": "stream",
     "text": [
      "title:  The Mask\n",
      "num_mflix_comments:  456\n",
      "\n",
      "title:  Dumb & Dumber\n",
      "num_mflix_comments:  450\n",
      "\n",
      "title:  The Unborn\n",
      "num_mflix_comments:  447\n",
      "\n",
      "title:  About a Boy\n",
      "num_mflix_comments:  441\n",
      "\n",
      "title:  8 Mile\n",
      "num_mflix_comments:  441\n",
      "\n"
     ]
    }
   ],
   "source": [
    "for x in result:\n",
    "    print('title: ', x['title'])\n",
    "    print('num_mflix_comments: ', x['num_mflix_comments'])\n",
    "    print()"
   ]
  }
 ],
 "metadata": {
  "kernelspec": {
   "display_name": "Python 3",
   "language": "python",
   "name": "python3"
  },
  "language_info": {
   "codemirror_mode": {
    "name": "ipython",
    "version": 3
   },
   "file_extension": ".py",
   "mimetype": "text/x-python",
   "name": "python",
   "nbconvert_exporter": "python",
   "pygments_lexer": "ipython3",
   "version": "3.8.3"
  }
 },
 "nbformat": 4,
 "nbformat_minor": 4
}
