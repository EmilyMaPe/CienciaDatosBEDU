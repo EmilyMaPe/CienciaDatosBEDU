{
 "cells": [
  {
   "cell_type": "markdown",
   "metadata": {},
   "source": [
    "# Consultas en MongoDB"
   ]
  },
  {
   "cell_type": "code",
   "execution_count": 2,
   "metadata": {},
   "outputs": [],
   "source": [
    "import pymongo\n",
    "import re\n",
    "client = pymongo.MongoClient(f\"mongodb://{user}:{password}@{proyecto}-shard-00-00.mmsfi.mongodb.net:27017,{proyecto}-shard-00-01.mmsfi.mongodb.net:27017,{proyecto}-shard-00-02.mmsfi.mongodb.net:27017/test?ssl=true&replicaSet=atlas-11i31k-shard-0&authSource=admin&retryWrites=true&w=majority\")\n",
    "db = client.test"
   ]
  },
  {
   "cell_type": "markdown",
   "metadata": {},
   "source": [
    "### Reto 1: Expresiones regulares\n",
    "Usando la base de datos sample_airbnblistingsAndReviews, realiza los siguientes filtros:\n",
    "#### 1. Propiedades que no permitan fiestas."
   ]
  },
  {
   "cell_type": "code",
   "execution_count": 3,
   "metadata": {},
   "outputs": [
    {
     "name": "stderr",
     "output_type": "stream",
     "text": [
      "<ipython-input-3-523d1b04a2e5>:2: DeprecationWarning: Flags not at the start of the expression 'No Part(y|ies)(?i)'\n",
      "  'house_rules': re.compile(r\"No Part(y|ies)(?i)\")\n"
     ]
    }
   ],
   "source": [
    "filter={\n",
    "    'house_rules': re.compile(r\"No Part(y|ies)(?i)\")\n",
    "}\n",
    "project={\n",
    "    '_id': 0, \n",
    "    'house_rules': 1\n",
    "}\n",
    "\n",
    "result = client['sample_airbnb']['listingsAndReviews'].find(\n",
    "  filter=filter,\n",
    "  projection=project\n",
    ")"
   ]
  },
  {
   "cell_type": "code",
   "execution_count": 4,
   "metadata": {},
   "outputs": [
    {
     "name": "stdout",
     "output_type": "stream",
     "text": [
      "house rules:  -SMOKE is NOT allowed inside the Apt. -NO parties are allowed. -NO Kids of any age. -NO access to the rooftop. -NO Bikes (there is not space for them). There are Citi Bikes around the corner in case you need them. -No execute luggage -Please do not leave the AC or Heat on, while you are not in the Apt. -Any damage will be deducted from your deposit. -Remember check in is at  3:00pm and check out is at 11:00am. If your flight is later on we can manage to leave your bags there and then you can come and pick them up before your flight if I don't have other guests coming right after. -Try to leave the house in good conditions please, remember I live there. Thank you so very much, Ade\n",
      "\n",
      "house rules:  No smoking, no pets, no parties.  You are welcome to have guests, but of course please let us know ahead of time.  Be considerate of this quiet community and turn down the volume past 9:30 pm.\n",
      "\n",
      "house rules:  Guests should have Airbnb verification at time of booking. We expect guests to be respectful of our lovely neighbours and keep the noise down, especially after 10pm at night. No loud music at any time of day. That means no parties, move all social gatherings into the house after 10pm. No smoking inside the house. Pets welcome.\n",
      "\n",
      "house rules:  Enjoy as much as you can! No parties or friends over... If you lose the key u need to pay 25$( building's rule)... If you break something there is relevant charges. Smoking only allowed in the balcony,sorry but not that bad:)\n",
      "\n",
      "house rules:  No drugs  No smoke No partys\n",
      "\n",
      "house rules:  Just common sense really - please leave the apartment as you found it, and not do anything that is likely to disturb the neighbours (no parties)!  The building is strictly no smoking, and unfortunately no pets are allowed due to Strata rules. There will be instructions in the apartment about where to dispose of rubbish and any other details like this you might need. Children are welcome though the apartment is not child proof, and there is a balcony (one level above ground). Please be careful on arrival and on returning to the apartment that you get the right building - the next one along is almost identical!\n",
      "\n"
     ]
    }
   ],
   "source": [
    "i= 0\n",
    "for x in result:\n",
    "    print('house rules: ', x['house_rules'])\n",
    "    print()\n",
    "    i+=1\n",
    "    if i > 5:\n",
    "        break"
   ]
  },
  {
   "cell_type": "markdown",
   "metadata": {},
   "source": [
    "#### 2. Propiedades que admitan mascotas."
   ]
  },
  {
   "cell_type": "code",
   "execution_count": 5,
   "metadata": {},
   "outputs": [
    {
     "name": "stderr",
     "output_type": "stream",
     "text": [
      "<ipython-input-5-90b39565dced>:2: DeprecationWarning: Flags not at the start of the expression '[^No] Pets? allowed(' (truncated)\n",
      "  'house_rules': re.compile(r\"[^No] Pets? allowed(?i)\")\n"
     ]
    }
   ],
   "source": [
    "filter={\n",
    "    'house_rules': re.compile(r\"[^No] Pets? allowed(?i)\")\n",
    "}\n",
    "project={\n",
    "    '_id': 0, \n",
    "    'house_rules': 1\n",
    "}\n",
    "\n",
    "result = client['sample_airbnb']['listingsAndReviews'].find(\n",
    "  filter=filter,\n",
    "  projection=project\n",
    ")"
   ]
  },
  {
   "cell_type": "code",
   "execution_count": 6,
   "metadata": {},
   "outputs": [
    {
     "name": "stdout",
     "output_type": "stream",
     "text": [
      "house rules:  - Only small pets allowed\n",
      "\n",
      "house rules:  - Only smalll pets allowed\n",
      "\n",
      "house rules:  - Absolutely no smoking or pets allowed;  - No partying;\n",
      "\n",
      "house rules:  House Rules please be responsible for all guests; * Pets allowed by prior agreement. ** Please treat better than your home, take great care of all items and finishes, make use of shoe rack and shoes off to go upstairs. Note well kitchen benchtops must be immediately wiped with a cloth & water only (no chemicals or scrubbing) as it stains very easily with all food/drink spills. *** Smoking strictly prohibited, only permitted outside on the street footpath. **** No parties or events are permitted, maximum numbers of occupants being 12 people. Local laws require ambient noise to be restricted by 10pm weekdays and 12am midnight weekends/public holidays, please respect the quiet neighbourhood. Small gatherings are fine, but evidence of parties will lose security bond for any unreasonable wear and tear or damages. ***** Any lost house keys will result in AUD 120 expense due to locksmith having to change 4 keyed alike locks in the house Thank you\n",
      "\n",
      "house rules:  - Cleaning fee 40euros. - Late check in after 23hs till midnight 30Euros, after midnight 40Euros. - City tax is 2.48 Euros por person per night.  - Pet allowed with extra cleaning charge 40Euros.\n",
      "\n",
      "house rules:  - Quiet time from 10 pm till 9 am. Merci de ne pas faire de bruit de 22h à 8h - Check in after 4pm (flexible if no guests leaving on the same day). Check in après 16h (flexible s’il n’y a pas de voyageurs qui partent le même jour) - Check out before 12 am (flexible if no bookings for the same day). Check out avant 12h (midi) (flexible s’il n’y a pas de réservations pour le même jour) - Please inform us immediately in case of damage or any malfunction in the apartment. Merci de nous informer immédiatement en cas de dommage ou de mauvais fonctionnement dans l'appartement - Pets allowed on request. Animaux acceptés sur demande - We expect guests to be respectful and to keep the apartment with the basic standards of cleanliness and tidiness.  Merci de laisser l’appartement dans l’etat dans le quel vous l’avez trouvè\n",
      "\n"
     ]
    }
   ],
   "source": [
    "i= 0\n",
    "for x in result:\n",
    "    print('house rules: ', x['house_rules'])\n",
    "    print()\n",
    "    i+=1\n",
    "    if i > 5:\n",
    "        break"
   ]
  },
  {
   "cell_type": "markdown",
   "metadata": {},
   "source": [
    "#### 3. Propiedades que no permitan fumadores."
   ]
  },
  {
   "cell_type": "code",
   "execution_count": 7,
   "metadata": {},
   "outputs": [
    {
     "name": "stderr",
     "output_type": "stream",
     "text": [
      "<ipython-input-7-469e8b237a94>:2: DeprecationWarning: Flags not at the start of the expression 'No Smok(e|ing)(?i)'\n",
      "  'house_rules': re.compile(r\"No Smok(e|ing)(?i)\")\n"
     ]
    }
   ],
   "source": [
    "filter={\n",
    "    'house_rules': re.compile(r\"No Smok(e|ing)(?i)\")\n",
    "}\n",
    "project={\n",
    "    '_id': 0, \n",
    "    'house_rules': 1\n",
    "}\n",
    "\n",
    "result = client['sample_airbnb']['listingsAndReviews'].find(\n",
    "  filter=filter,\n",
    "  projection=project\n",
    ")"
   ]
  },
  {
   "cell_type": "code",
   "execution_count": 8,
   "metadata": {},
   "outputs": [
    {
     "name": "stdout",
     "output_type": "stream",
     "text": [
      "house rules:  No smoking is permitted in the apartment. All towels that are used should be placed in the bath tub upon departure. I have a cat, Samantha, who can stay or go, whichever is preferred.   Please text me upon departure.\n",
      "\n",
      "house rules:  No Pets No Smoking\n",
      "\n",
      "house rules:  RESPECT IT & ENJOY IT! NO SMOKING -- this building, per the on-site management and the individual lease agreements, is a 100% SMOKE-FREE ZONE including both private and communal roof-top areas, the unit itself, and any other public areas within the building and the communal property regardless of whether inside or out. You must be totally off of the premises and on public property to smoke. If you're a regular smoker and feel you'll have a hard time following this rule, then we kindly suggest you look into another property. Evidence of smoking will result in a complete forfeit of your security deposit. NOISE: We have a zero-tolerance policy with noise complaints. We ask that you please respect our neighbors and keep noise to a minimum. QUIET HOURS are from 10:00 PM to 8:00 AM (week) and 11:00 PM to 9:00 AM (weekends). NO LARGE GATHERINGS/PARTIES VISITORS: We ask that all guests let us know in advance if you plan on having any visitors during your stay. We do ask that the number of visi\n",
      "\n",
      "house rules:  No smoking. Would prefer no shoes in the studio. Please take rubbish out when you leave, and empty coffee machine of used pods.\n",
      "\n",
      "house rules:  Only scheduled  guests may stay in the apartment. Absolutely no smoking allowed inside the apartment.\n",
      "\n",
      "house rules:  Although the studio is in relatively close proximity to the main house - which is occupied by separate people on each of its two levels - and the next-door neighbors, it enjoys lots of sound and visual privacy – it is basically extremely quiet at all times.!!! The studio guests are requested to behave respectfully, in order to provide the same level of privacy to the people around them. No visitors are allowed on the premises at any time; No smoking, pets, loud music please!!  The hallway door, which affords privacy to your patio, needs to be kept closed at all times; if left open, the wind will slam the door shut and create noise and possible damage to the door. Early check in and late check out by request only; unless owner or Jhanna can accommodate such requests, please observe 3 pm check in and 10 am check times.\n",
      "\n"
     ]
    }
   ],
   "source": [
    "i= 0\n",
    "for x in result:\n",
    "    print('house rules: ', x['house_rules'])\n",
    "    print()\n",
    "    i+=1\n",
    "    if i > 5:\n",
    "        break"
   ]
  },
  {
   "cell_type": "markdown",
   "metadata": {},
   "source": [
    "#### 4. Propiedades que no permitan fiestas ni fumadores."
   ]
  },
  {
   "cell_type": "code",
   "execution_count": 9,
   "metadata": {},
   "outputs": [],
   "source": [
    "filter={\n",
    "    '$and': [\n",
    "        {\n",
    "            'house_rules': re.compile(r\"No Smok(e|ing)(?i)\")\n",
    "        }, {\n",
    "            'house_rules': re.compile(r\"No Part(y|ies)(?i)\")\n",
    "        }\n",
    "    ]\n",
    "}\n",
    "project={\n",
    "    '_id': 0, \n",
    "    'house_rules': 1\n",
    "}\n",
    "\n",
    "result = client['sample_airbnb']['listingsAndReviews'].find(\n",
    "  filter=filter,\n",
    "  projection=project\n",
    ")"
   ]
  },
  {
   "cell_type": "code",
   "execution_count": 10,
   "metadata": {},
   "outputs": [
    {
     "name": "stdout",
     "output_type": "stream",
     "text": [
      "house rules:  No smoking, no pets, no parties.  You are welcome to have guests, but of course please let us know ahead of time.  Be considerate of this quiet community and turn down the volume past 9:30 pm.\n",
      "\n",
      "house rules:  Guests should have Airbnb verification at time of booking. We expect guests to be respectful of our lovely neighbours and keep the noise down, especially after 10pm at night. No loud music at any time of day. That means no parties, move all social gatherings into the house after 10pm. No smoking inside the house. Pets welcome.\n",
      "\n",
      "house rules:  No drugs  No smoke No partys\n",
      "\n",
      "house rules:  Just common sense really - please leave the apartment as you found it, and not do anything that is likely to disturb the neighbours (no parties)!  The building is strictly no smoking, and unfortunately no pets are allowed due to Strata rules. There will be instructions in the apartment about where to dispose of rubbish and any other details like this you might need. Children are welcome though the apartment is not child proof, and there is a balcony (one level above ground). Please be careful on arrival and on returning to the apartment that you get the right building - the next one along is almost identical!\n",
      "\n",
      "house rules:  Early check-in and late check-out is possible for an additional fee. Please ask. Please guys... no party without acknowledgment and confirmation, no smoking but only on the balcony/ garden, no drugs, eg. Besides the risk of losing your deposit (apartment gets checked after your check out) it would be sad to lose the apartment due to inappropriate behavior. Again - please use your common sense. Although my apartment is well designed and complete - I want to set a clear expectation!    -streets in the area might be dirty -the area might be crowded -integrated into the residential building are shops and restaurants - complaints about smell of food in that building area wont be accepted. (my apartment is on the 4th floor and higher - you wont smell anything from a restaurant on ground floor).  - In HK its allowed to start refurbishments at any time without informing neighbors. Any noise complaints based on neighbors work in their apartment adjacent wont be accepted.)  - In case a lift woul\n",
      "\n",
      "house rules:  No smoking  Not suitable for pets  No parties or events  Check-in is after 3PM  Per community house rules, all guests must register with the on-site resident manager or security. A photo copy of valid government issued identification is required for all guests in the unit.  All residents are required to sign-in their guests at the Security Desk in the main lobby for every visit. Guests are not permitted unescorted above the lobby level and may not be in possession/and or use of key set. Use of key set is reserved for the express use of residents only and may not be used to allow access to anyone other than the resident and guest. In general, all guests are asked to be a good neighbor and to also comply with the following: -Loud music or TV playback is generally not allowed. -Trash chutes are located on all floors. Please adhere to posted signing. If you have items too large for the trash chute, please use the dumpster in the garage. -Items may never hang over or from a lanai ledge. -In\n",
      "\n"
     ]
    }
   ],
   "source": [
    "i= 0\n",
    "for x in result:\n",
    "    print('house rules: ', x['house_rules'])\n",
    "    print()\n",
    "    i+=1\n",
    "    if i > 5:\n",
    "        break"
   ]
  },
  {
   "cell_type": "markdown",
   "metadata": {},
   "source": [
    "### Reto 2: Notación punto y arreglos\n",
    "#### 1. Usando la colección sample_airbnb.listingsAndReviews, agrega un filtro que permita obtener todas las publicaciones que tengan 50 o más comentarios, que la valoración sea mayor o igual a 80, que cuenten con conexión a Internet vía cable y estén ubicada en Brazil."
   ]
  },
  {
   "cell_type": "code",
   "execution_count": 11,
   "metadata": {},
   "outputs": [
    {
     "name": "stderr",
     "output_type": "stream",
     "text": [
      "<ipython-input-11-e3f5295e41b6>:12: DeprecationWarning: Flags not at the start of the expression 'Ethernet(?i)'\n",
      "  'amenities': re.compile(r\"Ethernet(?i)\")\n"
     ]
    }
   ],
   "source": [
    "filter={\n",
    "    '$and': [\n",
    "        {\n",
    "            'number_of_reviews': {\n",
    "                '$gte': 50\n",
    "            }\n",
    "        }, {\n",
    "            'review_scores.review_scores_rating': {\n",
    "                '$gte': 80\n",
    "            }\n",
    "        }, {\n",
    "            'amenities': re.compile(r\"Ethernet(?i)\")\n",
    "        }, {\n",
    "            'address.country_code': 'BR'\n",
    "        }\n",
    "    ]\n",
    "}\n",
    "project={\n",
    "    'number_of_reviews': 1, \n",
    "    'review_scores': 1, \n",
    "    'amenities': 1, \n",
    "    'address': 1, \n",
    "    '_id': 0\n",
    "}\n",
    "\n",
    "result = client['sample_airbnb']['listingsAndReviews'].find(\n",
    "  filter=filter,\n",
    "  projection=project\n",
    ")"
   ]
  },
  {
   "cell_type": "code",
   "execution_count": 12,
   "metadata": {},
   "outputs": [
    {
     "name": "stdout",
     "output_type": "stream",
     "text": [
      "number_of_reviews:  110\n",
      "review_scores:  95\n",
      "address:  BR\n",
      "amenities:  Ethernet connection\n",
      "\n",
      "number_of_reviews:  76\n",
      "review_scores:  99\n",
      "address:  BR\n",
      "amenities:  Ethernet connection\n",
      "\n",
      "number_of_reviews:  69\n",
      "review_scores:  89\n",
      "address:  BR\n",
      "amenities:  Ethernet connection\n",
      "\n",
      "number_of_reviews:  116\n",
      "review_scores:  98\n",
      "address:  BR\n",
      "amenities:  Ethernet connection\n",
      "\n",
      "number_of_reviews:  93\n",
      "review_scores:  95\n",
      "address:  BR\n",
      "amenities:  Ethernet connection\n",
      "\n",
      "number_of_reviews:  149\n",
      "review_scores:  97\n",
      "address:  BR\n",
      "amenities:  Ethernet connection\n",
      "\n"
     ]
    }
   ],
   "source": [
    "for x in result:\n",
    "    print('number_of_reviews: ', x['number_of_reviews'])\n",
    "    print('review_scores: ', x['review_scores']['review_scores_rating'])\n",
    "    print('address: ', x['address']['country_code'])\n",
    "    am = x['amenities']\n",
    "    ind = am.index('Ethernet connection')\n",
    "    print('amenities: ', am[ind])\n",
    "    print()"
   ]
  },
  {
   "cell_type": "markdown",
   "metadata": {},
   "source": [
    "### Reto 3: Introducción a las agregaciones\n",
    "#### 1. Usando la colección sample_airbnb.listingsAndReviews, mediante el uso de agregaciones, encontrar el número de publicaciones que tienen conexión a Internet, sea desde Wifi o desde cable (Ethernet)."
   ]
  },
  {
   "cell_type": "code",
   "execution_count": 13,
   "metadata": {},
   "outputs": [
    {
     "name": "stderr",
     "output_type": "stream",
     "text": [
      "<ipython-input-13-103bc143702f>:6: DeprecationWarning: Flags not at the start of the expression 'wifi(?i)'\n",
      "  re.compile(r\"wifi(?i)\"), re.compile(r\"ethernet(?i)\")\n",
      "<ipython-input-13-103bc143702f>:6: DeprecationWarning: Flags not at the start of the expression 'ethernet(?i)'\n",
      "  re.compile(r\"wifi(?i)\"), re.compile(r\"ethernet(?i)\")\n"
     ]
    }
   ],
   "source": [
    "result = client['sample_airbnb']['listingsAndReviews'].aggregate([\n",
    "    {\n",
    "        '$match': {\n",
    "            'amenities': {\n",
    "                '$in': [\n",
    "                    re.compile(r\"wifi(?i)\"), re.compile(r\"ethernet(?i)\")\n",
    "                ]\n",
    "            }\n",
    "        }\n",
    "    }, {\n",
    "        '$count': 'total'\n",
    "    }, {\n",
    "        '$project': {\n",
    "            'total': 1\n",
    "        }\n",
    "    }\n",
    "])"
   ]
  },
  {
   "cell_type": "code",
   "execution_count": 14,
   "metadata": {},
   "outputs": [
    {
     "name": "stdout",
     "output_type": "stream",
     "text": [
      "total:  5308\n"
     ]
    }
   ],
   "source": [
    "for x in result:\n",
    "    print('total: ', x['total'])"
   ]
  }
 ],
 "metadata": {
  "kernelspec": {
   "display_name": "Python 3",
   "language": "python",
   "name": "python3"
  },
  "language_info": {
   "codemirror_mode": {
    "name": "ipython",
    "version": 3
   },
   "file_extension": ".py",
   "mimetype": "text/x-python",
   "name": "python",
   "nbconvert_exporter": "python",
   "pygments_lexer": "ipython3",
   "version": "3.8.3"
  }
 },
 "nbformat": 4,
 "nbformat_minor": 4
}
