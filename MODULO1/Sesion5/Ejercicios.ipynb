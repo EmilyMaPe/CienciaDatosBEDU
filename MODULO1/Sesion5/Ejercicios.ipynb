{
 "cells": [
  {
   "cell_type": "code",
   "execution_count": 2,
   "metadata": {},
   "outputs": [],
   "source": [
    "import pymongo\n",
    "import re\n",
    "client = pymongo.MongoClient(f\"mongodb://{user}:{password}@{proyecto}-shard-00-00.mmsfi.mongodb.net:27017,{proyecto}-shard-00-01.mmsfi.mongodb.net:27017,{proyecto}-shard-00-02.mmsfi.mongodb.net:27017/test?ssl=true&replicaSet=atlas-11i31k-shard-0&authSource=admin&retryWrites=true&w=majority\")\n",
    "db = client.test"
   ]
  },
  {
   "cell_type": "markdown",
   "metadata": {},
   "source": [
    "# Ejercicios Sesión 5\n",
    "\n",
    "Para este proyecto deberás practicar en el uso de agregaciones, pues serán usadas durante la siguiente sesión.\n",
    "\n",
    "\n",
    "La base de datos y colección que debes usar es sample_airbnb.listingsAndReviews.\n",
    "\n",
    "\n",
    "El proyecto consiste en obtener todas las publicaciones que tengan 50 o más comentarios, que la valoración sea mayor o igual a 80, que cuenten con conexión a Internet vía cable y estén ubicadas en Brazil."
   ]
  },
  {
   "cell_type": "code",
   "execution_count": 4,
   "metadata": {},
   "outputs": [],
   "source": [
    "result = client['sample_airbnb']['listingsAndReviews'].aggregate([\n",
    "    {\n",
    "        '$project': {\n",
    "            'number_of_reviews': 1, \n",
    "            'review_scores.review_scores_rating': 1, \n",
    "            'amenities': 1, \n",
    "            'address.country_code': 1\n",
    "        }\n",
    "    }, {\n",
    "        '$match': {\n",
    "            'number_of_reviews': {\n",
    "                '$gte': 50\n",
    "            }\n",
    "        }\n",
    "    }, {\n",
    "        '$match': {\n",
    "            'review_scores.review_scores_rating': {\n",
    "                '$gte': 80\n",
    "            }\n",
    "        }\n",
    "    }, {\n",
    "        '$match': {\n",
    "            'amenities': re.compile(r\"Ethernet(?i)\")\n",
    "        }\n",
    "    }, {\n",
    "        '$match': {\n",
    "            'address.country_code': 'BR'\n",
    "        }\n",
    "    }\n",
    "])"
   ]
  },
  {
   "cell_type": "code",
   "execution_count": 5,
   "metadata": {},
   "outputs": [
    {
     "name": "stdout",
     "output_type": "stream",
     "text": [
      "number_of_reviews:  110\n",
      "review_scores:  95\n",
      "address:  BR\n",
      "amenities:  Ethernet connection\n",
      "\n",
      "number_of_reviews:  76\n",
      "review_scores:  99\n",
      "address:  BR\n",
      "amenities:  Ethernet connection\n",
      "\n",
      "number_of_reviews:  69\n",
      "review_scores:  89\n",
      "address:  BR\n",
      "amenities:  Ethernet connection\n",
      "\n",
      "number_of_reviews:  116\n",
      "review_scores:  98\n",
      "address:  BR\n",
      "amenities:  Ethernet connection\n",
      "\n",
      "number_of_reviews:  93\n",
      "review_scores:  95\n",
      "address:  BR\n",
      "amenities:  Ethernet connection\n",
      "\n",
      "number_of_reviews:  149\n",
      "review_scores:  97\n",
      "address:  BR\n",
      "amenities:  Ethernet connection\n",
      "\n"
     ]
    }
   ],
   "source": [
    "for x in result:\n",
    "    print('number_of_reviews: ', x['number_of_reviews'])\n",
    "    print('review_scores: ', x['review_scores']['review_scores_rating'])\n",
    "    print('address: ', x['address']['country_code'])\n",
    "    am = x['amenities']\n",
    "    ind = am.index('Ethernet connection')\n",
    "    print('amenities: ', am[ind])\n",
    "    print()"
   ]
  }
 ],
 "metadata": {
  "kernelspec": {
   "display_name": "Python 3",
   "language": "python",
   "name": "python3"
  },
  "language_info": {
   "codemirror_mode": {
    "name": "ipython",
    "version": 3
   },
   "file_extension": ".py",
   "mimetype": "text/x-python",
   "name": "python",
   "nbconvert_exporter": "python",
   "pygments_lexer": "ipython3",
   "version": "3.8.3"
  }
 },
 "nbformat": 4,
 "nbformat_minor": 4
}
